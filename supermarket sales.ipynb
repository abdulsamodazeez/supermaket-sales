{
 "cells": [
  {
   "cell_type": "markdown",
   "metadata": {},
   "source": [
    "### Importing Libraries"
   ]
  },
  {
   "cell_type": "code",
   "execution_count": null,
   "metadata": {},
   "outputs": [],
   "source": []
  },
  {
   "cell_type": "code",
   "execution_count": 282,
   "metadata": {
    "execution": {
     "iopub.execute_input": "2022-02-18T15:47:35.494987Z",
     "iopub.status.busy": "2022-02-18T15:47:35.494662Z",
     "iopub.status.idle": "2022-02-18T15:47:35.499131Z",
     "shell.execute_reply": "2022-02-18T15:47:35.498551Z",
     "shell.execute_reply.started": "2022-02-18T15:47:35.494953Z"
    }
   },
   "outputs": [],
   "source": [
    "import pandas as pd\n",
    "import numpy as np\n",
    "import matplotlib.pyplot as plt\n",
    "import seaborn as sns\n",
    "import plotly.express as px"
   ]
  },
  {
   "cell_type": "code",
   "execution_count": 283,
   "metadata": {
    "execution": {
     "iopub.execute_input": "2022-02-18T15:47:35.505061Z",
     "iopub.status.busy": "2022-02-18T15:47:35.504567Z",
     "iopub.status.idle": "2022-02-18T15:47:35.521066Z",
     "shell.execute_reply": "2022-02-18T15:47:35.520059Z",
     "shell.execute_reply.started": "2022-02-18T15:47:35.505014Z"
    }
   },
   "outputs": [],
   "source": [
    "market = pd.read_csv('/home/abdulsamod/Documents/backup/PROJECT/EB_project/supermarket_sales - Sheet1.csv')"
   ]
  },
  {
   "cell_type": "code",
   "execution_count": 284,
   "metadata": {
    "execution": {
     "iopub.execute_input": "2022-02-18T15:47:35.523285Z",
     "iopub.status.busy": "2022-02-18T15:47:35.523057Z",
     "iopub.status.idle": "2022-02-18T15:47:35.555999Z",
     "shell.execute_reply": "2022-02-18T15:47:35.555207Z",
     "shell.execute_reply.started": "2022-02-18T15:47:35.523258Z"
    }
   },
   "outputs": [
    {
     "data": {
      "text/html": [
       "<div>\n",
       "<style scoped>\n",
       "    .dataframe tbody tr th:only-of-type {\n",
       "        vertical-align: middle;\n",
       "    }\n",
       "\n",
       "    .dataframe tbody tr th {\n",
       "        vertical-align: top;\n",
       "    }\n",
       "\n",
       "    .dataframe thead th {\n",
       "        text-align: right;\n",
       "    }\n",
       "</style>\n",
       "<table border=\"1\" class=\"dataframe\">\n",
       "  <thead>\n",
       "    <tr style=\"text-align: right;\">\n",
       "      <th></th>\n",
       "      <th>Invoice ID</th>\n",
       "      <th>Branch</th>\n",
       "      <th>City</th>\n",
       "      <th>Customer type</th>\n",
       "      <th>Gender</th>\n",
       "      <th>Product line</th>\n",
       "      <th>Unit price</th>\n",
       "      <th>Quantity</th>\n",
       "      <th>Tax 5%</th>\n",
       "      <th>Total</th>\n",
       "      <th>Date</th>\n",
       "      <th>Time</th>\n",
       "      <th>Payment</th>\n",
       "      <th>cogs</th>\n",
       "      <th>gross margin percentage</th>\n",
       "      <th>gross income</th>\n",
       "      <th>Rating</th>\n",
       "    </tr>\n",
       "  </thead>\n",
       "  <tbody>\n",
       "    <tr>\n",
       "      <th>0</th>\n",
       "      <td>750-67-8428</td>\n",
       "      <td>A</td>\n",
       "      <td>Yangon</td>\n",
       "      <td>Member</td>\n",
       "      <td>Female</td>\n",
       "      <td>Health and beauty</td>\n",
       "      <td>74.69</td>\n",
       "      <td>7</td>\n",
       "      <td>26.1415</td>\n",
       "      <td>548.9715</td>\n",
       "      <td>1/5/2019</td>\n",
       "      <td>13:08</td>\n",
       "      <td>Ewallet</td>\n",
       "      <td>522.83</td>\n",
       "      <td>4.761905</td>\n",
       "      <td>26.1415</td>\n",
       "      <td>9.1</td>\n",
       "    </tr>\n",
       "    <tr>\n",
       "      <th>1</th>\n",
       "      <td>226-31-3081</td>\n",
       "      <td>C</td>\n",
       "      <td>Naypyitaw</td>\n",
       "      <td>Normal</td>\n",
       "      <td>Female</td>\n",
       "      <td>Electronic accessories</td>\n",
       "      <td>15.28</td>\n",
       "      <td>5</td>\n",
       "      <td>3.8200</td>\n",
       "      <td>80.2200</td>\n",
       "      <td>3/8/2019</td>\n",
       "      <td>10:29</td>\n",
       "      <td>Cash</td>\n",
       "      <td>76.40</td>\n",
       "      <td>4.761905</td>\n",
       "      <td>3.8200</td>\n",
       "      <td>9.6</td>\n",
       "    </tr>\n",
       "    <tr>\n",
       "      <th>2</th>\n",
       "      <td>631-41-3108</td>\n",
       "      <td>A</td>\n",
       "      <td>Yangon</td>\n",
       "      <td>Normal</td>\n",
       "      <td>Male</td>\n",
       "      <td>Home and lifestyle</td>\n",
       "      <td>46.33</td>\n",
       "      <td>7</td>\n",
       "      <td>16.2155</td>\n",
       "      <td>340.5255</td>\n",
       "      <td>3/3/2019</td>\n",
       "      <td>13:23</td>\n",
       "      <td>Credit card</td>\n",
       "      <td>324.31</td>\n",
       "      <td>4.761905</td>\n",
       "      <td>16.2155</td>\n",
       "      <td>7.4</td>\n",
       "    </tr>\n",
       "    <tr>\n",
       "      <th>3</th>\n",
       "      <td>123-19-1176</td>\n",
       "      <td>A</td>\n",
       "      <td>Yangon</td>\n",
       "      <td>Member</td>\n",
       "      <td>Male</td>\n",
       "      <td>Health and beauty</td>\n",
       "      <td>58.22</td>\n",
       "      <td>8</td>\n",
       "      <td>23.2880</td>\n",
       "      <td>489.0480</td>\n",
       "      <td>1/27/2019</td>\n",
       "      <td>20:33</td>\n",
       "      <td>Ewallet</td>\n",
       "      <td>465.76</td>\n",
       "      <td>4.761905</td>\n",
       "      <td>23.2880</td>\n",
       "      <td>8.4</td>\n",
       "    </tr>\n",
       "    <tr>\n",
       "      <th>4</th>\n",
       "      <td>373-73-7910</td>\n",
       "      <td>A</td>\n",
       "      <td>Yangon</td>\n",
       "      <td>Normal</td>\n",
       "      <td>Male</td>\n",
       "      <td>Sports and travel</td>\n",
       "      <td>86.31</td>\n",
       "      <td>7</td>\n",
       "      <td>30.2085</td>\n",
       "      <td>634.3785</td>\n",
       "      <td>2/8/2019</td>\n",
       "      <td>10:37</td>\n",
       "      <td>Ewallet</td>\n",
       "      <td>604.17</td>\n",
       "      <td>4.761905</td>\n",
       "      <td>30.2085</td>\n",
       "      <td>5.3</td>\n",
       "    </tr>\n",
       "  </tbody>\n",
       "</table>\n",
       "</div>"
      ],
      "text/plain": [
       "    Invoice ID Branch       City Customer type  Gender  \\\n",
       "0  750-67-8428      A     Yangon        Member  Female   \n",
       "1  226-31-3081      C  Naypyitaw        Normal  Female   \n",
       "2  631-41-3108      A     Yangon        Normal    Male   \n",
       "3  123-19-1176      A     Yangon        Member    Male   \n",
       "4  373-73-7910      A     Yangon        Normal    Male   \n",
       "\n",
       "             Product line  Unit price  Quantity   Tax 5%     Total       Date  \\\n",
       "0       Health and beauty       74.69         7  26.1415  548.9715   1/5/2019   \n",
       "1  Electronic accessories       15.28         5   3.8200   80.2200   3/8/2019   \n",
       "2      Home and lifestyle       46.33         7  16.2155  340.5255   3/3/2019   \n",
       "3       Health and beauty       58.22         8  23.2880  489.0480  1/27/2019   \n",
       "4       Sports and travel       86.31         7  30.2085  634.3785   2/8/2019   \n",
       "\n",
       "    Time      Payment    cogs  gross margin percentage  gross income  Rating  \n",
       "0  13:08      Ewallet  522.83                 4.761905       26.1415     9.1  \n",
       "1  10:29         Cash   76.40                 4.761905        3.8200     9.6  \n",
       "2  13:23  Credit card  324.31                 4.761905       16.2155     7.4  \n",
       "3  20:33      Ewallet  465.76                 4.761905       23.2880     8.4  \n",
       "4  10:37      Ewallet  604.17                 4.761905       30.2085     5.3  "
      ]
     },
     "execution_count": 284,
     "metadata": {},
     "output_type": "execute_result"
    }
   ],
   "source": [
    "market.head()"
   ]
  },
  {
   "cell_type": "markdown",
   "metadata": {},
   "source": [
    "### Cleaning "
   ]
  },
  {
   "cell_type": "code",
   "execution_count": 285,
   "metadata": {
    "execution": {
     "iopub.execute_input": "2022-02-18T15:47:35.558366Z",
     "iopub.status.busy": "2022-02-18T15:47:35.557464Z",
     "iopub.status.idle": "2022-02-18T15:47:35.569885Z",
     "shell.execute_reply": "2022-02-18T15:47:35.568981Z",
     "shell.execute_reply.started": "2022-02-18T15:47:35.558314Z"
    }
   },
   "outputs": [
    {
     "data": {
      "text/plain": [
       "Invoice ID                 0\n",
       "Branch                     0\n",
       "City                       0\n",
       "Customer type              0\n",
       "Gender                     0\n",
       "Product line               0\n",
       "Unit price                 0\n",
       "Quantity                   0\n",
       "Tax 5%                     0\n",
       "Total                      0\n",
       "Date                       0\n",
       "Time                       0\n",
       "Payment                    0\n",
       "cogs                       0\n",
       "gross margin percentage    0\n",
       "gross income               0\n",
       "Rating                     0\n",
       "dtype: int64"
      ]
     },
     "execution_count": 285,
     "metadata": {},
     "output_type": "execute_result"
    }
   ],
   "source": [
    "market.isna().sum()"
   ]
  },
  {
   "cell_type": "code",
   "execution_count": 286,
   "metadata": {
    "execution": {
     "iopub.execute_input": "2022-02-18T15:47:35.572537Z",
     "iopub.status.busy": "2022-02-18T15:47:35.571663Z",
     "iopub.status.idle": "2022-02-18T15:47:35.596998Z",
     "shell.execute_reply": "2022-02-18T15:47:35.596259Z",
     "shell.execute_reply.started": "2022-02-18T15:47:35.5725Z"
    }
   },
   "outputs": [
    {
     "data": {
      "text/plain": [
       "0"
      ]
     },
     "execution_count": 286,
     "metadata": {},
     "output_type": "execute_result"
    }
   ],
   "source": [
    "market.duplicated().sum()"
   ]
  },
  {
   "cell_type": "code",
   "execution_count": 287,
   "metadata": {
    "execution": {
     "iopub.execute_input": "2022-02-18T15:47:35.598928Z",
     "iopub.status.busy": "2022-02-18T15:47:35.598023Z",
     "iopub.status.idle": "2022-02-18T15:47:35.607632Z",
     "shell.execute_reply": "2022-02-18T15:47:35.606703Z",
     "shell.execute_reply.started": "2022-02-18T15:47:35.598892Z"
    }
   },
   "outputs": [],
   "source": [
    "market.drop(\"Invoice ID\", axis=1,inplace=True)"
   ]
  },
  {
   "cell_type": "code",
   "execution_count": 288,
   "metadata": {},
   "outputs": [],
   "source": [
    "market['date'] = pd.to_datetime(market['Date'])\n",
    "\n",
    "market['day'] = (market['date']).dt.day\n",
    "market['month'] = (market['date']).dt.month\n",
    "market['year'] = (market['date']).dt.year\n",
    "\n",
    "market['Time'] = pd.to_datetime(market['Time'])\n",
    "market['Hour'] = (market['Time']).dt.hour"
   ]
  },
  {
   "cell_type": "code",
   "execution_count": 289,
   "metadata": {
    "execution": {
     "iopub.execute_input": "2022-02-18T15:47:35.609465Z",
     "iopub.status.busy": "2022-02-18T15:47:35.60922Z",
     "iopub.status.idle": "2022-02-18T15:47:36.158793Z",
     "shell.execute_reply": "2022-02-18T15:47:36.158157Z",
     "shell.execute_reply.started": "2022-02-18T15:47:35.609419Z"
    }
   },
   "outputs": [
    {
     "data": {
      "image/png": "[encoded data removed]",
      "text/plain": [
       "<Figure size 864x576 with 1 Axes>"
      ]
     },
     "metadata": {},
     "output_type": "display_data"
    }
   ],
   "source": [
    "plt.figure(figsize=(12,8))\n",
    "sns.boxplot(data=market);"
   ]
  },
  {
   "cell_type": "code",
   "execution_count": 290,
   "metadata": {
    "execution": {
     "iopub.execute_input": "2022-02-18T15:47:36.160322Z",
     "iopub.status.busy": "2022-02-18T15:47:36.159867Z",
     "iopub.status.idle": "2022-02-18T15:47:36.166796Z",
     "shell.execute_reply": "2022-02-18T15:47:36.16582Z",
     "shell.execute_reply.started": "2022-02-18T15:47:36.160283Z"
    }
   },
   "outputs": [],
   "source": [
    "def Outliers(col):\n",
    "    Median = market[col].quantile(0.50)\n",
    "    Max = market[col].quantile(0.95)\n",
    "    market[col] = np.where(market[col]>Max, Median,market[col])\n",
    "    return market[col]"
   ]
  },
  {
   "cell_type": "code",
   "execution_count": 291,
   "metadata": {
    "execution": {
     "iopub.execute_input": "2022-02-18T15:47:36.168555Z",
     "iopub.status.busy": "2022-02-18T15:47:36.168343Z",
     "iopub.status.idle": "2022-02-18T15:47:36.189612Z",
     "shell.execute_reply": "2022-02-18T15:47:36.188538Z",
     "shell.execute_reply.started": "2022-02-18T15:47:36.168527Z"
    }
   },
   "outputs": [
    {
     "data": {
      "text/plain": [
       "0      26.1415\n",
       "1       3.8200\n",
       "2      16.2155\n",
       "3      23.2880\n",
       "4      30.2085\n",
       "        ...   \n",
       "995     2.0175\n",
       "996    12.0880\n",
       "997     1.5920\n",
       "998     3.2910\n",
       "999    30.9190\n",
       "Name: Tax 5%, Length: 1000, dtype: float64"
      ]
     },
     "execution_count": 291,
     "metadata": {},
     "output_type": "execute_result"
    }
   ],
   "source": [
    "Outliers(\"Total\")\n",
    "Outliers(\"cogs\")\n",
    "Outliers(\"Tax 5%\")"
   ]
  },
  {
   "cell_type": "code",
   "execution_count": 292,
   "metadata": {
    "execution": {
     "iopub.execute_input": "2022-02-18T15:47:36.194164Z",
     "iopub.status.busy": "2022-02-18T15:47:36.193545Z",
     "iopub.status.idle": "2022-02-18T15:47:36.491931Z",
     "shell.execute_reply": "2022-02-18T15:47:36.490798Z",
     "shell.execute_reply.started": "2022-02-18T15:47:36.194126Z"
    }
   },
   "outputs": [
    {
     "data": {
      "image/png": "[encoded data removed]",
      "text/plain": [
       "<Figure size 864x576 with 1 Axes>"
      ]
     },
     "metadata": {},
     "output_type": "display_data"
    }
   ],
   "source": [
    "plt.figure(figsize=(12,8))\n",
    "sns.boxplot(data=market);"
   ]
  },
  {
   "cell_type": "markdown",
   "metadata": {},
   "source": [
    "### EDA"
   ]
  },
  {
   "cell_type": "code",
   "execution_count": 293,
   "metadata": {},
   "outputs": [
    {
     "data": {
      "image/png": "[encoded data removed]",
      "text/plain": [
       "<Figure size 1008x504 with 1 Axes>"
      ]
     },
     "metadata": {},
     "output_type": "display_data"
    }
   ],
   "source": [
    "colors = ['#76a6f5', '#dd87f5', '#8ce6cf', '#9ae68c','#f0e195', '#f09595', '#fa9548']\n",
    "\n",
    "product_gender = market[['Product line','Gender']].groupby('Gender')['Product line'].value_counts().unstack()\n",
    "product_gender['sum'] = product_gender.sum(axis=1)\n",
    "\n",
    "fig, ax = plt.subplots(figsize=(14,7))\n",
    "bottom = len(product_gender) * [0]\n",
    "\n",
    "\n",
    "for idx, name in enumerate(product_gender.columns[~product_gender.columns.isin(['sum'])]):\n",
    "    ax.bar(product_gender.index, product_gender[name], color = colors[idx], bottom = bottom)\n",
    "    bottom = bottom+product_gender[name]\n",
    "    \n",
    "for i in ax.patches:\n",
    "    \n",
    "    width, height = i.get_width(), i.get_height()\n",
    "    x, y = i.get_xy()\n",
    "    ax.text(x+width/2, y+height/2, f\"{height}\", fontfamily='serif')\n",
    "    \n",
    "for i, v in enumerate(product_gender['sum']):\n",
    "    ax.text(i-0.05,v+5, str(f\"Sum: {v}\"), weight = 'bold')\n",
    "    \n",
    "\n",
    "ax.grid(axis='y', alpha = 0.5)   \n",
    "    \n",
    "plt.legend(product_gender.columns[~product_gender.columns.isin(['sum'])], bbox_to_anchor = [1,1,0,0])\n",
    "plt.xlabel('Gender')\n",
    "plt.ylabel('Count')\n",
    "\n",
    "plt.text(-0.5, 550, 'Product count by gender', fontfamily = 'serif', fontweight = 'bold', fontsize = 24)\n",
    "plt.show()\n"
   ]
  },
  {
   "cell_type": "code",
   "execution_count": 294,
   "metadata": {},
   "outputs": [
    {
     "data": {
      "image/png": "[encoded data removed]",
      "text/plain": [
       "<Figure size 432x288 with 1 Axes>"
      ]
     },
     "metadata": {},
     "output_type": "display_data"
    }
   ],
   "source": [
    "sns.set(style=\"darkgrid\")       #style the plot background to become a grid\n",
    "genderCount  = sns.countplot(x=\"Gender\", data =market).set_title(\"Gender_Count\")"
   ]
  },
  {
   "cell_type": "code",
   "execution_count": 295,
   "metadata": {},
   "outputs": [
    {
     "data": {
      "text/plain": [
       "Text(0.5, 1.0, 'Ratings by Branch')"
      ]
     },
     "execution_count": 295,
     "metadata": {},
     "output_type": "execute_result"
    },
    {
     "data": {
      "image/png": "[encoded data removed]",
      "text/plain": [
       "<Figure size 432x288 with 1 Axes>"
      ]
     },
     "metadata": {},
     "output_type": "display_data"
    }
   ],
   "source": [
    "sns.boxplot(x=\"Branch\", y = \"Rating\" ,data =market).set_title(\"Ratings by Branch\") "
   ]
  },
  {
   "cell_type": "code",
   "execution_count": 296,
   "metadata": {
    "execution": {
     "iopub.execute_input": "2022-02-18T15:47:36.493562Z",
     "iopub.status.busy": "2022-02-18T15:47:36.493328Z",
     "iopub.status.idle": "2022-02-18T15:47:36.504782Z",
     "shell.execute_reply": "2022-02-18T15:47:36.503795Z",
     "shell.execute_reply.started": "2022-02-18T15:47:36.493532Z"
    }
   },
   "outputs": [
    {
     "data": {
      "text/plain": [
       "A    340\n",
       "B    332\n",
       "C    328\n",
       "Name: Branch, dtype: int64"
      ]
     },
     "execution_count": 296,
     "metadata": {},
     "output_type": "execute_result"
    }
   ],
   "source": [
    "branches = market.Branch.value_counts()\n",
    "branches"
   ]
  },
  {
   "cell_type": "code",
   "execution_count": 297,
   "metadata": {
    "execution": {
     "iopub.execute_input": "2022-02-18T15:47:36.506697Z",
     "iopub.status.busy": "2022-02-18T15:47:36.50632Z",
     "iopub.status.idle": "2022-02-18T15:47:36.682188Z",
     "shell.execute_reply": "2022-02-18T15:47:36.681202Z",
     "shell.execute_reply.started": "2022-02-18T15:47:36.506668Z"
    }
   },
   "outputs": [
    {
     "data": {
      "image/png": "[encoded data removed]",
      "text/plain": [
       "<Figure size 432x288 with 1 Axes>"
      ]
     },
     "metadata": {},
     "output_type": "display_data"
    }
   ],
   "source": [
    "sns.countplot(data=market,x=branches, saturation=True);"
   ]
  },
  {
   "cell_type": "markdown",
   "metadata": {},
   "source": [
    "as we see, 3 branches are approximately equal"
   ]
  },
  {
   "cell_type": "code",
   "execution_count": 298,
   "metadata": {
    "execution": {
     "iopub.execute_input": "2022-02-18T15:47:36.683616Z",
     "iopub.status.busy": "2022-02-18T15:47:36.683422Z",
     "iopub.status.idle": "2022-02-18T15:47:36.892201Z",
     "shell.execute_reply": "2022-02-18T15:47:36.891162Z",
     "shell.execute_reply.started": "2022-02-18T15:47:36.683591Z"
    }
   },
   "outputs": [
    {
     "data": {
      "image/png": "[encoded data removed]",
      "text/plain": [
       "<Figure size 432x288 with 1 Axes>"
      ]
     },
     "metadata": {},
     "output_type": "display_data"
    }
   ],
   "source": [
    "sns.countplot(data = market,x=\"Customer type\", hue=\"Gender\",saturation=True);"
   ]
  },
  {
   "cell_type": "markdown",
   "metadata": {},
   "source": [
    "Females are more than in Mamber type, and the opposite in Normal type."
   ]
  },
  {
   "cell_type": "code",
   "execution_count": 299,
   "metadata": {
    "execution": {
     "iopub.execute_input": "2022-02-18T15:47:36.894252Z",
     "iopub.status.busy": "2022-02-18T15:47:36.894006Z",
     "iopub.status.idle": "2022-02-18T15:47:36.903472Z",
     "shell.execute_reply": "2022-02-18T15:47:36.902077Z",
     "shell.execute_reply.started": "2022-02-18T15:47:36.894221Z"
    },
    "scrolled": true
   },
   "outputs": [
    {
     "data": {
      "text/plain": [
       "Fashion accessories       178\n",
       "Food and beverages        174\n",
       "Electronic accessories    170\n",
       "Sports and travel         166\n",
       "Home and lifestyle        160\n",
       "Health and beauty         152\n",
       "Name: Product line, dtype: int64"
      ]
     },
     "execution_count": 299,
     "metadata": {},
     "output_type": "execute_result"
    }
   ],
   "source": [
    "pro_line = market[\"Product line\"].value_counts()\n",
    "pro_line"
   ]
  },
  {
   "cell_type": "code",
   "execution_count": 300,
   "metadata": {
    "execution": {
     "iopub.execute_input": "2022-02-18T15:47:36.905222Z",
     "iopub.status.busy": "2022-02-18T15:47:36.904973Z",
     "iopub.status.idle": "2022-02-18T15:47:37.112427Z",
     "shell.execute_reply": "2022-02-18T15:47:37.111361Z",
     "shell.execute_reply.started": "2022-02-18T15:47:36.905193Z"
    }
   },
   "outputs": [
    {
     "data": {
      "image/png": "[encoded data removed]",
      "text/plain": [
       "<Figure size 432x288 with 1 Axes>"
      ]
     },
     "metadata": {},
     "output_type": "display_data"
    }
   ],
   "source": [
    "sns.countplot(data=market, x=market[\"Product line\"],saturation=True);"
   ]
  },
  {
   "cell_type": "markdown",
   "metadata": {},
   "source": [
    "### we notice in first 5 raws that the gross_income column values approximately equl to Tax_5% column values,\n",
    "### let's make sure.."
   ]
  },
  {
   "cell_type": "code",
   "execution_count": 301,
   "metadata": {
    "execution": {
     "iopub.execute_input": "2022-02-18T15:47:37.114645Z",
     "iopub.status.busy": "2022-02-18T15:47:37.114111Z",
     "iopub.status.idle": "2022-02-18T15:47:37.12622Z",
     "shell.execute_reply": "2022-02-18T15:47:37.12479Z",
     "shell.execute_reply.started": "2022-02-18T15:47:37.114569Z"
    }
   },
   "outputs": [
    {
     "data": {
      "text/plain": [
       "True     950\n",
       "False     50\n",
       "dtype: int64"
      ]
     },
     "execution_count": 301,
     "metadata": {},
     "output_type": "execute_result"
    }
   ],
   "source": [
    "equal = market[\"gross income\"] == market[\"Tax 5%\"]\n",
    "equal.value_counts()"
   ]
  },
  {
   "cell_type": "markdown",
   "metadata": {},
   "source": [
    "ok not equal then we not drop one of them"
   ]
  },
  {
   "cell_type": "markdown",
   "metadata": {},
   "source": [
    "### which payment type most used in every city?"
   ]
  },
  {
   "cell_type": "code",
   "execution_count": 302,
   "metadata": {
    "execution": {
     "iopub.execute_input": "2022-02-18T15:47:37.128061Z",
     "iopub.status.busy": "2022-02-18T15:47:37.127803Z",
     "iopub.status.idle": "2022-02-18T15:47:37.141188Z",
     "shell.execute_reply": "2022-02-18T15:47:37.140649Z",
     "shell.execute_reply.started": "2022-02-18T15:47:37.12803Z"
    },
    "scrolled": true
   },
   "outputs": [
    {
     "data": {
      "text/plain": [
       "Ewallet        345\n",
       "Cash           344\n",
       "Credit card    311\n",
       "Name: Payment, dtype: int64"
      ]
     },
     "execution_count": 302,
     "metadata": {},
     "output_type": "execute_result"
    }
   ],
   "source": [
    "market[\"Payment\"].value_counts()"
   ]
  },
  {
   "cell_type": "code",
   "execution_count": 303,
   "metadata": {
    "execution": {
     "iopub.execute_input": "2022-02-18T15:47:37.143125Z",
     "iopub.status.busy": "2022-02-18T15:47:37.142375Z",
     "iopub.status.idle": "2022-02-18T15:47:37.155793Z",
     "shell.execute_reply": "2022-02-18T15:47:37.155024Z",
     "shell.execute_reply.started": "2022-02-18T15:47:37.143079Z"
    }
   },
   "outputs": [
    {
     "data": {
      "text/plain": [
       "City\n",
       "Mandalay     332\n",
       "Naypyitaw    328\n",
       "Yangon       340\n",
       "Name: Payment, dtype: int64"
      ]
     },
     "execution_count": 303,
     "metadata": {},
     "output_type": "execute_result"
    }
   ],
   "source": [
    "most_payment_type_in_cities = market.groupby(\"City\")[\"Payment\"].count()\n",
    "most_payment_type_in_cities"
   ]
  },
  {
   "cell_type": "code",
   "execution_count": 304,
   "metadata": {
    "execution": {
     "iopub.execute_input": "2022-02-18T15:47:37.157798Z",
     "iopub.status.busy": "2022-02-18T15:47:37.157222Z",
     "iopub.status.idle": "2022-02-18T15:47:37.396134Z",
     "shell.execute_reply": "2022-02-18T15:47:37.395046Z",
     "shell.execute_reply.started": "2022-02-18T15:47:37.15775Z"
    }
   },
   "outputs": [
    {
     "data": {
      "image/png": "[encoded data removed]",
      "text/plain": [
       "<Figure size 432x432 with 1 Axes>"
      ]
     },
     "metadata": {},
     "output_type": "display_data"
    }
   ],
   "source": [
    "plt.figure(figsize=(6,6))\n",
    "sns.countplot(data=market,x=\"City\",hue=\"Payment\",saturation=True);"
   ]
  },
  {
   "cell_type": "markdown",
   "metadata": {},
   "source": [
    "Ewallet in Yangon & cash in Naypyitaw & Ewallet in Mandalay"
   ]
  },
  {
   "cell_type": "code",
   "execution_count": 305,
   "metadata": {
    "execution": {
     "iopub.execute_input": "2022-02-18T15:47:37.397493Z",
     "iopub.status.busy": "2022-02-18T15:47:37.397271Z",
     "iopub.status.idle": "2022-02-18T15:47:39.717938Z",
     "shell.execute_reply": "2022-02-18T15:47:39.717214Z",
     "shell.execute_reply.started": "2022-02-18T15:47:37.397463Z"
    }
   },
   "outputs": [
    {
     "data": {
      "application/vnd.plotly.v1+json": {
       "config": {
        "plotlyServerURL": "https://plot.ly"
       },
       "data": [
        {
         "alignmentgroup": "True",
         "hovertemplate": "City=%{x}<br>Date=1/5/2019<br>Total=%{y}<extra></extra>",
         "ids": [
          "A",
          "A",
          "A",
          "A",
          "A"
         ],
         "legendgroup": "Yangon",
         "marker": {
          "color": "#636efa",
          "pattern": {
           "shape": ""
          }
         },
         "name": "Yangon",
         "offsetgroup": "Yangon",
         "orientation": "v",
         "showlegend": true,
         "textposition": "auto",
         "type": "bar",
         "x": [
          "Yangon",
          "Yangon",
          "Yangon",
          "Yangon",
          "Yangon"
         ],
         "xaxis": "x",
         "y": [
          548.9715,
          263.13,
          297.108,
          225.2775,
          690.018
         ],
         "yaxis": "y"
        },
        {
         "alignmentgroup": "True",
         "hovertemplate": "City=%{x}<br>Date=1/5/2019<br>Total=%{y}<extra></extra>",
         "ids": [
          "C",
          "C",
          "C",
          "C"
         ],
         "legendgroup": "Naypyitaw",
         "marker": {
          "color": "#EF553B",
          "pattern": {
           "shape": ""
          }
         },
         "name": "Naypyitaw",
         "offsetgroup": "Naypyitaw",
         "orientation": "v",
         "showlegend": true,
         "textposition": "auto",
         "type": "bar",
         "x": [
          "Naypyitaw",
          "Naypyitaw",
          "Naypyitaw",
          "Naypyitaw"
         ],
         "xaxis": "x",
         "y": [
          172.494,
          33.495,
          239.589,
          579.8415
         ],
         "yaxis": "y"
        },
        {
         "alignmentgroup": "True",
         "hovertemplate": "City=%{x}<br>Date=1/5/2019<br>Total=%{y}<extra></extra>",
         "ids": [
          "B",
          "B",
          "B"
         ],
         "legendgroup": "Mandalay",
         "marker": {
          "color": "#00cc96",
          "pattern": {
           "shape": ""
          }
         },
         "name": "Mandalay",
         "offsetgroup": "Mandalay",
         "orientation": "v",
         "showlegend": true,
         "textposition": "auto",
         "type": "bar",
         "x": [
          "Mandalay",
          "Mandalay",
          "Mandalay"
         ],
         "xaxis": "x",
         "y": [
          334.341,
          77.658,
          74.76
         ],
         "yaxis": "y"
        }
       ],
       "frames": [
        {
         "data": [
          {
           "alignmentgroup": "True",
           "hovertemplate": "City=%{x}<br>Date=1/5/2019<br>Total=%{y}<extra></extra>",
           "ids": [
            "A",
            "A",
            "A",
            "A",
            "A"
           ],
           "legendgroup": "Yangon",
           "marker": {
            "color": "#636efa",
            "pattern": {
             "shape": ""
            }
           },
           "name": "Yangon",
           "offsetgroup": "Yangon",
           "orientation": "v",
           "showlegend": true,
           "textposition": "auto",
           "type": "bar",
           "x": [
            "Yangon",
            "Yangon",
            "Yangon",
            "Yangon",
            "Yangon"
           ],
           "xaxis": "x",
           "y": [
            548.9715,
            263.13,
            297.108,
            225.2775,
            690.018
           ],
           "yaxis": "y"
          },
          {
           "alignmentgroup": "True",
           "hovertemplate": "City=%{x}<br>Date=1/5/2019<br>Total=%{y}<extra></extra>",
           "ids": [
            "C",
            "C",
            "C",
            "C"
           ],
           "legendgroup": "Naypyitaw",
           "marker": {
            "color": "#EF553B",
            "pattern": {
             "shape": ""
            }
           },
           "name": "Naypyitaw",
           "offsetgroup": "Naypyitaw",
           "orientation": "v",
           "showlegend": true,
           "textposition": "auto",
           "type": "bar",
           "x": [
            "Naypyitaw",
            "Naypyitaw",
            "Naypyitaw",
            "Naypyitaw"
           ],
           "xaxis": "x",
           "y": [
            172.494,
            33.495,
            239.589,
            579.8415
           ],
           "yaxis": "y"
          },
          {
           "alignmentgroup": "True",
           "hovertemplate": "City=%{x}<br>Date=1/5/2019<br>Total=%{y}<extra></extra>",
           "ids": [
            "B",
            "B",
            "B"
           ],
           "legendgroup": "Mandalay",
           "marker": {
            "color": "#00cc96",
            "pattern": {
             "shape": ""
            }
           },
           "name": "Mandalay",
           "offsetgroup": "Mandalay",
           "orientation": "v",
           "showlegend": true,
           "textposition": "auto",
           "type": "bar",
           "x": [
            "Mandalay",
            "Mandalay",
            "Mandalay"
           ],
           "xaxis": "x",
           "y": [
            334.341,
            77.658,
            74.76
           ],
           "yaxis": "y"
          }
         ],
         "name": "1/5/2019"
        },
        {
         "data": [
          {
           "alignmentgroup": "True",
           "hovertemplate": "City=%{x}<br>Date=3/8/2019<br>Total=%{y}<extra></extra>",
           "ids": [
            "A",
            "A",
            "A",
            "A"
           ],
           "legendgroup": "Yangon",
           "marker": {
            "color": "#636efa",
            "pattern": {
             "shape": ""
            }
           },
           "name": "Yangon",
           "offsetgroup": "Yangon",
           "orientation": "v",
           "showlegend": true,
           "textposition": "auto",
           "type": "bar",
           "x": [
            "Yangon",
            "Yangon",
            "Yangon",
            "Yangon"
           ],
           "xaxis": "x",
           "y": [
            102.018,
            324.2925,
            253.848,
            214.137
           ],
           "yaxis": "y"
          },
          {
           "alignmentgroup": "True",
           "hovertemplate": "City=%{x}<br>Date=3/8/2019<br>Total=%{y}<extra></extra>",
           "ids": [
            "C",
            "C",
            "C",
            "C",
            "C",
            "C"
           ],
           "legendgroup": "Naypyitaw",
           "marker": {
            "color": "#EF553B",
            "pattern": {
             "shape": ""
            }
           },
           "name": "Naypyitaw",
           "offsetgroup": "Naypyitaw",
           "orientation": "v",
           "showlegend": true,
           "textposition": "auto",
           "type": "bar",
           "x": [
            "Naypyitaw",
            "Naypyitaw",
            "Naypyitaw",
            "Naypyitaw",
            "Naypyitaw",
            "Naypyitaw"
           ],
           "xaxis": "x",
           "y": [
            80.22,
            512.19,
            291.438,
            394.275,
            90.867,
            71.568
           ],
           "yaxis": "y"
          },
          {
           "alignmentgroup": "True",
           "hovertemplate": "City=%{x}<br>Date=3/8/2019<br>Total=%{y}<extra></extra>",
           "ids": [
            "B"
           ],
           "legendgroup": "Mandalay",
           "marker": {
            "color": "#00cc96",
            "pattern": {
             "shape": ""
            }
           },
           "name": "Mandalay",
           "offsetgroup": "Mandalay",
           "orientation": "v",
           "showlegend": true,
           "textposition": "auto",
           "type": "bar",
           "x": [
            "Mandalay"
           ],
           "xaxis": "x",
           "y": [
            92.5575
           ],
           "yaxis": "y"
          }
         ],
         "name": "3/8/2019"
        },
        {
         "data": [
          {
           "alignmentgroup": "True",
           "hovertemplate": "City=%{x}<br>Date=3/3/2019<br>Total=%{y}<extra></extra>",
           "ids": [
            "A",
            "A",
            "A",
            "A",
            "A"
           ],
           "legendgroup": "Yangon",
           "marker": {
            "color": "#636efa",
            "pattern": {
             "shape": ""
            }
           },
           "name": "Yangon",
           "offsetgroup": "Yangon",
           "orientation": "v",
           "showlegend": true,
           "textposition": "auto",
           "type": "bar",
           "x": [
            "Yangon",
            "Yangon",
            "Yangon",
            "Yangon",
            "Yangon"
           ],
           "xaxis": "x",
           "y": [
            340.5255,
            186.228,
            26.25,
            212.7825,
            48.7305
           ],
           "yaxis": "y"
          },
          {
           "alignmentgroup": "True",
           "hovertemplate": "City=%{x}<br>Date=3/3/2019<br>Total=%{y}<extra></extra>",
           "ids": [
            "C",
            "C",
            "C",
            "C",
            "C",
            "C"
           ],
           "legendgroup": "Naypyitaw",
           "marker": {
            "color": "#EF553B",
            "pattern": {
             "shape": ""
            }
           },
           "name": "Naypyitaw",
           "offsetgroup": "Naypyitaw",
           "orientation": "v",
           "showlegend": true,
           "textposition": "auto",
           "type": "bar",
           "x": [
            "Naypyitaw",
            "Naypyitaw",
            "Naypyitaw",
            "Naypyitaw",
            "Naypyitaw",
            "Naypyitaw"
           ],
           "xaxis": "x",
           "y": [
            253.848,
            175.14,
            272.58,
            293.139,
            369.684,
            253.68
           ],
           "yaxis": "y"
          },
          {
           "alignmentgroup": "True",
           "hovertemplate": "City=%{x}<br>Date=3/3/2019<br>Total=%{y}<extra></extra>",
           "ids": [
            "B",
            "B",
            "B"
           ],
           "legendgroup": "Mandalay",
           "marker": {
            "color": "#00cc96",
            "pattern": {
             "shape": ""
            }
           },
           "name": "Mandalay",
           "offsetgroup": "Mandalay",
           "orientation": "v",
           "showlegend": true,
           "textposition": "auto",
           "type": "bar",
           "x": [
            "Mandalay",
            "Mandalay",
            "Mandalay"
           ],
           "xaxis": "x",
           "y": [
            253.008,
            793.716,
            767.025
           ],
           "yaxis": "y"
          }
         ],
         "name": "3/3/2019"
        },
        {
         "data": [
          {
           "alignmentgroup": "True",
           "hovertemplate": "City=%{x}<br>Date=1/27/2019<br>Total=%{y}<extra></extra>",
           "ids": [
            "A",
            "A",
            "A",
            "A",
            "A",
            "A"
           ],
           "legendgroup": "Yangon",
           "marker": {
            "color": "#636efa",
            "pattern": {
             "shape": ""
            }
           },
           "name": "Yangon",
           "offsetgroup": "Yangon",
           "orientation": "v",
           "showlegend": true,
           "textposition": "auto",
           "type": "bar",
           "x": [
            "Yangon",
            "Yangon",
            "Yangon",
            "Yangon",
            "Yangon",
            "Yangon"
           ],
           "xaxis": "x",
           "y": [
            489.048,
            169.3125,
            25.263,
            398.958,
            514.773,
            76.923
           ],
           "yaxis": "y"
          },
          {
           "alignmentgroup": "True",
           "hovertemplate": "City=%{x}<br>Date=1/27/2019<br>Total=%{y}<extra></extra>",
           "ids": [
            "C",
            "C",
            "C",
            "C",
            "C",
            "C"
           ],
           "legendgroup": "Naypyitaw",
           "marker": {
            "color": "#EF553B",
            "pattern": {
             "shape": ""
            }
           },
           "name": "Naypyitaw",
           "offsetgroup": "Naypyitaw",
           "orientation": "v",
           "showlegend": true,
           "textposition": "auto",
           "type": "bar",
           "x": [
            "Naypyitaw",
            "Naypyitaw",
            "Naypyitaw",
            "Naypyitaw",
            "Naypyitaw",
            "Naypyitaw"
           ],
           "xaxis": "x",
           "y": [
            150.78,
            510.9615,
            488.985,
            568.512,
            145.74,
            178.164
           ],
           "yaxis": "y"
          },
          {
           "alignmentgroup": "True",
           "hovertemplate": "City=%{x}<br>Date=1/27/2019<br>Total=%{y}<extra></extra>",
           "ids": [
            "B",
            "B"
           ],
           "legendgroup": "Mandalay",
           "marker": {
            "color": "#00cc96",
            "pattern": {
             "shape": ""
            }
           },
           "name": "Mandalay",
           "offsetgroup": "Mandalay",
           "orientation": "v",
           "showlegend": true,
           "textposition": "auto",
           "type": "bar",
           "x": [
            "Mandalay",
            "Mandalay"
           ],
           "xaxis": "x",
           "y": [
            403.872,
            514.605
           ],
           "yaxis": "y"
          }
         ],
         "name": "1/27/2019"
        },
        {
         "data": [
          {
           "alignmentgroup": "True",
           "hovertemplate": "City=%{x}<br>Date=2/8/2019<br>Total=%{y}<extra></extra>",
           "ids": [
            "A",
            "A",
            "A"
           ],
           "legendgroup": "Yangon",
           "marker": {
            "color": "#636efa",
            "pattern": {
             "shape": ""
            }
           },
           "name": "Yangon",
           "offsetgroup": "Yangon",
           "orientation": "v",
           "showlegend": true,
           "textposition": "auto",
           "type": "bar",
           "x": [
            "Yangon",
            "Yangon",
            "Yangon"
           ],
           "xaxis": "x",
           "y": [
            634.3785,
            253.848,
            20.685
           ],
           "yaxis": "y"
          },
          {
           "alignmentgroup": "True",
           "hovertemplate": "City=%{x}<br>Date=2/8/2019<br>Total=%{y}<extra></extra>",
           "ids": [
            "C",
            "C",
            "C"
           ],
           "legendgroup": "Naypyitaw",
           "marker": {
            "color": "#EF553B",
            "pattern": {
             "shape": ""
            }
           },
           "name": "Naypyitaw",
           "offsetgroup": "Naypyitaw",
           "orientation": "v",
           "showlegend": true,
           "textposition": "auto",
           "type": "bar",
           "x": [
            "Naypyitaw",
            "Naypyitaw",
            "Naypyitaw"
           ],
           "xaxis": "x",
           "y": [
            253.848,
            273.0525,
            341.0925
           ],
           "yaxis": "y"
          },
          {
           "alignmentgroup": "True",
           "hovertemplate": "City=%{x}<br>Date=2/8/2019<br>Total=%{y}<extra></extra>",
           "ids": [
            "B",
            "B",
            "B",
            "B",
            "B",
            "B"
           ],
           "legendgroup": "Mandalay",
           "marker": {
            "color": "#00cc96",
            "pattern": {
             "shape": ""
            }
           },
           "name": "Mandalay",
           "offsetgroup": "Mandalay",
           "orientation": "v",
           "showlegend": true,
           "textposition": "auto",
           "type": "bar",
           "x": [
            "Mandalay",
            "Mandalay",
            "Mandalay",
            "Mandalay",
            "Mandalay",
            "Mandalay"
           ],
           "xaxis": "x",
           "y": [
            35.196,
            435.456,
            253.848,
            195.174,
            133.35,
            103.131
           ],
           "yaxis": "y"
          }
         ],
         "name": "2/8/2019"
        },
        {
         "data": [
          {
           "alignmentgroup": "True",
           "hovertemplate": "City=%{x}<br>Date=3/25/2019<br>Total=%{y}<extra></extra>",
           "ids": [
            "A",
            "A",
            "A",
            "A"
           ],
           "legendgroup": "Yangon",
           "marker": {
            "color": "#636efa",
            "pattern": {
             "shape": ""
            }
           },
           "name": "Yangon",
           "offsetgroup": "Yangon",
           "orientation": "v",
           "showlegend": true,
           "textposition": "auto",
           "type": "bar",
           "x": [
            "Yangon",
            "Yangon",
            "Yangon",
            "Yangon"
           ],
           "xaxis": "x",
           "y": [
            152.712,
            142.002,
            232.638,
            49.77
           ],
           "yaxis": "y"
          },
          {
           "alignmentgroup": "True",
           "hovertemplate": "City=%{x}<br>Date=3/25/2019<br>Total=%{y}<extra></extra>",
           "ids": [
            "C",
            "C",
            "C"
           ],
           "legendgroup": "Naypyitaw",
           "marker": {
            "color": "#EF553B",
            "pattern": {
             "shape": ""
            }
           },
           "name": "Naypyitaw",
           "offsetgroup": "Naypyitaw",
           "orientation": "v",
           "showlegend": true,
           "textposition": "auto",
           "type": "bar",
           "x": [
            "Naypyitaw",
            "Naypyitaw",
            "Naypyitaw"
           ],
           "xaxis": "x",
           "y": [
            627.6165,
            401.73,
            248.409
           ],
           "yaxis": "y"
          },
          {
           "alignmentgroup": "True",
           "hovertemplate": "City=%{x}<br>Date=3/25/2019<br>Total=%{y}<extra></extra>",
           "ids": [
            "B",
            "B"
           ],
           "legendgroup": "Mandalay",
           "marker": {
            "color": "#00cc96",
            "pattern": {
             "shape": ""
            }
           },
           "name": "Mandalay",
           "offsetgroup": "Mandalay",
           "orientation": "v",
           "showlegend": true,
           "textposition": "auto",
           "type": "bar",
           "x": [
            "Mandalay",
            "Mandalay"
           ],
           "xaxis": "x",
           "y": [
            195.951,
            222.138
           ],
           "yaxis": "y"
          }
         ],
         "name": "3/25/2019"
        },
        {
         "data": [
          {
           "alignmentgroup": "True",
           "hovertemplate": "City=%{x}<br>Date=2/25/2019<br>Total=%{y}<extra></extra>",
           "ids": [
            "A",
            "A",
            "A",
            "A",
            "A",
            "A"
           ],
           "legendgroup": "Yangon",
           "marker": {
            "color": "#636efa",
            "pattern": {
             "shape": ""
            }
           },
           "name": "Yangon",
           "offsetgroup": "Yangon",
           "orientation": "v",
           "showlegend": true,
           "textposition": "auto",
           "type": "bar",
           "x": [
            "Yangon",
            "Yangon",
            "Yangon",
            "Yangon",
            "Yangon",
            "Yangon"
           ],
           "xaxis": "x",
           "y": [
            433.692,
            66.8745,
            205.317,
            479.9025,
            306.81,
            313.74
           ],
           "yaxis": "y"
          },
          {
           "alignmentgroup": "True",
           "hovertemplate": "City=%{x}<br>Date=2/25/2019<br>Total=%{y}<extra></extra>",
           "ids": [
            "C",
            "C"
           ],
           "legendgroup": "Naypyitaw",
           "marker": {
            "color": "#EF553B",
            "pattern": {
             "shape": ""
            }
           },
           "name": "Naypyitaw",
           "offsetgroup": "Naypyitaw",
           "orientation": "v",
           "showlegend": true,
           "textposition": "auto",
           "type": "bar",
           "x": [
            "Naypyitaw",
            "Naypyitaw"
           ],
           "xaxis": "x",
           "y": [
            451.71,
            51.0405
           ],
           "yaxis": "y"
          },
          {
           "alignmentgroup": "True",
           "hovertemplate": "City=%{x}<br>Date=2/25/2019<br>Total=%{y}<extra></extra>",
           "ids": [
            "B",
            "B",
            "B",
            "B",
            "B",
            "B",
            "B",
            "B"
           ],
           "legendgroup": "Mandalay",
           "marker": {
            "color": "#00cc96",
            "pattern": {
             "shape": ""
            }
           },
           "name": "Mandalay",
           "offsetgroup": "Mandalay",
           "orientation": "v",
           "showlegend": true,
           "textposition": "auto",
           "type": "bar",
           "x": [
            "Mandalay",
            "Mandalay",
            "Mandalay",
            "Mandalay",
            "Mandalay",
            "Mandalay",
            "Mandalay",
            "Mandalay"
           ],
           "xaxis": "x",
           "y": [
            494.1825,
            357.588,
            92.8725,
            430.71,
            262.794,
            554.295,
            41.7375,
            263.97
           ],
           "yaxis": "y"
          }
         ],
         "name": "2/25/2019"
        },
        {
         "data": [
          {
           "alignmentgroup": "True",
           "hovertemplate": "City=%{x}<br>Date=2/24/2019<br>Total=%{y}<extra></extra>",
           "ids": [
            "A",
            "A"
           ],
           "legendgroup": "Yangon",
           "marker": {
            "color": "#636efa",
            "pattern": {
             "shape": ""
            }
           },
           "name": "Yangon",
           "offsetgroup": "Yangon",
           "orientation": "v",
           "showlegend": true,
           "textposition": "auto",
           "type": "bar",
           "x": [
            "Yangon",
            "Yangon"
           ],
           "xaxis": "x",
           "y": [
            422.73,
            100.128
           ],
           "yaxis": "y"
          },
          {
           "alignmentgroup": "True",
           "hovertemplate": "City=%{x}<br>Date=2/24/2019<br>Total=%{y}<extra></extra>",
           "ids": [
            "C",
            "C",
            "C",
            "C"
           ],
           "legendgroup": "Naypyitaw",
           "marker": {
            "color": "#EF553B",
            "pattern": {
             "shape": ""
            }
           },
           "name": "Naypyitaw",
           "offsetgroup": "Naypyitaw",
           "orientation": "v",
           "showlegend": true,
           "textposition": "auto",
           "type": "bar",
           "x": [
            "Naypyitaw",
            "Naypyitaw",
            "Naypyitaw",
            "Naypyitaw"
           ],
           "xaxis": "x",
           "y": [
            772.38,
            351.099,
            259.77,
            53.34
           ],
           "yaxis": "y"
          },
          {
           "alignmentgroup": "True",
           "hovertemplate": "City=%{x}<br>Date=2/24/2019<br>Total=%{y}<extra></extra>",
           "ids": [
            "B",
            "B",
            "B"
           ],
           "legendgroup": "Mandalay",
           "marker": {
            "color": "#00cc96",
            "pattern": {
             "shape": ""
            }
           },
           "name": "Mandalay",
           "offsetgroup": "Mandalay",
           "orientation": "v",
           "showlegend": true,
           "textposition": "auto",
           "type": "bar",
           "x": [
            "Mandalay",
            "Mandalay",
            "Mandalay"
           ],
           "xaxis": "x",
           "y": [
            365.085,
            175.917,
            222.012
           ],
           "yaxis": "y"
          }
         ],
         "name": "2/24/2019"
        },
        {
         "data": [
          {
           "alignmentgroup": "True",
           "hovertemplate": "City=%{x}<br>Date=1/10/2019<br>Total=%{y}<extra></extra>",
           "ids": [
            "A",
            "A",
            "A"
           ],
           "legendgroup": "Yangon",
           "marker": {
            "color": "#636efa",
            "pattern": {
             "shape": ""
            }
           },
           "name": "Yangon",
           "offsetgroup": "Yangon",
           "orientation": "v",
           "showlegend": true,
           "textposition": "auto",
           "type": "bar",
           "x": [
            "Yangon",
            "Yangon",
            "Yangon"
           ],
           "xaxis": "x",
           "y": [
            76.146,
            161.553,
            493.794
           ],
           "yaxis": "y"
          },
          {
           "alignmentgroup": "True",
           "hovertemplate": "City=%{x}<br>Date=1/10/2019<br>Total=%{y}<extra></extra>",
           "ids": [
            "C",
            "C",
            "C"
           ],
           "legendgroup": "Naypyitaw",
           "marker": {
            "color": "#EF553B",
            "pattern": {
             "shape": ""
            }
           },
           "name": "Naypyitaw",
           "offsetgroup": "Naypyitaw",
           "orientation": "v",
           "showlegend": true,
           "textposition": "auto",
           "type": "bar",
           "x": [
            "Naypyitaw",
            "Naypyitaw",
            "Naypyitaw"
           ],
           "xaxis": "x",
           "y": [
            392.6475,
            611.079,
            477.1305
           ],
           "yaxis": "y"
          },
          {
           "alignmentgroup": "True",
           "hovertemplate": "City=%{x}<br>Date=1/10/2019<br>Total=%{y}<extra></extra>",
           "ids": [
            "B",
            "B",
            "B"
           ],
           "legendgroup": "Mandalay",
           "marker": {
            "color": "#00cc96",
            "pattern": {
             "shape": ""
            }
           },
           "name": "Mandalay",
           "offsetgroup": "Mandalay",
           "orientation": "v",
           "showlegend": true,
           "textposition": "auto",
           "type": "bar",
           "x": [
            "Mandalay",
            "Mandalay",
            "Mandalay"
           ],
           "xaxis": "x",
           "y": [
            703.752,
            586.971,
            57.876
           ],
           "yaxis": "y"
          }
         ],
         "name": "1/10/2019"
        },
        {
         "data": [
          {
           "alignmentgroup": "True",
           "hovertemplate": "City=%{x}<br>Date=2/20/2019<br>Total=%{y}<extra></extra>",
           "ids": [
            "A",
            "A",
            "A"
           ],
           "legendgroup": "Yangon",
           "marker": {
            "color": "#636efa",
            "pattern": {
             "shape": ""
            }
           },
           "name": "Yangon",
           "offsetgroup": "Yangon",
           "orientation": "v",
           "showlegend": true,
           "textposition": "auto",
           "type": "bar",
           "x": [
            "Yangon",
            "Yangon",
            "Yangon"
           ],
           "xaxis": "x",
           "y": [
            484.5225,
            339.36,
            79.149
           ],
           "yaxis": "y"
          },
          {
           "alignmentgroup": "True",
           "hovertemplate": "City=%{x}<br>Date=2/20/2019<br>Total=%{y}<extra></extra>",
           "ids": [
            "C"
           ],
           "legendgroup": "Naypyitaw",
           "marker": {
            "color": "#EF553B",
            "pattern": {
             "shape": ""
            }
           },
           "name": "Naypyitaw",
           "offsetgroup": "Naypyitaw",
           "orientation": "v",
           "showlegend": true,
           "textposition": "auto",
           "type": "bar",
           "x": [
            "Naypyitaw"
           ],
           "xaxis": "x",
           "y": [
            90.5835
           ],
           "yaxis": "y"
          },
          {
           "alignmentgroup": "True",
           "hovertemplate": "City=%{x}<br>Date=2/20/2019<br>Total=%{y}<extra></extra>",
           "ids": [
            "B",
            "B",
            "B",
            "B",
            "B",
            "B"
           ],
           "legendgroup": "Mandalay",
           "marker": {
            "color": "#00cc96",
            "pattern": {
             "shape": ""
            }
           },
           "name": "Mandalay",
           "offsetgroup": "Mandalay",
           "orientation": "v",
           "showlegend": true,
           "textposition": "auto",
           "type": "bar",
           "x": [
            "Mandalay",
            "Mandalay",
            "Mandalay",
            "Mandalay",
            "Mandalay",
            "Mandalay"
           ],
           "xaxis": "x",
           "y": [
            172.746,
            418.95,
            350.07,
            253.26,
            181.881,
            335.895
           ],
           "yaxis": "y"
          }
         ],
         "name": "2/20/2019"
        },
        {
         "data": [
          {
           "alignmentgroup": "True",
           "hovertemplate": "City=%{x}<br>Date=2/6/2019<br>Total=%{y}<extra></extra>",
           "ids": [
            "A",
            "A"
           ],
           "legendgroup": "Yangon",
           "marker": {
            "color": "#636efa",
            "pattern": {
             "shape": ""
            }
           },
           "name": "Yangon",
           "offsetgroup": "Yangon",
           "orientation": "v",
           "showlegend": true,
           "textposition": "auto",
           "type": "bar",
           "x": [
            "Yangon",
            "Yangon"
           ],
           "xaxis": "x",
           "y": [
            235.872,
            187.32
           ],
           "yaxis": "y"
          },
          {
           "alignmentgroup": "True",
           "hovertemplate": "City=%{x}<br>Date=2/6/2019<br>Total=%{y}<extra></extra>",
           "ids": [
            "C",
            "C",
            "C",
            "C",
            "C",
            "C"
           ],
           "legendgroup": "Naypyitaw",
           "marker": {
            "color": "#EF553B",
            "pattern": {
             "shape": ""
            }
           },
           "name": "Naypyitaw",
           "offsetgroup": "Naypyitaw",
           "orientation": "v",
           "showlegend": true,
           "textposition": "auto",
           "type": "bar",
           "x": [
            "Naypyitaw",
            "Naypyitaw",
            "Naypyitaw",
            "Naypyitaw",
            "Naypyitaw",
            "Naypyitaw"
           ],
           "xaxis": "x",
           "y": [
            417.564,
            94.2375,
            407.316,
            239.4,
            55.041,
            188.0025
           ],
           "yaxis": "y"
          },
          {
           "alignmentgroup": "True",
           "hovertemplate": "City=%{x}<br>Date=2/6/2019<br>Total=%{y}<extra></extra>",
           "ids": [
            "B",
            "B",
            "B",
            "B",
            "B"
           ],
           "legendgroup": "Mandalay",
           "marker": {
            "color": "#00cc96",
            "pattern": {
             "shape": ""
            }
           },
           "name": "Mandalay",
           "offsetgroup": "Mandalay",
           "orientation": "v",
           "showlegend": true,
           "textposition": "auto",
           "type": "bar",
           "x": [
            "Mandalay",
            "Mandalay",
            "Mandalay",
            "Mandalay",
            "Mandalay"
           ],
           "xaxis": "x",
           "y": [
            60.816,
            189.0945,
            271.95,
            240.975,
            317.835
           ],
           "yaxis": "y"
          }
         ],
         "name": "2/6/2019"
        },
        {
         "data": [
          {
           "alignmentgroup": "True",
           "hovertemplate": "City=%{x}<br>Date=3/9/2019<br>Total=%{y}<extra></extra>",
           "ids": [
            "A",
            "A",
            "A",
            "A",
            "A",
            "A"
           ],
           "legendgroup": "Yangon",
           "marker": {
            "color": "#636efa",
            "pattern": {
             "shape": ""
            }
           },
           "name": "Yangon",
           "offsetgroup": "Yangon",
           "orientation": "v",
           "showlegend": true,
           "textposition": "auto",
           "type": "bar",
           "x": [
            "Yangon",
            "Yangon",
            "Yangon",
            "Yangon",
            "Yangon",
            "Yangon"
           ],
           "xaxis": "x",
           "y": [
            545.37,
            523.845,
            548.73,
            217.182,
            127.827,
            817.236
           ],
           "yaxis": "y"
          },
          {
           "alignmentgroup": "True",
           "hovertemplate": "City=%{x}<br>Date=3/9/2019<br>Total=%{y}<extra></extra>",
           "ids": [
            "C",
            "C",
            "C",
            "C"
           ],
           "legendgroup": "Naypyitaw",
           "marker": {
            "color": "#EF553B",
            "pattern": {
             "shape": ""
            }
           },
           "name": "Naypyitaw",
           "offsetgroup": "Naypyitaw",
           "orientation": "v",
           "showlegend": true,
           "textposition": "auto",
           "type": "bar",
           "x": [
            "Naypyitaw",
            "Naypyitaw",
            "Naypyitaw",
            "Naypyitaw"
           ],
           "xaxis": "x",
           "y": [
            478.233,
            256.7775,
            17.094,
            253.848
           ],
           "yaxis": "y"
          },
          {
           "alignmentgroup": "True",
           "hovertemplate": "City=%{x}<br>Date=3/9/2019<br>Total=%{y}<extra></extra>",
           "ids": [
            "B",
            "B",
            "B",
            "B",
            "B",
            "B"
           ],
           "legendgroup": "Mandalay",
           "marker": {
            "color": "#00cc96",
            "pattern": {
             "shape": ""
            }
           },
           "name": "Mandalay",
           "offsetgroup": "Mandalay",
           "orientation": "v",
           "showlegend": true,
           "textposition": "auto",
           "type": "bar",
           "x": [
            "Mandalay",
            "Mandalay",
            "Mandalay",
            "Mandalay",
            "Mandalay",
            "Mandalay"
           ],
           "xaxis": "x",
           "y": [
            107.142,
            394.632,
            253.848,
            474.348,
            702.219,
            383.523
           ],
           "yaxis": "y"
          }
         ],
         "name": "3/9/2019"
        },
        {
         "data": [
          {
           "alignmentgroup": "True",
           "hovertemplate": "City=%{x}<br>Date=2/12/2019<br>Total=%{y}<extra></extra>",
           "ids": [
            "A",
            "A",
            "A"
           ],
           "legendgroup": "Yangon",
           "marker": {
            "color": "#636efa",
            "pattern": {
             "shape": ""
            }
           },
           "name": "Yangon",
           "offsetgroup": "Yangon",
           "orientation": "v",
           "showlegend": true,
           "textposition": "auto",
           "type": "bar",
           "x": [
            "Yangon",
            "Yangon",
            "Yangon"
           ],
           "xaxis": "x",
           "y": [
            246.4875,
            160.209,
            150.423
           ],
           "yaxis": "y"
          },
          {
           "alignmentgroup": "True",
           "hovertemplate": "City=%{x}<br>Date=2/12/2019<br>Total=%{y}<extra></extra>",
           "ids": [
            "C",
            "C"
           ],
           "legendgroup": "Naypyitaw",
           "marker": {
            "color": "#EF553B",
            "pattern": {
             "shape": ""
            }
           },
           "name": "Naypyitaw",
           "offsetgroup": "Naypyitaw",
           "orientation": "v",
           "showlegend": true,
           "textposition": "auto",
           "type": "bar",
           "x": [
            "Naypyitaw",
            "Naypyitaw"
           ],
           "xaxis": "x",
           "y": [
            253.848,
            54.9675
           ],
           "yaxis": "y"
          },
          {
           "alignmentgroup": "True",
           "hovertemplate": "City=%{x}<br>Date=2/12/2019<br>Total=%{y}<extra></extra>",
           "ids": [
            "B",
            "B",
            "B"
           ],
           "legendgroup": "Mandalay",
           "marker": {
            "color": "#00cc96",
            "pattern": {
             "shape": ""
            }
           },
           "name": "Mandalay",
           "offsetgroup": "Mandalay",
           "orientation": "v",
           "showlegend": true,
           "textposition": "auto",
           "type": "bar",
           "x": [
            "Mandalay",
            "Mandalay",
            "Mandalay"
           ],
           "xaxis": "x",
           "y": [
            796.908,
            633.99,
            41.454
           ],
           "yaxis": "y"
          }
         ],
         "name": "2/12/2019"
        },
        {
         "data": [
          {
           "alignmentgroup": "True",
           "hovertemplate": "City=%{x}<br>Date=2/7/2019<br>Total=%{y}<extra></extra>",
           "ids": [
            "A",
            "A",
            "A",
            "A",
            "A"
           ],
           "legendgroup": "Yangon",
           "marker": {
            "color": "#636efa",
            "pattern": {
             "shape": ""
            }
           },
           "name": "Yangon",
           "offsetgroup": "Yangon",
           "orientation": "v",
           "showlegend": true,
           "textposition": "auto",
           "type": "bar",
           "x": [
            "Yangon",
            "Yangon",
            "Yangon",
            "Yangon",
            "Yangon"
           ],
           "xaxis": "x",
           "y": [
            453.495,
            752.64,
            47.859,
            30.408,
            782.208
           ],
           "yaxis": "y"
          },
          {
           "alignmentgroup": "True",
           "hovertemplate": "City=%{x}<br>Date=2/7/2019<br>Total=%{y}<extra></extra>",
           "ids": [
            "C",
            "C",
            "C",
            "C",
            "C",
            "C",
            "C",
            "C",
            "C"
           ],
           "legendgroup": "Naypyitaw",
           "marker": {
            "color": "#EF553B",
            "pattern": {
             "shape": ""
            }
           },
           "name": "Naypyitaw",
           "offsetgroup": "Naypyitaw",
           "orientation": "v",
           "showlegend": true,
           "textposition": "auto",
           "type": "bar",
           "x": [
            "Naypyitaw",
            "Naypyitaw",
            "Naypyitaw",
            "Naypyitaw",
            "Naypyitaw",
            "Naypyitaw",
            "Naypyitaw",
            "Naypyitaw",
            "Naypyitaw"
           ],
           "xaxis": "x",
           "y": [
            103.824,
            276.948,
            343.224,
            122.5245,
            273.798,
            618.975,
            507.444,
            10.6785,
            180.873
           ],
           "yaxis": "y"
          },
          {
           "alignmentgroup": "True",
           "hovertemplate": "City=%{x}<br>Date=2/7/2019<br>Total=%{y}<extra></extra>",
           "ids": [
            "B",
            "B",
            "B",
            "B",
            "B",
            "B"
           ],
           "legendgroup": "Mandalay",
           "marker": {
            "color": "#00cc96",
            "pattern": {
             "shape": ""
            }
           },
           "name": "Mandalay",
           "offsetgroup": "Mandalay",
           "orientation": "v",
           "showlegend": true,
           "textposition": "auto",
           "type": "bar",
           "x": [
            "Mandalay",
            "Mandalay",
            "Mandalay",
            "Mandalay",
            "Mandalay",
            "Mandalay"
           ],
           "xaxis": "x",
           "y": [
            208.089,
            253.848,
            570.78,
            486.444,
            289.926,
            334.4775
           ],
           "yaxis": "y"
          }
         ],
         "name": "2/7/2019"
        },
        {
         "data": [
          {
           "alignmentgroup": "True",
           "hovertemplate": "City=%{x}<br>Date=3/29/2019<br>Total=%{y}<extra></extra>",
           "ids": [
            "A",
            "A"
           ],
           "legendgroup": "Yangon",
           "marker": {
            "color": "#636efa",
            "pattern": {
             "shape": ""
            }
           },
           "name": "Yangon",
           "offsetgroup": "Yangon",
           "orientation": "v",
           "showlegend": true,
           "textposition": "auto",
           "type": "bar",
           "x": [
            "Yangon",
            "Yangon"
           ],
           "xaxis": "x",
           "y": [
            749.49,
            228.123
           ],
           "yaxis": "y"
          },
          {
           "alignmentgroup": "True",
           "hovertemplate": "City=%{x}<br>Date=3/29/2019<br>Total=%{y}<extra></extra>",
           "ids": [
            "C",
            "C"
           ],
           "legendgroup": "Naypyitaw",
           "marker": {
            "color": "#EF553B",
            "pattern": {
             "shape": ""
            }
           },
           "name": "Naypyitaw",
           "offsetgroup": "Naypyitaw",
           "orientation": "v",
           "showlegend": true,
           "textposition": "auto",
           "type": "bar",
           "x": [
            "Naypyitaw",
            "Naypyitaw"
           ],
           "xaxis": "x",
           "y": [
            121.128,
            253.848
           ],
           "yaxis": "y"
          },
          {
           "alignmentgroup": "True",
           "hovertemplate": "City=%{x}<br>Date=3/29/2019<br>Total=%{y}<extra></extra>",
           "ids": [
            "B",
            "B",
            "B",
            "B"
           ],
           "legendgroup": "Mandalay",
           "marker": {
            "color": "#00cc96",
            "pattern": {
             "shape": ""
            }
           },
           "name": "Mandalay",
           "offsetgroup": "Mandalay",
           "orientation": "v",
           "showlegend": true,
           "textposition": "auto",
           "type": "bar",
           "x": [
            "Mandalay",
            "Mandalay",
            "Mandalay",
            "Mandalay"
           ],
           "xaxis": "x",
           "y": [
            253.848,
            321.7725,
            288.015,
            527.5095
           ],
           "yaxis": "y"
          }
         ],
         "name": "3/29/2019"
        },
        {
         "data": [
          {
           "alignmentgroup": "True",
           "hovertemplate": "City=%{x}<br>Date=1/15/2019<br>Total=%{y}<extra></extra>",
           "ids": [
            "A",
            "A",
            "A",
            "A",
            "A"
           ],
           "legendgroup": "Yangon",
           "marker": {
            "color": "#636efa",
            "pattern": {
             "shape": ""
            }
           },
           "name": "Yangon",
           "offsetgroup": "Yangon",
           "orientation": "v",
           "showlegend": true,
           "textposition": "auto",
           "type": "bar",
           "x": [
            "Yangon",
            "Yangon",
            "Yangon",
            "Yangon",
            "Yangon"
           ],
           "xaxis": "x",
           "y": [
            575.316,
            253.848,
            140.385,
            175.917,
            72.009
           ],
           "yaxis": "y"
          },
          {
           "alignmentgroup": "True",
           "hovertemplate": "City=%{x}<br>Date=1/15/2019<br>Total=%{y}<extra></extra>",
           "ids": [
            "C",
            "C",
            "C"
           ],
           "legendgroup": "Naypyitaw",
           "marker": {
            "color": "#EF553B",
            "pattern": {
             "shape": ""
            }
           },
           "name": "Naypyitaw",
           "offsetgroup": "Naypyitaw",
           "orientation": "v",
           "showlegend": true,
           "textposition": "auto",
           "type": "bar",
           "x": [
            "Naypyitaw",
            "Naypyitaw",
            "Naypyitaw"
           ],
           "xaxis": "x",
           "y": [
            91.56,
            597.0405,
            586.635
           ],
           "yaxis": "y"
          },
          {
           "alignmentgroup": "True",
           "hovertemplate": "City=%{x}<br>Date=1/15/2019<br>Total=%{y}<extra></extra>",
           "ids": [
            "B",
            "B",
            "B",
            "B",
            "B"
           ],
           "legendgroup": "Mandalay",
           "marker": {
            "color": "#00cc96",
            "pattern": {
             "shape": ""
            }
           },
           "name": "Mandalay",
           "offsetgroup": "Mandalay",
           "orientation": "v",
           "showlegend": true,
           "textposition": "auto",
           "type": "bar",
           "x": [
            "Mandalay",
            "Mandalay",
            "Mandalay",
            "Mandalay",
            "Mandalay"
           ],
           "xaxis": "x",
           "y": [
            590.436,
            154.392,
            697.935,
            397.215,
            253.848
           ],
           "yaxis": "y"
          }
         ],
         "name": "1/15/2019"
        },
        {
         "data": [
          {
           "alignmentgroup": "True",
           "hovertemplate": "City=%{x}<br>Date=3/11/2019<br>Total=%{y}<extra></extra>",
           "ids": [
            "A",
            "A",
            "A",
            "A",
            "A"
           ],
           "legendgroup": "Yangon",
           "marker": {
            "color": "#636efa",
            "pattern": {
             "shape": ""
            }
           },
           "name": "Yangon",
           "offsetgroup": "Yangon",
           "orientation": "v",
           "showlegend": true,
           "textposition": "auto",
           "type": "bar",
           "x": [
            "Yangon",
            "Yangon",
            "Yangon",
            "Yangon",
            "Yangon"
           ],
           "xaxis": "x",
           "y": [
            506.6355,
            532.728,
            125.517,
            148.68,
            397.614
           ],
           "yaxis": "y"
          },
          {
           "alignmentgroup": "True",
           "hovertemplate": "City=%{x}<br>Date=3/11/2019<br>Total=%{y}<extra></extra>",
           "ids": [
            "C",
            "C",
            "C"
           ],
           "legendgroup": "Naypyitaw",
           "marker": {
            "color": "#EF553B",
            "pattern": {
             "shape": ""
            }
           },
           "name": "Naypyitaw",
           "offsetgroup": "Naypyitaw",
           "orientation": "v",
           "showlegend": true,
           "textposition": "auto",
           "type": "bar",
           "x": [
            "Naypyitaw",
            "Naypyitaw",
            "Naypyitaw"
           ],
           "xaxis": "x",
           "y": [
            254.016,
            218.0745,
            294.651
           ],
           "yaxis": "y"
          },
          {
           "alignmentgroup": "True",
           "hovertemplate": "City=%{x}<br>Date=3/11/2019<br>Total=%{y}<extra></extra>",
           "ids": [
            "B",
            "B",
            "B"
           ],
           "legendgroup": "Mandalay",
           "marker": {
            "color": "#00cc96",
            "pattern": {
             "shape": ""
            }
           },
           "name": "Mandalay",
           "offsetgroup": "Mandalay",
           "orientation": "v",
           "showlegend": true,
           "textposition": "auto",
           "type": "bar",
           "x": [
            "Mandalay",
            "Mandalay",
            "Mandalay"
           ],
           "xaxis": "x",
           "y": [
            84.63,
            217.6335,
            181.0725
           ],
           "yaxis": "y"
          }
         ],
         "name": "3/11/2019"
        },
        {
         "data": [
          {
           "alignmentgroup": "True",
           "hovertemplate": "City=%{x}<br>Date=1/1/2019<br>Total=%{y}<extra></extra>",
           "ids": [
            "A",
            "A",
            "A",
            "A",
            "A"
           ],
           "legendgroup": "Yangon",
           "marker": {
            "color": "#636efa",
            "pattern": {
             "shape": ""
            }
           },
           "name": "Yangon",
           "offsetgroup": "Yangon",
           "orientation": "v",
           "showlegend": true,
           "textposition": "auto",
           "type": "bar",
           "x": [
            "Yangon",
            "Yangon",
            "Yangon",
            "Yangon",
            "Yangon"
           ],
           "xaxis": "x",
           "y": [
            457.443,
            399.756,
            621.243,
            113.568,
            779.31
           ],
           "yaxis": "y"
          },
          {
           "alignmentgroup": "True",
           "hovertemplate": "City=%{x}<br>Date=1/1/2019<br>Total=%{y}<extra></extra>",
           "ids": [
            "C",
            "C",
            "C",
            "C"
           ],
           "legendgroup": "Naypyitaw",
           "marker": {
            "color": "#EF553B",
            "pattern": {
             "shape": ""
            }
           },
           "name": "Naypyitaw",
           "offsetgroup": "Naypyitaw",
           "orientation": "v",
           "showlegend": true,
           "textposition": "auto",
           "type": "bar",
           "x": [
            "Naypyitaw",
            "Naypyitaw",
            "Naypyitaw",
            "Naypyitaw"
           ],
           "xaxis": "x",
           "y": [
            388.29,
            132.762,
            132.027,
            184.086
           ],
           "yaxis": "y"
          },
          {
           "alignmentgroup": "True",
           "hovertemplate": "City=%{x}<br>Date=1/1/2019<br>Total=%{y}<extra></extra>",
           "ids": [
            "B",
            "B",
            "B"
           ],
           "legendgroup": "Mandalay",
           "marker": {
            "color": "#00cc96",
            "pattern": {
             "shape": ""
            }
           },
           "name": "Mandalay",
           "offsetgroup": "Mandalay",
           "orientation": "v",
           "showlegend": true,
           "textposition": "auto",
           "type": "bar",
           "x": [
            "Mandalay",
            "Mandalay",
            "Mandalay"
           ],
           "xaxis": "x",
           "y": [
            470.673,
            177.408,
            253.848
           ],
           "yaxis": "y"
          }
         ],
         "name": "1/1/2019"
        },
        {
         "data": [
          {
           "alignmentgroup": "True",
           "hovertemplate": "City=%{x}<br>Date=1/21/2019<br>Total=%{y}<extra></extra>",
           "ids": [
            "A",
            "A",
            "A",
            "A",
            "A"
           ],
           "legendgroup": "Yangon",
           "marker": {
            "color": "#636efa",
            "pattern": {
             "shape": ""
            }
           },
           "name": "Yangon",
           "offsetgroup": "Yangon",
           "orientation": "v",
           "showlegend": true,
           "textposition": "auto",
           "type": "bar",
           "x": [
            "Yangon",
            "Yangon",
            "Yangon",
            "Yangon",
            "Yangon"
           ],
           "xaxis": "x",
           "y": [
            172.2105,
            491.085,
            76.356,
            461.286,
            390.7995
           ],
           "yaxis": "y"
          },
          {
           "alignmentgroup": "True",
           "hovertemplate": "City=%{x}<br>Date=1/21/2019<br>Total=%{y}<extra></extra>",
           "ids": [
            "C",
            "C"
           ],
           "legendgroup": "Naypyitaw",
           "marker": {
            "color": "#EF553B",
            "pattern": {
             "shape": ""
            }
           },
           "name": "Naypyitaw",
           "offsetgroup": "Naypyitaw",
           "orientation": "v",
           "showlegend": true,
           "textposition": "auto",
           "type": "bar",
           "x": [
            "Naypyitaw",
            "Naypyitaw"
           ],
           "xaxis": "x",
           "y": [
            624.897,
            72.429
           ],
           "yaxis": "y"
          },
          {
           "alignmentgroup": "True",
           "hovertemplate": "City=%{x}<br>Date=1/21/2019<br>Total=%{y}<extra></extra>",
           "ids": [
            "B"
           ],
           "legendgroup": "Mandalay",
           "marker": {
            "color": "#00cc96",
            "pattern": {
             "shape": ""
            }
           },
           "name": "Mandalay",
           "offsetgroup": "Mandalay",
           "orientation": "v",
           "showlegend": true,
           "textposition": "auto",
           "type": "bar",
           "x": [
            "Mandalay"
           ],
           "xaxis": "x",
           "y": [
            103.0365
           ],
           "yaxis": "y"
          }
         ],
         "name": "1/21/2019"
        },
        {
         "data": [
          {
           "alignmentgroup": "True",
           "hovertemplate": "City=%{x}<br>Date=3/5/2019<br>Total=%{y}<extra></extra>",
           "ids": [
            "A",
            "A"
           ],
           "legendgroup": "Yangon",
           "marker": {
            "color": "#636efa",
            "pattern": {
             "shape": ""
            }
           },
           "name": "Yangon",
           "offsetgroup": "Yangon",
           "orientation": "v",
           "showlegend": true,
           "textposition": "auto",
           "type": "bar",
           "x": [
            "Yangon",
            "Yangon"
           ],
           "xaxis": "x",
           "y": [
            172.011,
            246.6765
           ],
           "yaxis": "y"
          },
          {
           "alignmentgroup": "True",
           "hovertemplate": "City=%{x}<br>Date=3/5/2019<br>Total=%{y}<extra></extra>",
           "ids": [
            "C",
            "C",
            "C",
            "C",
            "C"
           ],
           "legendgroup": "Naypyitaw",
           "marker": {
            "color": "#EF553B",
            "pattern": {
             "shape": ""
            }
           },
           "name": "Naypyitaw",
           "offsetgroup": "Naypyitaw",
           "orientation": "v",
           "showlegend": true,
           "textposition": "auto",
           "type": "bar",
           "x": [
            "Naypyitaw",
            "Naypyitaw",
            "Naypyitaw",
            "Naypyitaw",
            "Naypyitaw"
           ],
           "xaxis": "x",
           "y": [
            822.255,
            610.491,
            232.155,
            127.26,
            480.0285
           ],
           "yaxis": "y"
          },
          {
           "alignmentgroup": "True",
           "hovertemplate": "City=%{x}<br>Date=3/5/2019<br>Total=%{y}<extra></extra>",
           "ids": [
            "B",
            "B",
            "B",
            "B",
            "B",
            "B",
            "B",
            "B",
            "B",
            "B"
           ],
           "legendgroup": "Mandalay",
           "marker": {
            "color": "#00cc96",
            "pattern": {
             "shape": ""
            }
           },
           "name": "Mandalay",
           "offsetgroup": "Mandalay",
           "orientation": "v",
           "showlegend": true,
           "textposition": "auto",
           "type": "bar",
           "x": [
            "Mandalay",
            "Mandalay",
            "Mandalay",
            "Mandalay",
            "Mandalay",
            "Mandalay",
            "Mandalay",
            "Mandalay",
            "Mandalay",
            "Mandalay"
           ],
           "xaxis": "x",
           "y": [
            277.137,
            152.838,
            521.01,
            115.185,
            56.952,
            411.3795,
            258.678,
            212.688,
            732.27,
            801.864
           ],
           "yaxis": "y"
          }
         ],
         "name": "3/5/2019"
        },
        {
         "data": [
          {
           "alignmentgroup": "True",
           "hovertemplate": "City=%{x}<br>Date=3/15/2019<br>Total=%{y}<extra></extra>",
           "ids": [
            "A",
            "A",
            "A"
           ],
           "legendgroup": "Yangon",
           "marker": {
            "color": "#636efa",
            "pattern": {
             "shape": ""
            }
           },
           "name": "Yangon",
           "offsetgroup": "Yangon",
           "orientation": "v",
           "showlegend": true,
           "textposition": "auto",
           "type": "bar",
           "x": [
            "Yangon",
            "Yangon",
            "Yangon"
           ],
           "xaxis": "x",
           "y": [
            235.2105,
            202.818,
            206.43
           ],
           "yaxis": "y"
          },
          {
           "alignmentgroup": "True",
           "hovertemplate": "City=%{x}<br>Date=3/15/2019<br>Total=%{y}<extra></extra>",
           "ids": [
            "C"
           ],
           "legendgroup": "Naypyitaw",
           "marker": {
            "color": "#EF553B",
            "pattern": {
             "shape": ""
            }
           },
           "name": "Naypyitaw",
           "offsetgroup": "Naypyitaw",
           "orientation": "v",
           "showlegend": true,
           "textposition": "auto",
           "type": "bar",
           "x": [
            "Naypyitaw"
           ],
           "xaxis": "x",
           "y": [
            548.184
           ],
           "yaxis": "y"
          },
          {
           "alignmentgroup": "True",
           "hovertemplate": "City=%{x}<br>Date=3/15/2019<br>Total=%{y}<extra></extra>",
           "ids": [
            "B",
            "B",
            "B",
            "B",
            "B",
            "B",
            "B",
            "B"
           ],
           "legendgroup": "Mandalay",
           "marker": {
            "color": "#00cc96",
            "pattern": {
             "shape": ""
            }
           },
           "name": "Mandalay",
           "offsetgroup": "Mandalay",
           "orientation": "v",
           "showlegend": true,
           "textposition": "auto",
           "type": "bar",
           "x": [
            "Mandalay",
            "Mandalay",
            "Mandalay",
            "Mandalay",
            "Mandalay",
            "Mandalay",
            "Mandalay",
            "Mandalay"
           ],
           "xaxis": "x",
           "y": [
            69.72,
            241.458,
            128.4255,
            304.92,
            57.078,
            97.419,
            90.3,
            760.452
           ],
           "yaxis": "y"
          }
         ],
         "name": "3/15/2019"
        },
        {
         "data": [
          {
           "alignmentgroup": "True",
           "hovertemplate": "City=%{x}<br>Date=2/17/2019<br>Total=%{y}<extra></extra>",
           "ids": [
            "A",
            "A",
            "A",
            "A",
            "A",
            "A",
            "A"
           ],
           "legendgroup": "Yangon",
           "marker": {
            "color": "#636efa",
            "pattern": {
             "shape": ""
            }
           },
           "name": "Yangon",
           "offsetgroup": "Yangon",
           "orientation": "v",
           "showlegend": true,
           "textposition": "auto",
           "type": "bar",
           "x": [
            "Yangon",
            "Yangon",
            "Yangon",
            "Yangon",
            "Yangon",
            "Yangon",
            "Yangon"
           ],
           "xaxis": "x",
           "y": [
            181.44,
            745.836,
            103.635,
            680.064,
            253.848,
            142.947,
            290.0835
           ],
           "yaxis": "y"
          },
          {
           "alignmentgroup": "True",
           "hovertemplate": "City=%{x}<br>Date=2/17/2019<br>Total=%{y}<extra></extra>",
           "ids": [
            "C",
            "C",
            "C",
            "C"
           ],
           "legendgroup": "Naypyitaw",
           "marker": {
            "color": "#EF553B",
            "pattern": {
             "shape": ""
            }
           },
           "name": "Naypyitaw",
           "offsetgroup": "Naypyitaw",
           "orientation": "v",
           "showlegend": true,
           "textposition": "auto",
           "type": "bar",
           "x": [
            "Naypyitaw",
            "Naypyitaw",
            "Naypyitaw",
            "Naypyitaw"
           ],
           "xaxis": "x",
           "y": [
            374.7975,
            62.0025,
            440.937,
            499.7265
           ],
           "yaxis": "y"
          },
          {
           "alignmentgroup": "True",
           "hovertemplate": "City=%{x}<br>Date=2/17/2019<br>Total=%{y}<extra></extra>",
           "ids": [
            "B",
            "B"
           ],
           "legendgroup": "Mandalay",
           "marker": {
            "color": "#00cc96",
            "pattern": {
             "shape": ""
            }
           },
           "name": "Mandalay",
           "offsetgroup": "Mandalay",
           "orientation": "v",
           "showlegend": true,
           "textposition": "auto",
           "type": "bar",
           "x": [
            "Mandalay",
            "Mandalay"
           ],
           "xaxis": "x",
           "y": [
            550.935,
            300.216
           ],
           "yaxis": "y"
          }
         ],
         "name": "2/17/2019"
        },
        {
         "data": [
          {
           "alignmentgroup": "True",
           "hovertemplate": "City=%{x}<br>Date=3/2/2019<br>Total=%{y}<extra></extra>",
           "ids": [
            "A",
            "A",
            "A"
           ],
           "legendgroup": "Yangon",
           "marker": {
            "color": "#636efa",
            "pattern": {
             "shape": ""
            }
           },
           "name": "Yangon",
           "offsetgroup": "Yangon",
           "orientation": "v",
           "showlegend": true,
           "textposition": "auto",
           "type": "bar",
           "x": [
            "Yangon",
            "Yangon",
            "Yangon"
           ],
           "xaxis": "x",
           "y": [
            279.1845,
            82.887,
            279.384
           ],
           "yaxis": "y"
          },
          {
           "alignmentgroup": "True",
           "hovertemplate": "City=%{x}<br>Date=3/2/2019<br>Total=%{y}<extra></extra>",
           "ids": [
            "C",
            "C",
            "C",
            "C",
            "C",
            "C"
           ],
           "legendgroup": "Naypyitaw",
           "marker": {
            "color": "#EF553B",
            "pattern": {
             "shape": ""
            }
           },
           "name": "Naypyitaw",
           "offsetgroup": "Naypyitaw",
           "orientation": "v",
           "showlegend": true,
           "textposition": "auto",
           "type": "bar",
           "x": [
            "Naypyitaw",
            "Naypyitaw",
            "Naypyitaw",
            "Naypyitaw",
            "Naypyitaw",
            "Naypyitaw"
           ],
           "xaxis": "x",
           "y": [
            85.113,
            30.219,
            572.775,
            543.753,
            485.5725,
            629.16
           ],
           "yaxis": "y"
          },
          {
           "alignmentgroup": "True",
           "hovertemplate": "City=%{x}<br>Date=3/2/2019<br>Total=%{y}<extra></extra>",
           "ids": [
            "B",
            "B",
            "B",
            "B",
            "B",
            "B",
            "B",
            "B",
            "B"
           ],
           "legendgroup": "Mandalay",
           "marker": {
            "color": "#00cc96",
            "pattern": {
             "shape": ""
            }
           },
           "name": "Mandalay",
           "offsetgroup": "Mandalay",
           "orientation": "v",
           "showlegend": true,
           "textposition": "auto",
           "type": "bar",
           "x": [
            "Mandalay",
            "Mandalay",
            "Mandalay",
            "Mandalay",
            "Mandalay",
            "Mandalay",
            "Mandalay",
            "Mandalay",
            "Mandalay"
           ],
           "xaxis": "x",
           "y": [
            253.848,
            69.405,
            255.15,
            231.2415,
            253.848,
            82.719,
            53.151,
            80.367,
            253.848
           ],
           "yaxis": "y"
          }
         ],
         "name": "3/2/2019"
        },
        {
         "data": [
          {
           "alignmentgroup": "True",
           "hovertemplate": "City=%{x}<br>Date=3/22/2019<br>Total=%{y}<extra></extra>",
           "ids": [
            "A",
            "A",
            "A",
            "A",
            "A",
            "A",
            "A"
           ],
           "legendgroup": "Yangon",
           "marker": {
            "color": "#636efa",
            "pattern": {
             "shape": ""
            }
           },
           "name": "Yangon",
           "offsetgroup": "Yangon",
           "orientation": "v",
           "showlegend": true,
           "textposition": "auto",
           "type": "bar",
           "x": [
            "Yangon",
            "Yangon",
            "Yangon",
            "Yangon",
            "Yangon",
            "Yangon",
            "Yangon"
           ],
           "xaxis": "x",
           "y": [
            441.756,
            391.419,
            19.194,
            427.812,
            451.0275,
            99.9075,
            296.94
           ],
           "yaxis": "y"
          },
          {
           "alignmentgroup": "True",
           "hovertemplate": "City=%{x}<br>Date=3/22/2019<br>Total=%{y}<extra></extra>",
           "ids": [
            "B",
            "B",
            "B"
           ],
           "legendgroup": "Mandalay",
           "marker": {
            "color": "#00cc96",
            "pattern": {
             "shape": ""
            }
           },
           "name": "Mandalay",
           "offsetgroup": "Mandalay",
           "orientation": "v",
           "showlegend": true,
           "textposition": "auto",
           "type": "bar",
           "x": [
            "Mandalay",
            "Mandalay",
            "Mandalay"
           ],
           "xaxis": "x",
           "y": [
            75.054,
            742.812,
            233.226
           ],
           "yaxis": "y"
          }
         ],
         "name": "3/22/2019"
        },
        {
         "data": [
          {
           "alignmentgroup": "True",
           "hovertemplate": "City=%{x}<br>Date=3/10/2019<br>Total=%{y}<extra></extra>",
           "ids": [
            "A",
            "A",
            "A",
            "A",
            "A",
            "A"
           ],
           "legendgroup": "Yangon",
           "marker": {
            "color": "#636efa",
            "pattern": {
             "shape": ""
            }
           },
           "name": "Yangon",
           "offsetgroup": "Yangon",
           "orientation": "v",
           "showlegend": true,
           "textposition": "auto",
           "type": "bar",
           "x": [
            "Yangon",
            "Yangon",
            "Yangon",
            "Yangon",
            "Yangon",
            "Yangon"
           ],
           "xaxis": "x",
           "y": [
            184.107,
            328.755,
            688.6215,
            81.396,
            74.4555,
            121.863
           ],
           "yaxis": "y"
          },
          {
           "alignmentgroup": "True",
           "hovertemplate": "City=%{x}<br>Date=3/10/2019<br>Total=%{y}<extra></extra>",
           "ids": [
            "C",
            "C",
            "C"
           ],
           "legendgroup": "Naypyitaw",
           "marker": {
            "color": "#EF553B",
            "pattern": {
             "shape": ""
            }
           },
           "name": "Naypyitaw",
           "offsetgroup": "Naypyitaw",
           "orientation": "v",
           "showlegend": true,
           "textposition": "auto",
           "type": "bar",
           "x": [
            "Naypyitaw",
            "Naypyitaw",
            "Naypyitaw"
           ],
           "xaxis": "x",
           "y": [
            144.081,
            253.848,
            338.2155
           ],
           "yaxis": "y"
          },
          {
           "alignmentgroup": "True",
           "hovertemplate": "City=%{x}<br>Date=3/10/2019<br>Total=%{y}<extra></extra>",
           "ids": [
            "B",
            "B",
            "B"
           ],
           "legendgroup": "Mandalay",
           "marker": {
            "color": "#00cc96",
            "pattern": {
             "shape": ""
            }
           },
           "name": "Mandalay",
           "offsetgroup": "Mandalay",
           "orientation": "v",
           "showlegend": true,
           "textposition": "auto",
           "type": "bar",
           "x": [
            "Mandalay",
            "Mandalay",
            "Mandalay"
           ],
           "xaxis": "x",
           "y": [
            180.621,
            133.917,
            26.7225
           ],
           "yaxis": "y"
          }
         ],
         "name": "3/10/2019"
        },
        {
         "data": [
          {
           "alignmentgroup": "True",
           "hovertemplate": "City=%{x}<br>Date=1/25/2019<br>Total=%{y}<extra></extra>",
           "ids": [
            "A",
            "A",
            "A",
            "A",
            "A"
           ],
           "legendgroup": "Yangon",
           "marker": {
            "color": "#636efa",
            "pattern": {
             "shape": ""
            }
           },
           "name": "Yangon",
           "offsetgroup": "Yangon",
           "orientation": "v",
           "showlegend": true,
           "textposition": "auto",
           "type": "bar",
           "x": [
            "Yangon",
            "Yangon",
            "Yangon",
            "Yangon",
            "Yangon"
           ],
           "xaxis": "x",
           "y": [
            247.8735,
            252.042,
            168.21,
            167.895,
            77.805
           ],
           "yaxis": "y"
          },
          {
           "alignmentgroup": "True",
           "hovertemplate": "City=%{x}<br>Date=1/25/2019<br>Total=%{y}<extra></extra>",
           "ids": [
            "C",
            "C",
            "C",
            "C",
            "C"
           ],
           "legendgroup": "Naypyitaw",
           "marker": {
            "color": "#EF553B",
            "pattern": {
             "shape": ""
            }
           },
           "name": "Naypyitaw",
           "offsetgroup": "Naypyitaw",
           "orientation": "v",
           "showlegend": true,
           "textposition": "auto",
           "type": "bar",
           "x": [
            "Naypyitaw",
            "Naypyitaw",
            "Naypyitaw",
            "Naypyitaw",
            "Naypyitaw"
           ],
           "xaxis": "x",
           "y": [
            16.2015,
            253.848,
            288.204,
            663.2955,
            267.3405
           ],
           "yaxis": "y"
          },
          {
           "alignmentgroup": "True",
           "hovertemplate": "City=%{x}<br>Date=1/25/2019<br>Total=%{y}<extra></extra>",
           "ids": [
            "B",
            "B",
            "B",
            "B",
            "B",
            "B",
            "B"
           ],
           "legendgroup": "Mandalay",
           "marker": {
            "color": "#00cc96",
            "pattern": {
             "shape": ""
            }
           },
           "name": "Mandalay",
           "offsetgroup": "Mandalay",
           "orientation": "v",
           "showlegend": true,
           "textposition": "auto",
           "type": "bar",
           "x": [
            "Mandalay",
            "Mandalay",
            "Mandalay",
            "Mandalay",
            "Mandalay",
            "Mandalay",
            "Mandalay"
           ],
           "xaxis": "x",
           "y": [
            463.89,
            291.207,
            356.5485,
            214.746,
            128.016,
            45.927,
            100.9155
           ],
           "yaxis": "y"
          }
         ],
         "name": "1/25/2019"
        },
        {
         "data": [
          {
           "alignmentgroup": "True",
           "hovertemplate": "City=%{x}<br>Date=1/28/2019<br>Total=%{y}<extra></extra>",
           "ids": [
            "A",
            "A"
           ],
           "legendgroup": "Yangon",
           "marker": {
            "color": "#636efa",
            "pattern": {
             "shape": ""
            }
           },
           "name": "Yangon",
           "offsetgroup": "Yangon",
           "orientation": "v",
           "showlegend": true,
           "textposition": "auto",
           "type": "bar",
           "x": [
            "Yangon",
            "Yangon"
           ],
           "xaxis": "x",
           "y": [
            203.112,
            84.7455
           ],
           "yaxis": "y"
          },
          {
           "alignmentgroup": "True",
           "hovertemplate": "City=%{x}<br>Date=1/28/2019<br>Total=%{y}<extra></extra>",
           "ids": [
            "C",
            "C",
            "C",
            "C",
            "C",
            "C"
           ],
           "legendgroup": "Naypyitaw",
           "marker": {
            "color": "#EF553B",
            "pattern": {
             "shape": ""
            }
           },
           "name": "Naypyitaw",
           "offsetgroup": "Naypyitaw",
           "orientation": "v",
           "showlegend": true,
           "textposition": "auto",
           "type": "bar",
           "x": [
            "Naypyitaw",
            "Naypyitaw",
            "Naypyitaw",
            "Naypyitaw",
            "Naypyitaw",
            "Naypyitaw"
           ],
           "xaxis": "x",
           "y": [
            680.148,
            273.42,
            293.202,
            91.4025,
            125.055,
            118.251
           ],
           "yaxis": "y"
          },
          {
           "alignmentgroup": "True",
           "hovertemplate": "City=%{x}<br>Date=1/28/2019<br>Total=%{y}<extra></extra>",
           "ids": [
            "B",
            "B",
            "B",
            "B",
            "B",
            "B"
           ],
           "legendgroup": "Mandalay",
           "marker": {
            "color": "#00cc96",
            "pattern": {
             "shape": ""
            }
           },
           "name": "Mandalay",
           "offsetgroup": "Mandalay",
           "orientation": "v",
           "showlegend": true,
           "textposition": "auto",
           "type": "bar",
           "x": [
            "Mandalay",
            "Mandalay",
            "Mandalay",
            "Mandalay",
            "Mandalay",
            "Mandalay"
           ],
           "xaxis": "x",
           "y": [
            737.7615,
            20.1075,
            681.4395,
            225.015,
            253.848,
            633.108
           ],
           "yaxis": "y"
          }
         ],
         "name": "1/28/2019"
        },
        {
         "data": [
          {
           "alignmentgroup": "True",
           "hovertemplate": "City=%{x}<br>Date=1/7/2019<br>Total=%{y}<extra></extra>",
           "ids": [
            "A",
            "A",
            "A"
           ],
           "legendgroup": "Yangon",
           "marker": {
            "color": "#636efa",
            "pattern": {
             "shape": ""
            }
           },
           "name": "Yangon",
           "offsetgroup": "Yangon",
           "orientation": "v",
           "showlegend": true,
           "textposition": "auto",
           "type": "bar",
           "x": [
            "Yangon",
            "Yangon",
            "Yangon"
           ],
           "xaxis": "x",
           "y": [
            326.424,
            203.553,
            575.9775
           ],
           "yaxis": "y"
          },
          {
           "alignmentgroup": "True",
           "hovertemplate": "City=%{x}<br>Date=1/7/2019<br>Total=%{y}<extra></extra>",
           "ids": [
            "C",
            "C",
            "C"
           ],
           "legendgroup": "Naypyitaw",
           "marker": {
            "color": "#EF553B",
            "pattern": {
             "shape": ""
            }
           },
           "name": "Naypyitaw",
           "offsetgroup": "Naypyitaw",
           "orientation": "v",
           "showlegend": true,
           "textposition": "auto",
           "type": "bar",
           "x": [
            "Naypyitaw",
            "Naypyitaw",
            "Naypyitaw"
           ],
           "xaxis": "x",
           "y": [
            71.526,
            229.11,
            85.743
           ],
           "yaxis": "y"
          },
          {
           "alignmentgroup": "True",
           "hovertemplate": "City=%{x}<br>Date=1/7/2019<br>Total=%{y}<extra></extra>",
           "ids": [
            "B",
            "B",
            "B"
           ],
           "legendgroup": "Mandalay",
           "marker": {
            "color": "#00cc96",
            "pattern": {
             "shape": ""
            }
           },
           "name": "Mandalay",
           "offsetgroup": "Mandalay",
           "orientation": "v",
           "showlegend": true,
           "textposition": "auto",
           "type": "bar",
           "x": [
            "Mandalay",
            "Mandalay",
            "Mandalay"
           ],
           "xaxis": "x",
           "y": [
            614.943,
            352.5795,
            374.388
           ],
           "yaxis": "y"
          }
         ],
         "name": "1/7/2019"
        },
        {
         "data": [
          {
           "alignmentgroup": "True",
           "hovertemplate": "City=%{x}<br>Date=3/23/2019<br>Total=%{y}<extra></extra>",
           "ids": [
            "A",
            "A",
            "A",
            "A",
            "A",
            "A"
           ],
           "legendgroup": "Yangon",
           "marker": {
            "color": "#636efa",
            "pattern": {
             "shape": ""
            }
           },
           "name": "Yangon",
           "offsetgroup": "Yangon",
           "orientation": "v",
           "showlegend": true,
           "textposition": "auto",
           "type": "bar",
           "x": [
            "Yangon",
            "Yangon",
            "Yangon",
            "Yangon",
            "Yangon",
            "Yangon"
           ],
           "xaxis": "x",
           "y": [
            166.1625,
            465.444,
            162.75,
            26.5545,
            156.03,
            771.435
           ],
           "yaxis": "y"
          },
          {
           "alignmentgroup": "True",
           "hovertemplate": "City=%{x}<br>Date=3/23/2019<br>Total=%{y}<extra></extra>",
           "ids": [
            "C",
            "C",
            "C",
            "C"
           ],
           "legendgroup": "Naypyitaw",
           "marker": {
            "color": "#EF553B",
            "pattern": {
             "shape": ""
            }
           },
           "name": "Naypyitaw",
           "offsetgroup": "Naypyitaw",
           "orientation": "v",
           "showlegend": true,
           "textposition": "auto",
           "type": "bar",
           "x": [
            "Naypyitaw",
            "Naypyitaw",
            "Naypyitaw",
            "Naypyitaw"
           ],
           "xaxis": "x",
           "y": [
            461.328,
            596.82,
            408.7335,
            495.3165
           ],
           "yaxis": "y"
          },
          {
           "alignmentgroup": "True",
           "hovertemplate": "City=%{x}<br>Date=3/23/2019<br>Total=%{y}<extra></extra>",
           "ids": [
            "B"
           ],
           "legendgroup": "Mandalay",
           "marker": {
            "color": "#00cc96",
            "pattern": {
             "shape": ""
            }
           },
           "name": "Mandalay",
           "offsetgroup": "Mandalay",
           "orientation": "v",
           "showlegend": true,
           "textposition": "auto",
           "type": "bar",
           "x": [
            "Mandalay"
           ],
           "xaxis": "x",
           "y": [
            384.468
           ],
           "yaxis": "y"
          }
         ],
         "name": "3/23/2019"
        },
        {
         "data": [
          {
           "alignmentgroup": "True",
           "hovertemplate": "City=%{x}<br>Date=1/17/2019<br>Total=%{y}<extra></extra>",
           "ids": [
            "A",
            "A",
            "A",
            "A"
           ],
           "legendgroup": "Yangon",
           "marker": {
            "color": "#636efa",
            "pattern": {
             "shape": ""
            }
           },
           "name": "Yangon",
           "offsetgroup": "Yangon",
           "orientation": "v",
           "showlegend": true,
           "textposition": "auto",
           "type": "bar",
           "x": [
            "Yangon",
            "Yangon",
            "Yangon",
            "Yangon"
           ],
           "xaxis": "x",
           "y": [
            135.576,
            253.848,
            80.955,
            432.9885
           ],
           "yaxis": "y"
          },
          {
           "alignmentgroup": "True",
           "hovertemplate": "City=%{x}<br>Date=1/17/2019<br>Total=%{y}<extra></extra>",
           "ids": [
            "C",
            "C",
            "C"
           ],
           "legendgroup": "Naypyitaw",
           "marker": {
            "color": "#EF553B",
            "pattern": {
             "shape": ""
            }
           },
           "name": "Naypyitaw",
           "offsetgroup": "Naypyitaw",
           "orientation": "v",
           "showlegend": true,
           "textposition": "auto",
           "type": "bar",
           "x": [
            "Naypyitaw",
            "Naypyitaw",
            "Naypyitaw"
           ],
           "xaxis": "x",
           "y": [
            377.58,
            137.865,
            131.922
           ],
           "yaxis": "y"
          },
          {
           "alignmentgroup": "True",
           "hovertemplate": "City=%{x}<br>Date=1/17/2019<br>Total=%{y}<extra></extra>",
           "ids": [
            "B",
            "B",
            "B",
            "B"
           ],
           "legendgroup": "Mandalay",
           "marker": {
            "color": "#00cc96",
            "pattern": {
             "shape": ""
            }
           },
           "name": "Mandalay",
           "offsetgroup": "Mandalay",
           "orientation": "v",
           "showlegend": true,
           "textposition": "auto",
           "type": "bar",
           "x": [
            "Mandalay",
            "Mandalay",
            "Mandalay",
            "Mandalay"
           ],
           "xaxis": "x",
           "y": [
            91.056,
            121.569,
            695.2365,
            85.302
           ],
           "yaxis": "y"
          }
         ],
         "name": "1/17/2019"
        },
        {
         "data": [
          {
           "alignmentgroup": "True",
           "hovertemplate": "City=%{x}<br>Date=2/2/2019<br>Total=%{y}<extra></extra>",
           "ids": [
            "A",
            "A",
            "A",
            "A"
           ],
           "legendgroup": "Yangon",
           "marker": {
            "color": "#636efa",
            "pattern": {
             "shape": ""
            }
           },
           "name": "Yangon",
           "offsetgroup": "Yangon",
           "orientation": "v",
           "showlegend": true,
           "textposition": "auto",
           "type": "bar",
           "x": [
            "Yangon",
            "Yangon",
            "Yangon",
            "Yangon"
           ],
           "xaxis": "x",
           "y": [
            19.2465,
            115.08,
            452.865,
            432.768
           ],
           "yaxis": "y"
          },
          {
           "alignmentgroup": "True",
           "hovertemplate": "City=%{x}<br>Date=2/2/2019<br>Total=%{y}<extra></extra>",
           "ids": [
            "C",
            "C",
            "C",
            "C",
            "C",
            "C"
           ],
           "legendgroup": "Naypyitaw",
           "marker": {
            "color": "#EF553B",
            "pattern": {
             "shape": ""
            }
           },
           "name": "Naypyitaw",
           "offsetgroup": "Naypyitaw",
           "orientation": "v",
           "showlegend": true,
           "textposition": "auto",
           "type": "bar",
           "x": [
            "Naypyitaw",
            "Naypyitaw",
            "Naypyitaw",
            "Naypyitaw",
            "Naypyitaw",
            "Naypyitaw"
           ],
           "xaxis": "x",
           "y": [
            117.831,
            400.764,
            554.148,
            40.341,
            223.587,
            175.035
           ],
           "yaxis": "y"
          },
          {
           "alignmentgroup": "True",
           "hovertemplate": "City=%{x}<br>Date=2/2/2019<br>Total=%{y}<extra></extra>",
           "ids": [
            "B",
            "B",
            "B",
            "B"
           ],
           "legendgroup": "Mandalay",
           "marker": {
            "color": "#00cc96",
            "pattern": {
             "shape": ""
            }
           },
           "name": "Mandalay",
           "offsetgroup": "Mandalay",
           "orientation": "v",
           "showlegend": true,
           "textposition": "auto",
           "type": "bar",
           "x": [
            "Mandalay",
            "Mandalay",
            "Mandalay",
            "Mandalay"
           ],
           "xaxis": "x",
           "y": [
            788.508,
            439.8975,
            193.011,
            187.866
           ],
           "yaxis": "y"
          }
         ],
         "name": "2/2/2019"
        },
        {
         "data": [
          {
           "alignmentgroup": "True",
           "hovertemplate": "City=%{x}<br>Date=3/4/2019<br>Total=%{y}<extra></extra>",
           "ids": [
            "A",
            "A",
            "A",
            "A",
            "A",
            "A",
            "A",
            "A",
            "A"
           ],
           "legendgroup": "Yangon",
           "marker": {
            "color": "#636efa",
            "pattern": {
             "shape": ""
            }
           },
           "name": "Yangon",
           "offsetgroup": "Yangon",
           "orientation": "v",
           "showlegend": true,
           "textposition": "auto",
           "type": "bar",
           "x": [
            "Yangon",
            "Yangon",
            "Yangon",
            "Yangon",
            "Yangon",
            "Yangon",
            "Yangon",
            "Yangon",
            "Yangon"
           ],
           "xaxis": "x",
           "y": [
            90.699,
            628.929,
            237.426,
            76.755,
            510.615,
            462.672,
            216.4365,
            314.685,
            313.572
           ],
           "yaxis": "y"
          },
          {
           "alignmentgroup": "True",
           "hovertemplate": "City=%{x}<br>Date=3/4/2019<br>Total=%{y}<extra></extra>",
           "ids": [
            "C",
            "C"
           ],
           "legendgroup": "Naypyitaw",
           "marker": {
            "color": "#EF553B",
            "pattern": {
             "shape": ""
            }
           },
           "name": "Naypyitaw",
           "offsetgroup": "Naypyitaw",
           "orientation": "v",
           "showlegend": true,
           "textposition": "auto",
           "type": "bar",
           "x": [
            "Naypyitaw",
            "Naypyitaw"
           ],
           "xaxis": "x",
           "y": [
            253.848,
            31.752
           ],
           "yaxis": "y"
          },
          {
           "alignmentgroup": "True",
           "hovertemplate": "City=%{x}<br>Date=3/4/2019<br>Total=%{y}<extra></extra>",
           "ids": [
            "B"
           ],
           "legendgroup": "Mandalay",
           "marker": {
            "color": "#00cc96",
            "pattern": {
             "shape": ""
            }
           },
           "name": "Mandalay",
           "offsetgroup": "Mandalay",
           "orientation": "v",
           "showlegend": true,
           "textposition": "auto",
           "type": "bar",
           "x": [
            "Mandalay"
           ],
           "xaxis": "x",
           "y": [
            181.818
           ],
           "yaxis": "y"
          }
         ],
         "name": "3/4/2019"
        },
        {
         "data": [
          {
           "alignmentgroup": "True",
           "hovertemplate": "City=%{x}<br>Date=3/16/2019<br>Total=%{y}<extra></extra>",
           "ids": [
            "A",
            "A",
            "A"
           ],
           "legendgroup": "Yangon",
           "marker": {
            "color": "#636efa",
            "pattern": {
             "shape": ""
            }
           },
           "name": "Yangon",
           "offsetgroup": "Yangon",
           "orientation": "v",
           "showlegend": true,
           "textposition": "auto",
           "type": "bar",
           "x": [
            "Yangon",
            "Yangon",
            "Yangon"
           ],
           "xaxis": "x",
           "y": [
            609,
            99.75,
            333.9525
           ],
           "yaxis": "y"
          },
          {
           "alignmentgroup": "True",
           "hovertemplate": "City=%{x}<br>Date=3/16/2019<br>Total=%{y}<extra></extra>",
           "ids": [
            "C",
            "C",
            "C"
           ],
           "legendgroup": "Naypyitaw",
           "marker": {
            "color": "#EF553B",
            "pattern": {
             "shape": ""
            }
           },
           "name": "Naypyitaw",
           "offsetgroup": "Naypyitaw",
           "orientation": "v",
           "showlegend": true,
           "textposition": "auto",
           "type": "bar",
           "x": [
            "Naypyitaw",
            "Naypyitaw",
            "Naypyitaw"
           ],
           "xaxis": "x",
           "y": [
            32.277,
            253.848,
            408.492
           ],
           "yaxis": "y"
          },
          {
           "alignmentgroup": "True",
           "hovertemplate": "City=%{x}<br>Date=3/16/2019<br>Total=%{y}<extra></extra>",
           "ids": [
            "B",
            "B",
            "B"
           ],
           "legendgroup": "Mandalay",
           "marker": {
            "color": "#00cc96",
            "pattern": {
             "shape": ""
            }
           },
           "name": "Mandalay",
           "offsetgroup": "Mandalay",
           "orientation": "v",
           "showlegend": true,
           "textposition": "auto",
           "type": "bar",
           "x": [
            "Mandalay",
            "Mandalay",
            "Mandalay"
           ],
           "xaxis": "x",
           "y": [
            78.7185,
            360.885,
            401.688
           ],
           "yaxis": "y"
          }
         ],
         "name": "3/16/2019"
        },
        {
         "data": [
          {
           "alignmentgroup": "True",
           "hovertemplate": "City=%{x}<br>Date=2/27/2019<br>Total=%{y}<extra></extra>",
           "ids": [
            "A",
            "A",
            "A",
            "A",
            "A"
           ],
           "legendgroup": "Yangon",
           "marker": {
            "color": "#636efa",
            "pattern": {
             "shape": ""
            }
           },
           "name": "Yangon",
           "offsetgroup": "Yangon",
           "orientation": "v",
           "showlegend": true,
           "textposition": "auto",
           "type": "bar",
           "x": [
            "Yangon",
            "Yangon",
            "Yangon",
            "Yangon",
            "Yangon"
           ],
           "xaxis": "x",
           "y": [
            736.4385,
            45.108,
            197.925,
            680.61,
            781.62
           ],
           "yaxis": "y"
          },
          {
           "alignmentgroup": "True",
           "hovertemplate": "City=%{x}<br>Date=2/27/2019<br>Total=%{y}<extra></extra>",
           "ids": [
            "C",
            "C",
            "C"
           ],
           "legendgroup": "Naypyitaw",
           "marker": {
            "color": "#EF553B",
            "pattern": {
             "shape": ""
            }
           },
           "name": "Naypyitaw",
           "offsetgroup": "Naypyitaw",
           "orientation": "v",
           "showlegend": true,
           "textposition": "auto",
           "type": "bar",
           "x": [
            "Naypyitaw",
            "Naypyitaw",
            "Naypyitaw"
           ],
           "xaxis": "x",
           "y": [
            793.548,
            104.6745,
            631.1445
           ],
           "yaxis": "y"
          },
          {
           "alignmentgroup": "True",
           "hovertemplate": "City=%{x}<br>Date=2/27/2019<br>Total=%{y}<extra></extra>",
           "ids": [
            "B",
            "B",
            "B",
            "B",
            "B",
            "B"
           ],
           "legendgroup": "Mandalay",
           "marker": {
            "color": "#00cc96",
            "pattern": {
             "shape": ""
            }
           },
           "name": "Mandalay",
           "offsetgroup": "Mandalay",
           "orientation": "v",
           "showlegend": true,
           "textposition": "auto",
           "type": "bar",
           "x": [
            "Mandalay",
            "Mandalay",
            "Mandalay",
            "Mandalay",
            "Mandalay",
            "Mandalay"
           ],
           "xaxis": "x",
           "y": [
            535.7205,
            485.037,
            141.75,
            353.1675,
            165.123,
            207.585
           ],
           "yaxis": "y"
          }
         ],
         "name": "2/27/2019"
        },
        {
         "data": [
          {
           "alignmentgroup": "True",
           "hovertemplate": "City=%{x}<br>Date=2/10/2019<br>Total=%{y}<extra></extra>",
           "ids": [
            "A",
            "A",
            "A",
            "A"
           ],
           "legendgroup": "Yangon",
           "marker": {
            "color": "#636efa",
            "pattern": {
             "shape": ""
            }
           },
           "name": "Yangon",
           "offsetgroup": "Yangon",
           "orientation": "v",
           "showlegend": true,
           "textposition": "auto",
           "type": "bar",
           "x": [
            "Yangon",
            "Yangon",
            "Yangon",
            "Yangon"
           ],
           "xaxis": "x",
           "y": [
            234.0975,
            316.47,
            77.7735,
            394.3275
           ],
           "yaxis": "y"
          },
          {
           "alignmentgroup": "True",
           "hovertemplate": "City=%{x}<br>Date=2/10/2019<br>Total=%{y}<extra></extra>",
           "ids": [
            "C",
            "C",
            "C"
           ],
           "legendgroup": "Naypyitaw",
           "marker": {
            "color": "#EF553B",
            "pattern": {
             "shape": ""
            }
           },
           "name": "Naypyitaw",
           "offsetgroup": "Naypyitaw",
           "orientation": "v",
           "showlegend": true,
           "textposition": "auto",
           "type": "bar",
           "x": [
            "Naypyitaw",
            "Naypyitaw",
            "Naypyitaw"
           ],
           "xaxis": "x",
           "y": [
            70.287,
            820.365,
            539.343
           ],
           "yaxis": "y"
          },
          {
           "alignmentgroup": "True",
           "hovertemplate": "City=%{x}<br>Date=2/10/2019<br>Total=%{y}<extra></extra>",
           "ids": [
            "B",
            "B",
            "B",
            "B"
           ],
           "legendgroup": "Mandalay",
           "marker": {
            "color": "#00cc96",
            "pattern": {
             "shape": ""
            }
           },
           "name": "Mandalay",
           "offsetgroup": "Mandalay",
           "orientation": "v",
           "showlegend": true,
           "textposition": "auto",
           "type": "bar",
           "x": [
            "Mandalay",
            "Mandalay",
            "Mandalay",
            "Mandalay"
           ],
           "xaxis": "x",
           "y": [
            119.259,
            146.328,
            151.4835,
            271.2885
           ],
           "yaxis": "y"
          }
         ],
         "name": "2/10/2019"
        },
        {
         "data": [
          {
           "alignmentgroup": "True",
           "hovertemplate": "City=%{x}<br>Date=3/19/2019<br>Total=%{y}<extra></extra>",
           "ids": [
            "A",
            "A",
            "A",
            "A",
            "A",
            "A"
           ],
           "legendgroup": "Yangon",
           "marker": {
            "color": "#636efa",
            "pattern": {
             "shape": ""
            }
           },
           "name": "Yangon",
           "offsetgroup": "Yangon",
           "orientation": "v",
           "showlegend": true,
           "textposition": "auto",
           "type": "bar",
           "x": [
            "Yangon",
            "Yangon",
            "Yangon",
            "Yangon",
            "Yangon",
            "Yangon"
           ],
           "xaxis": "x",
           "y": [
            171.7275,
            709.317,
            721.98,
            97.818,
            175.014,
            16.275
           ],
           "yaxis": "y"
          },
          {
           "alignmentgroup": "True",
           "hovertemplate": "City=%{x}<br>Date=3/19/2019<br>Total=%{y}<extra></extra>",
           "ids": [
            "C",
            "C",
            "C",
            "C",
            "C",
            "C",
            "C"
           ],
           "legendgroup": "Naypyitaw",
           "marker": {
            "color": "#EF553B",
            "pattern": {
             "shape": ""
            }
           },
           "name": "Naypyitaw",
           "offsetgroup": "Naypyitaw",
           "orientation": "v",
           "showlegend": true,
           "textposition": "auto",
           "type": "bar",
           "x": [
            "Naypyitaw",
            "Naypyitaw",
            "Naypyitaw",
            "Naypyitaw",
            "Naypyitaw",
            "Naypyitaw",
            "Naypyitaw"
           ],
           "xaxis": "x",
           "y": [
            253.848,
            277.788,
            55.881,
            253.848,
            48.51,
            743.82,
            317.226
           ],
           "yaxis": "y"
          },
          {
           "alignmentgroup": "True",
           "hovertemplate": "City=%{x}<br>Date=3/19/2019<br>Total=%{y}<extra></extra>",
           "ids": [
            "B",
            "B",
            "B"
           ],
           "legendgroup": "Mandalay",
           "marker": {
            "color": "#00cc96",
            "pattern": {
             "shape": ""
            }
           },
           "name": "Mandalay",
           "offsetgroup": "Mandalay",
           "orientation": "v",
           "showlegend": true,
           "textposition": "auto",
           "type": "bar",
           "x": [
            "Mandalay",
            "Mandalay",
            "Mandalay"
           ],
           "xaxis": "x",
           "y": [
            223.0725,
            213.528,
            163.002
           ],
           "yaxis": "y"
          }
         ],
         "name": "3/19/2019"
        },
        {
         "data": [
          {
           "alignmentgroup": "True",
           "hovertemplate": "City=%{x}<br>Date=2/3/2019<br>Total=%{y}<extra></extra>",
           "ids": [
            "A",
            "A",
            "A",
            "A",
            "A"
           ],
           "legendgroup": "Yangon",
           "marker": {
            "color": "#636efa",
            "pattern": {
             "shape": ""
            }
           },
           "name": "Yangon",
           "offsetgroup": "Yangon",
           "orientation": "v",
           "showlegend": true,
           "textposition": "auto",
           "type": "bar",
           "x": [
            "Yangon",
            "Yangon",
            "Yangon",
            "Yangon",
            "Yangon"
           ],
           "xaxis": "x",
           "y": [
            697.368,
            404.355,
            708.225,
            764.19,
            143.22
           ],
           "yaxis": "y"
          },
          {
           "alignmentgroup": "True",
           "hovertemplate": "City=%{x}<br>Date=2/3/2019<br>Total=%{y}<extra></extra>",
           "ids": [
            "C",
            "C",
            "C",
            "C"
           ],
           "legendgroup": "Naypyitaw",
           "marker": {
            "color": "#EF553B",
            "pattern": {
             "shape": ""
            }
           },
           "name": "Naypyitaw",
           "offsetgroup": "Naypyitaw",
           "orientation": "v",
           "showlegend": true,
           "textposition": "auto",
           "type": "bar",
           "x": [
            "Naypyitaw",
            "Naypyitaw",
            "Naypyitaw",
            "Naypyitaw"
           ],
           "xaxis": "x",
           "y": [
            671.79,
            212.73,
            310.59,
            517.965
           ],
           "yaxis": "y"
          },
          {
           "alignmentgroup": "True",
           "hovertemplate": "City=%{x}<br>Date=2/3/2019<br>Total=%{y}<extra></extra>",
           "ids": [
            "B",
            "B",
            "B",
            "B",
            "B"
           ],
           "legendgroup": "Mandalay",
           "marker": {
            "color": "#00cc96",
            "pattern": {
             "shape": ""
            }
           },
           "name": "Mandalay",
           "offsetgroup": "Mandalay",
           "orientation": "v",
           "showlegend": true,
           "textposition": "auto",
           "type": "bar",
           "x": [
            "Mandalay",
            "Mandalay",
            "Mandalay",
            "Mandalay",
            "Mandalay"
           ],
           "xaxis": "x",
           "y": [
            520.4115,
            77.6685,
            135.3555,
            247.59,
            56.469
           ],
           "yaxis": "y"
          }
         ],
         "name": "2/3/2019"
        },
        {
         "data": [
          {
           "alignmentgroup": "True",
           "hovertemplate": "City=%{x}<br>Date=3/7/2019<br>Total=%{y}<extra></extra>",
           "ids": [
            "A",
            "A",
            "A"
           ],
           "legendgroup": "Yangon",
           "marker": {
            "color": "#636efa",
            "pattern": {
             "shape": ""
            }
           },
           "name": "Yangon",
           "offsetgroup": "Yangon",
           "orientation": "v",
           "showlegend": true,
           "textposition": "auto",
           "type": "bar",
           "x": [
            "Yangon",
            "Yangon",
            "Yangon"
           ],
           "xaxis": "x",
           "y": [
            146.9475,
            102.837,
            118.902
           ],
           "yaxis": "y"
          },
          {
           "alignmentgroup": "True",
           "hovertemplate": "City=%{x}<br>Date=3/7/2019<br>Total=%{y}<extra></extra>",
           "ids": [
            "C",
            "C",
            "C",
            "C"
           ],
           "legendgroup": "Naypyitaw",
           "marker": {
            "color": "#EF553B",
            "pattern": {
             "shape": ""
            }
           },
           "name": "Naypyitaw",
           "offsetgroup": "Naypyitaw",
           "orientation": "v",
           "showlegend": true,
           "textposition": "auto",
           "type": "bar",
           "x": [
            "Naypyitaw",
            "Naypyitaw",
            "Naypyitaw",
            "Naypyitaw"
           ],
           "xaxis": "x",
           "y": [
            69.09,
            209.559,
            353.094,
            139.923
           ],
           "yaxis": "y"
          },
          {
           "alignmentgroup": "True",
           "hovertemplate": "City=%{x}<br>Date=3/7/2019<br>Total=%{y}<extra></extra>",
           "ids": [
            "B",
            "B"
           ],
           "legendgroup": "Mandalay",
           "marker": {
            "color": "#00cc96",
            "pattern": {
             "shape": ""
            }
           },
           "name": "Mandalay",
           "offsetgroup": "Mandalay",
           "orientation": "v",
           "showlegend": true,
           "textposition": "auto",
           "type": "bar",
           "x": [
            "Mandalay",
            "Mandalay"
           ],
           "xaxis": "x",
           "y": [
            33.936,
            263.97
           ],
           "yaxis": "y"
          }
         ],
         "name": "3/7/2019"
        },
        {
         "data": [
          {
           "alignmentgroup": "True",
           "hovertemplate": "City=%{x}<br>Date=2/28/2019<br>Total=%{y}<extra></extra>",
           "ids": [
            "A",
            "A"
           ],
           "legendgroup": "Yangon",
           "marker": {
            "color": "#636efa",
            "pattern": {
             "shape": ""
            }
           },
           "name": "Yangon",
           "offsetgroup": "Yangon",
           "orientation": "v",
           "showlegend": true,
           "textposition": "auto",
           "type": "bar",
           "x": [
            "Yangon",
            "Yangon"
           ],
           "xaxis": "x",
           "y": [
            507.906,
            176.4
           ],
           "yaxis": "y"
          },
          {
           "alignmentgroup": "True",
           "hovertemplate": "City=%{x}<br>Date=2/28/2019<br>Total=%{y}<extra></extra>",
           "ids": [
            "C",
            "C"
           ],
           "legendgroup": "Naypyitaw",
           "marker": {
            "color": "#EF553B",
            "pattern": {
             "shape": ""
            }
           },
           "name": "Naypyitaw",
           "offsetgroup": "Naypyitaw",
           "orientation": "v",
           "showlegend": true,
           "textposition": "auto",
           "type": "bar",
           "x": [
            "Naypyitaw",
            "Naypyitaw"
           ],
           "xaxis": "x",
           "y": [
            722.232,
            195.72
           ],
           "yaxis": "y"
          },
          {
           "alignmentgroup": "True",
           "hovertemplate": "City=%{x}<br>Date=2/28/2019<br>Total=%{y}<extra></extra>",
           "ids": [
            "B",
            "B"
           ],
           "legendgroup": "Mandalay",
           "marker": {
            "color": "#00cc96",
            "pattern": {
             "shape": ""
            }
           },
           "name": "Mandalay",
           "offsetgroup": "Mandalay",
           "orientation": "v",
           "showlegend": true,
           "textposition": "auto",
           "type": "bar",
           "x": [
            "Mandalay",
            "Mandalay"
           ],
           "xaxis": "x",
           "y": [
            431.445,
            63.315
           ],
           "yaxis": "y"
          }
         ],
         "name": "2/28/2019"
        },
        {
         "data": [
          {
           "alignmentgroup": "True",
           "hovertemplate": "City=%{x}<br>Date=3/27/2019<br>Total=%{y}<extra></extra>",
           "ids": [
            "A",
            "A",
            "A",
            "A",
            "A"
           ],
           "legendgroup": "Yangon",
           "marker": {
            "color": "#636efa",
            "pattern": {
             "shape": ""
            }
           },
           "name": "Yangon",
           "offsetgroup": "Yangon",
           "orientation": "v",
           "showlegend": true,
           "textposition": "auto",
           "type": "bar",
           "x": [
            "Yangon",
            "Yangon",
            "Yangon",
            "Yangon",
            "Yangon"
           ],
           "xaxis": "x",
           "y": [
            93.114,
            362.943,
            272.664,
            164.871,
            167.034
           ],
           "yaxis": "y"
          },
          {
           "alignmentgroup": "True",
           "hovertemplate": "City=%{x}<br>Date=3/27/2019<br>Total=%{y}<extra></extra>",
           "ids": [
            "C"
           ],
           "legendgroup": "Naypyitaw",
           "marker": {
            "color": "#EF553B",
            "pattern": {
             "shape": ""
            }
           },
           "name": "Naypyitaw",
           "offsetgroup": "Naypyitaw",
           "orientation": "v",
           "showlegend": true,
           "textposition": "auto",
           "type": "bar",
           "x": [
            "Naypyitaw"
           ],
           "xaxis": "x",
           "y": [
            253.848
           ],
           "yaxis": "y"
          },
          {
           "alignmentgroup": "True",
           "hovertemplate": "City=%{x}<br>Date=3/27/2019<br>Total=%{y}<extra></extra>",
           "ids": [
            "B",
            "B",
            "B",
            "B"
           ],
           "legendgroup": "Mandalay",
           "marker": {
            "color": "#00cc96",
            "pattern": {
             "shape": ""
            }
           },
           "name": "Mandalay",
           "offsetgroup": "Mandalay",
           "orientation": "v",
           "showlegend": true,
           "textposition": "auto",
           "type": "bar",
           "x": [
            "Mandalay",
            "Mandalay",
            "Mandalay",
            "Mandalay"
           ],
           "xaxis": "x",
           "y": [
            588.357,
            116.907,
            101.808,
            91.8225
           ],
           "yaxis": "y"
          }
         ],
         "name": "3/27/2019"
        },
        {
         "data": [
          {
           "alignmentgroup": "True",
           "hovertemplate": "City=%{x}<br>Date=1/20/2019<br>Total=%{y}<extra></extra>",
           "ids": [
            "A",
            "A",
            "A",
            "A"
           ],
           "legendgroup": "Yangon",
           "marker": {
            "color": "#636efa",
            "pattern": {
             "shape": ""
            }
           },
           "name": "Yangon",
           "offsetgroup": "Yangon",
           "orientation": "v",
           "showlegend": true,
           "textposition": "auto",
           "type": "bar",
           "x": [
            "Yangon",
            "Yangon",
            "Yangon",
            "Yangon"
           ],
           "xaxis": "x",
           "y": [
            759.675,
            195.594,
            536.592,
            233.1
           ],
           "yaxis": "y"
          },
          {
           "alignmentgroup": "True",
           "hovertemplate": "City=%{x}<br>Date=1/20/2019<br>Total=%{y}<extra></extra>",
           "ids": [
            "C",
            "C",
            "C",
            "C"
           ],
           "legendgroup": "Naypyitaw",
           "marker": {
            "color": "#EF553B",
            "pattern": {
             "shape": ""
            }
           },
           "name": "Naypyitaw",
           "offsetgroup": "Naypyitaw",
           "orientation": "v",
           "showlegend": true,
           "textposition": "auto",
           "type": "bar",
           "x": [
            "Naypyitaw",
            "Naypyitaw",
            "Naypyitaw",
            "Naypyitaw"
           ],
           "xaxis": "x",
           "y": [
            749.7,
            348.306,
            131.208,
            470.988
           ],
           "yaxis": "y"
          },
          {
           "alignmentgroup": "True",
           "hovertemplate": "City=%{x}<br>Date=1/20/2019<br>Total=%{y}<extra></extra>",
           "ids": [
            "B",
            "B"
           ],
           "legendgroup": "Mandalay",
           "marker": {
            "color": "#00cc96",
            "pattern": {
             "shape": ""
            }
           },
           "name": "Mandalay",
           "offsetgroup": "Mandalay",
           "orientation": "v",
           "showlegend": true,
           "textposition": "auto",
           "type": "bar",
           "x": [
            "Mandalay",
            "Mandalay"
           ],
           "xaxis": "x",
           "y": [
            112.224,
            118.062
           ],
           "yaxis": "y"
          }
         ],
         "name": "1/20/2019"
        },
        {
         "data": [
          {
           "alignmentgroup": "True",
           "hovertemplate": "City=%{x}<br>Date=3/12/2019<br>Total=%{y}<extra></extra>",
           "ids": [
            "A",
            "A"
           ],
           "legendgroup": "Yangon",
           "marker": {
            "color": "#636efa",
            "pattern": {
             "shape": ""
            }
           },
           "name": "Yangon",
           "offsetgroup": "Yangon",
           "orientation": "v",
           "showlegend": true,
           "textposition": "auto",
           "type": "bar",
           "x": [
            "Yangon",
            "Yangon"
           ],
           "xaxis": "x",
           "y": [
            723.24,
            200.214
           ],
           "yaxis": "y"
          },
          {
           "alignmentgroup": "True",
           "hovertemplate": "City=%{x}<br>Date=3/12/2019<br>Total=%{y}<extra></extra>",
           "ids": [
            "C",
            "C",
            "C",
            "C",
            "C"
           ],
           "legendgroup": "Naypyitaw",
           "marker": {
            "color": "#EF553B",
            "pattern": {
             "shape": ""
            }
           },
           "name": "Naypyitaw",
           "offsetgroup": "Naypyitaw",
           "orientation": "v",
           "showlegend": true,
           "textposition": "auto",
           "type": "bar",
           "x": [
            "Naypyitaw",
            "Naypyitaw",
            "Naypyitaw",
            "Naypyitaw",
            "Naypyitaw"
           ],
           "xaxis": "x",
           "y": [
            192.843,
            174.3,
            395.892,
            194.124,
            404.544
           ],
           "yaxis": "y"
          },
          {
           "alignmentgroup": "True",
           "hovertemplate": "City=%{x}<br>Date=3/12/2019<br>Total=%{y}<extra></extra>",
           "ids": [
            "B",
            "B",
            "B",
            "B",
            "B"
           ],
           "legendgroup": "Mandalay",
           "marker": {
            "color": "#00cc96",
            "pattern": {
             "shape": ""
            }
           },
           "name": "Mandalay",
           "offsetgroup": "Mandalay",
           "orientation": "v",
           "showlegend": true,
           "textposition": "auto",
           "type": "bar",
           "x": [
            "Mandalay",
            "Mandalay",
            "Mandalay",
            "Mandalay",
            "Mandalay"
           ],
           "xaxis": "x",
           "y": [
            608.202,
            33.3585,
            40.9605,
            410.508,
            299.3655
           ],
           "yaxis": "y"
          }
         ],
         "name": "3/12/2019"
        },
        {
         "data": [
          {
           "alignmentgroup": "True",
           "hovertemplate": "City=%{x}<br>Date=2/15/2019<br>Total=%{y}<extra></extra>",
           "ids": [
            "A",
            "A",
            "A",
            "A",
            "A"
           ],
           "legendgroup": "Yangon",
           "marker": {
            "color": "#636efa",
            "pattern": {
             "shape": ""
            }
           },
           "name": "Yangon",
           "offsetgroup": "Yangon",
           "orientation": "v",
           "showlegend": true,
           "textposition": "auto",
           "type": "bar",
           "x": [
            "Yangon",
            "Yangon",
            "Yangon",
            "Yangon",
            "Yangon"
           ],
           "xaxis": "x",
           "y": [
            587.664,
            96.138,
            164.43,
            211.365,
            163.611
           ],
           "yaxis": "y"
          },
          {
           "alignmentgroup": "True",
           "hovertemplate": "City=%{x}<br>Date=2/15/2019<br>Total=%{y}<extra></extra>",
           "ids": [
            "C",
            "C",
            "C",
            "C",
            "C",
            "C",
            "C"
           ],
           "legendgroup": "Naypyitaw",
           "marker": {
            "color": "#EF553B",
            "pattern": {
             "shape": ""
            }
           },
           "name": "Naypyitaw",
           "offsetgroup": "Naypyitaw",
           "orientation": "v",
           "showlegend": true,
           "textposition": "auto",
           "type": "bar",
           "x": [
            "Naypyitaw",
            "Naypyitaw",
            "Naypyitaw",
            "Naypyitaw",
            "Naypyitaw",
            "Naypyitaw",
            "Naypyitaw"
           ],
           "xaxis": "x",
           "y": [
            77.931,
            253.848,
            253.512,
            103.782,
            344.4,
            282.576,
            287.91
           ],
           "yaxis": "y"
          },
          {
           "alignmentgroup": "True",
           "hovertemplate": "City=%{x}<br>Date=2/15/2019<br>Total=%{y}<extra></extra>",
           "ids": [
            "B",
            "B",
            "B",
            "B",
            "B",
            "B",
            "B"
           ],
           "legendgroup": "Mandalay",
           "marker": {
            "color": "#00cc96",
            "pattern": {
             "shape": ""
            }
           },
           "name": "Mandalay",
           "offsetgroup": "Mandalay",
           "orientation": "v",
           "showlegend": true,
           "textposition": "auto",
           "type": "bar",
           "x": [
            "Mandalay",
            "Mandalay",
            "Mandalay",
            "Mandalay",
            "Mandalay",
            "Mandalay",
            "Mandalay"
           ],
           "xaxis": "x",
           "y": [
            535.374,
            93.2925,
            565.215,
            731.43,
            362.817,
            92.7255,
            253.848
           ],
           "yaxis": "y"
          }
         ],
         "name": "2/15/2019"
        },
        {
         "data": [
          {
           "alignmentgroup": "True",
           "hovertemplate": "City=%{x}<br>Date=3/6/2019<br>Total=%{y}<extra></extra>",
           "ids": [
            "A",
            "A",
            "A",
            "A"
           ],
           "legendgroup": "Yangon",
           "marker": {
            "color": "#636efa",
            "pattern": {
             "shape": ""
            }
           },
           "name": "Yangon",
           "offsetgroup": "Yangon",
           "orientation": "v",
           "showlegend": true,
           "textposition": "auto",
           "type": "bar",
           "x": [
            "Yangon",
            "Yangon",
            "Yangon",
            "Yangon"
           ],
           "xaxis": "x",
           "y": [
            166.005,
            580.419,
            203.175,
            83.727
           ],
           "yaxis": "y"
          },
          {
           "alignmentgroup": "True",
           "hovertemplate": "City=%{x}<br>Date=3/6/2019<br>Total=%{y}<extra></extra>",
           "ids": [
            "C"
           ],
           "legendgroup": "Naypyitaw",
           "marker": {
            "color": "#EF553B",
            "pattern": {
             "shape": ""
            }
           },
           "name": "Naypyitaw",
           "offsetgroup": "Naypyitaw",
           "orientation": "v",
           "showlegend": true,
           "textposition": "auto",
           "type": "bar",
           "x": [
            "Naypyitaw"
           ],
           "xaxis": "x",
           "y": [
            38.85
           ],
           "yaxis": "y"
          },
          {
           "alignmentgroup": "True",
           "hovertemplate": "City=%{x}<br>Date=3/6/2019<br>Total=%{y}<extra></extra>",
           "ids": [
            "B",
            "B",
            "B",
            "B",
            "B",
            "B"
           ],
           "legendgroup": "Mandalay",
           "marker": {
            "color": "#00cc96",
            "pattern": {
             "shape": ""
            }
           },
           "name": "Mandalay",
           "offsetgroup": "Mandalay",
           "orientation": "v",
           "showlegend": true,
           "textposition": "auto",
           "type": "bar",
           "x": [
            "Mandalay",
            "Mandalay",
            "Mandalay",
            "Mandalay",
            "Mandalay",
            "Mandalay"
           ],
           "xaxis": "x",
           "y": [
            603.624,
            456.288,
            354.0075,
            352.674,
            148.995,
            104.832
           ],
           "yaxis": "y"
          }
         ],
         "name": "3/6/2019"
        },
        {
         "data": [
          {
           "alignmentgroup": "True",
           "hovertemplate": "City=%{x}<br>Date=2/14/2019<br>Total=%{y}<extra></extra>",
           "ids": [
            "A",
            "A",
            "A"
           ],
           "legendgroup": "Yangon",
           "marker": {
            "color": "#636efa",
            "pattern": {
             "shape": ""
            }
           },
           "name": "Yangon",
           "offsetgroup": "Yangon",
           "orientation": "v",
           "showlegend": true,
           "textposition": "auto",
           "type": "bar",
           "x": [
            "Yangon",
            "Yangon",
            "Yangon"
           ],
           "xaxis": "x",
           "y": [
            253.848,
            140.6475,
            95.865
           ],
           "yaxis": "y"
          },
          {
           "alignmentgroup": "True",
           "hovertemplate": "City=%{x}<br>Date=2/14/2019<br>Total=%{y}<extra></extra>",
           "ids": [
            "C",
            "C",
            "C"
           ],
           "legendgroup": "Naypyitaw",
           "marker": {
            "color": "#EF553B",
            "pattern": {
             "shape": ""
            }
           },
           "name": "Naypyitaw",
           "offsetgroup": "Naypyitaw",
           "orientation": "v",
           "showlegend": true,
           "textposition": "auto",
           "type": "bar",
           "x": [
            "Naypyitaw",
            "Naypyitaw",
            "Naypyitaw"
           ],
           "xaxis": "x",
           "y": [
            208.677,
            290.43,
            122.472
           ],
           "yaxis": "y"
          },
          {
           "alignmentgroup": "True",
           "hovertemplate": "City=%{x}<br>Date=2/14/2019<br>Total=%{y}<extra></extra>",
           "ids": [
            "B",
            "B"
           ],
           "legendgroup": "Mandalay",
           "marker": {
            "color": "#00cc96",
            "pattern": {
             "shape": ""
            }
           },
           "name": "Mandalay",
           "offsetgroup": "Mandalay",
           "orientation": "v",
           "showlegend": true,
           "textposition": "auto",
           "type": "bar",
           "x": [
            "Mandalay",
            "Mandalay"
           ],
           "xaxis": "x",
           "y": [
            318.108,
            441.588
           ],
           "yaxis": "y"
          }
         ],
         "name": "2/14/2019"
        },
        {
         "data": [
          {
           "alignmentgroup": "True",
           "hovertemplate": "City=%{x}<br>Date=3/13/2019<br>Total=%{y}<extra></extra>",
           "ids": [
            "A",
            "A",
            "A"
           ],
           "legendgroup": "Yangon",
           "marker": {
            "color": "#636efa",
            "pattern": {
             "shape": ""
            }
           },
           "name": "Yangon",
           "offsetgroup": "Yangon",
           "orientation": "v",
           "showlegend": true,
           "textposition": "auto",
           "type": "bar",
           "x": [
            "Yangon",
            "Yangon",
            "Yangon"
           ],
           "xaxis": "x",
           "y": [
            166.635,
            336.5565,
            284.9175
           ],
           "yaxis": "y"
          },
          {
           "alignmentgroup": "True",
           "hovertemplate": "City=%{x}<br>Date=3/13/2019<br>Total=%{y}<extra></extra>",
           "ids": [
            "C",
            "C",
            "C",
            "C"
           ],
           "legendgroup": "Naypyitaw",
           "marker": {
            "color": "#EF553B",
            "pattern": {
             "shape": ""
            }
           },
           "name": "Naypyitaw",
           "offsetgroup": "Naypyitaw",
           "orientation": "v",
           "showlegend": true,
           "textposition": "auto",
           "type": "bar",
           "x": [
            "Naypyitaw",
            "Naypyitaw",
            "Naypyitaw",
            "Naypyitaw"
           ],
           "xaxis": "x",
           "y": [
            536.844,
            153.048,
            59.325,
            102.396
           ],
           "yaxis": "y"
          },
          {
           "alignmentgroup": "True",
           "hovertemplate": "City=%{x}<br>Date=3/13/2019<br>Total=%{y}<extra></extra>",
           "ids": [
            "B",
            "B",
            "B"
           ],
           "legendgroup": "Mandalay",
           "marker": {
            "color": "#00cc96",
            "pattern": {
             "shape": ""
            }
           },
           "name": "Mandalay",
           "offsetgroup": "Mandalay",
           "orientation": "v",
           "showlegend": true,
           "textposition": "auto",
           "type": "bar",
           "x": [
            "Mandalay",
            "Mandalay",
            "Mandalay"
           ],
           "xaxis": "x",
           "y": [
            160.86,
            190.155,
            72.87
           ],
           "yaxis": "y"
          }
         ],
         "name": "3/13/2019"
        },
        {
         "data": [
          {
           "alignmentgroup": "True",
           "hovertemplate": "City=%{x}<br>Date=1/24/2019<br>Total=%{y}<extra></extra>",
           "ids": [
            "A",
            "A",
            "A",
            "A",
            "A"
           ],
           "legendgroup": "Yangon",
           "marker": {
            "color": "#636efa",
            "pattern": {
             "shape": ""
            }
           },
           "name": "Yangon",
           "offsetgroup": "Yangon",
           "orientation": "v",
           "showlegend": true,
           "textposition": "auto",
           "type": "bar",
           "x": [
            "Yangon",
            "Yangon",
            "Yangon",
            "Yangon",
            "Yangon"
           ],
           "xaxis": "x",
           "y": [
            253.848,
            406.875,
            728.112,
            408.408,
            88.704
           ],
           "yaxis": "y"
          },
          {
           "alignmentgroup": "True",
           "hovertemplate": "City=%{x}<br>Date=1/24/2019<br>Total=%{y}<extra></extra>",
           "ids": [
            "C",
            "C"
           ],
           "legendgroup": "Naypyitaw",
           "marker": {
            "color": "#EF553B",
            "pattern": {
             "shape": ""
            }
           },
           "name": "Naypyitaw",
           "offsetgroup": "Naypyitaw",
           "orientation": "v",
           "showlegend": true,
           "textposition": "auto",
           "type": "bar",
           "x": [
            "Naypyitaw",
            "Naypyitaw"
           ],
           "xaxis": "x",
           "y": [
            63.9135,
            270.018
           ],
           "yaxis": "y"
          },
          {
           "alignmentgroup": "True",
           "hovertemplate": "City=%{x}<br>Date=1/24/2019<br>Total=%{y}<extra></extra>",
           "ids": [
            "B",
            "B",
            "B",
            "B",
            "B",
            "B"
           ],
           "legendgroup": "Mandalay",
           "marker": {
            "color": "#00cc96",
            "pattern": {
             "shape": ""
            }
           },
           "name": "Mandalay",
           "offsetgroup": "Mandalay",
           "orientation": "v",
           "showlegend": true,
           "textposition": "auto",
           "type": "bar",
           "x": [
            "Mandalay",
            "Mandalay",
            "Mandalay",
            "Mandalay",
            "Mandalay",
            "Mandalay"
           ],
           "xaxis": "x",
           "y": [
            423.15,
            293.643,
            145.404,
            557.718,
            384.72,
            804.3
           ],
           "yaxis": "y"
          }
         ],
         "name": "1/24/2019"
        },
        {
         "data": [
          {
           "alignmentgroup": "True",
           "hovertemplate": "City=%{x}<br>Date=1/6/2019<br>Total=%{y}<extra></extra>",
           "ids": [
            "A",
            "A",
            "A",
            "A",
            "A"
           ],
           "legendgroup": "Yangon",
           "marker": {
            "color": "#636efa",
            "pattern": {
             "shape": ""
            }
           },
           "name": "Yangon",
           "offsetgroup": "Yangon",
           "orientation": "v",
           "showlegend": true,
           "textposition": "auto",
           "type": "bar",
           "x": [
            "Yangon",
            "Yangon",
            "Yangon",
            "Yangon",
            "Yangon"
           ],
           "xaxis": "x",
           "y": [
            494.76,
            16.107,
            214.935,
            271.278,
            312.8895
           ],
           "yaxis": "y"
          },
          {
           "alignmentgroup": "True",
           "hovertemplate": "City=%{x}<br>Date=1/6/2019<br>Total=%{y}<extra></extra>",
           "ids": [
            "C",
            "C"
           ],
           "legendgroup": "Naypyitaw",
           "marker": {
            "color": "#EF553B",
            "pattern": {
             "shape": ""
            }
           },
           "name": "Naypyitaw",
           "offsetgroup": "Naypyitaw",
           "orientation": "v",
           "showlegend": true,
           "textposition": "auto",
           "type": "bar",
           "x": [
            "Naypyitaw",
            "Naypyitaw"
           ],
           "xaxis": "x",
           "y": [
            253.848,
            343.056
           ],
           "yaxis": "y"
          },
          {
           "alignmentgroup": "True",
           "hovertemplate": "City=%{x}<br>Date=1/6/2019<br>Total=%{y}<extra></extra>",
           "ids": [
            "B",
            "B"
           ],
           "legendgroup": "Mandalay",
           "marker": {
            "color": "#00cc96",
            "pattern": {
             "shape": ""
            }
           },
           "name": "Mandalay",
           "offsetgroup": "Mandalay",
           "orientation": "v",
           "showlegend": true,
           "textposition": "auto",
           "type": "bar",
           "x": [
            "Mandalay",
            "Mandalay"
           ],
           "xaxis": "x",
           "y": [
            261.198,
            760.4415
           ],
           "yaxis": "y"
          }
         ],
         "name": "1/6/2019"
        },
        {
         "data": [
          {
           "alignmentgroup": "True",
           "hovertemplate": "City=%{x}<br>Date=2/11/2019<br>Total=%{y}<extra></extra>",
           "ids": [
            "A",
            "A"
           ],
           "legendgroup": "Yangon",
           "marker": {
            "color": "#636efa",
            "pattern": {
             "shape": ""
            }
           },
           "name": "Yangon",
           "offsetgroup": "Yangon",
           "orientation": "v",
           "showlegend": true,
           "textposition": "auto",
           "type": "bar",
           "x": [
            "Yangon",
            "Yangon"
           ],
           "xaxis": "x",
           "y": [
            397.992,
            252.252
           ],
           "yaxis": "y"
          },
          {
           "alignmentgroup": "True",
           "hovertemplate": "City=%{x}<br>Date=2/11/2019<br>Total=%{y}<extra></extra>",
           "ids": [
            "C",
            "C",
            "C"
           ],
           "legendgroup": "Naypyitaw",
           "marker": {
            "color": "#EF553B",
            "pattern": {
             "shape": ""
            }
           },
           "name": "Naypyitaw",
           "offsetgroup": "Naypyitaw",
           "orientation": "v",
           "showlegend": true,
           "textposition": "auto",
           "type": "bar",
           "x": [
            "Naypyitaw",
            "Naypyitaw",
            "Naypyitaw"
           ],
           "xaxis": "x",
           "y": [
            652.26,
            253.848,
            455.1225
           ],
           "yaxis": "y"
          },
          {
           "alignmentgroup": "True",
           "hovertemplate": "City=%{x}<br>Date=2/11/2019<br>Total=%{y}<extra></extra>",
           "ids": [
            "B",
            "B",
            "B"
           ],
           "legendgroup": "Mandalay",
           "marker": {
            "color": "#00cc96",
            "pattern": {
             "shape": ""
            }
           },
           "name": "Mandalay",
           "offsetgroup": "Mandalay",
           "orientation": "v",
           "showlegend": true,
           "textposition": "auto",
           "type": "bar",
           "x": [
            "Mandalay",
            "Mandalay",
            "Mandalay"
           ],
           "xaxis": "x",
           "y": [
            242.676,
            794.6505,
            810.6
           ],
           "yaxis": "y"
          }
         ],
         "name": "2/11/2019"
        },
        {
         "data": [
          {
           "alignmentgroup": "True",
           "hovertemplate": "City=%{x}<br>Date=1/22/2019<br>Total=%{y}<extra></extra>",
           "ids": [
            "A",
            "A"
           ],
           "legendgroup": "Yangon",
           "marker": {
            "color": "#636efa",
            "pattern": {
             "shape": ""
            }
           },
           "name": "Yangon",
           "offsetgroup": "Yangon",
           "orientation": "v",
           "showlegend": true,
           "textposition": "auto",
           "type": "bar",
           "x": [
            "Yangon",
            "Yangon"
           ],
           "xaxis": "x",
           "y": [
            705.6315,
            96.642
           ],
           "yaxis": "y"
          },
          {
           "alignmentgroup": "True",
           "hovertemplate": "City=%{x}<br>Date=1/22/2019<br>Total=%{y}<extra></extra>",
           "ids": [
            "C",
            "C",
            "C"
           ],
           "legendgroup": "Naypyitaw",
           "marker": {
            "color": "#EF553B",
            "pattern": {
             "shape": ""
            }
           },
           "name": "Naypyitaw",
           "offsetgroup": "Naypyitaw",
           "orientation": "v",
           "showlegend": true,
           "textposition": "auto",
           "type": "bar",
           "x": [
            "Naypyitaw",
            "Naypyitaw",
            "Naypyitaw"
           ],
           "xaxis": "x",
           "y": [
            106.995,
            85.5855,
            206.7975
           ],
           "yaxis": "y"
          },
          {
           "alignmentgroup": "True",
           "hovertemplate": "City=%{x}<br>Date=1/22/2019<br>Total=%{y}<extra></extra>",
           "ids": [
            "B",
            "B"
           ],
           "legendgroup": "Mandalay",
           "marker": {
            "color": "#00cc96",
            "pattern": {
             "shape": ""
            }
           },
           "name": "Mandalay",
           "offsetgroup": "Mandalay",
           "orientation": "v",
           "showlegend": true,
           "textposition": "auto",
           "type": "bar",
           "x": [
            "Mandalay",
            "Mandalay"
           ],
           "xaxis": "x",
           "y": [
            351.603,
            151.515
           ],
           "yaxis": "y"
          }
         ],
         "name": "1/22/2019"
        },
        {
         "data": [
          {
           "alignmentgroup": "True",
           "hovertemplate": "City=%{x}<br>Date=1/13/2019<br>Total=%{y}<extra></extra>",
           "ids": [
            "A",
            "A",
            "A",
            "A"
           ],
           "legendgroup": "Yangon",
           "marker": {
            "color": "#636efa",
            "pattern": {
             "shape": ""
            }
           },
           "name": "Yangon",
           "offsetgroup": "Yangon",
           "orientation": "v",
           "showlegend": true,
           "textposition": "auto",
           "type": "bar",
           "x": [
            "Yangon",
            "Yangon",
            "Yangon",
            "Yangon"
           ],
           "xaxis": "x",
           "y": [
            147.798,
            335.013,
            374.409,
            255.1815
           ],
           "yaxis": "y"
          },
          {
           "alignmentgroup": "True",
           "hovertemplate": "City=%{x}<br>Date=1/13/2019<br>Total=%{y}<extra></extra>",
           "ids": [
            "C",
            "C",
            "C"
           ],
           "legendgroup": "Naypyitaw",
           "marker": {
            "color": "#EF553B",
            "pattern": {
             "shape": ""
            }
           },
           "name": "Naypyitaw",
           "offsetgroup": "Naypyitaw",
           "orientation": "v",
           "showlegend": true,
           "textposition": "auto",
           "type": "bar",
           "x": [
            "Naypyitaw",
            "Naypyitaw",
            "Naypyitaw"
           ],
           "xaxis": "x",
           "y": [
            437.325,
            78.0045,
            88.368
           ],
           "yaxis": "y"
          },
          {
           "alignmentgroup": "True",
           "hovertemplate": "City=%{x}<br>Date=1/13/2019<br>Total=%{y}<extra></extra>",
           "ids": [
            "B",
            "B",
            "B"
           ],
           "legendgroup": "Mandalay",
           "marker": {
            "color": "#00cc96",
            "pattern": {
             "shape": ""
            }
           },
           "name": "Mandalay",
           "offsetgroup": "Mandalay",
           "orientation": "v",
           "showlegend": true,
           "textposition": "auto",
           "type": "bar",
           "x": [
            "Mandalay",
            "Mandalay",
            "Mandalay"
           ],
           "xaxis": "x",
           "y": [
            125.706,
            152.019,
            457.38
           ],
           "yaxis": "y"
          }
         ],
         "name": "1/13/2019"
        },
        {
         "data": [
          {
           "alignmentgroup": "True",
           "hovertemplate": "City=%{x}<br>Date=1/9/2019<br>Total=%{y}<extra></extra>",
           "ids": [
            "A"
           ],
           "legendgroup": "Yangon",
           "marker": {
            "color": "#636efa",
            "pattern": {
             "shape": ""
            }
           },
           "name": "Yangon",
           "offsetgroup": "Yangon",
           "orientation": "v",
           "showlegend": true,
           "textposition": "auto",
           "type": "bar",
           "x": [
            "Yangon"
           ],
           "xaxis": "x",
           "y": [
            202.335
           ],
           "yaxis": "y"
          },
          {
           "alignmentgroup": "True",
           "hovertemplate": "City=%{x}<br>Date=1/9/2019<br>Total=%{y}<extra></extra>",
           "ids": [
            "C",
            "C",
            "C",
            "C",
            "C"
           ],
           "legendgroup": "Naypyitaw",
           "marker": {
            "color": "#EF553B",
            "pattern": {
             "shape": ""
            }
           },
           "name": "Naypyitaw",
           "offsetgroup": "Naypyitaw",
           "orientation": "v",
           "showlegend": true,
           "textposition": "auto",
           "type": "bar",
           "x": [
            "Naypyitaw",
            "Naypyitaw",
            "Naypyitaw",
            "Naypyitaw",
            "Naypyitaw"
           ],
           "xaxis": "x",
           "y": [
            463.428,
            253.848,
            310.716,
            165.9,
            708.3195
           ],
           "yaxis": "y"
          },
          {
           "alignmentgroup": "True",
           "hovertemplate": "City=%{x}<br>Date=1/9/2019<br>Total=%{y}<extra></extra>",
           "ids": [
            "B",
            "B"
           ],
           "legendgroup": "Mandalay",
           "marker": {
            "color": "#00cc96",
            "pattern": {
             "shape": ""
            }
           },
           "name": "Mandalay",
           "offsetgroup": "Mandalay",
           "orientation": "v",
           "showlegend": true,
           "textposition": "auto",
           "type": "bar",
           "x": [
            "Mandalay",
            "Mandalay"
           ],
           "xaxis": "x",
           "y": [
            99.54,
            68.985
           ],
           "yaxis": "y"
          }
         ],
         "name": "1/9/2019"
        },
        {
         "data": [
          {
           "alignmentgroup": "True",
           "hovertemplate": "City=%{x}<br>Date=1/12/2019<br>Total=%{y}<extra></extra>",
           "ids": [
            "A",
            "A",
            "A"
           ],
           "legendgroup": "Yangon",
           "marker": {
            "color": "#636efa",
            "pattern": {
             "shape": ""
            }
           },
           "name": "Yangon",
           "offsetgroup": "Yangon",
           "orientation": "v",
           "showlegend": true,
           "textposition": "auto",
           "type": "bar",
           "x": [
            "Yangon",
            "Yangon",
            "Yangon"
           ],
           "xaxis": "x",
           "y": [
            189.0945,
            253.848,
            308.91
           ],
           "yaxis": "y"
          },
          {
           "alignmentgroup": "True",
           "hovertemplate": "City=%{x}<br>Date=1/12/2019<br>Total=%{y}<extra></extra>",
           "ids": [
            "C",
            "C"
           ],
           "legendgroup": "Naypyitaw",
           "marker": {
            "color": "#EF553B",
            "pattern": {
             "shape": ""
            }
           },
           "name": "Naypyitaw",
           "offsetgroup": "Naypyitaw",
           "orientation": "v",
           "showlegend": true,
           "textposition": "auto",
           "type": "bar",
           "x": [
            "Naypyitaw",
            "Naypyitaw"
           ],
           "xaxis": "x",
           "y": [
            419.832,
            253.848
           ],
           "yaxis": "y"
          },
          {
           "alignmentgroup": "True",
           "hovertemplate": "City=%{x}<br>Date=1/12/2019<br>Total=%{y}<extra></extra>",
           "ids": [
            "B",
            "B",
            "B",
            "B",
            "B",
            "B"
           ],
           "legendgroup": "Mandalay",
           "marker": {
            "color": "#00cc96",
            "pattern": {
             "shape": ""
            }
           },
           "name": "Mandalay",
           "offsetgroup": "Mandalay",
           "orientation": "v",
           "showlegend": true,
           "textposition": "auto",
           "type": "bar",
           "x": [
            "Mandalay",
            "Mandalay",
            "Mandalay",
            "Mandalay",
            "Mandalay",
            "Mandalay"
           ],
           "xaxis": "x",
           "y": [
            120.162,
            28.4235,
            253.848,
            769.104,
            144.963,
            375.3645
           ],
           "yaxis": "y"
          }
         ],
         "name": "1/12/2019"
        },
        {
         "data": [
          {
           "alignmentgroup": "True",
           "hovertemplate": "City=%{x}<br>Date=1/26/2019<br>Total=%{y}<extra></extra>",
           "ids": [
            "A",
            "A",
            "A"
           ],
           "legendgroup": "Yangon",
           "marker": {
            "color": "#636efa",
            "pattern": {
             "shape": ""
            }
           },
           "name": "Yangon",
           "offsetgroup": "Yangon",
           "orientation": "v",
           "showlegend": true,
           "textposition": "auto",
           "type": "bar",
           "x": [
            "Yangon",
            "Yangon",
            "Yangon"
           ],
           "xaxis": "x",
           "y": [
            379.9215,
            12.6945,
            22.386
           ],
           "yaxis": "y"
          },
          {
           "alignmentgroup": "True",
           "hovertemplate": "City=%{x}<br>Date=1/26/2019<br>Total=%{y}<extra></extra>",
           "ids": [
            "C",
            "C",
            "C",
            "C"
           ],
           "legendgroup": "Naypyitaw",
           "marker": {
            "color": "#EF553B",
            "pattern": {
             "shape": ""
            }
           },
           "name": "Naypyitaw",
           "offsetgroup": "Naypyitaw",
           "orientation": "v",
           "showlegend": true,
           "textposition": "auto",
           "type": "bar",
           "x": [
            "Naypyitaw",
            "Naypyitaw",
            "Naypyitaw",
            "Naypyitaw"
           ],
           "xaxis": "x",
           "y": [
            471.03,
            193.4625,
            68.2395,
            106.5015
           ],
           "yaxis": "y"
          },
          {
           "alignmentgroup": "True",
           "hovertemplate": "City=%{x}<br>Date=1/26/2019<br>Total=%{y}<extra></extra>",
           "ids": [
            "B",
            "B",
            "B",
            "B",
            "B",
            "B",
            "B",
            "B",
            "B",
            "B"
           ],
           "legendgroup": "Mandalay",
           "marker": {
            "color": "#00cc96",
            "pattern": {
             "shape": ""
            }
           },
           "name": "Mandalay",
           "offsetgroup": "Mandalay",
           "orientation": "v",
           "showlegend": true,
           "textposition": "auto",
           "type": "bar",
           "x": [
            "Mandalay",
            "Mandalay",
            "Mandalay",
            "Mandalay",
            "Mandalay",
            "Mandalay",
            "Mandalay",
            "Mandalay",
            "Mandalay",
            "Mandalay"
           ],
           "xaxis": "x",
           "y": [
            304.542,
            420.2625,
            107.31,
            655.5465,
            170.877,
            398.475,
            270.585,
            165.648,
            69.993,
            640.038
           ],
           "yaxis": "y"
          }
         ],
         "name": "1/26/2019"
        },
        {
         "data": [
          {
           "alignmentgroup": "True",
           "hovertemplate": "City=%{x}<br>Date=1/23/2019<br>Total=%{y}<extra></extra>",
           "ids": [
            "A",
            "A",
            "A",
            "A",
            "A",
            "A",
            "A"
           ],
           "legendgroup": "Yangon",
           "marker": {
            "color": "#636efa",
            "pattern": {
             "shape": ""
            }
           },
           "name": "Yangon",
           "offsetgroup": "Yangon",
           "orientation": "v",
           "showlegend": true,
           "textposition": "auto",
           "type": "bar",
           "x": [
            "Yangon",
            "Yangon",
            "Yangon",
            "Yangon",
            "Yangon",
            "Yangon",
            "Yangon"
           ],
           "xaxis": "x",
           "y": [
            94.185,
            416.178,
            32.1405,
            620.739,
            503.7375,
            450.1035,
            244.23
           ],
           "yaxis": "y"
          },
          {
           "alignmentgroup": "True",
           "hovertemplate": "City=%{x}<br>Date=1/23/2019<br>Total=%{y}<extra></extra>",
           "ids": [
            "C",
            "C",
            "C",
            "C",
            "C",
            "C",
            "C",
            "C",
            "C",
            "C"
           ],
           "legendgroup": "Naypyitaw",
           "marker": {
            "color": "#EF553B",
            "pattern": {
             "shape": ""
            }
           },
           "name": "Naypyitaw",
           "offsetgroup": "Naypyitaw",
           "orientation": "v",
           "showlegend": true,
           "textposition": "auto",
           "type": "bar",
           "x": [
            "Naypyitaw",
            "Naypyitaw",
            "Naypyitaw",
            "Naypyitaw",
            "Naypyitaw",
            "Naypyitaw",
            "Naypyitaw",
            "Naypyitaw",
            "Naypyitaw",
            "Naypyitaw"
           ],
           "xaxis": "x",
           "y": [
            161.7,
            198.996,
            253.848,
            323.148,
            264.7575,
            527.751,
            87.234,
            57.6975,
            333.984,
            734.706
           ],
           "yaxis": "y"
          }
         ],
         "name": "1/23/2019"
        },
        {
         "data": [
          {
           "alignmentgroup": "True",
           "hovertemplate": "City=%{x}<br>Date=2/23/2019<br>Total=%{y}<extra></extra>",
           "ids": [
            "A"
           ],
           "legendgroup": "Yangon",
           "marker": {
            "color": "#636efa",
            "pattern": {
             "shape": ""
            }
           },
           "name": "Yangon",
           "offsetgroup": "Yangon",
           "orientation": "v",
           "showlegend": true,
           "textposition": "auto",
           "type": "bar",
           "x": [
            "Yangon"
           ],
           "xaxis": "x",
           "y": [
            308.574
           ],
           "yaxis": "y"
          },
          {
           "alignmentgroup": "True",
           "hovertemplate": "City=%{x}<br>Date=2/23/2019<br>Total=%{y}<extra></extra>",
           "ids": [
            "C",
            "C",
            "C"
           ],
           "legendgroup": "Naypyitaw",
           "marker": {
            "color": "#EF553B",
            "pattern": {
             "shape": ""
            }
           },
           "name": "Naypyitaw",
           "offsetgroup": "Naypyitaw",
           "orientation": "v",
           "showlegend": true,
           "textposition": "auto",
           "type": "bar",
           "x": [
            "Naypyitaw",
            "Naypyitaw",
            "Naypyitaw"
           ],
           "xaxis": "x",
           "y": [
            337.512,
            37.6845,
            429.1665
           ],
           "yaxis": "y"
          },
          {
           "alignmentgroup": "True",
           "hovertemplate": "City=%{x}<br>Date=2/23/2019<br>Total=%{y}<extra></extra>",
           "ids": [
            "B",
            "B",
            "B",
            "B"
           ],
           "legendgroup": "Mandalay",
           "marker": {
            "color": "#00cc96",
            "pattern": {
             "shape": ""
            }
           },
           "name": "Mandalay",
           "offsetgroup": "Mandalay",
           "orientation": "v",
           "showlegend": true,
           "textposition": "auto",
           "type": "bar",
           "x": [
            "Mandalay",
            "Mandalay",
            "Mandalay",
            "Mandalay"
           ],
           "xaxis": "x",
           "y": [
            125.664,
            311.1885,
            75.474,
            714.3255
           ],
           "yaxis": "y"
          }
         ],
         "name": "2/23/2019"
        },
        {
         "data": [
          {
           "alignmentgroup": "True",
           "hovertemplate": "City=%{x}<br>Date=1/2/2019<br>Total=%{y}<extra></extra>",
           "ids": [
            "A",
            "A"
           ],
           "legendgroup": "Yangon",
           "marker": {
            "color": "#636efa",
            "pattern": {
             "shape": ""
            }
           },
           "name": "Yangon",
           "offsetgroup": "Yangon",
           "orientation": "v",
           "showlegend": true,
           "textposition": "auto",
           "type": "bar",
           "x": [
            "Yangon",
            "Yangon"
           ],
           "xaxis": "x",
           "y": [
            44.5935,
            262.458
           ],
           "yaxis": "y"
          },
          {
           "alignmentgroup": "True",
           "hovertemplate": "City=%{x}<br>Date=1/2/2019<br>Total=%{y}<extra></extra>",
           "ids": [
            "C",
            "C"
           ],
           "legendgroup": "Naypyitaw",
           "marker": {
            "color": "#EF553B",
            "pattern": {
             "shape": ""
            }
           },
           "name": "Naypyitaw",
           "offsetgroup": "Naypyitaw",
           "orientation": "v",
           "showlegend": true,
           "textposition": "auto",
           "type": "bar",
           "x": [
            "Naypyitaw",
            "Naypyitaw"
           ],
           "xaxis": "x",
           "y": [
            209.622,
            266.028
           ],
           "yaxis": "y"
          },
          {
           "alignmentgroup": "True",
           "hovertemplate": "City=%{x}<br>Date=1/2/2019<br>Total=%{y}<extra></extra>",
           "ids": [
            "B",
            "B",
            "B",
            "B"
           ],
           "legendgroup": "Mandalay",
           "marker": {
            "color": "#00cc96",
            "pattern": {
             "shape": ""
            }
           },
           "name": "Mandalay",
           "offsetgroup": "Mandalay",
           "orientation": "v",
           "showlegend": true,
           "textposition": "auto",
           "type": "bar",
           "x": [
            "Mandalay",
            "Mandalay",
            "Mandalay",
            "Mandalay"
           ],
           "xaxis": "x",
           "y": [
            359.205,
            383.7645,
            138.663,
            281.169
           ],
           "yaxis": "y"
          }
         ],
         "name": "1/2/2019"
        },
        {
         "data": [
          {
           "alignmentgroup": "True",
           "hovertemplate": "City=%{x}<br>Date=2/9/2019<br>Total=%{y}<extra></extra>",
           "ids": [
            "A",
            "A",
            "A"
           ],
           "legendgroup": "Yangon",
           "marker": {
            "color": "#636efa",
            "pattern": {
             "shape": ""
            }
           },
           "name": "Yangon",
           "offsetgroup": "Yangon",
           "orientation": "v",
           "showlegend": true,
           "textposition": "auto",
           "type": "bar",
           "x": [
            "Yangon",
            "Yangon",
            "Yangon"
           ],
           "xaxis": "x",
           "y": [
            233.52,
            331.128,
            33.432
           ],
           "yaxis": "y"
          },
          {
           "alignmentgroup": "True",
           "hovertemplate": "City=%{x}<br>Date=2/9/2019<br>Total=%{y}<extra></extra>",
           "ids": [
            "C",
            "C",
            "C",
            "C",
            "C",
            "C"
           ],
           "legendgroup": "Naypyitaw",
           "marker": {
            "color": "#EF553B",
            "pattern": {
             "shape": ""
            }
           },
           "name": "Naypyitaw",
           "offsetgroup": "Naypyitaw",
           "orientation": "v",
           "showlegend": true,
           "textposition": "auto",
           "type": "bar",
           "x": [
            "Naypyitaw",
            "Naypyitaw",
            "Naypyitaw",
            "Naypyitaw",
            "Naypyitaw",
            "Naypyitaw"
           ],
           "xaxis": "x",
           "y": [
            78.435,
            472.311,
            66.402,
            22.659,
            100.485,
            253.848
           ],
           "yaxis": "y"
          },
          {
           "alignmentgroup": "True",
           "hovertemplate": "City=%{x}<br>Date=2/9/2019<br>Total=%{y}<extra></extra>",
           "ids": [
            "B",
            "B",
            "B",
            "B"
           ],
           "legendgroup": "Mandalay",
           "marker": {
            "color": "#00cc96",
            "pattern": {
             "shape": ""
            }
           },
           "name": "Mandalay",
           "offsetgroup": "Mandalay",
           "orientation": "v",
           "showlegend": true,
           "textposition": "auto",
           "type": "bar",
           "x": [
            "Mandalay",
            "Mandalay",
            "Mandalay",
            "Mandalay"
           ],
           "xaxis": "x",
           "y": [
            256.41,
            180.4005,
            193.074,
            415.233
           ],
           "yaxis": "y"
          }
         ],
         "name": "2/9/2019"
        },
        {
         "data": [
          {
           "alignmentgroup": "True",
           "hovertemplate": "City=%{x}<br>Date=3/26/2019<br>Total=%{y}<extra></extra>",
           "ids": [
            "A",
            "A",
            "A",
            "A",
            "A",
            "A"
           ],
           "legendgroup": "Yangon",
           "marker": {
            "color": "#636efa",
            "pattern": {
             "shape": ""
            }
           },
           "name": "Yangon",
           "offsetgroup": "Yangon",
           "orientation": "v",
           "showlegend": true,
           "textposition": "auto",
           "type": "bar",
           "x": [
            "Yangon",
            "Yangon",
            "Yangon",
            "Yangon",
            "Yangon",
            "Yangon"
           ],
           "xaxis": "x",
           "y": [
            530.67,
            269.934,
            56.1225,
            130.032,
            54.999,
            145.5825
           ],
           "yaxis": "y"
          },
          {
           "alignmentgroup": "True",
           "hovertemplate": "City=%{x}<br>Date=3/26/2019<br>Total=%{y}<extra></extra>",
           "ids": [
            "C",
            "C",
            "C",
            "C"
           ],
           "legendgroup": "Naypyitaw",
           "marker": {
            "color": "#EF553B",
            "pattern": {
             "shape": ""
            }
           },
           "name": "Naypyitaw",
           "offsetgroup": "Naypyitaw",
           "orientation": "v",
           "showlegend": true,
           "textposition": "auto",
           "type": "bar",
           "x": [
            "Naypyitaw",
            "Naypyitaw",
            "Naypyitaw",
            "Naypyitaw"
           ],
           "xaxis": "x",
           "y": [
            51.1455,
            91.77,
            154.1295,
            176.925
           ],
           "yaxis": "y"
          },
          {
           "alignmentgroup": "True",
           "hovertemplate": "City=%{x}<br>Date=3/26/2019<br>Total=%{y}<extra></extra>",
           "ids": [
            "B",
            "B",
            "B"
           ],
           "legendgroup": "Mandalay",
           "marker": {
            "color": "#00cc96",
            "pattern": {
             "shape": ""
            }
           },
           "name": "Mandalay",
           "offsetgroup": "Mandalay",
           "orientation": "v",
           "showlegend": true,
           "textposition": "auto",
           "type": "bar",
           "x": [
            "Mandalay",
            "Mandalay",
            "Mandalay"
           ],
           "xaxis": "x",
           "y": [
            41.076,
            143.9865,
            116.1405
           ],
           "yaxis": "y"
          }
         ],
         "name": "3/26/2019"
        },
        {
         "data": [
          {
           "alignmentgroup": "True",
           "hovertemplate": "City=%{x}<br>Date=3/1/2019<br>Total=%{y}<extra></extra>",
           "ids": [
            "A",
            "A",
            "A"
           ],
           "legendgroup": "Yangon",
           "marker": {
            "color": "#636efa",
            "pattern": {
             "shape": ""
            }
           },
           "name": "Yangon",
           "offsetgroup": "Yangon",
           "orientation": "v",
           "showlegend": true,
           "textposition": "auto",
           "type": "bar",
           "x": [
            "Yangon",
            "Yangon",
            "Yangon"
           ],
           "xaxis": "x",
           "y": [
            72.933,
            477.54,
            93.744
           ],
           "yaxis": "y"
          },
          {
           "alignmentgroup": "True",
           "hovertemplate": "City=%{x}<br>Date=3/1/2019<br>Total=%{y}<extra></extra>",
           "ids": [
            "C",
            "C"
           ],
           "legendgroup": "Naypyitaw",
           "marker": {
            "color": "#EF553B",
            "pattern": {
             "shape": ""
            }
           },
           "name": "Naypyitaw",
           "offsetgroup": "Naypyitaw",
           "orientation": "v",
           "showlegend": true,
           "textposition": "auto",
           "type": "bar",
           "x": [
            "Naypyitaw",
            "Naypyitaw"
           ],
           "xaxis": "x",
           "y": [
            742.2975,
            314.538
           ],
           "yaxis": "y"
          },
          {
           "alignmentgroup": "True",
           "hovertemplate": "City=%{x}<br>Date=3/1/2019<br>Total=%{y}<extra></extra>",
           "ids": [
            "B",
            "B",
            "B",
            "B",
            "B"
           ],
           "legendgroup": "Mandalay",
           "marker": {
            "color": "#00cc96",
            "pattern": {
             "shape": ""
            }
           },
           "name": "Mandalay",
           "offsetgroup": "Mandalay",
           "orientation": "v",
           "showlegend": true,
           "textposition": "auto",
           "type": "bar",
           "x": [
            "Mandalay",
            "Mandalay",
            "Mandalay",
            "Mandalay",
            "Mandalay"
           ],
           "xaxis": "x",
           "y": [
            86.625,
            597.6285,
            145.971,
            46.683,
            56.406
           ],
           "yaxis": "y"
          }
         ],
         "name": "3/1/2019"
        },
        {
         "data": [
          {
           "alignmentgroup": "True",
           "hovertemplate": "City=%{x}<br>Date=2/1/2019<br>Total=%{y}<extra></extra>",
           "ids": [
            "A",
            "A",
            "A"
           ],
           "legendgroup": "Yangon",
           "marker": {
            "color": "#636efa",
            "pattern": {
             "shape": ""
            }
           },
           "name": "Yangon",
           "offsetgroup": "Yangon",
           "orientation": "v",
           "showlegend": true,
           "textposition": "auto",
           "type": "bar",
           "x": [
            "Yangon",
            "Yangon",
            "Yangon"
           ],
           "xaxis": "x",
           "y": [
            510.972,
            74.7075,
            326.256
           ],
           "yaxis": "y"
          },
          {
           "alignmentgroup": "True",
           "hovertemplate": "City=%{x}<br>Date=2/1/2019<br>Total=%{y}<extra></extra>",
           "ids": [
            "C",
            "C",
            "C"
           ],
           "legendgroup": "Naypyitaw",
           "marker": {
            "color": "#EF553B",
            "pattern": {
             "shape": ""
            }
           },
           "name": "Naypyitaw",
           "offsetgroup": "Naypyitaw",
           "orientation": "v",
           "showlegend": true,
           "textposition": "auto",
           "type": "bar",
           "x": [
            "Naypyitaw",
            "Naypyitaw",
            "Naypyitaw"
           ],
           "xaxis": "x",
           "y": [
            218.0115,
            763.4655,
            551.124
           ],
           "yaxis": "y"
          }
         ],
         "name": "2/1/2019"
        },
        {
         "data": [
          {
           "alignmentgroup": "True",
           "hovertemplate": "City=%{x}<br>Date=3/28/2019<br>Total=%{y}<extra></extra>",
           "ids": [
            "A",
            "A",
            "A",
            "A",
            "A",
            "A"
           ],
           "legendgroup": "Yangon",
           "marker": {
            "color": "#636efa",
            "pattern": {
             "shape": ""
            }
           },
           "name": "Yangon",
           "offsetgroup": "Yangon",
           "orientation": "v",
           "showlegend": true,
           "textposition": "auto",
           "type": "bar",
           "x": [
            "Yangon",
            "Yangon",
            "Yangon",
            "Yangon",
            "Yangon",
            "Yangon"
           ],
           "xaxis": "x",
           "y": [
            367.038,
            191.247,
            269.535,
            225.792,
            525.231,
            74.088
           ],
           "yaxis": "y"
          },
          {
           "alignmentgroup": "True",
           "hovertemplate": "City=%{x}<br>Date=3/28/2019<br>Total=%{y}<extra></extra>",
           "ids": [
            "C",
            "C",
            "C"
           ],
           "legendgroup": "Naypyitaw",
           "marker": {
            "color": "#EF553B",
            "pattern": {
             "shape": ""
            }
           },
           "name": "Naypyitaw",
           "offsetgroup": "Naypyitaw",
           "orientation": "v",
           "showlegend": true,
           "textposition": "auto",
           "type": "bar",
           "x": [
            "Naypyitaw",
            "Naypyitaw",
            "Naypyitaw"
           ],
           "xaxis": "x",
           "y": [
            150.0975,
            121.59,
            209.118
           ],
           "yaxis": "y"
          },
          {
           "alignmentgroup": "True",
           "hovertemplate": "City=%{x}<br>Date=3/28/2019<br>Total=%{y}<extra></extra>",
           "ids": [
            "B"
           ],
           "legendgroup": "Mandalay",
           "marker": {
            "color": "#00cc96",
            "pattern": {
             "shape": ""
            }
           },
           "name": "Mandalay",
           "offsetgroup": "Mandalay",
           "orientation": "v",
           "showlegend": true,
           "textposition": "auto",
           "type": "bar",
           "x": [
            "Mandalay"
           ],
           "xaxis": "x",
           "y": [
            95.6655
           ],
           "yaxis": "y"
          }
         ],
         "name": "3/28/2019"
        },
        {
         "data": [
          {
           "alignmentgroup": "True",
           "hovertemplate": "City=%{x}<br>Date=3/24/2019<br>Total=%{y}<extra></extra>",
           "ids": [
            "A",
            "A"
           ],
           "legendgroup": "Yangon",
           "marker": {
            "color": "#636efa",
            "pattern": {
             "shape": ""
            }
           },
           "name": "Yangon",
           "offsetgroup": "Yangon",
           "orientation": "v",
           "showlegend": true,
           "textposition": "auto",
           "type": "bar",
           "x": [
            "Yangon",
            "Yangon"
           ],
           "xaxis": "x",
           "y": [
            276.948,
            147.672
           ],
           "yaxis": "y"
          },
          {
           "alignmentgroup": "True",
           "hovertemplate": "City=%{x}<br>Date=3/24/2019<br>Total=%{y}<extra></extra>",
           "ids": [
            "C",
            "C",
            "C",
            "C",
            "C"
           ],
           "legendgroup": "Naypyitaw",
           "marker": {
            "color": "#EF553B",
            "pattern": {
             "shape": ""
            }
           },
           "name": "Naypyitaw",
           "offsetgroup": "Naypyitaw",
           "orientation": "v",
           "showlegend": true,
           "textposition": "auto",
           "type": "bar",
           "x": [
            "Naypyitaw",
            "Naypyitaw",
            "Naypyitaw",
            "Naypyitaw",
            "Naypyitaw"
           ],
           "xaxis": "x",
           "y": [
            321.111,
            78.603,
            77.175,
            681.975,
            329.196
           ],
           "yaxis": "y"
          },
          {
           "alignmentgroup": "True",
           "hovertemplate": "City=%{x}<br>Date=3/24/2019<br>Total=%{y}<extra></extra>",
           "ids": [
            "B",
            "B",
            "B",
            "B"
           ],
           "legendgroup": "Mandalay",
           "marker": {
            "color": "#00cc96",
            "pattern": {
             "shape": ""
            }
           },
           "name": "Mandalay",
           "offsetgroup": "Mandalay",
           "orientation": "v",
           "showlegend": true,
           "textposition": "auto",
           "type": "bar",
           "x": [
            "Mandalay",
            "Mandalay",
            "Mandalay",
            "Mandalay"
           ],
           "xaxis": "x",
           "y": [
            130.0425,
            370.125,
            435.12,
            629.496
           ],
           "yaxis": "y"
          }
         ],
         "name": "3/24/2019"
        },
        {
         "data": [
          {
           "alignmentgroup": "True",
           "hovertemplate": "City=%{x}<br>Date=2/5/2019<br>Total=%{y}<extra></extra>",
           "ids": [
            "A",
            "A",
            "A",
            "A",
            "A"
           ],
           "legendgroup": "Yangon",
           "marker": {
            "color": "#636efa",
            "pattern": {
             "shape": ""
            }
           },
           "name": "Yangon",
           "offsetgroup": "Yangon",
           "orientation": "v",
           "showlegend": true,
           "textposition": "auto",
           "type": "bar",
           "x": [
            "Yangon",
            "Yangon",
            "Yangon",
            "Yangon",
            "Yangon"
           ],
           "xaxis": "x",
           "y": [
            163.233,
            236.88,
            32.151,
            92.295,
            43.869
           ],
           "yaxis": "y"
          },
          {
           "alignmentgroup": "True",
           "hovertemplate": "City=%{x}<br>Date=2/5/2019<br>Total=%{y}<extra></extra>",
           "ids": [
            "C",
            "C",
            "C",
            "C"
           ],
           "legendgroup": "Naypyitaw",
           "marker": {
            "color": "#EF553B",
            "pattern": {
             "shape": ""
            }
           },
           "name": "Naypyitaw",
           "offsetgroup": "Naypyitaw",
           "orientation": "v",
           "showlegend": true,
           "textposition": "auto",
           "type": "bar",
           "x": [
            "Naypyitaw",
            "Naypyitaw",
            "Naypyitaw",
            "Naypyitaw"
           ],
           "xaxis": "x",
           "y": [
            309.3615,
            720.3,
            145.593,
            297.801
           ],
           "yaxis": "y"
          },
          {
           "alignmentgroup": "True",
           "hovertemplate": "City=%{x}<br>Date=2/5/2019<br>Total=%{y}<extra></extra>",
           "ids": [
            "B",
            "B",
            "B"
           ],
           "legendgroup": "Mandalay",
           "marker": {
            "color": "#00cc96",
            "pattern": {
             "shape": ""
            }
           },
           "name": "Mandalay",
           "offsetgroup": "Mandalay",
           "orientation": "v",
           "showlegend": true,
           "textposition": "auto",
           "type": "bar",
           "x": [
            "Mandalay",
            "Mandalay",
            "Mandalay"
           ],
           "xaxis": "x",
           "y": [
            34.629,
            404.649,
            550.368
           ],
           "yaxis": "y"
          }
         ],
         "name": "2/5/2019"
        },
        {
         "data": [
          {
           "alignmentgroup": "True",
           "hovertemplate": "City=%{x}<br>Date=1/19/2019<br>Total=%{y}<extra></extra>",
           "ids": [
            "A",
            "A",
            "A",
            "A",
            "A",
            "A",
            "A",
            "A"
           ],
           "legendgroup": "Yangon",
           "marker": {
            "color": "#636efa",
            "pattern": {
             "shape": ""
            }
           },
           "name": "Yangon",
           "offsetgroup": "Yangon",
           "orientation": "v",
           "showlegend": true,
           "textposition": "auto",
           "type": "bar",
           "x": [
            "Yangon",
            "Yangon",
            "Yangon",
            "Yangon",
            "Yangon",
            "Yangon",
            "Yangon",
            "Yangon"
           ],
           "xaxis": "x",
           "y": [
            548.7615,
            323.064,
            282.492,
            673.995,
            37.611,
            284.592,
            624.33,
            479.64
           ],
           "yaxis": "y"
          },
          {
           "alignmentgroup": "True",
           "hovertemplate": "City=%{x}<br>Date=1/19/2019<br>Total=%{y}<extra></extra>",
           "ids": [
            "C",
            "C",
            "C",
            "C",
            "C"
           ],
           "legendgroup": "Naypyitaw",
           "marker": {
            "color": "#EF553B",
            "pattern": {
             "shape": ""
            }
           },
           "name": "Naypyitaw",
           "offsetgroup": "Naypyitaw",
           "orientation": "v",
           "showlegend": true,
           "textposition": "auto",
           "type": "bar",
           "x": [
            "Naypyitaw",
            "Naypyitaw",
            "Naypyitaw",
            "Naypyitaw",
            "Naypyitaw"
           ],
           "xaxis": "x",
           "y": [
            362.712,
            93.0405,
            84.9765,
            235.746,
            250.278
           ],
           "yaxis": "y"
          },
          {
           "alignmentgroup": "True",
           "hovertemplate": "City=%{x}<br>Date=1/19/2019<br>Total=%{y}<extra></extra>",
           "ids": [
            "B",
            "B",
            "B"
           ],
           "legendgroup": "Mandalay",
           "marker": {
            "color": "#00cc96",
            "pattern": {
             "shape": ""
            }
           },
           "name": "Mandalay",
           "offsetgroup": "Mandalay",
           "orientation": "v",
           "showlegend": true,
           "textposition": "auto",
           "type": "bar",
           "x": [
            "Mandalay",
            "Mandalay",
            "Mandalay"
           ],
           "xaxis": "x",
           "y": [
            333.207,
            198.639,
            101.64
           ],
           "yaxis": "y"
          }
         ],
         "name": "1/19/2019"
        },
        {
         "data": [
          {
           "alignmentgroup": "True",
           "hovertemplate": "City=%{x}<br>Date=1/16/2019<br>Total=%{y}<extra></extra>",
           "ids": [
            "A",
            "A"
           ],
           "legendgroup": "Yangon",
           "marker": {
            "color": "#636efa",
            "pattern": {
             "shape": ""
            }
           },
           "name": "Yangon",
           "offsetgroup": "Yangon",
           "orientation": "v",
           "showlegend": true,
           "textposition": "auto",
           "type": "bar",
           "x": [
            "Yangon",
            "Yangon"
           ],
           "xaxis": "x",
           "y": [
            667.38,
            195.678
           ],
           "yaxis": "y"
          },
          {
           "alignmentgroup": "True",
           "hovertemplate": "City=%{x}<br>Date=1/16/2019<br>Total=%{y}<extra></extra>",
           "ids": [
            "C",
            "C",
            "C",
            "C",
            "C"
           ],
           "legendgroup": "Naypyitaw",
           "marker": {
            "color": "#EF553B",
            "pattern": {
             "shape": ""
            }
           },
           "name": "Naypyitaw",
           "offsetgroup": "Naypyitaw",
           "orientation": "v",
           "showlegend": true,
           "textposition": "auto",
           "type": "bar",
           "x": [
            "Naypyitaw",
            "Naypyitaw",
            "Naypyitaw",
            "Naypyitaw",
            "Naypyitaw"
           ],
           "xaxis": "x",
           "y": [
            253.848,
            253.848,
            32.529,
            125.979,
            497.07
           ],
           "yaxis": "y"
          },
          {
           "alignmentgroup": "True",
           "hovertemplate": "City=%{x}<br>Date=1/16/2019<br>Total=%{y}<extra></extra>",
           "ids": [
            "B",
            "B",
            "B"
           ],
           "legendgroup": "Mandalay",
           "marker": {
            "color": "#00cc96",
            "pattern": {
             "shape": ""
            }
           },
           "name": "Mandalay",
           "offsetgroup": "Mandalay",
           "orientation": "v",
           "showlegend": true,
           "textposition": "auto",
           "type": "bar",
           "x": [
            "Mandalay",
            "Mandalay",
            "Mandalay"
           ],
           "xaxis": "x",
           "y": [
            53.928,
            666.939,
            164.682
           ],
           "yaxis": "y"
          }
         ],
         "name": "1/16/2019"
        },
        {
         "data": [
          {
           "alignmentgroup": "True",
           "hovertemplate": "City=%{x}<br>Date=1/8/2019<br>Total=%{y}<extra></extra>",
           "ids": [
            "A",
            "A",
            "A",
            "A"
           ],
           "legendgroup": "Yangon",
           "marker": {
            "color": "#636efa",
            "pattern": {
             "shape": ""
            }
           },
           "name": "Yangon",
           "offsetgroup": "Yangon",
           "orientation": "v",
           "showlegend": true,
           "textposition": "auto",
           "type": "bar",
           "x": [
            "Yangon",
            "Yangon",
            "Yangon",
            "Yangon"
           ],
           "xaxis": "x",
           "y": [
            194.985,
            210.966,
            26.796,
            250.7085
           ],
           "yaxis": "y"
          },
          {
           "alignmentgroup": "True",
           "hovertemplate": "City=%{x}<br>Date=1/8/2019<br>Total=%{y}<extra></extra>",
           "ids": [
            "C",
            "C",
            "C",
            "C",
            "C",
            "C",
            "C",
            "C"
           ],
           "legendgroup": "Naypyitaw",
           "marker": {
            "color": "#EF553B",
            "pattern": {
             "shape": ""
            }
           },
           "name": "Naypyitaw",
           "offsetgroup": "Naypyitaw",
           "orientation": "v",
           "showlegend": true,
           "textposition": "auto",
           "type": "bar",
           "x": [
            "Naypyitaw",
            "Naypyitaw",
            "Naypyitaw",
            "Naypyitaw",
            "Naypyitaw",
            "Naypyitaw",
            "Naypyitaw",
            "Naypyitaw"
           ],
           "xaxis": "x",
           "y": [
            299.8485,
            575.736,
            190.596,
            13.419,
            381.3915,
            175.0455,
            688.716,
            76.5765
           ],
           "yaxis": "y"
          },
          {
           "alignmentgroup": "True",
           "hovertemplate": "City=%{x}<br>Date=1/8/2019<br>Total=%{y}<extra></extra>",
           "ids": [
            "B",
            "B",
            "B",
            "B",
            "B",
            "B"
           ],
           "legendgroup": "Mandalay",
           "marker": {
            "color": "#00cc96",
            "pattern": {
             "shape": ""
            }
           },
           "name": "Mandalay",
           "offsetgroup": "Mandalay",
           "orientation": "v",
           "showlegend": true,
           "textposition": "auto",
           "type": "bar",
           "x": [
            "Mandalay",
            "Mandalay",
            "Mandalay",
            "Mandalay",
            "Mandalay",
            "Mandalay"
           ],
           "xaxis": "x",
           "y": [
            783.3,
            152.775,
            103.11,
            136.143,
            684.915,
            348.705
           ],
           "yaxis": "y"
          }
         ],
         "name": "1/8/2019"
        },
        {
         "data": [
          {
           "alignmentgroup": "True",
           "hovertemplate": "City=%{x}<br>Date=2/18/2019<br>Total=%{y}<extra></extra>",
           "ids": [
            "A",
            "A",
            "A"
           ],
           "legendgroup": "Yangon",
           "marker": {
            "color": "#636efa",
            "pattern": {
             "shape": ""
            }
           },
           "name": "Yangon",
           "offsetgroup": "Yangon",
           "orientation": "v",
           "showlegend": true,
           "textposition": "auto",
           "type": "bar",
           "x": [
            "Yangon",
            "Yangon",
            "Yangon"
           ],
           "xaxis": "x",
           "y": [
            216.846,
            65.604,
            649.299
           ],
           "yaxis": "y"
          },
          {
           "alignmentgroup": "True",
           "hovertemplate": "City=%{x}<br>Date=2/18/2019<br>Total=%{y}<extra></extra>",
           "ids": [
            "C",
            "C",
            "C"
           ],
           "legendgroup": "Naypyitaw",
           "marker": {
            "color": "#EF553B",
            "pattern": {
             "shape": ""
            }
           },
           "name": "Naypyitaw",
           "offsetgroup": "Naypyitaw",
           "orientation": "v",
           "showlegend": true,
           "textposition": "auto",
           "type": "bar",
           "x": [
            "Naypyitaw",
            "Naypyitaw",
            "Naypyitaw"
           ],
           "xaxis": "x",
           "y": [
            284.193,
            185.094,
            63.9975
           ],
           "yaxis": "y"
          },
          {
           "alignmentgroup": "True",
           "hovertemplate": "City=%{x}<br>Date=2/18/2019<br>Total=%{y}<extra></extra>",
           "ids": [
            "B"
           ],
           "legendgroup": "Mandalay",
           "marker": {
            "color": "#00cc96",
            "pattern": {
             "shape": ""
            }
           },
           "name": "Mandalay",
           "offsetgroup": "Mandalay",
           "orientation": "v",
           "showlegend": true,
           "textposition": "auto",
           "type": "bar",
           "x": [
            "Mandalay"
           ],
           "xaxis": "x",
           "y": [
            30.996
           ],
           "yaxis": "y"
          }
         ],
         "name": "2/18/2019"
        },
        {
         "data": [
          {
           "alignmentgroup": "True",
           "hovertemplate": "City=%{x}<br>Date=1/18/2019<br>Total=%{y}<extra></extra>",
           "ids": [
            "A",
            "A",
            "A",
            "A"
           ],
           "legendgroup": "Yangon",
           "marker": {
            "color": "#636efa",
            "pattern": {
             "shape": ""
            }
           },
           "name": "Yangon",
           "offsetgroup": "Yangon",
           "orientation": "v",
           "showlegend": true,
           "textposition": "auto",
           "type": "bar",
           "x": [
            "Yangon",
            "Yangon",
            "Yangon",
            "Yangon"
           ],
           "xaxis": "x",
           "y": [
            138.1275,
            182.952,
            277.6725,
            561.078
           ],
           "yaxis": "y"
          },
          {
           "alignmentgroup": "True",
           "hovertemplate": "City=%{x}<br>Date=1/18/2019<br>Total=%{y}<extra></extra>",
           "ids": [
            "C",
            "C",
            "C"
           ],
           "legendgroup": "Naypyitaw",
           "marker": {
            "color": "#EF553B",
            "pattern": {
             "shape": ""
            }
           },
           "name": "Naypyitaw",
           "offsetgroup": "Naypyitaw",
           "orientation": "v",
           "showlegend": true,
           "textposition": "auto",
           "type": "bar",
           "x": [
            "Naypyitaw",
            "Naypyitaw",
            "Naypyitaw"
           ],
           "xaxis": "x",
           "y": [
            41.391,
            253.848,
            446.439
           ],
           "yaxis": "y"
          },
          {
           "alignmentgroup": "True",
           "hovertemplate": "City=%{x}<br>Date=1/18/2019<br>Total=%{y}<extra></extra>",
           "ids": [
            "B",
            "B"
           ],
           "legendgroup": "Mandalay",
           "marker": {
            "color": "#00cc96",
            "pattern": {
             "shape": ""
            }
           },
           "name": "Mandalay",
           "offsetgroup": "Mandalay",
           "orientation": "v",
           "showlegend": true,
           "textposition": "auto",
           "type": "bar",
           "x": [
            "Mandalay",
            "Mandalay"
           ],
           "xaxis": "x",
           "y": [
            166.236,
            110.124
           ],
           "yaxis": "y"
          }
         ],
         "name": "1/18/2019"
        },
        {
         "data": [
          {
           "alignmentgroup": "True",
           "hovertemplate": "City=%{x}<br>Date=2/16/2019<br>Total=%{y}<extra></extra>",
           "ids": [
            "A"
           ],
           "legendgroup": "Yangon",
           "marker": {
            "color": "#636efa",
            "pattern": {
             "shape": ""
            }
           },
           "name": "Yangon",
           "offsetgroup": "Yangon",
           "orientation": "v",
           "showlegend": true,
           "textposition": "auto",
           "type": "bar",
           "x": [
            "Yangon"
           ],
           "xaxis": "x",
           "y": [
            182.427
           ],
           "yaxis": "y"
          },
          {
           "alignmentgroup": "True",
           "hovertemplate": "City=%{x}<br>Date=2/16/2019<br>Total=%{y}<extra></extra>",
           "ids": [
            "C",
            "C",
            "C"
           ],
           "legendgroup": "Naypyitaw",
           "marker": {
            "color": "#EF553B",
            "pattern": {
             "shape": ""
            }
           },
           "name": "Naypyitaw",
           "offsetgroup": "Naypyitaw",
           "orientation": "v",
           "showlegend": true,
           "textposition": "auto",
           "type": "bar",
           "x": [
            "Naypyitaw",
            "Naypyitaw",
            "Naypyitaw"
           ],
           "xaxis": "x",
           "y": [
            718.7565,
            63.2625,
            300.573
           ],
           "yaxis": "y"
          },
          {
           "alignmentgroup": "True",
           "hovertemplate": "City=%{x}<br>Date=2/16/2019<br>Total=%{y}<extra></extra>",
           "ids": [
            "B",
            "B",
            "B",
            "B"
           ],
           "legendgroup": "Mandalay",
           "marker": {
            "color": "#00cc96",
            "pattern": {
             "shape": ""
            }
           },
           "name": "Mandalay",
           "offsetgroup": "Mandalay",
           "orientation": "v",
           "showlegend": true,
           "textposition": "auto",
           "type": "bar",
           "x": [
            "Mandalay",
            "Mandalay",
            "Mandalay",
            "Mandalay"
           ],
           "xaxis": "x",
           "y": [
            545.055,
            95.9175,
            252.756,
            345.0195
           ],
           "yaxis": "y"
          }
         ],
         "name": "2/16/2019"
        },
        {
         "data": [
          {
           "alignmentgroup": "True",
           "hovertemplate": "City=%{x}<br>Date=2/22/2019<br>Total=%{y}<extra></extra>",
           "ids": [
            "A",
            "A",
            "A"
           ],
           "legendgroup": "Yangon",
           "marker": {
            "color": "#636efa",
            "pattern": {
             "shape": ""
            }
           },
           "name": "Yangon",
           "offsetgroup": "Yangon",
           "orientation": "v",
           "showlegend": true,
           "textposition": "auto",
           "type": "bar",
           "x": [
            "Yangon",
            "Yangon",
            "Yangon"
           ],
           "xaxis": "x",
           "y": [
            182.91,
            257.145,
            69.111
           ],
           "yaxis": "y"
          },
          {
           "alignmentgroup": "True",
           "hovertemplate": "City=%{x}<br>Date=2/22/2019<br>Total=%{y}<extra></extra>",
           "ids": [
            "C",
            "C",
            "C"
           ],
           "legendgroup": "Naypyitaw",
           "marker": {
            "color": "#EF553B",
            "pattern": {
             "shape": ""
            }
           },
           "name": "Naypyitaw",
           "offsetgroup": "Naypyitaw",
           "orientation": "v",
           "showlegend": true,
           "textposition": "auto",
           "type": "bar",
           "x": [
            "Naypyitaw",
            "Naypyitaw",
            "Naypyitaw"
           ],
           "xaxis": "x",
           "y": [
            31.9305,
            701.8515,
            26.733
           ],
           "yaxis": "y"
          },
          {
           "alignmentgroup": "True",
           "hovertemplate": "City=%{x}<br>Date=2/22/2019<br>Total=%{y}<extra></extra>",
           "ids": [
            "B",
            "B",
            "B",
            "B",
            "B"
           ],
           "legendgroup": "Mandalay",
           "marker": {
            "color": "#00cc96",
            "pattern": {
             "shape": ""
            }
           },
           "name": "Mandalay",
           "offsetgroup": "Mandalay",
           "orientation": "v",
           "showlegend": true,
           "textposition": "auto",
           "type": "bar",
           "x": [
            "Mandalay",
            "Mandalay",
            "Mandalay",
            "Mandalay",
            "Mandalay"
           ],
           "xaxis": "x",
           "y": [
            208.6875,
            49.812,
            513.2295,
            217.2555,
            183.645
           ],
           "yaxis": "y"
          }
         ],
         "name": "2/22/2019"
        },
        {
         "data": [
          {
           "alignmentgroup": "True",
           "hovertemplate": "City=%{x}<br>Date=1/29/2019<br>Total=%{y}<extra></extra>",
           "ids": [
            "A",
            "A",
            "A",
            "A",
            "A"
           ],
           "legendgroup": "Yangon",
           "marker": {
            "color": "#636efa",
            "pattern": {
             "shape": ""
            }
           },
           "name": "Yangon",
           "offsetgroup": "Yangon",
           "orientation": "v",
           "showlegend": true,
           "textposition": "auto",
           "type": "bar",
           "x": [
            "Yangon",
            "Yangon",
            "Yangon",
            "Yangon",
            "Yangon"
           ],
           "xaxis": "x",
           "y": [
            786.618,
            40.53,
            146.6325,
            458.6925,
            92.442
           ],
           "yaxis": "y"
          },
          {
           "alignmentgroup": "True",
           "hovertemplate": "City=%{x}<br>Date=1/29/2019<br>Total=%{y}<extra></extra>",
           "ids": [
            "C",
            "C",
            "C",
            "C"
           ],
           "legendgroup": "Naypyitaw",
           "marker": {
            "color": "#EF553B",
            "pattern": {
             "shape": ""
            }
           },
           "name": "Naypyitaw",
           "offsetgroup": "Naypyitaw",
           "orientation": "v",
           "showlegend": true,
           "textposition": "auto",
           "type": "bar",
           "x": [
            "Naypyitaw",
            "Naypyitaw",
            "Naypyitaw",
            "Naypyitaw"
           ],
           "xaxis": "x",
           "y": [
            120.645,
            265.104,
            616.98,
            42.3675
           ],
           "yaxis": "y"
          },
          {
           "alignmentgroup": "True",
           "hovertemplate": "City=%{x}<br>Date=1/29/2019<br>Total=%{y}<extra></extra>",
           "ids": [
            "B",
            "B",
            "B"
           ],
           "legendgroup": "Mandalay",
           "marker": {
            "color": "#00cc96",
            "pattern": {
             "shape": ""
            }
           },
           "name": "Mandalay",
           "offsetgroup": "Mandalay",
           "orientation": "v",
           "showlegend": true,
           "textposition": "auto",
           "type": "bar",
           "x": [
            "Mandalay",
            "Mandalay",
            "Mandalay"
           ],
           "xaxis": "x",
           "y": [
            137.004,
            529.515,
            280.035
           ],
           "yaxis": "y"
          }
         ],
         "name": "1/29/2019"
        },
        {
         "data": [
          {
           "alignmentgroup": "True",
           "hovertemplate": "City=%{x}<br>Date=1/4/2019<br>Total=%{y}<extra></extra>",
           "ids": [
            "A",
            "A"
           ],
           "legendgroup": "Yangon",
           "marker": {
            "color": "#636efa",
            "pattern": {
             "shape": ""
            }
           },
           "name": "Yangon",
           "offsetgroup": "Yangon",
           "orientation": "v",
           "showlegend": true,
           "textposition": "auto",
           "type": "bar",
           "x": [
            "Yangon",
            "Yangon"
           ],
           "xaxis": "x",
           "y": [
            373.17,
            110.0925
           ],
           "yaxis": "y"
          },
          {
           "alignmentgroup": "True",
           "hovertemplate": "City=%{x}<br>Date=1/4/2019<br>Total=%{y}<extra></extra>",
           "ids": [
            "C"
           ],
           "legendgroup": "Naypyitaw",
           "marker": {
            "color": "#EF553B",
            "pattern": {
             "shape": ""
            }
           },
           "name": "Naypyitaw",
           "offsetgroup": "Naypyitaw",
           "orientation": "v",
           "showlegend": true,
           "textposition": "auto",
           "type": "bar",
           "x": [
            "Naypyitaw"
           ],
           "xaxis": "x",
           "y": [
            629.8425
           ],
           "yaxis": "y"
          },
          {
           "alignmentgroup": "True",
           "hovertemplate": "City=%{x}<br>Date=1/4/2019<br>Total=%{y}<extra></extra>",
           "ids": [
            "B",
            "B",
            "B"
           ],
           "legendgroup": "Mandalay",
           "marker": {
            "color": "#00cc96",
            "pattern": {
             "shape": ""
            }
           },
           "name": "Mandalay",
           "offsetgroup": "Mandalay",
           "orientation": "v",
           "showlegend": true,
           "textposition": "auto",
           "type": "bar",
           "x": [
            "Mandalay",
            "Mandalay",
            "Mandalay"
           ],
           "xaxis": "x",
           "y": [
            75.7785,
            146.223,
            288.582
           ],
           "yaxis": "y"
          }
         ],
         "name": "1/4/2019"
        },
        {
         "data": [
          {
           "alignmentgroup": "True",
           "hovertemplate": "City=%{x}<br>Date=3/30/2019<br>Total=%{y}<extra></extra>",
           "ids": [
            "A",
            "A",
            "A",
            "A"
           ],
           "legendgroup": "Yangon",
           "marker": {
            "color": "#636efa",
            "pattern": {
             "shape": ""
            }
           },
           "name": "Yangon",
           "offsetgroup": "Yangon",
           "orientation": "v",
           "showlegend": true,
           "textposition": "auto",
           "type": "bar",
           "x": [
            "Yangon",
            "Yangon",
            "Yangon",
            "Yangon"
           ],
           "xaxis": "x",
           "y": [
            295.6905,
            338.31,
            216.846,
            469.77
           ],
           "yaxis": "y"
          },
          {
           "alignmentgroup": "True",
           "hovertemplate": "City=%{x}<br>Date=3/30/2019<br>Total=%{y}<extra></extra>",
           "ids": [
            "C",
            "C",
            "C",
            "C"
           ],
           "legendgroup": "Naypyitaw",
           "marker": {
            "color": "#EF553B",
            "pattern": {
             "shape": ""
            }
           },
           "name": "Naypyitaw",
           "offsetgroup": "Naypyitaw",
           "orientation": "v",
           "showlegend": true,
           "textposition": "auto",
           "type": "bar",
           "x": [
            "Naypyitaw",
            "Naypyitaw",
            "Naypyitaw",
            "Naypyitaw"
           ],
           "xaxis": "x",
           "y": [
            609.168,
            442.323,
            85.512,
            304.983
           ],
           "yaxis": "y"
          },
          {
           "alignmentgroup": "True",
           "hovertemplate": "City=%{x}<br>Date=3/30/2019<br>Total=%{y}<extra></extra>",
           "ids": [
            "B",
            "B",
            "B"
           ],
           "legendgroup": "Mandalay",
           "marker": {
            "color": "#00cc96",
            "pattern": {
             "shape": ""
            }
           },
           "name": "Mandalay",
           "offsetgroup": "Mandalay",
           "orientation": "v",
           "showlegend": true,
           "textposition": "auto",
           "type": "bar",
           "x": [
            "Mandalay",
            "Mandalay",
            "Mandalay"
           ],
           "xaxis": "x",
           "y": [
            253.848,
            609.588,
            196.14
           ],
           "yaxis": "y"
          }
         ],
         "name": "3/30/2019"
        },
        {
         "data": [
          {
           "alignmentgroup": "True",
           "hovertemplate": "City=%{x}<br>Date=1/30/2019<br>Total=%{y}<extra></extra>",
           "ids": [
            "A"
           ],
           "legendgroup": "Yangon",
           "marker": {
            "color": "#636efa",
            "pattern": {
             "shape": ""
            }
           },
           "name": "Yangon",
           "offsetgroup": "Yangon",
           "orientation": "v",
           "showlegend": true,
           "textposition": "auto",
           "type": "bar",
           "x": [
            "Yangon"
           ],
           "xaxis": "x",
           "y": [
            295.407
           ],
           "yaxis": "y"
          },
          {
           "alignmentgroup": "True",
           "hovertemplate": "City=%{x}<br>Date=1/30/2019<br>Total=%{y}<extra></extra>",
           "ids": [
            "C",
            "C",
            "C",
            "C",
            "C",
            "C"
           ],
           "legendgroup": "Naypyitaw",
           "marker": {
            "color": "#EF553B",
            "pattern": {
             "shape": ""
            }
           },
           "name": "Naypyitaw",
           "offsetgroup": "Naypyitaw",
           "orientation": "v",
           "showlegend": true,
           "textposition": "auto",
           "type": "bar",
           "x": [
            "Naypyitaw",
            "Naypyitaw",
            "Naypyitaw",
            "Naypyitaw",
            "Naypyitaw",
            "Naypyitaw"
           ],
           "xaxis": "x",
           "y": [
            160.44,
            509.4075,
            24.108,
            253.848,
            55.2825,
            23.499
           ],
           "yaxis": "y"
          },
          {
           "alignmentgroup": "True",
           "hovertemplate": "City=%{x}<br>Date=1/30/2019<br>Total=%{y}<extra></extra>",
           "ids": [
            "B",
            "B"
           ],
           "legendgroup": "Mandalay",
           "marker": {
            "color": "#00cc96",
            "pattern": {
             "shape": ""
            }
           },
           "name": "Mandalay",
           "offsetgroup": "Mandalay",
           "orientation": "v",
           "showlegend": true,
           "textposition": "auto",
           "type": "bar",
           "x": [
            "Mandalay",
            "Mandalay"
           ],
           "xaxis": "x",
           "y": [
            99.33,
            356.328
           ],
           "yaxis": "y"
          }
         ],
         "name": "1/30/2019"
        },
        {
         "data": [
          {
           "alignmentgroup": "True",
           "hovertemplate": "City=%{x}<br>Date=1/3/2019<br>Total=%{y}<extra></extra>",
           "ids": [
            "A",
            "A",
            "A"
           ],
           "legendgroup": "Yangon",
           "marker": {
            "color": "#636efa",
            "pattern": {
             "shape": ""
            }
           },
           "name": "Yangon",
           "offsetgroup": "Yangon",
           "orientation": "v",
           "showlegend": true,
           "textposition": "auto",
           "type": "bar",
           "x": [
            "Yangon",
            "Yangon",
            "Yangon"
           ],
           "xaxis": "x",
           "y": [
            367.5525,
            217.6335,
            352.2225
           ],
           "yaxis": "y"
          },
          {
           "alignmentgroup": "True",
           "hovertemplate": "City=%{x}<br>Date=1/3/2019<br>Total=%{y}<extra></extra>",
           "ids": [
            "C",
            "C"
           ],
           "legendgroup": "Naypyitaw",
           "marker": {
            "color": "#EF553B",
            "pattern": {
             "shape": ""
            }
           },
           "name": "Naypyitaw",
           "offsetgroup": "Naypyitaw",
           "orientation": "v",
           "showlegend": true,
           "textposition": "auto",
           "type": "bar",
           "x": [
            "Naypyitaw",
            "Naypyitaw"
           ],
           "xaxis": "x",
           "y": [
            44.352,
            79.674
           ],
           "yaxis": "y"
          },
          {
           "alignmentgroup": "True",
           "hovertemplate": "City=%{x}<br>Date=1/3/2019<br>Total=%{y}<extra></extra>",
           "ids": [
            "B",
            "B",
            "B"
           ],
           "legendgroup": "Mandalay",
           "marker": {
            "color": "#00cc96",
            "pattern": {
             "shape": ""
            }
           },
           "name": "Mandalay",
           "offsetgroup": "Mandalay",
           "orientation": "v",
           "showlegend": true,
           "textposition": "auto",
           "type": "bar",
           "x": [
            "Mandalay",
            "Mandalay",
            "Mandalay"
           ],
           "xaxis": "x",
           "y": [
            98.049,
            397.845,
            520.8
           ],
           "yaxis": "y"
          }
         ],
         "name": "1/3/2019"
        },
        {
         "data": [
          {
           "alignmentgroup": "True",
           "hovertemplate": "City=%{x}<br>Date=3/21/2019<br>Total=%{y}<extra></extra>",
           "ids": [
            "A",
            "A",
            "A",
            "A"
           ],
           "legendgroup": "Yangon",
           "marker": {
            "color": "#636efa",
            "pattern": {
             "shape": ""
            }
           },
           "name": "Yangon",
           "offsetgroup": "Yangon",
           "orientation": "v",
           "showlegend": true,
           "textposition": "auto",
           "type": "bar",
           "x": [
            "Yangon",
            "Yangon",
            "Yangon",
            "Yangon"
           ],
           "xaxis": "x",
           "y": [
            319.788,
            83.412,
            149.3625,
            756.168
           ],
           "yaxis": "y"
          },
          {
           "alignmentgroup": "True",
           "hovertemplate": "City=%{x}<br>Date=3/21/2019<br>Total=%{y}<extra></extra>",
           "ids": [
            "C"
           ],
           "legendgroup": "Naypyitaw",
           "marker": {
            "color": "#EF553B",
            "pattern": {
             "shape": ""
            }
           },
           "name": "Naypyitaw",
           "offsetgroup": "Naypyitaw",
           "orientation": "v",
           "showlegend": true,
           "textposition": "auto",
           "type": "bar",
           "x": [
            "Naypyitaw"
           ],
           "xaxis": "x",
           "y": [
            360.927
           ],
           "yaxis": "y"
          },
          {
           "alignmentgroup": "True",
           "hovertemplate": "City=%{x}<br>Date=3/21/2019<br>Total=%{y}<extra></extra>",
           "ids": [
            "B"
           ],
           "legendgroup": "Mandalay",
           "marker": {
            "color": "#00cc96",
            "pattern": {
             "shape": ""
            }
           },
           "name": "Mandalay",
           "offsetgroup": "Mandalay",
           "orientation": "v",
           "showlegend": true,
           "textposition": "auto",
           "type": "bar",
           "x": [
            "Mandalay"
           ],
           "xaxis": "x",
           "y": [
            207.858
           ],
           "yaxis": "y"
          }
         ],
         "name": "3/21/2019"
        },
        {
         "data": [
          {
           "alignmentgroup": "True",
           "hovertemplate": "City=%{x}<br>Date=2/13/2019<br>Total=%{y}<extra></extra>",
           "ids": [
            "A",
            "A"
           ],
           "legendgroup": "Yangon",
           "marker": {
            "color": "#636efa",
            "pattern": {
             "shape": ""
            }
           },
           "name": "Yangon",
           "offsetgroup": "Yangon",
           "orientation": "v",
           "showlegend": true,
           "textposition": "auto",
           "type": "bar",
           "x": [
            "Yangon",
            "Yangon"
           ],
           "xaxis": "x",
           "y": [
            135.45,
            80.661
           ],
           "yaxis": "y"
          },
          {
           "alignmentgroup": "True",
           "hovertemplate": "City=%{x}<br>Date=2/13/2019<br>Total=%{y}<extra></extra>",
           "ids": [
            "C",
            "C",
            "C"
           ],
           "legendgroup": "Naypyitaw",
           "marker": {
            "color": "#EF553B",
            "pattern": {
             "shape": ""
            }
           },
           "name": "Naypyitaw",
           "offsetgroup": "Naypyitaw",
           "orientation": "v",
           "showlegend": true,
           "textposition": "auto",
           "type": "bar",
           "x": [
            "Naypyitaw",
            "Naypyitaw",
            "Naypyitaw"
           ],
           "xaxis": "x",
           "y": [
            165.4485,
            195.258,
            31.227
           ],
           "yaxis": "y"
          },
          {
           "alignmentgroup": "True",
           "hovertemplate": "City=%{x}<br>Date=2/13/2019<br>Total=%{y}<extra></extra>",
           "ids": [
            "B",
            "B",
            "B"
           ],
           "legendgroup": "Mandalay",
           "marker": {
            "color": "#00cc96",
            "pattern": {
             "shape": ""
            }
           },
           "name": "Mandalay",
           "offsetgroup": "Mandalay",
           "orientation": "v",
           "showlegend": true,
           "textposition": "auto",
           "type": "bar",
           "x": [
            "Mandalay",
            "Mandalay",
            "Mandalay"
           ],
           "xaxis": "x",
           "y": [
            155.19,
            84.756,
            86.247
           ],
           "yaxis": "y"
          }
         ],
         "name": "2/13/2019"
        },
        {
         "data": [
          {
           "alignmentgroup": "True",
           "hovertemplate": "City=%{x}<br>Date=1/14/2019<br>Total=%{y}<extra></extra>",
           "ids": [
            "A",
            "A"
           ],
           "legendgroup": "Yangon",
           "marker": {
            "color": "#636efa",
            "pattern": {
             "shape": ""
            }
           },
           "name": "Yangon",
           "offsetgroup": "Yangon",
           "orientation": "v",
           "showlegend": true,
           "textposition": "auto",
           "type": "bar",
           "x": [
            "Yangon",
            "Yangon"
           ],
           "xaxis": "x",
           "y": [
            507.675,
            588.42
           ],
           "yaxis": "y"
          },
          {
           "alignmentgroup": "True",
           "hovertemplate": "City=%{x}<br>Date=1/14/2019<br>Total=%{y}<extra></extra>",
           "ids": [
            "C",
            "C",
            "C",
            "C",
            "C",
            "C"
           ],
           "legendgroup": "Naypyitaw",
           "marker": {
            "color": "#EF553B",
            "pattern": {
             "shape": ""
            }
           },
           "name": "Naypyitaw",
           "offsetgroup": "Naypyitaw",
           "orientation": "v",
           "showlegend": true,
           "textposition": "auto",
           "type": "bar",
           "x": [
            "Naypyitaw",
            "Naypyitaw",
            "Naypyitaw",
            "Naypyitaw",
            "Naypyitaw",
            "Naypyitaw"
           ],
           "xaxis": "x",
           "y": [
            451.3635,
            133.434,
            89.0715,
            190.4805,
            390.9465,
            423.738
           ],
           "yaxis": "y"
          },
          {
           "alignmentgroup": "True",
           "hovertemplate": "City=%{x}<br>Date=1/14/2019<br>Total=%{y}<extra></extra>",
           "ids": [
            "B",
            "B",
            "B",
            "B",
            "B"
           ],
           "legendgroup": "Mandalay",
           "marker": {
            "color": "#00cc96",
            "pattern": {
             "shape": ""
            }
           },
           "name": "Mandalay",
           "offsetgroup": "Mandalay",
           "orientation": "v",
           "showlegend": true,
           "textposition": "auto",
           "type": "bar",
           "x": [
            "Mandalay",
            "Mandalay",
            "Mandalay",
            "Mandalay",
            "Mandalay"
           ],
           "xaxis": "x",
           "y": [
            536.991,
            523.3725,
            75.936,
            36.5505,
            18.6375
           ],
           "yaxis": "y"
          }
         ],
         "name": "1/14/2019"
        },
        {
         "data": [
          {
           "alignmentgroup": "True",
           "hovertemplate": "City=%{x}<br>Date=3/18/2019<br>Total=%{y}<extra></extra>",
           "ids": [
            "A",
            "A"
           ],
           "legendgroup": "Yangon",
           "marker": {
            "color": "#636efa",
            "pattern": {
             "shape": ""
            }
           },
           "name": "Yangon",
           "offsetgroup": "Yangon",
           "orientation": "v",
           "showlegend": true,
           "textposition": "auto",
           "type": "bar",
           "x": [
            "Yangon",
            "Yangon"
           ],
           "xaxis": "x",
           "y": [
            214.998,
            174.615
           ],
           "yaxis": "y"
          },
          {
           "alignmentgroup": "True",
           "hovertemplate": "City=%{x}<br>Date=3/18/2019<br>Total=%{y}<extra></extra>",
           "ids": [
            "C",
            "C",
            "C"
           ],
           "legendgroup": "Naypyitaw",
           "marker": {
            "color": "#EF553B",
            "pattern": {
             "shape": ""
            }
           },
           "name": "Naypyitaw",
           "offsetgroup": "Naypyitaw",
           "orientation": "v",
           "showlegend": true,
           "textposition": "auto",
           "type": "bar",
           "x": [
            "Naypyitaw",
            "Naypyitaw",
            "Naypyitaw"
           ],
           "xaxis": "x",
           "y": [
            299.565,
            54.0435,
            96.579
           ],
           "yaxis": "y"
          },
          {
           "alignmentgroup": "True",
           "hovertemplate": "City=%{x}<br>Date=3/18/2019<br>Total=%{y}<extra></extra>",
           "ids": [
            "B",
            "B"
           ],
           "legendgroup": "Mandalay",
           "marker": {
            "color": "#00cc96",
            "pattern": {
             "shape": ""
            }
           },
           "name": "Mandalay",
           "offsetgroup": "Mandalay",
           "orientation": "v",
           "showlegend": true,
           "textposition": "auto",
           "type": "bar",
           "x": [
            "Mandalay",
            "Mandalay"
           ],
           "xaxis": "x",
           "y": [
            314.055,
            138.978
           ],
           "yaxis": "y"
          }
         ],
         "name": "3/18/2019"
        },
        {
         "data": [
          {
           "alignmentgroup": "True",
           "hovertemplate": "City=%{x}<br>Date=3/20/2019<br>Total=%{y}<extra></extra>",
           "ids": [
            "A",
            "A",
            "A",
            "A",
            "A",
            "A"
           ],
           "legendgroup": "Yangon",
           "marker": {
            "color": "#636efa",
            "pattern": {
             "shape": ""
            }
           },
           "name": "Yangon",
           "offsetgroup": "Yangon",
           "orientation": "v",
           "showlegend": true,
           "textposition": "auto",
           "type": "bar",
           "x": [
            "Yangon",
            "Yangon",
            "Yangon",
            "Yangon",
            "Yangon",
            "Yangon"
           ],
           "xaxis": "x",
           "y": [
            90.825,
            462.21,
            469.413,
            365.904,
            96.1905,
            253.848
           ],
           "yaxis": "y"
          },
          {
           "alignmentgroup": "True",
           "hovertemplate": "City=%{x}<br>Date=3/20/2019<br>Total=%{y}<extra></extra>",
           "ids": [
            "C",
            "C",
            "C"
           ],
           "legendgroup": "Naypyitaw",
           "marker": {
            "color": "#EF553B",
            "pattern": {
             "shape": ""
            }
           },
           "name": "Naypyitaw",
           "offsetgroup": "Naypyitaw",
           "orientation": "v",
           "showlegend": true,
           "textposition": "auto",
           "type": "bar",
           "x": [
            "Naypyitaw",
            "Naypyitaw",
            "Naypyitaw"
           ],
           "xaxis": "x",
           "y": [
            745.395,
            523.971,
            132.5625
           ],
           "yaxis": "y"
          },
          {
           "alignmentgroup": "True",
           "hovertemplate": "City=%{x}<br>Date=3/20/2019<br>Total=%{y}<extra></extra>",
           "ids": [
            "B",
            "B",
            "B",
            "B",
            "B",
            "B"
           ],
           "legendgroup": "Mandalay",
           "marker": {
            "color": "#00cc96",
            "pattern": {
             "shape": ""
            }
           },
           "name": "Mandalay",
           "offsetgroup": "Mandalay",
           "orientation": "v",
           "showlegend": true,
           "textposition": "auto",
           "type": "bar",
           "x": [
            "Mandalay",
            "Mandalay",
            "Mandalay",
            "Mandalay",
            "Mandalay",
            "Mandalay"
           ],
           "xaxis": "x",
           "y": [
            484.89,
            65.7405,
            637.728,
            208.425,
            251.7165,
            35.3115
           ],
           "yaxis": "y"
          }
         ],
         "name": "3/20/2019"
        },
        {
         "data": [
          {
           "alignmentgroup": "True",
           "hovertemplate": "City=%{x}<br>Date=2/21/2019<br>Total=%{y}<extra></extra>",
           "ids": [
            "A"
           ],
           "legendgroup": "Yangon",
           "marker": {
            "color": "#636efa",
            "pattern": {
             "shape": ""
            }
           },
           "name": "Yangon",
           "offsetgroup": "Yangon",
           "orientation": "v",
           "showlegend": true,
           "textposition": "auto",
           "type": "bar",
           "x": [
            "Yangon"
           ],
           "xaxis": "x",
           "y": [
            298.116
           ],
           "yaxis": "y"
          },
          {
           "alignmentgroup": "True",
           "hovertemplate": "City=%{x}<br>Date=2/21/2019<br>Total=%{y}<extra></extra>",
           "ids": [
            "C",
            "C",
            "C"
           ],
           "legendgroup": "Naypyitaw",
           "marker": {
            "color": "#EF553B",
            "pattern": {
             "shape": ""
            }
           },
           "name": "Naypyitaw",
           "offsetgroup": "Naypyitaw",
           "orientation": "v",
           "showlegend": true,
           "textposition": "auto",
           "type": "bar",
           "x": [
            "Naypyitaw",
            "Naypyitaw",
            "Naypyitaw"
           ],
           "xaxis": "x",
           "y": [
            13.167,
            207.48,
            439.215
           ],
           "yaxis": "y"
          },
          {
           "alignmentgroup": "True",
           "hovertemplate": "City=%{x}<br>Date=2/21/2019<br>Total=%{y}<extra></extra>",
           "ids": [
            "B",
            "B"
           ],
           "legendgroup": "Mandalay",
           "marker": {
            "color": "#00cc96",
            "pattern": {
             "shape": ""
            }
           },
           "name": "Mandalay",
           "offsetgroup": "Mandalay",
           "orientation": "v",
           "showlegend": true,
           "textposition": "auto",
           "type": "bar",
           "x": [
            "Mandalay",
            "Mandalay"
           ],
           "xaxis": "x",
           "y": [
            310.044,
            125.7165
           ],
           "yaxis": "y"
          }
         ],
         "name": "2/21/2019"
        },
        {
         "data": [
          {
           "alignmentgroup": "True",
           "hovertemplate": "City=%{x}<br>Date=1/31/2019<br>Total=%{y}<extra></extra>",
           "ids": [
            "A",
            "A",
            "A"
           ],
           "legendgroup": "Yangon",
           "marker": {
            "color": "#636efa",
            "pattern": {
             "shape": ""
            }
           },
           "name": "Yangon",
           "offsetgroup": "Yangon",
           "orientation": "v",
           "showlegend": true,
           "textposition": "auto",
           "type": "bar",
           "x": [
            "Yangon",
            "Yangon",
            "Yangon"
           ],
           "xaxis": "x",
           "y": [
            69.6675,
            87.234,
            431.256
           ],
           "yaxis": "y"
          },
          {
           "alignmentgroup": "True",
           "hovertemplate": "City=%{x}<br>Date=1/31/2019<br>Total=%{y}<extra></extra>",
           "ids": [
            "C",
            "C",
            "C",
            "C"
           ],
           "legendgroup": "Naypyitaw",
           "marker": {
            "color": "#EF553B",
            "pattern": {
             "shape": ""
            }
           },
           "name": "Naypyitaw",
           "offsetgroup": "Naypyitaw",
           "orientation": "v",
           "showlegend": true,
           "textposition": "auto",
           "type": "bar",
           "x": [
            "Naypyitaw",
            "Naypyitaw",
            "Naypyitaw",
            "Naypyitaw"
           ],
           "xaxis": "x",
           "y": [
            155.652,
            224.4375,
            253.848,
            652.89
           ],
           "yaxis": "y"
          },
          {
           "alignmentgroup": "True",
           "hovertemplate": "City=%{x}<br>Date=1/31/2019<br>Total=%{y}<extra></extra>",
           "ids": [
            "B",
            "B",
            "B",
            "B",
            "B",
            "B",
            "B"
           ],
           "legendgroup": "Mandalay",
           "marker": {
            "color": "#00cc96",
            "pattern": {
             "shape": ""
            }
           },
           "name": "Mandalay",
           "offsetgroup": "Mandalay",
           "orientation": "v",
           "showlegend": true,
           "textposition": "auto",
           "type": "bar",
           "x": [
            "Mandalay",
            "Mandalay",
            "Mandalay",
            "Mandalay",
            "Mandalay",
            "Mandalay",
            "Mandalay"
           ],
           "xaxis": "x",
           "y": [
            285.705,
            503.559,
            79.611,
            145.068,
            180.6,
            757.365,
            253.848
           ],
           "yaxis": "y"
          }
         ],
         "name": "1/31/2019"
        },
        {
         "data": [
          {
           "alignmentgroup": "True",
           "hovertemplate": "City=%{x}<br>Date=1/11/2019<br>Total=%{y}<extra></extra>",
           "ids": [
            "A",
            "A",
            "A",
            "A",
            "A",
            "A"
           ],
           "legendgroup": "Yangon",
           "marker": {
            "color": "#636efa",
            "pattern": {
             "shape": ""
            }
           },
           "name": "Yangon",
           "offsetgroup": "Yangon",
           "orientation": "v",
           "showlegend": true,
           "textposition": "auto",
           "type": "bar",
           "x": [
            "Yangon",
            "Yangon",
            "Yangon",
            "Yangon",
            "Yangon",
            "Yangon"
           ],
           "xaxis": "x",
           "y": [
            94.1745,
            235.683,
            345.786,
            72.3975,
            305.55,
            608.076
           ],
           "yaxis": "y"
          },
          {
           "alignmentgroup": "True",
           "hovertemplate": "City=%{x}<br>Date=1/11/2019<br>Total=%{y}<extra></extra>",
           "ids": [
            "C",
            "C"
           ],
           "legendgroup": "Naypyitaw",
           "marker": {
            "color": "#EF553B",
            "pattern": {
             "shape": ""
            }
           },
           "name": "Naypyitaw",
           "offsetgroup": "Naypyitaw",
           "orientation": "v",
           "showlegend": true,
           "textposition": "auto",
           "type": "bar",
           "x": [
            "Naypyitaw",
            "Naypyitaw"
           ],
           "xaxis": "x",
           "y": [
            183.036,
            270.2595
           ],
           "yaxis": "y"
          }
         ],
         "name": "1/11/2019"
        },
        {
         "data": [
          {
           "alignmentgroup": "True",
           "hovertemplate": "City=%{x}<br>Date=2/26/2019<br>Total=%{y}<extra></extra>",
           "ids": [
            "A",
            "A"
           ],
           "legendgroup": "Yangon",
           "marker": {
            "color": "#636efa",
            "pattern": {
             "shape": ""
            }
           },
           "name": "Yangon",
           "offsetgroup": "Yangon",
           "orientation": "v",
           "showlegend": true,
           "textposition": "auto",
           "type": "bar",
           "x": [
            "Yangon",
            "Yangon"
           ],
           "xaxis": "x",
           "y": [
            58.2225,
            97.881
           ],
           "yaxis": "y"
          },
          {
           "alignmentgroup": "True",
           "hovertemplate": "City=%{x}<br>Date=2/26/2019<br>Total=%{y}<extra></extra>",
           "ids": [
            "C"
           ],
           "legendgroup": "Naypyitaw",
           "marker": {
            "color": "#EF553B",
            "pattern": {
             "shape": ""
            }
           },
           "name": "Naypyitaw",
           "offsetgroup": "Naypyitaw",
           "orientation": "v",
           "showlegend": true,
           "textposition": "auto",
           "type": "bar",
           "x": [
            "Naypyitaw"
           ],
           "xaxis": "x",
           "y": [
            216.6885
           ],
           "yaxis": "y"
          },
          {
           "alignmentgroup": "True",
           "hovertemplate": "City=%{x}<br>Date=2/26/2019<br>Total=%{y}<extra></extra>",
           "ids": [
            "B",
            "B",
            "B",
            "B",
            "B",
            "B"
           ],
           "legendgroup": "Mandalay",
           "marker": {
            "color": "#00cc96",
            "pattern": {
             "shape": ""
            }
           },
           "name": "Mandalay",
           "offsetgroup": "Mandalay",
           "orientation": "v",
           "showlegend": true,
           "textposition": "auto",
           "type": "bar",
           "x": [
            "Mandalay",
            "Mandalay",
            "Mandalay",
            "Mandalay",
            "Mandalay",
            "Mandalay"
           ],
           "xaxis": "x",
           "y": [
            571.41,
            57.1725,
            628.173,
            209.769,
            401.268,
            167.58
           ],
           "yaxis": "y"
          }
         ],
         "name": "2/26/2019"
        },
        {
         "data": [
          {
           "alignmentgroup": "True",
           "hovertemplate": "City=%{x}<br>Date=3/17/2019<br>Total=%{y}<extra></extra>",
           "ids": [
            "A",
            "A"
           ],
           "legendgroup": "Yangon",
           "marker": {
            "color": "#636efa",
            "pattern": {
             "shape": ""
            }
           },
           "name": "Yangon",
           "offsetgroup": "Yangon",
           "orientation": "v",
           "showlegend": true,
           "textposition": "auto",
           "type": "bar",
           "x": [
            "Yangon",
            "Yangon"
           ],
           "xaxis": "x",
           "y": [
            325.374,
            807.66
           ],
           "yaxis": "y"
          },
          {
           "alignmentgroup": "True",
           "hovertemplate": "City=%{x}<br>Date=3/17/2019<br>Total=%{y}<extra></extra>",
           "ids": [
            "C",
            "C"
           ],
           "legendgroup": "Naypyitaw",
           "marker": {
            "color": "#EF553B",
            "pattern": {
             "shape": ""
            }
           },
           "name": "Naypyitaw",
           "offsetgroup": "Naypyitaw",
           "orientation": "v",
           "showlegend": true,
           "textposition": "auto",
           "type": "bar",
           "x": [
            "Naypyitaw",
            "Naypyitaw"
           ],
           "xaxis": "x",
           "y": [
            369.495,
            23.751
           ],
           "yaxis": "y"
          },
          {
           "alignmentgroup": "True",
           "hovertemplate": "City=%{x}<br>Date=3/17/2019<br>Total=%{y}<extra></extra>",
           "ids": [
            "B",
            "B"
           ],
           "legendgroup": "Mandalay",
           "marker": {
            "color": "#00cc96",
            "pattern": {
             "shape": ""
            }
           },
           "name": "Mandalay",
           "offsetgroup": "Mandalay",
           "orientation": "v",
           "showlegend": true,
           "textposition": "auto",
           "type": "bar",
           "x": [
            "Mandalay",
            "Mandalay"
           ],
           "xaxis": "x",
           "y": [
            343.413,
            106.596
           ],
           "yaxis": "y"
          }
         ],
         "name": "3/17/2019"
        },
        {
         "data": [
          {
           "alignmentgroup": "True",
           "hovertemplate": "City=%{x}<br>Date=3/14/2019<br>Total=%{y}<extra></extra>",
           "ids": [
            "A",
            "A",
            "A",
            "A"
           ],
           "legendgroup": "Yangon",
           "marker": {
            "color": "#636efa",
            "pattern": {
             "shape": ""
            }
           },
           "name": "Yangon",
           "offsetgroup": "Yangon",
           "orientation": "v",
           "showlegend": true,
           "textposition": "auto",
           "type": "bar",
           "x": [
            "Yangon",
            "Yangon",
            "Yangon",
            "Yangon"
           ],
           "xaxis": "x",
           "y": [
            49.308,
            731.6925,
            49.4235,
            253.848
           ],
           "yaxis": "y"
          },
          {
           "alignmentgroup": "True",
           "hovertemplate": "City=%{x}<br>Date=3/14/2019<br>Total=%{y}<extra></extra>",
           "ids": [
            "C",
            "C",
            "C",
            "C",
            "C",
            "C",
            "C",
            "C",
            "C"
           ],
           "legendgroup": "Naypyitaw",
           "marker": {
            "color": "#EF553B",
            "pattern": {
             "shape": ""
            }
           },
           "name": "Naypyitaw",
           "offsetgroup": "Naypyitaw",
           "orientation": "v",
           "showlegend": true,
           "textposition": "auto",
           "type": "bar",
           "x": [
            "Naypyitaw",
            "Naypyitaw",
            "Naypyitaw",
            "Naypyitaw",
            "Naypyitaw",
            "Naypyitaw",
            "Naypyitaw",
            "Naypyitaw",
            "Naypyitaw"
           ],
           "xaxis": "x",
           "y": [
            148.974,
            204.6975,
            484.974,
            441.693,
            625.905,
            814.38,
            461.5275,
            44.9925,
            221.886
           ],
           "yaxis": "y"
          },
          {
           "alignmentgroup": "True",
           "hovertemplate": "City=%{x}<br>Date=3/14/2019<br>Total=%{y}<extra></extra>",
           "ids": [
            "B",
            "B",
            "B",
            "B",
            "B"
           ],
           "legendgroup": "Mandalay",
           "marker": {
            "color": "#00cc96",
            "pattern": {
             "shape": ""
            }
           },
           "name": "Mandalay",
           "offsetgroup": "Mandalay",
           "orientation": "v",
           "showlegend": true,
           "textposition": "auto",
           "type": "bar",
           "x": [
            "Mandalay",
            "Mandalay",
            "Mandalay",
            "Mandalay",
            "Mandalay"
           ],
           "xaxis": "x",
           "y": [
            402.2655,
            203.931,
            253.848,
            93.744,
            446.964
           ],
           "yaxis": "y"
          }
         ],
         "name": "3/14/2019"
        },
        {
         "data": [
          {
           "alignmentgroup": "True",
           "hovertemplate": "City=%{x}<br>Date=2/4/2019<br>Total=%{y}<extra></extra>",
           "ids": [
            "A",
            "A",
            "A",
            "A",
            "A"
           ],
           "legendgroup": "Yangon",
           "marker": {
            "color": "#636efa",
            "pattern": {
             "shape": ""
            }
           },
           "name": "Yangon",
           "offsetgroup": "Yangon",
           "orientation": "v",
           "showlegend": true,
           "textposition": "auto",
           "type": "bar",
           "x": [
            "Yangon",
            "Yangon",
            "Yangon",
            "Yangon",
            "Yangon"
           ],
           "xaxis": "x",
           "y": [
            75.5475,
            185.367,
            226.065,
            204.246,
            548.163
           ],
           "yaxis": "y"
          },
          {
           "alignmentgroup": "True",
           "hovertemplate": "City=%{x}<br>Date=2/4/2019<br>Total=%{y}<extra></extra>",
           "ids": [
            "C",
            "C"
           ],
           "legendgroup": "Naypyitaw",
           "marker": {
            "color": "#EF553B",
            "pattern": {
             "shape": ""
            }
           },
           "name": "Naypyitaw",
           "offsetgroup": "Naypyitaw",
           "orientation": "v",
           "showlegend": true,
           "textposition": "auto",
           "type": "bar",
           "x": [
            "Naypyitaw",
            "Naypyitaw"
           ],
           "xaxis": "x",
           "y": [
            14.679,
            130.8825
           ],
           "yaxis": "y"
          },
          {
           "alignmentgroup": "True",
           "hovertemplate": "City=%{x}<br>Date=2/4/2019<br>Total=%{y}<extra></extra>",
           "ids": [
            "B",
            "B",
            "B",
            "B"
           ],
           "legendgroup": "Mandalay",
           "marker": {
            "color": "#00cc96",
            "pattern": {
             "shape": ""
            }
           },
           "name": "Mandalay",
           "offsetgroup": "Mandalay",
           "orientation": "v",
           "showlegend": true,
           "textposition": "auto",
           "type": "bar",
           "x": [
            "Mandalay",
            "Mandalay",
            "Mandalay",
            "Mandalay"
           ],
           "xaxis": "x",
           "y": [
            734.076,
            151.284,
            98.028,
            71.1585
           ],
           "yaxis": "y"
          }
         ],
         "name": "2/4/2019"
        },
        {
         "data": [
          {
           "alignmentgroup": "True",
           "hovertemplate": "City=%{x}<br>Date=2/19/2019<br>Total=%{y}<extra></extra>",
           "ids": [
            "A",
            "A",
            "A",
            "A"
           ],
           "legendgroup": "Yangon",
           "marker": {
            "color": "#636efa",
            "pattern": {
             "shape": ""
            }
           },
           "name": "Yangon",
           "offsetgroup": "Yangon",
           "orientation": "v",
           "showlegend": true,
           "textposition": "auto",
           "type": "bar",
           "x": [
            "Yangon",
            "Yangon",
            "Yangon",
            "Yangon"
           ],
           "xaxis": "x",
           "y": [
            657.531,
            206.808,
            266.6475,
            253.848
           ],
           "yaxis": "y"
          },
          {
           "alignmentgroup": "True",
           "hovertemplate": "City=%{x}<br>Date=2/19/2019<br>Total=%{y}<extra></extra>",
           "ids": [
            "C",
            "C",
            "C",
            "C"
           ],
           "legendgroup": "Naypyitaw",
           "marker": {
            "color": "#EF553B",
            "pattern": {
             "shape": ""
            }
           },
           "name": "Naypyitaw",
           "offsetgroup": "Naypyitaw",
           "orientation": "v",
           "showlegend": true,
           "textposition": "auto",
           "type": "bar",
           "x": [
            "Naypyitaw",
            "Naypyitaw",
            "Naypyitaw",
            "Naypyitaw"
           ],
           "xaxis": "x",
           "y": [
            173.208,
            733.6035,
            183.12,
            603.876
           ],
           "yaxis": "y"
          },
          {
           "alignmentgroup": "True",
           "hovertemplate": "City=%{x}<br>Date=2/19/2019<br>Total=%{y}<extra></extra>",
           "ids": [
            "B"
           ],
           "legendgroup": "Mandalay",
           "marker": {
            "color": "#00cc96",
            "pattern": {
             "shape": ""
            }
           },
           "name": "Mandalay",
           "offsetgroup": "Mandalay",
           "orientation": "v",
           "showlegend": true,
           "textposition": "auto",
           "type": "bar",
           "x": [
            "Mandalay"
           ],
           "xaxis": "x",
           "y": [
            470.988
           ],
           "yaxis": "y"
          }
         ],
         "name": "2/19/2019"
        }
       ],
       "layout": {
        "barmode": "relative",
        "legend": {
         "title": {
          "text": "City"
         },
         "tracegroupgap": 0
        },
        "sliders": [
         {
          "active": 0,
          "currentvalue": {
           "prefix": "Date="
          },
          "len": 0.9,
          "pad": {
           "b": 10,
           "t": 60
          },
          "steps": [
           {
            "args": [
             [
              "1/5/2019"
             ],
             {
              "frame": {
               "duration": 0,
               "redraw": true
              },
              "fromcurrent": true,
              "mode": "immediate",
              "transition": {
               "duration": 0,
               "easing": "linear"
              }
             }
            ],
            "label": "1/5/2019",
            "method": "animate"
           },
           {
            "args": [
             [
              "3/8/2019"
             ],
             {
              "frame": {
               "duration": 0,
               "redraw": true
              },
              "fromcurrent": true,
              "mode": "immediate",
              "transition": {
               "duration": 0,
               "easing": "linear"
              }
             }
            ],
            "label": "3/8/2019",
            "method": "animate"
           },
           {
            "args": [
             [
              "3/3/2019"
             ],
             {
              "frame": {
               "duration": 0,
               "redraw": true
              },
              "fromcurrent": true,
              "mode": "immediate",
              "transition": {
               "duration": 0,
               "easing": "linear"
              }
             }
            ],
            "label": "3/3/2019",
            "method": "animate"
           },
           {
            "args": [
             [
              "1/27/2019"
             ],
             {
              "frame": {
               "duration": 0,
               "redraw": true
              },
              "fromcurrent": true,
              "mode": "immediate",
              "transition": {
               "duration": 0,
               "easing": "linear"
              }
             }
            ],
            "label": "1/27/2019",
            "method": "animate"
           },
           {
            "args": [
             [
              "2/8/2019"
             ],
             {
              "frame": {
               "duration": 0,
               "redraw": true
              },
              "fromcurrent": true,
              "mode": "immediate",
              "transition": {
               "duration": 0,
               "easing": "linear"
              }
             }
            ],
            "label": "2/8/2019",
            "method": "animate"
           },
           {
            "args": [
             [
              "3/25/2019"
             ],
             {
              "frame": {
               "duration": 0,
               "redraw": true
              },
              "fromcurrent": true,
              "mode": "immediate",
              "transition": {
               "duration": 0,
               "easing": "linear"
              }
             }
            ],
            "label": "3/25/2019",
            "method": "animate"
           },
           {
            "args": [
             [
              "2/25/2019"
             ],
             {
              "frame": {
               "duration": 0,
               "redraw": true
              },
              "fromcurrent": true,
              "mode": "immediate",
              "transition": {
               "duration": 0,
               "easing": "linear"
              }
             }
            ],
            "label": "2/25/2019",
            "method": "animate"
           },
           {
            "args": [
             [
              "2/24/2019"
             ],
             {
              "frame": {
               "duration": 0,
               "redraw": true
              },
              "fromcurrent": true,
              "mode": "immediate",
              "transition": {
               "duration": 0,
               "easing": "linear"
              }
             }
            ],
            "label": "2/24/2019",
            "method": "animate"
           },
           {
            "args": [
             [
              "1/10/2019"
             ],
             {
              "frame": {
               "duration": 0,
               "redraw": true
              },
              "fromcurrent": true,
              "mode": "immediate",
              "transition": {
               "duration": 0,
               "easing": "linear"
              }
             }
            ],
            "label": "1/10/2019",
            "method": "animate"
           },
           {
            "args": [
             [
              "2/20/2019"
             ],
             {
              "frame": {
               "duration": 0,
               "redraw": true
              },
              "fromcurrent": true,
              "mode": "immediate",
              "transition": {
               "duration": 0,
               "easing": "linear"
              }
             }
            ],
            "label": "2/20/2019",
            "method": "animate"
           },
           {
            "args": [
             [
              "2/6/2019"
             ],
             {
              "frame": {
               "duration": 0,
               "redraw": true
              },
              "fromcurrent": true,
              "mode": "immediate",
              "transition": {
               "duration": 0,
               "easing": "linear"
              }
             }
            ],
            "label": "2/6/2019",
            "method": "animate"
           },
           {
            "args": [
             [
              "3/9/2019"
             ],
             {
              "frame": {
               "duration": 0,
               "redraw": true
              },
              "fromcurrent": true,
              "mode": "immediate",
              "transition": {
               "duration": 0,
               "easing": "linear"
              }
             }
            ],
            "label": "3/9/2019",
            "method": "animate"
           },
           {
            "args": [
             [
              "2/12/2019"
             ],
             {
              "frame": {
               "duration": 0,
               "redraw": true
              },
              "fromcurrent": true,
              "mode": "immediate",
              "transition": {
               "duration": 0,
               "easing": "linear"
              }
             }
            ],
            "label": "2/12/2019",
            "method": "animate"
           },
           {
            "args": [
             [
              "2/7/2019"
             ],
             {
              "frame": {
               "duration": 0,
               "redraw": true
              },
              "fromcurrent": true,
              "mode": "immediate",
              "transition": {
               "duration": 0,
               "easing": "linear"
              }
             }
            ],
            "label": "2/7/2019",
            "method": "animate"
           },
           {
            "args": [
             [
              "3/29/2019"
             ],
             {
              "frame": {
               "duration": 0,
               "redraw": true
              },
              "fromcurrent": true,
              "mode": "immediate",
              "transition": {
               "duration": 0,
               "easing": "linear"
              }
             }
            ],
            "label": "3/29/2019",
            "method": "animate"
           },
           {
            "args": [
             [
              "1/15/2019"
             ],
             {
              "frame": {
               "duration": 0,
               "redraw": true
              },
              "fromcurrent": true,
              "mode": "immediate",
              "transition": {
               "duration": 0,
               "easing": "linear"
              }
             }
            ],
            "label": "1/15/2019",
            "method": "animate"
           },
           {
            "args": [
             [
              "3/11/2019"
             ],
             {
              "frame": {
               "duration": 0,
               "redraw": true
              },
              "fromcurrent": true,
              "mode": "immediate",
              "transition": {
               "duration": 0,
               "easing": "linear"
              }
             }
            ],
            "label": "3/11/2019",
            "method": "animate"
           },
           {
            "args": [
             [
              "1/1/2019"
             ],
             {
              "frame": {
               "duration": 0,
               "redraw": true
              },
              "fromcurrent": true,
              "mode": "immediate",
              "transition": {
               "duration": 0,
               "easing": "linear"
              }
             }
            ],
            "label": "1/1/2019",
            "method": "animate"
           },
           {
            "args": [
             [
              "1/21/2019"
             ],
             {
              "frame": {
               "duration": 0,
               "redraw": true
              },
              "fromcurrent": true,
              "mode": "immediate",
              "transition": {
               "duration": 0,
               "easing": "linear"
              }
             }
            ],
            "label": "1/21/2019",
            "method": "animate"
           },
           {
            "args": [
             [
              "3/5/2019"
             ],
             {
              "frame": {
               "duration": 0,
               "redraw": true
              },
              "fromcurrent": true,
              "mode": "immediate",
              "transition": {
               "duration": 0,
               "easing": "linear"
              }
             }
            ],
            "label": "3/5/2019",
            "method": "animate"
           },
           {
            "args": [
             [
              "3/15/2019"
             ],
             {
              "frame": {
               "duration": 0,
               "redraw": true
              },
              "fromcurrent": true,
              "mode": "immediate",
              "transition": {
               "duration": 0,
               "easing": "linear"
              }
             }
            ],
            "label": "3/15/2019",
            "method": "animate"
           },
           {
            "args": [
             [
              "2/17/2019"
             ],
             {
              "frame": {
               "duration": 0,
               "redraw": true
              },
              "fromcurrent": true,
              "mode": "immediate",
              "transition": {
               "duration": 0,
               "easing": "linear"
              }
             }
            ],
            "label": "2/17/2019",
            "method": "animate"
           },
           {
            "args": [
             [
              "3/2/2019"
             ],
             {
              "frame": {
               "duration": 0,
               "redraw": true
              },
              "fromcurrent": true,
              "mode": "immediate",
              "transition": {
               "duration": 0,
               "easing": "linear"
              }
             }
            ],
            "label": "3/2/2019",
            "method": "animate"
           },
           {
            "args": [
             [
              "3/22/2019"
             ],
             {
              "frame": {
               "duration": 0,
               "redraw": true
              },
              "fromcurrent": true,
              "mode": "immediate",
              "transition": {
               "duration": 0,
               "easing": "linear"
              }
             }
            ],
            "label": "3/22/2019",
            "method": "animate"
           },
           {
            "args": [
             [
              "3/10/2019"
             ],
             {
              "frame": {
               "duration": 0,
               "redraw": true
              },
              "fromcurrent": true,
              "mode": "immediate",
              "transition": {
               "duration": 0,
               "easing": "linear"
              }
             }
            ],
            "label": "3/10/2019",
            "method": "animate"
           },
           {
            "args": [
             [
              "1/25/2019"
             ],
             {
              "frame": {
               "duration": 0,
               "redraw": true
              },
              "fromcurrent": true,
              "mode": "immediate",
              "transition": {
               "duration": 0,
               "easing": "linear"
              }
             }
            ],
            "label": "1/25/2019",
            "method": "animate"
           },
           {
            "args": [
             [
              "1/28/2019"
             ],
             {
              "frame": {
               "duration": 0,
               "redraw": true
              },
              "fromcurrent": true,
              "mode": "immediate",
              "transition": {
               "duration": 0,
               "easing": "linear"
              }
             }
            ],
            "label": "1/28/2019",
            "method": "animate"
           },
           {
            "args": [
             [
              "1/7/2019"
             ],
             {
              "frame": {
               "duration": 0,
               "redraw": true
              },
              "fromcurrent": true,
              "mode": "immediate",
              "transition": {
               "duration": 0,
               "easing": "linear"
              }
             }
            ],
            "label": "1/7/2019",
            "method": "animate"
           },
           {
            "args": [
             [
              "3/23/2019"
             ],
             {
              "frame": {
               "duration": 0,
               "redraw": true
              },
              "fromcurrent": true,
              "mode": "immediate",
              "transition": {
               "duration": 0,
               "easing": "linear"
              }
             }
            ],
            "label": "3/23/2019",
            "method": "animate"
           },
           {
            "args": [
             [
              "1/17/2019"
             ],
             {
              "frame": {
               "duration": 0,
               "redraw": true
              },
              "fromcurrent": true,
              "mode": "immediate",
              "transition": {
               "duration": 0,
               "easing": "linear"
              }
             }
            ],
            "label": "1/17/2019",
            "method": "animate"
           },
           {
            "args": [
             [
              "2/2/2019"
             ],
             {
              "frame": {
               "duration": 0,
               "redraw": true
              },
              "fromcurrent": true,
              "mode": "immediate",
              "transition": {
               "duration": 0,
               "easing": "linear"
              }
             }
            ],
            "label": "2/2/2019",
            "method": "animate"
           },
           {
            "args": [
             [
              "3/4/2019"
             ],
             {
              "frame": {
               "duration": 0,
               "redraw": true
              },
              "fromcurrent": true,
              "mode": "immediate",
              "transition": {
               "duration": 0,
               "easing": "linear"
              }
             }
            ],
            "label": "3/4/2019",
            "method": "animate"
           },
           {
            "args": [
             [
              "3/16/2019"
             ],
             {
              "frame": {
               "duration": 0,
               "redraw": true
              },
              "fromcurrent": true,
              "mode": "immediate",
              "transition": {
               "duration": 0,
               "easing": "linear"
              }
             }
            ],
            "label": "3/16/2019",
            "method": "animate"
           },
           {
            "args": [
             [
              "2/27/2019"
             ],
             {
              "frame": {
               "duration": 0,
               "redraw": true
              },
              "fromcurrent": true,
              "mode": "immediate",
              "transition": {
               "duration": 0,
               "easing": "linear"
              }
             }
            ],
            "label": "2/27/2019",
            "method": "animate"
           },
           {
            "args": [
             [
              "2/10/2019"
             ],
             {
              "frame": {
               "duration": 0,
               "redraw": true
              },
              "fromcurrent": true,
              "mode": "immediate",
              "transition": {
               "duration": 0,
               "easing": "linear"
              }
             }
            ],
            "label": "2/10/2019",
            "method": "animate"
           },
           {
            "args": [
             [
              "3/19/2019"
             ],
             {
              "frame": {
               "duration": 0,
               "redraw": true
              },
              "fromcurrent": true,
              "mode": "immediate",
              "transition": {
               "duration": 0,
               "easing": "linear"
              }
             }
            ],
            "label": "3/19/2019",
            "method": "animate"
           },
           {
            "args": [
             [
              "2/3/2019"
             ],
             {
              "frame": {
               "duration": 0,
               "redraw": true
              },
              "fromcurrent": true,
              "mode": "immediate",
              "transition": {
               "duration": 0,
               "easing": "linear"
              }
             }
            ],
            "label": "2/3/2019",
            "method": "animate"
           },
           {
            "args": [
             [
              "3/7/2019"
             ],
             {
              "frame": {
               "duration": 0,
               "redraw": true
              },
              "fromcurrent": true,
              "mode": "immediate",
              "transition": {
               "duration": 0,
               "easing": "linear"
              }
             }
            ],
            "label": "3/7/2019",
            "method": "animate"
           },
           {
            "args": [
             [
              "2/28/2019"
             ],
             {
              "frame": {
               "duration": 0,
               "redraw": true
              },
              "fromcurrent": true,
              "mode": "immediate",
              "transition": {
               "duration": 0,
               "easing": "linear"
              }
             }
            ],
            "label": "2/28/2019",
            "method": "animate"
           },
           {
            "args": [
             [
              "3/27/2019"
             ],
             {
              "frame": {
               "duration": 0,
               "redraw": true
              },
              "fromcurrent": true,
              "mode": "immediate",
              "transition": {
               "duration": 0,
               "easing": "linear"
              }
             }
            ],
            "label": "3/27/2019",
            "method": "animate"
           },
           {
            "args": [
             [
              "1/20/2019"
             ],
             {
              "frame": {
               "duration": 0,
               "redraw": true
              },
              "fromcurrent": true,
              "mode": "immediate",
              "transition": {
               "duration": 0,
               "easing": "linear"
              }
             }
            ],
            "label": "1/20/2019",
            "method": "animate"
           },
           {
            "args": [
             [
              "3/12/2019"
             ],
             {
              "frame": {
               "duration": 0,
               "redraw": true
              },
              "fromcurrent": true,
              "mode": "immediate",
              "transition": {
               "duration": 0,
               "easing": "linear"
              }
             }
            ],
            "label": "3/12/2019",
            "method": "animate"
           },
           {
            "args": [
             [
              "2/15/2019"
             ],
             {
              "frame": {
               "duration": 0,
               "redraw": true
              },
              "fromcurrent": true,
              "mode": "immediate",
              "transition": {
               "duration": 0,
               "easing": "linear"
              }
             }
            ],
            "label": "2/15/2019",
            "method": "animate"
           },
           {
            "args": [
             [
              "3/6/2019"
             ],
             {
              "frame": {
               "duration": 0,
               "redraw": true
              },
              "fromcurrent": true,
              "mode": "immediate",
              "transition": {
               "duration": 0,
               "easing": "linear"
              }
             }
            ],
            "label": "3/6/2019",
            "method": "animate"
           },
           {
            "args": [
             [
              "2/14/2019"
             ],
             {
              "frame": {
               "duration": 0,
               "redraw": true
              },
              "fromcurrent": true,
              "mode": "immediate",
              "transition": {
               "duration": 0,
               "easing": "linear"
              }
             }
            ],
            "label": "2/14/2019",
            "method": "animate"
           },
           {
            "args": [
             [
              "3/13/2019"
             ],
             {
              "frame": {
               "duration": 0,
               "redraw": true
              },
              "fromcurrent": true,
              "mode": "immediate",
              "transition": {
               "duration": 0,
               "easing": "linear"
              }
             }
            ],
            "label": "3/13/2019",
            "method": "animate"
           },
           {
            "args": [
             [
              "1/24/2019"
             ],
             {
              "frame": {
               "duration": 0,
               "redraw": true
              },
              "fromcurrent": true,
              "mode": "immediate",
              "transition": {
               "duration": 0,
               "easing": "linear"
              }
             }
            ],
            "label": "1/24/2019",
            "method": "animate"
           },
           {
            "args": [
             [
              "1/6/2019"
             ],
             {
              "frame": {
               "duration": 0,
               "redraw": true
              },
              "fromcurrent": true,
              "mode": "immediate",
              "transition": {
               "duration": 0,
               "easing": "linear"
              }
             }
            ],
            "label": "1/6/2019",
            "method": "animate"
           },
           {
            "args": [
             [
              "2/11/2019"
             ],
             {
              "frame": {
               "duration": 0,
               "redraw": true
              },
              "fromcurrent": true,
              "mode": "immediate",
              "transition": {
               "duration": 0,
               "easing": "linear"
              }
             }
            ],
            "label": "2/11/2019",
            "method": "animate"
           },
           {
            "args": [
             [
              "1/22/2019"
             ],
             {
              "frame": {
               "duration": 0,
               "redraw": true
              },
              "fromcurrent": true,
              "mode": "immediate",
              "transition": {
               "duration": 0,
               "easing": "linear"
              }
             }
            ],
            "label": "1/22/2019",
            "method": "animate"
           },
           {
            "args": [
             [
              "1/13/2019"
             ],
             {
              "frame": {
               "duration": 0,
               "redraw": true
              },
              "fromcurrent": true,
              "mode": "immediate",
              "transition": {
               "duration": 0,
               "easing": "linear"
              }
             }
            ],
            "label": "1/13/2019",
            "method": "animate"
           },
           {
            "args": [
             [
              "1/9/2019"
             ],
             {
              "frame": {
               "duration": 0,
               "redraw": true
              },
              "fromcurrent": true,
              "mode": "immediate",
              "transition": {
               "duration": 0,
               "easing": "linear"
              }
             }
            ],
            "label": "1/9/2019",
            "method": "animate"
           },
           {
            "args": [
             [
              "1/12/2019"
             ],
             {
              "frame": {
               "duration": 0,
               "redraw": true
              },
              "fromcurrent": true,
              "mode": "immediate",
              "transition": {
               "duration": 0,
               "easing": "linear"
              }
             }
            ],
            "label": "1/12/2019",
            "method": "animate"
           },
           {
            "args": [
             [
              "1/26/2019"
             ],
             {
              "frame": {
               "duration": 0,
               "redraw": true
              },
              "fromcurrent": true,
              "mode": "immediate",
              "transition": {
               "duration": 0,
               "easing": "linear"
              }
             }
            ],
            "label": "1/26/2019",
            "method": "animate"
           },
           {
            "args": [
             [
              "1/23/2019"
             ],
             {
              "frame": {
               "duration": 0,
               "redraw": true
              },
              "fromcurrent": true,
              "mode": "immediate",
              "transition": {
               "duration": 0,
               "easing": "linear"
              }
             }
            ],
            "label": "1/23/2019",
            "method": "animate"
           },
           {
            "args": [
             [
              "2/23/2019"
             ],
             {
              "frame": {
               "duration": 0,
               "redraw": true
              },
              "fromcurrent": true,
              "mode": "immediate",
              "transition": {
               "duration": 0,
               "easing": "linear"
              }
             }
            ],
            "label": "2/23/2019",
            "method": "animate"
           },
           {
            "args": [
             [
              "1/2/2019"
             ],
             {
              "frame": {
               "duration": 0,
               "redraw": true
              },
              "fromcurrent": true,
              "mode": "immediate",
              "transition": {
               "duration": 0,
               "easing": "linear"
              }
             }
            ],
            "label": "1/2/2019",
            "method": "animate"
           },
           {
            "args": [
             [
              "2/9/2019"
             ],
             {
              "frame": {
               "duration": 0,
               "redraw": true
              },
              "fromcurrent": true,
              "mode": "immediate",
              "transition": {
               "duration": 0,
               "easing": "linear"
              }
             }
            ],
            "label": "2/9/2019",
            "method": "animate"
           },
           {
            "args": [
             [
              "3/26/2019"
             ],
             {
              "frame": {
               "duration": 0,
               "redraw": true
              },
              "fromcurrent": true,
              "mode": "immediate",
              "transition": {
               "duration": 0,
               "easing": "linear"
              }
             }
            ],
            "label": "3/26/2019",
            "method": "animate"
           },
           {
            "args": [
             [
              "3/1/2019"
             ],
             {
              "frame": {
               "duration": 0,
               "redraw": true
              },
              "fromcurrent": true,
              "mode": "immediate",
              "transition": {
               "duration": 0,
               "easing": "linear"
              }
             }
            ],
            "label": "3/1/2019",
            "method": "animate"
           },
           {
            "args": [
             [
              "2/1/2019"
             ],
             {
              "frame": {
               "duration": 0,
               "redraw": true
              },
              "fromcurrent": true,
              "mode": "immediate",
              "transition": {
               "duration": 0,
               "easing": "linear"
              }
             }
            ],
            "label": "2/1/2019",
            "method": "animate"
           },
           {
            "args": [
             [
              "3/28/2019"
             ],
             {
              "frame": {
               "duration": 0,
               "redraw": true
              },
              "fromcurrent": true,
              "mode": "immediate",
              "transition": {
               "duration": 0,
               "easing": "linear"
              }
             }
            ],
            "label": "3/28/2019",
            "method": "animate"
           },
           {
            "args": [
             [
              "3/24/2019"
             ],
             {
              "frame": {
               "duration": 0,
               "redraw": true
              },
              "fromcurrent": true,
              "mode": "immediate",
              "transition": {
               "duration": 0,
               "easing": "linear"
              }
             }
            ],
            "label": "3/24/2019",
            "method": "animate"
           },
           {
            "args": [
             [
              "2/5/2019"
             ],
             {
              "frame": {
               "duration": 0,
               "redraw": true
              },
              "fromcurrent": true,
              "mode": "immediate",
              "transition": {
               "duration": 0,
               "easing": "linear"
              }
             }
            ],
            "label": "2/5/2019",
            "method": "animate"
           },
           {
            "args": [
             [
              "1/19/2019"
             ],
             {
              "frame": {
               "duration": 0,
               "redraw": true
              },
              "fromcurrent": true,
              "mode": "immediate",
              "transition": {
               "duration": 0,
               "easing": "linear"
              }
             }
            ],
            "label": "1/19/2019",
            "method": "animate"
           },
           {
            "args": [
             [
              "1/16/2019"
             ],
             {
              "frame": {
               "duration": 0,
               "redraw": true
              },
              "fromcurrent": true,
              "mode": "immediate",
              "transition": {
               "duration": 0,
               "easing": "linear"
              }
             }
            ],
            "label": "1/16/2019",
            "method": "animate"
           },
           {
            "args": [
             [
              "1/8/2019"
             ],
             {
              "frame": {
               "duration": 0,
               "redraw": true
              },
              "fromcurrent": true,
              "mode": "immediate",
              "transition": {
               "duration": 0,
               "easing": "linear"
              }
             }
            ],
            "label": "1/8/2019",
            "method": "animate"
           },
           {
            "args": [
             [
              "2/18/2019"
             ],
             {
              "frame": {
               "duration": 0,
               "redraw": true
              },
              "fromcurrent": true,
              "mode": "immediate",
              "transition": {
               "duration": 0,
               "easing": "linear"
              }
             }
            ],
            "label": "2/18/2019",
            "method": "animate"
           },
           {
            "args": [
             [
              "1/18/2019"
             ],
             {
              "frame": {
               "duration": 0,
               "redraw": true
              },
              "fromcurrent": true,
              "mode": "immediate",
              "transition": {
               "duration": 0,
               "easing": "linear"
              }
             }
            ],
            "label": "1/18/2019",
            "method": "animate"
           },
           {
            "args": [
             [
              "2/16/2019"
             ],
             {
              "frame": {
               "duration": 0,
               "redraw": true
              },
              "fromcurrent": true,
              "mode": "immediate",
              "transition": {
               "duration": 0,
               "easing": "linear"
              }
             }
            ],
            "label": "2/16/2019",
            "method": "animate"
           },
           {
            "args": [
             [
              "2/22/2019"
             ],
             {
              "frame": {
               "duration": 0,
               "redraw": true
              },
              "fromcurrent": true,
              "mode": "immediate",
              "transition": {
               "duration": 0,
               "easing": "linear"
              }
             }
            ],
            "label": "2/22/2019",
            "method": "animate"
           },
           {
            "args": [
             [
              "1/29/2019"
             ],
             {
              "frame": {
               "duration": 0,
               "redraw": true
              },
              "fromcurrent": true,
              "mode": "immediate",
              "transition": {
               "duration": 0,
               "easing": "linear"
              }
             }
            ],
            "label": "1/29/2019",
            "method": "animate"
           },
           {
            "args": [
             [
              "1/4/2019"
             ],
             {
              "frame": {
               "duration": 0,
               "redraw": true
              },
              "fromcurrent": true,
              "mode": "immediate",
              "transition": {
               "duration": 0,
               "easing": "linear"
              }
             }
            ],
            "label": "1/4/2019",
            "method": "animate"
           },
           {
            "args": [
             [
              "3/30/2019"
             ],
             {
              "frame": {
               "duration": 0,
               "redraw": true
              },
              "fromcurrent": true,
              "mode": "immediate",
              "transition": {
               "duration": 0,
               "easing": "linear"
              }
             }
            ],
            "label": "3/30/2019",
            "method": "animate"
           },
           {
            "args": [
             [
              "1/30/2019"
             ],
             {
              "frame": {
               "duration": 0,
               "redraw": true
              },
              "fromcurrent": true,
              "mode": "immediate",
              "transition": {
               "duration": 0,
               "easing": "linear"
              }
             }
            ],
            "label": "1/30/2019",
            "method": "animate"
           },
           {
            "args": [
             [
              "1/3/2019"
             ],
             {
              "frame": {
               "duration": 0,
               "redraw": true
              },
              "fromcurrent": true,
              "mode": "immediate",
              "transition": {
               "duration": 0,
               "easing": "linear"
              }
             }
            ],
            "label": "1/3/2019",
            "method": "animate"
           },
           {
            "args": [
             [
              "3/21/2019"
             ],
             {
              "frame": {
               "duration": 0,
               "redraw": true
              },
              "fromcurrent": true,
              "mode": "immediate",
              "transition": {
               "duration": 0,
               "easing": "linear"
              }
             }
            ],
            "label": "3/21/2019",
            "method": "animate"
           },
           {
            "args": [
             [
              "2/13/2019"
             ],
             {
              "frame": {
               "duration": 0,
               "redraw": true
              },
              "fromcurrent": true,
              "mode": "immediate",
              "transition": {
               "duration": 0,
               "easing": "linear"
              }
             }
            ],
            "label": "2/13/2019",
            "method": "animate"
           },
           {
            "args": [
             [
              "1/14/2019"
             ],
             {
              "frame": {
               "duration": 0,
               "redraw": true
              },
              "fromcurrent": true,
              "mode": "immediate",
              "transition": {
               "duration": 0,
               "easing": "linear"
              }
             }
            ],
            "label": "1/14/2019",
            "method": "animate"
           },
           {
            "args": [
             [
              "3/18/2019"
             ],
             {
              "frame": {
               "duration": 0,
               "redraw": true
              },
              "fromcurrent": true,
              "mode": "immediate",
              "transition": {
               "duration": 0,
               "easing": "linear"
              }
             }
            ],
            "label": "3/18/2019",
            "method": "animate"
           },
           {
            "args": [
             [
              "3/20/2019"
             ],
             {
              "frame": {
               "duration": 0,
               "redraw": true
              },
              "fromcurrent": true,
              "mode": "immediate",
              "transition": {
               "duration": 0,
               "easing": "linear"
              }
             }
            ],
            "label": "3/20/2019",
            "method": "animate"
           },
           {
            "args": [
             [
              "2/21/2019"
             ],
             {
              "frame": {
               "duration": 0,
               "redraw": true
              },
              "fromcurrent": true,
              "mode": "immediate",
              "transition": {
               "duration": 0,
               "easing": "linear"
              }
             }
            ],
            "label": "2/21/2019",
            "method": "animate"
           },
           {
            "args": [
             [
              "1/31/2019"
             ],
             {
              "frame": {
               "duration": 0,
               "redraw": true
              },
              "fromcurrent": true,
              "mode": "immediate",
              "transition": {
               "duration": 0,
               "easing": "linear"
              }
             }
            ],
            "label": "1/31/2019",
            "method": "animate"
           },
           {
            "args": [
             [
              "1/11/2019"
             ],
             {
              "frame": {
               "duration": 0,
               "redraw": true
              },
              "fromcurrent": true,
              "mode": "immediate",
              "transition": {
               "duration": 0,
               "easing": "linear"
              }
             }
            ],
            "label": "1/11/2019",
            "method": "animate"
           },
           {
            "args": [
             [
              "2/26/2019"
             ],
             {
              "frame": {
               "duration": 0,
               "redraw": true
              },
              "fromcurrent": true,
              "mode": "immediate",
              "transition": {
               "duration": 0,
               "easing": "linear"
              }
             }
            ],
            "label": "2/26/2019",
            "method": "animate"
           },
           {
            "args": [
             [
              "3/17/2019"
             ],
             {
              "frame": {
               "duration": 0,
               "redraw": true
              },
              "fromcurrent": true,
              "mode": "immediate",
              "transition": {
               "duration": 0,
               "easing": "linear"
              }
             }
            ],
            "label": "3/17/2019",
            "method": "animate"
           },
           {
            "args": [
             [
              "3/14/2019"
             ],
             {
              "frame": {
               "duration": 0,
               "redraw": true
              },
              "fromcurrent": true,
              "mode": "immediate",
              "transition": {
               "duration": 0,
               "easing": "linear"
              }
             }
            ],
            "label": "3/14/2019",
            "method": "animate"
           },
           {
            "args": [
             [
              "2/4/2019"
             ],
             {
              "frame": {
               "duration": 0,
               "redraw": true
              },
              "fromcurrent": true,
              "mode": "immediate",
              "transition": {
               "duration": 0,
               "easing": "linear"
              }
             }
            ],
            "label": "2/4/2019",
            "method": "animate"
           },
           {
            "args": [
             [
              "2/19/2019"
             ],
             {
              "frame": {
               "duration": 0,
               "redraw": true
              },
              "fromcurrent": true,
              "mode": "immediate",
              "transition": {
               "duration": 0,
               "easing": "linear"
              }
             }
            ],
            "label": "2/19/2019",
            "method": "animate"
           }
          ],
          "x": 0.1,
          "xanchor": "left",
          "y": 0,
          "yanchor": "top"
         }
        ],
        "template": {
         "data": {
          "bar": [
           {
            "error_x": {
             "color": "#2a3f5f"
            },
            "error_y": {
             "color": "#2a3f5f"
            },
            "marker": {
             "line": {
              "color": "#E5ECF6",
              "width": 0.5
             },
             "pattern": {
              "fillmode": "overlay",
              "size": 10,
              "solidity": 0.2
             }
            },
            "type": "bar"
           }
          ],
          "barpolar": [
           {
            "marker": {
             "line": {
              "color": "#E5ECF6",
              "width": 0.5
             },
             "pattern": {
              "fillmode": "overlay",
              "size": 10,
              "solidity": 0.2
             }
            },
            "type": "barpolar"
           }
          ],
          "carpet": [
           {
            "aaxis": {
             "endlinecolor": "#2a3f5f",
             "gridcolor": "white",
             "linecolor": "white",
             "minorgridcolor": "white",
             "startlinecolor": "#2a3f5f"
            },
            "baxis": {
             "endlinecolor": "#2a3f5f",
             "gridcolor": "white",
             "linecolor": "white",
             "minorgridcolor": "white",
             "startlinecolor": "#2a3f5f"
            },
            "type": "carpet"
           }
          ],
          "choropleth": [
           {
            "colorbar": {
             "outlinewidth": 0,
             "ticks": ""
            },
            "type": "choropleth"
           }
          ],
          "contour": [
           {
            "colorbar": {
             "outlinewidth": 0,
             "ticks": ""
            },
            "colorscale": [
             [
              0,
              "#0d0887"
             ],
             [
              0.1111111111111111,
              "#46039f"
             ],
             [
              0.2222222222222222,
              "#7201a8"
             ],
             [
              0.3333333333333333,
              "#9c179e"
             ],
             [
              0.4444444444444444,
              "#bd3786"
             ],
             [
              0.5555555555555556,
              "#d8576b"
             ],
             [
              0.6666666666666666,
              "#ed7953"
             ],
             [
              0.7777777777777778,
              "#fb9f3a"
             ],
             [
              0.8888888888888888,
              "#fdca26"
             ],
             [
              1,
              "#f0f921"
             ]
            ],
            "type": "contour"
           }
          ],
          "contourcarpet": [
           {
            "colorbar": {
             "outlinewidth": 0,
             "ticks": ""
            },
            "type": "contourcarpet"
           }
          ],
          "heatmap": [
           {
            "colorbar": {
             "outlinewidth": 0,
             "ticks": ""
            },
            "colorscale": [
             [
              0,
              "#0d0887"
             ],
             [
              0.1111111111111111,
              "#46039f"
             ],
             [
              0.2222222222222222,
              "#7201a8"
             ],
             [
              0.3333333333333333,
              "#9c179e"
             ],
             [
              0.4444444444444444,
              "#bd3786"
             ],
             [
              0.5555555555555556,
              "#d8576b"
             ],
             [
              0.6666666666666666,
              "#ed7953"
             ],
             [
              0.7777777777777778,
              "#fb9f3a"
             ],
             [
              0.8888888888888888,
              "#fdca26"
             ],
             [
              1,
              "#f0f921"
             ]
            ],
            "type": "heatmap"
           }
          ],
          "heatmapgl": [
           {
            "colorbar": {
             "outlinewidth": 0,
             "ticks": ""
            },
            "colorscale": [
             [
              0,
              "#0d0887"
             ],
             [
              0.1111111111111111,
              "#46039f"
             ],
             [
              0.2222222222222222,
              "#7201a8"
             ],
             [
              0.3333333333333333,
              "#9c179e"
             ],
             [
              0.4444444444444444,
              "#bd3786"
             ],
             [
              0.5555555555555556,
              "#d8576b"
             ],
             [
              0.6666666666666666,
              "#ed7953"
             ],
             [
              0.7777777777777778,
              "#fb9f3a"
             ],
             [
              0.8888888888888888,
              "#fdca26"
             ],
             [
              1,
              "#f0f921"
             ]
            ],
            "type": "heatmapgl"
           }
          ],
          "histogram": [
           {
            "marker": {
             "pattern": {
              "fillmode": "overlay",
              "size": 10,
              "solidity": 0.2
             }
            },
            "type": "histogram"
           }
          ],
          "histogram2d": [
           {
            "colorbar": {
             "outlinewidth": 0,
             "ticks": ""
            },
            "colorscale": [
             [
              0,
              "#0d0887"
             ],
             [
              0.1111111111111111,
              "#46039f"
             ],
             [
              0.2222222222222222,
              "#7201a8"
             ],
             [
              0.3333333333333333,
              "#9c179e"
             ],
             [
              0.4444444444444444,
              "#bd3786"
             ],
             [
              0.5555555555555556,
              "#d8576b"
             ],
             [
              0.6666666666666666,
              "#ed7953"
             ],
             [
              0.7777777777777778,
              "#fb9f3a"
             ],
             [
              0.8888888888888888,
              "#fdca26"
             ],
             [
              1,
              "#f0f921"
             ]
            ],
            "type": "histogram2d"
           }
          ],
          "histogram2dcontour": [
           {
            "colorbar": {
             "outlinewidth": 0,
             "ticks": ""
            },
            "colorscale": [
             [
              0,
              "#0d0887"
             ],
             [
              0.1111111111111111,
              "#46039f"
             ],
             [
              0.2222222222222222,
              "#7201a8"
             ],
             [
              0.3333333333333333,
              "#9c179e"
             ],
             [
              0.4444444444444444,
              "#bd3786"
             ],
             [
              0.5555555555555556,
              "#d8576b"
             ],
             [
              0.6666666666666666,
              "#ed7953"
             ],
             [
              0.7777777777777778,
              "#fb9f3a"
             ],
             [
              0.8888888888888888,
              "#fdca26"
             ],
             [
              1,
              "#f0f921"
             ]
            ],
            "type": "histogram2dcontour"
           }
          ],
          "mesh3d": [
           {
            "colorbar": {
             "outlinewidth": 0,
             "ticks": ""
            },
            "type": "mesh3d"
           }
          ],
          "parcoords": [
           {
            "line": {
             "colorbar": {
              "outlinewidth": 0,
              "ticks": ""
             }
            },
            "type": "parcoords"
           }
          ],
          "pie": [
           {
            "automargin": true,
            "type": "pie"
           }
          ],
          "scatter": [
           {
            "marker": {
             "colorbar": {
              "outlinewidth": 0,
              "ticks": ""
             }
            },
            "type": "scatter"
           }
          ],
          "scatter3d": [
           {
            "line": {
             "colorbar": {
              "outlinewidth": 0,
              "ticks": ""
             }
            },
            "marker": {
             "colorbar": {
              "outlinewidth": 0,
              "ticks": ""
             }
            },
            "type": "scatter3d"
           }
          ],
          "scattercarpet": [
           {
            "marker": {
             "colorbar": {
              "outlinewidth": 0,
              "ticks": ""
             }
            },
            "type": "scattercarpet"
           }
          ],
          "scattergeo": [
           {
            "marker": {
             "colorbar": {
              "outlinewidth": 0,
              "ticks": ""
             }
            },
            "type": "scattergeo"
           }
          ],
          "scattergl": [
           {
            "marker": {
             "colorbar": {
              "outlinewidth": 0,
              "ticks": ""
             }
            },
            "type": "scattergl"
           }
          ],
          "scattermapbox": [
           {
            "marker": {
             "colorbar": {
              "outlinewidth": 0,
              "ticks": ""
             }
            },
            "type": "scattermapbox"
           }
          ],
          "scatterpolar": [
           {
            "marker": {
             "colorbar": {
              "outlinewidth": 0,
              "ticks": ""
             }
            },
            "type": "scatterpolar"
           }
          ],
          "scatterpolargl": [
           {
            "marker": {
             "colorbar": {
              "outlinewidth": 0,
              "ticks": ""
             }
            },
            "type": "scatterpolargl"
           }
          ],
          "scatterternary": [
           {
            "marker": {
             "colorbar": {
              "outlinewidth": 0,
              "ticks": ""
             }
            },
            "type": "scatterternary"
           }
          ],
          "surface": [
           {
            "colorbar": {
             "outlinewidth": 0,
             "ticks": ""
            },
            "colorscale": [
             [
              0,
              "#0d0887"
             ],
             [
              0.1111111111111111,
              "#46039f"
             ],
             [
              0.2222222222222222,
              "#7201a8"
             ],
             [
              0.3333333333333333,
              "#9c179e"
             ],
             [
              0.4444444444444444,
              "#bd3786"
             ],
             [
              0.5555555555555556,
              "#d8576b"
             ],
             [
              0.6666666666666666,
              "#ed7953"
             ],
             [
              0.7777777777777778,
              "#fb9f3a"
             ],
             [
              0.8888888888888888,
              "#fdca26"
             ],
             [
              1,
              "#f0f921"
             ]
            ],
            "type": "surface"
           }
          ],
          "table": [
           {
            "cells": {
             "fill": {
              "color": "#EBF0F8"
             },
             "line": {
              "color": "white"
             }
            },
            "header": {
             "fill": {
              "color": "#C8D4E3"
             },
             "line": {
              "color": "white"
             }
            },
            "type": "table"
           }
          ]
         },
         "layout": {
          "annotationdefaults": {
           "arrowcolor": "#2a3f5f",
           "arrowhead": 0,
           "arrowwidth": 1
          },
          "autotypenumbers": "strict",
          "coloraxis": {
           "colorbar": {
            "outlinewidth": 0,
            "ticks": ""
           }
          },
          "colorscale": {
           "diverging": [
            [
             0,
             "#8e0152"
            ],
            [
             0.1,
             "#c51b7d"
            ],
            [
             0.2,
             "#de77ae"
            ],
            [
             0.3,
             "#f1b6da"
            ],
            [
             0.4,
             "#fde0ef"
            ],
            [
             0.5,
             "#f7f7f7"
            ],
            [
             0.6,
             "#e6f5d0"
            ],
            [
             0.7,
             "#b8e186"
            ],
            [
             0.8,
             "#7fbc41"
            ],
            [
             0.9,
             "#4d9221"
            ],
            [
             1,
             "#276419"
            ]
           ],
           "sequential": [
            [
             0,
             "#0d0887"
            ],
            [
             0.1111111111111111,
             "#46039f"
            ],
            [
             0.2222222222222222,
             "#7201a8"
            ],
            [
             0.3333333333333333,
             "#9c179e"
            ],
            [
             0.4444444444444444,
             "#bd3786"
            ],
            [
             0.5555555555555556,
             "#d8576b"
            ],
            [
             0.6666666666666666,
             "#ed7953"
            ],
            [
             0.7777777777777778,
             "#fb9f3a"
            ],
            [
             0.8888888888888888,
             "#fdca26"
            ],
            [
             1,
             "#f0f921"
            ]
           ],
           "sequentialminus": [
            [
             0,
             "#0d0887"
            ],
            [
             0.1111111111111111,
             "#46039f"
            ],
            [
             0.2222222222222222,
             "#7201a8"
            ],
            [
             0.3333333333333333,
             "#9c179e"
            ],
            [
             0.4444444444444444,
             "#bd3786"
            ],
            [
             0.5555555555555556,
             "#d8576b"
            ],
            [
             0.6666666666666666,
             "#ed7953"
            ],
            [
             0.7777777777777778,
             "#fb9f3a"
            ],
            [
             0.8888888888888888,
             "#fdca26"
            ],
            [
             1,
             "#f0f921"
            ]
           ]
          },
          "colorway": [
           "#636efa",
           "#EF553B",
           "#00cc96",
           "#ab63fa",
           "#FFA15A",
           "#19d3f3",
           "#FF6692",
           "#B6E880",
           "#FF97FF",
           "#FECB52"
          ],
          "font": {
           "color": "#2a3f5f"
          },
          "geo": {
           "bgcolor": "white",
           "lakecolor": "white",
           "landcolor": "#E5ECF6",
           "showlakes": true,
           "showland": true,
           "subunitcolor": "white"
          },
          "hoverlabel": {
           "align": "left"
          },
          "hovermode": "closest",
          "mapbox": {
           "style": "light"
          },
          "paper_bgcolor": "white",
          "plot_bgcolor": "#E5ECF6",
          "polar": {
           "angularaxis": {
            "gridcolor": "white",
            "linecolor": "white",
            "ticks": ""
           },
           "bgcolor": "#E5ECF6",
           "radialaxis": {
            "gridcolor": "white",
            "linecolor": "white",
            "ticks": ""
           }
          },
          "scene": {
           "xaxis": {
            "backgroundcolor": "#E5ECF6",
            "gridcolor": "white",
            "gridwidth": 2,
            "linecolor": "white",
            "showbackground": true,
            "ticks": "",
            "zerolinecolor": "white"
           },
           "yaxis": {
            "backgroundcolor": "#E5ECF6",
            "gridcolor": "white",
            "gridwidth": 2,
            "linecolor": "white",
            "showbackground": true,
            "ticks": "",
            "zerolinecolor": "white"
           },
           "zaxis": {
            "backgroundcolor": "#E5ECF6",
            "gridcolor": "white",
            "gridwidth": 2,
            "linecolor": "white",
            "showbackground": true,
            "ticks": "",
            "zerolinecolor": "white"
           }
          },
          "shapedefaults": {
           "line": {
            "color": "#2a3f5f"
           }
          },
          "ternary": {
           "aaxis": {
            "gridcolor": "white",
            "linecolor": "white",
            "ticks": ""
           },
           "baxis": {
            "gridcolor": "white",
            "linecolor": "white",
            "ticks": ""
           },
           "bgcolor": "#E5ECF6",
           "caxis": {
            "gridcolor": "white",
            "linecolor": "white",
            "ticks": ""
           }
          },
          "title": {
           "x": 0.05
          },
          "xaxis": {
           "automargin": true,
           "gridcolor": "white",
           "linecolor": "white",
           "ticks": "",
           "title": {
            "standoff": 15
           },
           "zerolinecolor": "white",
           "zerolinewidth": 2
          },
          "yaxis": {
           "automargin": true,
           "gridcolor": "white",
           "linecolor": "white",
           "ticks": "",
           "title": {
            "standoff": 15
           },
           "zerolinecolor": "white",
           "zerolinewidth": 2
          }
         }
        },
        "title": {
         "text": "Change the date to see the differnce in the Total price of Country "
        },
        "updatemenus": [
         {
          "buttons": [
           {
            "args": [
             null,
             {
              "frame": {
               "duration": 500,
               "redraw": true
              },
              "fromcurrent": true,
              "mode": "immediate",
              "transition": {
               "duration": 500,
               "easing": "linear"
              }
             }
            ],
            "label": "&#9654;",
            "method": "animate"
           },
           {
            "args": [
             [
              null
             ],
             {
              "frame": {
               "duration": 0,
               "redraw": true
              },
              "fromcurrent": true,
              "mode": "immediate",
              "transition": {
               "duration": 0,
               "easing": "linear"
              }
             }
            ],
            "label": "&#9724;",
            "method": "animate"
           }
          ],
          "direction": "left",
          "pad": {
           "r": 10,
           "t": 70
          },
          "showactive": false,
          "type": "buttons",
          "x": 0.1,
          "xanchor": "right",
          "y": 0,
          "yanchor": "top"
         }
        ],
        "xaxis": {
         "anchor": "y",
         "categoryarray": [
          "Yangon",
          "Naypyitaw",
          "Mandalay"
         ],
         "categoryorder": "array",
         "domain": [
          0,
          1
         ],
         "title": {
          "text": "City"
         }
        },
        "yaxis": {
         "anchor": "x",
         "domain": [
          0,
          1
         ],
         "range": [
          0,
          1000
         ],
         "title": {
          "text": "Total"
         }
        }
       }
      },
      "text/html": [
       "<div>                            <div id=\"21d5ba56-e8ba-4b4c-a74e-e0dd8487c4b8\" class=\"plotly-graph-div\" style=\"height:525px; width:100%;\"></div>            <script type=\"text/javascript\">                require([\"plotly\"], function(Plotly) {                    window.PLOTLYENV=window.PLOTLYENV || {};                                    if (document.getElementById(\"21d5ba56-e8ba-4b4c-a74e-e0dd8487c4b8\")) {                    Plotly.newPlot(                        \"21d5ba56-e8ba-4b4c-a74e-e0dd8487c4b8\",                        [{\"alignmentgroup\":\"True\",\"hovertemplate\":\"City=%{x}<br>Date=1/5/2019<br>Total=%{y}<extra></extra>\",\"ids\":[\"A\",\"A\",\"A\",\"A\",\"A\"],\"legendgroup\":\"Yangon\",\"marker\":{\"color\":\"#636efa\",\"pattern\":{\"shape\":\"\"}},\"name\":\"Yangon\",\"offsetgroup\":\"Yangon\",\"orientation\":\"v\",\"showlegend\":true,\"textposition\":\"auto\",\"x\":[\"Yangon\",\"Yangon\",\"Yangon\",\"Yangon\",\"Yangon\"],\"xaxis\":\"x\",\"y\":[548.9715,263.13,297.108,225.2775,690.018],\"yaxis\":\"y\",\"type\":\"bar\"},{\"alignmentgroup\":\"True\",\"hovertemplate\":\"City=%{x}<br>Date=1/5/2019<br>Total=%{y}<extra></extra>\",\"ids\":[\"C\",\"C\",\"C\",\"C\"],\"legendgroup\":\"Naypyitaw\",\"marker\":{\"color\":\"#EF553B\",\"pattern\":{\"shape\":\"\"}},\"name\":\"Naypyitaw\",\"offsetgroup\":\"Naypyitaw\",\"orientation\":\"v\",\"showlegend\":true,\"textposition\":\"auto\",\"x\":[\"Naypyitaw\",\"Naypyitaw\",\"Naypyitaw\",\"Naypyitaw\"],\"xaxis\":\"x\",\"y\":[172.494,33.495,239.589,579.8415],\"yaxis\":\"y\",\"type\":\"bar\"},{\"alignmentgroup\":\"True\",\"hovertemplate\":\"City=%{x}<br>Date=1/5/2019<br>Total=%{y}<extra></extra>\",\"ids\":[\"B\",\"B\",\"B\"],\"legendgroup\":\"Mandalay\",\"marker\":{\"color\":\"#00cc96\",\"pattern\":{\"shape\":\"\"}},\"name\":\"Mandalay\",\"offsetgroup\":\"Mandalay\",\"orientation\":\"v\",\"showlegend\":true,\"textposition\":\"auto\",\"x\":[\"Mandalay\",\"Mandalay\",\"Mandalay\"],\"xaxis\":\"x\",\"y\":[334.341,77.658,74.76],\"yaxis\":\"y\",\"type\":\"bar\"}],                        {\"template\":{\"data\":{\"bar\":[{\"error_x\":{\"color\":\"#2a3f5f\"},\"error_y\":{\"color\":\"#2a3f5f\"},\"marker\":{\"line\":{\"color\":\"#E5ECF6\",\"width\":0.5},\"pattern\":{\"fillmode\":\"overlay\",\"size\":10,\"solidity\":0.2}},\"type\":\"bar\"}],\"barpolar\":[{\"marker\":{\"line\":{\"color\":\"#E5ECF6\",\"width\":0.5},\"pattern\":{\"fillmode\":\"overlay\",\"size\":10,\"solidity\":0.2}},\"type\":\"barpolar\"}],\"carpet\":[{\"aaxis\":{\"endlinecolor\":\"#2a3f5f\",\"gridcolor\":\"white\",\"linecolor\":\"white\",\"minorgridcolor\":\"white\",\"startlinecolor\":\"#2a3f5f\"},\"baxis\":{\"endlinecolor\":\"#2a3f5f\",\"gridcolor\":\"white\",\"linecolor\":\"white\",\"minorgridcolor\":\"white\",\"startlinecolor\":\"#2a3f5f\"},\"type\":\"carpet\"}],\"choropleth\":[{\"colorbar\":{\"outlinewidth\":0,\"ticks\":\"\"},\"type\":\"choropleth\"}],\"contour\":[{\"colorbar\":{\"outlinewidth\":0,\"ticks\":\"\"},\"colorscale\":[[0.0,\"#0d0887\"],[0.1111111111111111,\"#46039f\"],[0.2222222222222222,\"#7201a8\"],[0.3333333333333333,\"#9c179e\"],[0.4444444444444444,\"#bd3786\"],[0.5555555555555556,\"#d8576b\"],[0.6666666666666666,\"#ed7953\"],[0.7777777777777778,\"#fb9f3a\"],[0.8888888888888888,\"#fdca26\"],[1.0,\"#f0f921\"]],\"type\":\"contour\"}],\"contourcarpet\":[{\"colorbar\":{\"outlinewidth\":0,\"ticks\":\"\"},\"type\":\"contourcarpet\"}],\"heatmap\":[{\"colorbar\":{\"outlinewidth\":0,\"ticks\":\"\"},\"colorscale\":[[0.0,\"#0d0887\"],[0.1111111111111111,\"#46039f\"],[0.2222222222222222,\"#7201a8\"],[0.3333333333333333,\"#9c179e\"],[0.4444444444444444,\"#bd3786\"],[0.5555555555555556,\"#d8576b\"],[0.6666666666666666,\"#ed7953\"],[0.7777777777777778,\"#fb9f3a\"],[0.8888888888888888,\"#fdca26\"],[1.0,\"#f0f921\"]],\"type\":\"heatmap\"}],\"heatmapgl\":[{\"colorbar\":{\"outlinewidth\":0,\"ticks\":\"\"},\"colorscale\":[[0.0,\"#0d0887\"],[0.1111111111111111,\"#46039f\"],[0.2222222222222222,\"#7201a8\"],[0.3333333333333333,\"#9c179e\"],[0.4444444444444444,\"#bd3786\"],[0.5555555555555556,\"#d8576b\"],[0.6666666666666666,\"#ed7953\"],[0.7777777777777778,\"#fb9f3a\"],[0.8888888888888888,\"#fdca26\"],[1.0,\"#f0f921\"]],\"type\":\"heatmapgl\"}],\"histogram\":[{\"marker\":{\"pattern\":{\"fillmode\":\"overlay\",\"size\":10,\"solidity\":0.2}},\"type\":\"histogram\"}],\"histogram2d\":[{\"colorbar\":{\"outlinewidth\":0,\"ticks\":\"\"},\"colorscale\":[[0.0,\"#0d0887\"],[0.1111111111111111,\"#46039f\"],[0.2222222222222222,\"#7201a8\"],[0.3333333333333333,\"#9c179e\"],[0.4444444444444444,\"#bd3786\"],[0.5555555555555556,\"#d8576b\"],[0.6666666666666666,\"#ed7953\"],[0.7777777777777778,\"#fb9f3a\"],[0.8888888888888888,\"#fdca26\"],[1.0,\"#f0f921\"]],\"type\":\"histogram2d\"}],\"histogram2dcontour\":[{\"colorbar\":{\"outlinewidth\":0,\"ticks\":\"\"},\"colorscale\":[[0.0,\"#0d0887\"],[0.1111111111111111,\"#46039f\"],[0.2222222222222222,\"#7201a8\"],[0.3333333333333333,\"#9c179e\"],[0.4444444444444444,\"#bd3786\"],[0.5555555555555556,\"#d8576b\"],[0.6666666666666666,\"#ed7953\"],[0.7777777777777778,\"#fb9f3a\"],[0.8888888888888888,\"#fdca26\"],[1.0,\"#f0f921\"]],\"type\":\"histogram2dcontour\"}],\"mesh3d\":[{\"colorbar\":{\"outlinewidth\":0,\"ticks\":\"\"},\"type\":\"mesh3d\"}],\"parcoords\":[{\"line\":{\"colorbar\":{\"outlinewidth\":0,\"ticks\":\"\"}},\"type\":\"parcoords\"}],\"pie\":[{\"automargin\":true,\"type\":\"pie\"}],\"scatter\":[{\"marker\":{\"colorbar\":{\"outlinewidth\":0,\"ticks\":\"\"}},\"type\":\"scatter\"}],\"scatter3d\":[{\"line\":{\"colorbar\":{\"outlinewidth\":0,\"ticks\":\"\"}},\"marker\":{\"colorbar\":{\"outlinewidth\":0,\"ticks\":\"\"}},\"type\":\"scatter3d\"}],\"scattercarpet\":[{\"marker\":{\"colorbar\":{\"outlinewidth\":0,\"ticks\":\"\"}},\"type\":\"scattercarpet\"}],\"scattergeo\":[{\"marker\":{\"colorbar\":{\"outlinewidth\":0,\"ticks\":\"\"}},\"type\":\"scattergeo\"}],\"scattergl\":[{\"marker\":{\"colorbar\":{\"outlinewidth\":0,\"ticks\":\"\"}},\"type\":\"scattergl\"}],\"scattermapbox\":[{\"marker\":{\"colorbar\":{\"outlinewidth\":0,\"ticks\":\"\"}},\"type\":\"scattermapbox\"}],\"scatterpolar\":[{\"marker\":{\"colorbar\":{\"outlinewidth\":0,\"ticks\":\"\"}},\"type\":\"scatterpolar\"}],\"scatterpolargl\":[{\"marker\":{\"colorbar\":{\"outlinewidth\":0,\"ticks\":\"\"}},\"type\":\"scatterpolargl\"}],\"scatterternary\":[{\"marker\":{\"colorbar\":{\"outlinewidth\":0,\"ticks\":\"\"}},\"type\":\"scatterternary\"}],\"surface\":[{\"colorbar\":{\"outlinewidth\":0,\"ticks\":\"\"},\"colorscale\":[[0.0,\"#0d0887\"],[0.1111111111111111,\"#46039f\"],[0.2222222222222222,\"#7201a8\"],[0.3333333333333333,\"#9c179e\"],[0.4444444444444444,\"#bd3786\"],[0.5555555555555556,\"#d8576b\"],[0.6666666666666666,\"#ed7953\"],[0.7777777777777778,\"#fb9f3a\"],[0.8888888888888888,\"#fdca26\"],[1.0,\"#f0f921\"]],\"type\":\"surface\"}],\"table\":[{\"cells\":{\"fill\":{\"color\":\"#EBF0F8\"},\"line\":{\"color\":\"white\"}},\"header\":{\"fill\":{\"color\":\"#C8D4E3\"},\"line\":{\"color\":\"white\"}},\"type\":\"table\"}]},\"layout\":{\"annotationdefaults\":{\"arrowcolor\":\"#2a3f5f\",\"arrowhead\":0,\"arrowwidth\":1},\"autotypenumbers\":\"strict\",\"coloraxis\":{\"colorbar\":{\"outlinewidth\":0,\"ticks\":\"\"}},\"colorscale\":{\"diverging\":[[0,\"#8e0152\"],[0.1,\"#c51b7d\"],[0.2,\"#de77ae\"],[0.3,\"#f1b6da\"],[0.4,\"#fde0ef\"],[0.5,\"#f7f7f7\"],[0.6,\"#e6f5d0\"],[0.7,\"#b8e186\"],[0.8,\"#7fbc41\"],[0.9,\"#4d9221\"],[1,\"#276419\"]],\"sequential\":[[0.0,\"#0d0887\"],[0.1111111111111111,\"#46039f\"],[0.2222222222222222,\"#7201a8\"],[0.3333333333333333,\"#9c179e\"],[0.4444444444444444,\"#bd3786\"],[0.5555555555555556,\"#d8576b\"],[0.6666666666666666,\"#ed7953\"],[0.7777777777777778,\"#fb9f3a\"],[0.8888888888888888,\"#fdca26\"],[1.0,\"#f0f921\"]],\"sequentialminus\":[[0.0,\"#0d0887\"],[0.1111111111111111,\"#46039f\"],[0.2222222222222222,\"#7201a8\"],[0.3333333333333333,\"#9c179e\"],[0.4444444444444444,\"#bd3786\"],[0.5555555555555556,\"#d8576b\"],[0.6666666666666666,\"#ed7953\"],[0.7777777777777778,\"#fb9f3a\"],[0.8888888888888888,\"#fdca26\"],[1.0,\"#f0f921\"]]},\"colorway\":[\"#636efa\",\"#EF553B\",\"#00cc96\",\"#ab63fa\",\"#FFA15A\",\"#19d3f3\",\"#FF6692\",\"#B6E880\",\"#FF97FF\",\"#FECB52\"],\"font\":{\"color\":\"#2a3f5f\"},\"geo\":{\"bgcolor\":\"white\",\"lakecolor\":\"white\",\"landcolor\":\"#E5ECF6\",\"showlakes\":true,\"showland\":true,\"subunitcolor\":\"white\"},\"hoverlabel\":{\"align\":\"left\"},\"hovermode\":\"closest\",\"mapbox\":{\"style\":\"light\"},\"paper_bgcolor\":\"white\",\"plot_bgcolor\":\"#E5ECF6\",\"polar\":{\"angularaxis\":{\"gridcolor\":\"white\",\"linecolor\":\"white\",\"ticks\":\"\"},\"bgcolor\":\"#E5ECF6\",\"radialaxis\":{\"gridcolor\":\"white\",\"linecolor\":\"white\",\"ticks\":\"\"}},\"scene\":{\"xaxis\":{\"backgroundcolor\":\"#E5ECF6\",\"gridcolor\":\"white\",\"gridwidth\":2,\"linecolor\":\"white\",\"showbackground\":true,\"ticks\":\"\",\"zerolinecolor\":\"white\"},\"yaxis\":{\"backgroundcolor\":\"#E5ECF6\",\"gridcolor\":\"white\",\"gridwidth\":2,\"linecolor\":\"white\",\"showbackground\":true,\"ticks\":\"\",\"zerolinecolor\":\"white\"},\"zaxis\":{\"backgroundcolor\":\"#E5ECF6\",\"gridcolor\":\"white\",\"gridwidth\":2,\"linecolor\":\"white\",\"showbackground\":true,\"ticks\":\"\",\"zerolinecolor\":\"white\"}},\"shapedefaults\":{\"line\":{\"color\":\"#2a3f5f\"}},\"ternary\":{\"aaxis\":{\"gridcolor\":\"white\",\"linecolor\":\"white\",\"ticks\":\"\"},\"baxis\":{\"gridcolor\":\"white\",\"linecolor\":\"white\",\"ticks\":\"\"},\"bgcolor\":\"#E5ECF6\",\"caxis\":{\"gridcolor\":\"white\",\"linecolor\":\"white\",\"ticks\":\"\"}},\"title\":{\"x\":0.05},\"xaxis\":{\"automargin\":true,\"gridcolor\":\"white\",\"linecolor\":\"white\",\"ticks\":\"\",\"title\":{\"standoff\":15},\"zerolinecolor\":\"white\",\"zerolinewidth\":2},\"yaxis\":{\"automargin\":true,\"gridcolor\":\"white\",\"linecolor\":\"white\",\"ticks\":\"\",\"title\":{\"standoff\":15},\"zerolinecolor\":\"white\",\"zerolinewidth\":2}}},\"xaxis\":{\"anchor\":\"y\",\"domain\":[0.0,1.0],\"title\":{\"text\":\"City\"},\"categoryorder\":\"array\",\"categoryarray\":[\"Yangon\",\"Naypyitaw\",\"Mandalay\"]},\"yaxis\":{\"anchor\":\"x\",\"domain\":[0.0,1.0],\"title\":{\"text\":\"Total\"},\"range\":[0,1000]},\"legend\":{\"title\":{\"text\":\"City\"},\"tracegroupgap\":0},\"title\":{\"text\":\"Change the date to see the differnce in the Total price of Country \"},\"barmode\":\"relative\",\"updatemenus\":[{\"buttons\":[{\"args\":[null,{\"frame\":{\"duration\":500,\"redraw\":true},\"mode\":\"immediate\",\"fromcurrent\":true,\"transition\":{\"duration\":500,\"easing\":\"linear\"}}],\"label\":\"&#9654;\",\"method\":\"animate\"},{\"args\":[[null],{\"frame\":{\"duration\":0,\"redraw\":true},\"mode\":\"immediate\",\"fromcurrent\":true,\"transition\":{\"duration\":0,\"easing\":\"linear\"}}],\"label\":\"&#9724;\",\"method\":\"animate\"}],\"direction\":\"left\",\"pad\":{\"r\":10,\"t\":70},\"showactive\":false,\"type\":\"buttons\",\"x\":0.1,\"xanchor\":\"right\",\"y\":0,\"yanchor\":\"top\"}],\"sliders\":[{\"active\":0,\"currentvalue\":{\"prefix\":\"Date=\"},\"len\":0.9,\"pad\":{\"b\":10,\"t\":60},\"steps\":[{\"args\":[[\"1/5/2019\"],{\"frame\":{\"duration\":0,\"redraw\":true},\"mode\":\"immediate\",\"fromcurrent\":true,\"transition\":{\"duration\":0,\"easing\":\"linear\"}}],\"label\":\"1/5/2019\",\"method\":\"animate\"},{\"args\":[[\"3/8/2019\"],{\"frame\":{\"duration\":0,\"redraw\":true},\"mode\":\"immediate\",\"fromcurrent\":true,\"transition\":{\"duration\":0,\"easing\":\"linear\"}}],\"label\":\"3/8/2019\",\"method\":\"animate\"},{\"args\":[[\"3/3/2019\"],{\"frame\":{\"duration\":0,\"redraw\":true},\"mode\":\"immediate\",\"fromcurrent\":true,\"transition\":{\"duration\":0,\"easing\":\"linear\"}}],\"label\":\"3/3/2019\",\"method\":\"animate\"},{\"args\":[[\"1/27/2019\"],{\"frame\":{\"duration\":0,\"redraw\":true},\"mode\":\"immediate\",\"fromcurrent\":true,\"transition\":{\"duration\":0,\"easing\":\"linear\"}}],\"label\":\"1/27/2019\",\"method\":\"animate\"},{\"args\":[[\"2/8/2019\"],{\"frame\":{\"duration\":0,\"redraw\":true},\"mode\":\"immediate\",\"fromcurrent\":true,\"transition\":{\"duration\":0,\"easing\":\"linear\"}}],\"label\":\"2/8/2019\",\"method\":\"animate\"},{\"args\":[[\"3/25/2019\"],{\"frame\":{\"duration\":0,\"redraw\":true},\"mode\":\"immediate\",\"fromcurrent\":true,\"transition\":{\"duration\":0,\"easing\":\"linear\"}}],\"label\":\"3/25/2019\",\"method\":\"animate\"},{\"args\":[[\"2/25/2019\"],{\"frame\":{\"duration\":0,\"redraw\":true},\"mode\":\"immediate\",\"fromcurrent\":true,\"transition\":{\"duration\":0,\"easing\":\"linear\"}}],\"label\":\"2/25/2019\",\"method\":\"animate\"},{\"args\":[[\"2/24/2019\"],{\"frame\":{\"duration\":0,\"redraw\":true},\"mode\":\"immediate\",\"fromcurrent\":true,\"transition\":{\"duration\":0,\"easing\":\"linear\"}}],\"label\":\"2/24/2019\",\"method\":\"animate\"},{\"args\":[[\"1/10/2019\"],{\"frame\":{\"duration\":0,\"redraw\":true},\"mode\":\"immediate\",\"fromcurrent\":true,\"transition\":{\"duration\":0,\"easing\":\"linear\"}}],\"label\":\"1/10/2019\",\"method\":\"animate\"},{\"args\":[[\"2/20/2019\"],{\"frame\":{\"duration\":0,\"redraw\":true},\"mode\":\"immediate\",\"fromcurrent\":true,\"transition\":{\"duration\":0,\"easing\":\"linear\"}}],\"label\":\"2/20/2019\",\"method\":\"animate\"},{\"args\":[[\"2/6/2019\"],{\"frame\":{\"duration\":0,\"redraw\":true},\"mode\":\"immediate\",\"fromcurrent\":true,\"transition\":{\"duration\":0,\"easing\":\"linear\"}}],\"label\":\"2/6/2019\",\"method\":\"animate\"},{\"args\":[[\"3/9/2019\"],{\"frame\":{\"duration\":0,\"redraw\":true},\"mode\":\"immediate\",\"fromcurrent\":true,\"transition\":{\"duration\":0,\"easing\":\"linear\"}}],\"label\":\"3/9/2019\",\"method\":\"animate\"},{\"args\":[[\"2/12/2019\"],{\"frame\":{\"duration\":0,\"redraw\":true},\"mode\":\"immediate\",\"fromcurrent\":true,\"transition\":{\"duration\":0,\"easing\":\"linear\"}}],\"label\":\"2/12/2019\",\"method\":\"animate\"},{\"args\":[[\"2/7/2019\"],{\"frame\":{\"duration\":0,\"redraw\":true},\"mode\":\"immediate\",\"fromcurrent\":true,\"transition\":{\"duration\":0,\"easing\":\"linear\"}}],\"label\":\"2/7/2019\",\"method\":\"animate\"},{\"args\":[[\"3/29/2019\"],{\"frame\":{\"duration\":0,\"redraw\":true},\"mode\":\"immediate\",\"fromcurrent\":true,\"transition\":{\"duration\":0,\"easing\":\"linear\"}}],\"label\":\"3/29/2019\",\"method\":\"animate\"},{\"args\":[[\"1/15/2019\"],{\"frame\":{\"duration\":0,\"redraw\":true},\"mode\":\"immediate\",\"fromcurrent\":true,\"transition\":{\"duration\":0,\"easing\":\"linear\"}}],\"label\":\"1/15/2019\",\"method\":\"animate\"},{\"args\":[[\"3/11/2019\"],{\"frame\":{\"duration\":0,\"redraw\":true},\"mode\":\"immediate\",\"fromcurrent\":true,\"transition\":{\"duration\":0,\"easing\":\"linear\"}}],\"label\":\"3/11/2019\",\"method\":\"animate\"},{\"args\":[[\"1/1/2019\"],{\"frame\":{\"duration\":0,\"redraw\":true},\"mode\":\"immediate\",\"fromcurrent\":true,\"transition\":{\"duration\":0,\"easing\":\"linear\"}}],\"label\":\"1/1/2019\",\"method\":\"animate\"},{\"args\":[[\"1/21/2019\"],{\"frame\":{\"duration\":0,\"redraw\":true},\"mode\":\"immediate\",\"fromcurrent\":true,\"transition\":{\"duration\":0,\"easing\":\"linear\"}}],\"label\":\"1/21/2019\",\"method\":\"animate\"},{\"args\":[[\"3/5/2019\"],{\"frame\":{\"duration\":0,\"redraw\":true},\"mode\":\"immediate\",\"fromcurrent\":true,\"transition\":{\"duration\":0,\"easing\":\"linear\"}}],\"label\":\"3/5/2019\",\"method\":\"animate\"},{\"args\":[[\"3/15/2019\"],{\"frame\":{\"duration\":0,\"redraw\":true},\"mode\":\"immediate\",\"fromcurrent\":true,\"transition\":{\"duration\":0,\"easing\":\"linear\"}}],\"label\":\"3/15/2019\",\"method\":\"animate\"},{\"args\":[[\"2/17/2019\"],{\"frame\":{\"duration\":0,\"redraw\":true},\"mode\":\"immediate\",\"fromcurrent\":true,\"transition\":{\"duration\":0,\"easing\":\"linear\"}}],\"label\":\"2/17/2019\",\"method\":\"animate\"},{\"args\":[[\"3/2/2019\"],{\"frame\":{\"duration\":0,\"redraw\":true},\"mode\":\"immediate\",\"fromcurrent\":true,\"transition\":{\"duration\":0,\"easing\":\"linear\"}}],\"label\":\"3/2/2019\",\"method\":\"animate\"},{\"args\":[[\"3/22/2019\"],{\"frame\":{\"duration\":0,\"redraw\":true},\"mode\":\"immediate\",\"fromcurrent\":true,\"transition\":{\"duration\":0,\"easing\":\"linear\"}}],\"label\":\"3/22/2019\",\"method\":\"animate\"},{\"args\":[[\"3/10/2019\"],{\"frame\":{\"duration\":0,\"redraw\":true},\"mode\":\"immediate\",\"fromcurrent\":true,\"transition\":{\"duration\":0,\"easing\":\"linear\"}}],\"label\":\"3/10/2019\",\"method\":\"animate\"},{\"args\":[[\"1/25/2019\"],{\"frame\":{\"duration\":0,\"redraw\":true},\"mode\":\"immediate\",\"fromcurrent\":true,\"transition\":{\"duration\":0,\"easing\":\"linear\"}}],\"label\":\"1/25/2019\",\"method\":\"animate\"},{\"args\":[[\"1/28/2019\"],{\"frame\":{\"duration\":0,\"redraw\":true},\"mode\":\"immediate\",\"fromcurrent\":true,\"transition\":{\"duration\":0,\"easing\":\"linear\"}}],\"label\":\"1/28/2019\",\"method\":\"animate\"},{\"args\":[[\"1/7/2019\"],{\"frame\":{\"duration\":0,\"redraw\":true},\"mode\":\"immediate\",\"fromcurrent\":true,\"transition\":{\"duration\":0,\"easing\":\"linear\"}}],\"label\":\"1/7/2019\",\"method\":\"animate\"},{\"args\":[[\"3/23/2019\"],{\"frame\":{\"duration\":0,\"redraw\":true},\"mode\":\"immediate\",\"fromcurrent\":true,\"transition\":{\"duration\":0,\"easing\":\"linear\"}}],\"label\":\"3/23/2019\",\"method\":\"animate\"},{\"args\":[[\"1/17/2019\"],{\"frame\":{\"duration\":0,\"redraw\":true},\"mode\":\"immediate\",\"fromcurrent\":true,\"transition\":{\"duration\":0,\"easing\":\"linear\"}}],\"label\":\"1/17/2019\",\"method\":\"animate\"},{\"args\":[[\"2/2/2019\"],{\"frame\":{\"duration\":0,\"redraw\":true},\"mode\":\"immediate\",\"fromcurrent\":true,\"transition\":{\"duration\":0,\"easing\":\"linear\"}}],\"label\":\"2/2/2019\",\"method\":\"animate\"},{\"args\":[[\"3/4/2019\"],{\"frame\":{\"duration\":0,\"redraw\":true},\"mode\":\"immediate\",\"fromcurrent\":true,\"transition\":{\"duration\":0,\"easing\":\"linear\"}}],\"label\":\"3/4/2019\",\"method\":\"animate\"},{\"args\":[[\"3/16/2019\"],{\"frame\":{\"duration\":0,\"redraw\":true},\"mode\":\"immediate\",\"fromcurrent\":true,\"transition\":{\"duration\":0,\"easing\":\"linear\"}}],\"label\":\"3/16/2019\",\"method\":\"animate\"},{\"args\":[[\"2/27/2019\"],{\"frame\":{\"duration\":0,\"redraw\":true},\"mode\":\"immediate\",\"fromcurrent\":true,\"transition\":{\"duration\":0,\"easing\":\"linear\"}}],\"label\":\"2/27/2019\",\"method\":\"animate\"},{\"args\":[[\"2/10/2019\"],{\"frame\":{\"duration\":0,\"redraw\":true},\"mode\":\"immediate\",\"fromcurrent\":true,\"transition\":{\"duration\":0,\"easing\":\"linear\"}}],\"label\":\"2/10/2019\",\"method\":\"animate\"},{\"args\":[[\"3/19/2019\"],{\"frame\":{\"duration\":0,\"redraw\":true},\"mode\":\"immediate\",\"fromcurrent\":true,\"transition\":{\"duration\":0,\"easing\":\"linear\"}}],\"label\":\"3/19/2019\",\"method\":\"animate\"},{\"args\":[[\"2/3/2019\"],{\"frame\":{\"duration\":0,\"redraw\":true},\"mode\":\"immediate\",\"fromcurrent\":true,\"transition\":{\"duration\":0,\"easing\":\"linear\"}}],\"label\":\"2/3/2019\",\"method\":\"animate\"},{\"args\":[[\"3/7/2019\"],{\"frame\":{\"duration\":0,\"redraw\":true},\"mode\":\"immediate\",\"fromcurrent\":true,\"transition\":{\"duration\":0,\"easing\":\"linear\"}}],\"label\":\"3/7/2019\",\"method\":\"animate\"},{\"args\":[[\"2/28/2019\"],{\"frame\":{\"duration\":0,\"redraw\":true},\"mode\":\"immediate\",\"fromcurrent\":true,\"transition\":{\"duration\":0,\"easing\":\"linear\"}}],\"label\":\"2/28/2019\",\"method\":\"animate\"},{\"args\":[[\"3/27/2019\"],{\"frame\":{\"duration\":0,\"redraw\":true},\"mode\":\"immediate\",\"fromcurrent\":true,\"transition\":{\"duration\":0,\"easing\":\"linear\"}}],\"label\":\"3/27/2019\",\"method\":\"animate\"},{\"args\":[[\"1/20/2019\"],{\"frame\":{\"duration\":0,\"redraw\":true},\"mode\":\"immediate\",\"fromcurrent\":true,\"transition\":{\"duration\":0,\"easing\":\"linear\"}}],\"label\":\"1/20/2019\",\"method\":\"animate\"},{\"args\":[[\"3/12/2019\"],{\"frame\":{\"duration\":0,\"redraw\":true},\"mode\":\"immediate\",\"fromcurrent\":true,\"transition\":{\"duration\":0,\"easing\":\"linear\"}}],\"label\":\"3/12/2019\",\"method\":\"animate\"},{\"args\":[[\"2/15/2019\"],{\"frame\":{\"duration\":0,\"redraw\":true},\"mode\":\"immediate\",\"fromcurrent\":true,\"transition\":{\"duration\":0,\"easing\":\"linear\"}}],\"label\":\"2/15/2019\",\"method\":\"animate\"},{\"args\":[[\"3/6/2019\"],{\"frame\":{\"duration\":0,\"redraw\":true},\"mode\":\"immediate\",\"fromcurrent\":true,\"transition\":{\"duration\":0,\"easing\":\"linear\"}}],\"label\":\"3/6/2019\",\"method\":\"animate\"},{\"args\":[[\"2/14/2019\"],{\"frame\":{\"duration\":0,\"redraw\":true},\"mode\":\"immediate\",\"fromcurrent\":true,\"transition\":{\"duration\":0,\"easing\":\"linear\"}}],\"label\":\"2/14/2019\",\"method\":\"animate\"},{\"args\":[[\"3/13/2019\"],{\"frame\":{\"duration\":0,\"redraw\":true},\"mode\":\"immediate\",\"fromcurrent\":true,\"transition\":{\"duration\":0,\"easing\":\"linear\"}}],\"label\":\"3/13/2019\",\"method\":\"animate\"},{\"args\":[[\"1/24/2019\"],{\"frame\":{\"duration\":0,\"redraw\":true},\"mode\":\"immediate\",\"fromcurrent\":true,\"transition\":{\"duration\":0,\"easing\":\"linear\"}}],\"label\":\"1/24/2019\",\"method\":\"animate\"},{\"args\":[[\"1/6/2019\"],{\"frame\":{\"duration\":0,\"redraw\":true},\"mode\":\"immediate\",\"fromcurrent\":true,\"transition\":{\"duration\":0,\"easing\":\"linear\"}}],\"label\":\"1/6/2019\",\"method\":\"animate\"},{\"args\":[[\"2/11/2019\"],{\"frame\":{\"duration\":0,\"redraw\":true},\"mode\":\"immediate\",\"fromcurrent\":true,\"transition\":{\"duration\":0,\"easing\":\"linear\"}}],\"label\":\"2/11/2019\",\"method\":\"animate\"},{\"args\":[[\"1/22/2019\"],{\"frame\":{\"duration\":0,\"redraw\":true},\"mode\":\"immediate\",\"fromcurrent\":true,\"transition\":{\"duration\":0,\"easing\":\"linear\"}}],\"label\":\"1/22/2019\",\"method\":\"animate\"},{\"args\":[[\"1/13/2019\"],{\"frame\":{\"duration\":0,\"redraw\":true},\"mode\":\"immediate\",\"fromcurrent\":true,\"transition\":{\"duration\":0,\"easing\":\"linear\"}}],\"label\":\"1/13/2019\",\"method\":\"animate\"},{\"args\":[[\"1/9/2019\"],{\"frame\":{\"duration\":0,\"redraw\":true},\"mode\":\"immediate\",\"fromcurrent\":true,\"transition\":{\"duration\":0,\"easing\":\"linear\"}}],\"label\":\"1/9/2019\",\"method\":\"animate\"},{\"args\":[[\"1/12/2019\"],{\"frame\":{\"duration\":0,\"redraw\":true},\"mode\":\"immediate\",\"fromcurrent\":true,\"transition\":{\"duration\":0,\"easing\":\"linear\"}}],\"label\":\"1/12/2019\",\"method\":\"animate\"},{\"args\":[[\"1/26/2019\"],{\"frame\":{\"duration\":0,\"redraw\":true},\"mode\":\"immediate\",\"fromcurrent\":true,\"transition\":{\"duration\":0,\"easing\":\"linear\"}}],\"label\":\"1/26/2019\",\"method\":\"animate\"},{\"args\":[[\"1/23/2019\"],{\"frame\":{\"duration\":0,\"redraw\":true},\"mode\":\"immediate\",\"fromcurrent\":true,\"transition\":{\"duration\":0,\"easing\":\"linear\"}}],\"label\":\"1/23/2019\",\"method\":\"animate\"},{\"args\":[[\"2/23/2019\"],{\"frame\":{\"duration\":0,\"redraw\":true},\"mode\":\"immediate\",\"fromcurrent\":true,\"transition\":{\"duration\":0,\"easing\":\"linear\"}}],\"label\":\"2/23/2019\",\"method\":\"animate\"},{\"args\":[[\"1/2/2019\"],{\"frame\":{\"duration\":0,\"redraw\":true},\"mode\":\"immediate\",\"fromcurrent\":true,\"transition\":{\"duration\":0,\"easing\":\"linear\"}}],\"label\":\"1/2/2019\",\"method\":\"animate\"},{\"args\":[[\"2/9/2019\"],{\"frame\":{\"duration\":0,\"redraw\":true},\"mode\":\"immediate\",\"fromcurrent\":true,\"transition\":{\"duration\":0,\"easing\":\"linear\"}}],\"label\":\"2/9/2019\",\"method\":\"animate\"},{\"args\":[[\"3/26/2019\"],{\"frame\":{\"duration\":0,\"redraw\":true},\"mode\":\"immediate\",\"fromcurrent\":true,\"transition\":{\"duration\":0,\"easing\":\"linear\"}}],\"label\":\"3/26/2019\",\"method\":\"animate\"},{\"args\":[[\"3/1/2019\"],{\"frame\":{\"duration\":0,\"redraw\":true},\"mode\":\"immediate\",\"fromcurrent\":true,\"transition\":{\"duration\":0,\"easing\":\"linear\"}}],\"label\":\"3/1/2019\",\"method\":\"animate\"},{\"args\":[[\"2/1/2019\"],{\"frame\":{\"duration\":0,\"redraw\":true},\"mode\":\"immediate\",\"fromcurrent\":true,\"transition\":{\"duration\":0,\"easing\":\"linear\"}}],\"label\":\"2/1/2019\",\"method\":\"animate\"},{\"args\":[[\"3/28/2019\"],{\"frame\":{\"duration\":0,\"redraw\":true},\"mode\":\"immediate\",\"fromcurrent\":true,\"transition\":{\"duration\":0,\"easing\":\"linear\"}}],\"label\":\"3/28/2019\",\"method\":\"animate\"},{\"args\":[[\"3/24/2019\"],{\"frame\":{\"duration\":0,\"redraw\":true},\"mode\":\"immediate\",\"fromcurrent\":true,\"transition\":{\"duration\":0,\"easing\":\"linear\"}}],\"label\":\"3/24/2019\",\"method\":\"animate\"},{\"args\":[[\"2/5/2019\"],{\"frame\":{\"duration\":0,\"redraw\":true},\"mode\":\"immediate\",\"fromcurrent\":true,\"transition\":{\"duration\":0,\"easing\":\"linear\"}}],\"label\":\"2/5/2019\",\"method\":\"animate\"},{\"args\":[[\"1/19/2019\"],{\"frame\":{\"duration\":0,\"redraw\":true},\"mode\":\"immediate\",\"fromcurrent\":true,\"transition\":{\"duration\":0,\"easing\":\"linear\"}}],\"label\":\"1/19/2019\",\"method\":\"animate\"},{\"args\":[[\"1/16/2019\"],{\"frame\":{\"duration\":0,\"redraw\":true},\"mode\":\"immediate\",\"fromcurrent\":true,\"transition\":{\"duration\":0,\"easing\":\"linear\"}}],\"label\":\"1/16/2019\",\"method\":\"animate\"},{\"args\":[[\"1/8/2019\"],{\"frame\":{\"duration\":0,\"redraw\":true},\"mode\":\"immediate\",\"fromcurrent\":true,\"transition\":{\"duration\":0,\"easing\":\"linear\"}}],\"label\":\"1/8/2019\",\"method\":\"animate\"},{\"args\":[[\"2/18/2019\"],{\"frame\":{\"duration\":0,\"redraw\":true},\"mode\":\"immediate\",\"fromcurrent\":true,\"transition\":{\"duration\":0,\"easing\":\"linear\"}}],\"label\":\"2/18/2019\",\"method\":\"animate\"},{\"args\":[[\"1/18/2019\"],{\"frame\":{\"duration\":0,\"redraw\":true},\"mode\":\"immediate\",\"fromcurrent\":true,\"transition\":{\"duration\":0,\"easing\":\"linear\"}}],\"label\":\"1/18/2019\",\"method\":\"animate\"},{\"args\":[[\"2/16/2019\"],{\"frame\":{\"duration\":0,\"redraw\":true},\"mode\":\"immediate\",\"fromcurrent\":true,\"transition\":{\"duration\":0,\"easing\":\"linear\"}}],\"label\":\"2/16/2019\",\"method\":\"animate\"},{\"args\":[[\"2/22/2019\"],{\"frame\":{\"duration\":0,\"redraw\":true},\"mode\":\"immediate\",\"fromcurrent\":true,\"transition\":{\"duration\":0,\"easing\":\"linear\"}}],\"label\":\"2/22/2019\",\"method\":\"animate\"},{\"args\":[[\"1/29/2019\"],{\"frame\":{\"duration\":0,\"redraw\":true},\"mode\":\"immediate\",\"fromcurrent\":true,\"transition\":{\"duration\":0,\"easing\":\"linear\"}}],\"label\":\"1/29/2019\",\"method\":\"animate\"},{\"args\":[[\"1/4/2019\"],{\"frame\":{\"duration\":0,\"redraw\":true},\"mode\":\"immediate\",\"fromcurrent\":true,\"transition\":{\"duration\":0,\"easing\":\"linear\"}}],\"label\":\"1/4/2019\",\"method\":\"animate\"},{\"args\":[[\"3/30/2019\"],{\"frame\":{\"duration\":0,\"redraw\":true},\"mode\":\"immediate\",\"fromcurrent\":true,\"transition\":{\"duration\":0,\"easing\":\"linear\"}}],\"label\":\"3/30/2019\",\"method\":\"animate\"},{\"args\":[[\"1/30/2019\"],{\"frame\":{\"duration\":0,\"redraw\":true},\"mode\":\"immediate\",\"fromcurrent\":true,\"transition\":{\"duration\":0,\"easing\":\"linear\"}}],\"label\":\"1/30/2019\",\"method\":\"animate\"},{\"args\":[[\"1/3/2019\"],{\"frame\":{\"duration\":0,\"redraw\":true},\"mode\":\"immediate\",\"fromcurrent\":true,\"transition\":{\"duration\":0,\"easing\":\"linear\"}}],\"label\":\"1/3/2019\",\"method\":\"animate\"},{\"args\":[[\"3/21/2019\"],{\"frame\":{\"duration\":0,\"redraw\":true},\"mode\":\"immediate\",\"fromcurrent\":true,\"transition\":{\"duration\":0,\"easing\":\"linear\"}}],\"label\":\"3/21/2019\",\"method\":\"animate\"},{\"args\":[[\"2/13/2019\"],{\"frame\":{\"duration\":0,\"redraw\":true},\"mode\":\"immediate\",\"fromcurrent\":true,\"transition\":{\"duration\":0,\"easing\":\"linear\"}}],\"label\":\"2/13/2019\",\"method\":\"animate\"},{\"args\":[[\"1/14/2019\"],{\"frame\":{\"duration\":0,\"redraw\":true},\"mode\":\"immediate\",\"fromcurrent\":true,\"transition\":{\"duration\":0,\"easing\":\"linear\"}}],\"label\":\"1/14/2019\",\"method\":\"animate\"},{\"args\":[[\"3/18/2019\"],{\"frame\":{\"duration\":0,\"redraw\":true},\"mode\":\"immediate\",\"fromcurrent\":true,\"transition\":{\"duration\":0,\"easing\":\"linear\"}}],\"label\":\"3/18/2019\",\"method\":\"animate\"},{\"args\":[[\"3/20/2019\"],{\"frame\":{\"duration\":0,\"redraw\":true},\"mode\":\"immediate\",\"fromcurrent\":true,\"transition\":{\"duration\":0,\"easing\":\"linear\"}}],\"label\":\"3/20/2019\",\"method\":\"animate\"},{\"args\":[[\"2/21/2019\"],{\"frame\":{\"duration\":0,\"redraw\":true},\"mode\":\"immediate\",\"fromcurrent\":true,\"transition\":{\"duration\":0,\"easing\":\"linear\"}}],\"label\":\"2/21/2019\",\"method\":\"animate\"},{\"args\":[[\"1/31/2019\"],{\"frame\":{\"duration\":0,\"redraw\":true},\"mode\":\"immediate\",\"fromcurrent\":true,\"transition\":{\"duration\":0,\"easing\":\"linear\"}}],\"label\":\"1/31/2019\",\"method\":\"animate\"},{\"args\":[[\"1/11/2019\"],{\"frame\":{\"duration\":0,\"redraw\":true},\"mode\":\"immediate\",\"fromcurrent\":true,\"transition\":{\"duration\":0,\"easing\":\"linear\"}}],\"label\":\"1/11/2019\",\"method\":\"animate\"},{\"args\":[[\"2/26/2019\"],{\"frame\":{\"duration\":0,\"redraw\":true},\"mode\":\"immediate\",\"fromcurrent\":true,\"transition\":{\"duration\":0,\"easing\":\"linear\"}}],\"label\":\"2/26/2019\",\"method\":\"animate\"},{\"args\":[[\"3/17/2019\"],{\"frame\":{\"duration\":0,\"redraw\":true},\"mode\":\"immediate\",\"fromcurrent\":true,\"transition\":{\"duration\":0,\"easing\":\"linear\"}}],\"label\":\"3/17/2019\",\"method\":\"animate\"},{\"args\":[[\"3/14/2019\"],{\"frame\":{\"duration\":0,\"redraw\":true},\"mode\":\"immediate\",\"fromcurrent\":true,\"transition\":{\"duration\":0,\"easing\":\"linear\"}}],\"label\":\"3/14/2019\",\"method\":\"animate\"},{\"args\":[[\"2/4/2019\"],{\"frame\":{\"duration\":0,\"redraw\":true},\"mode\":\"immediate\",\"fromcurrent\":true,\"transition\":{\"duration\":0,\"easing\":\"linear\"}}],\"label\":\"2/4/2019\",\"method\":\"animate\"},{\"args\":[[\"2/19/2019\"],{\"frame\":{\"duration\":0,\"redraw\":true},\"mode\":\"immediate\",\"fromcurrent\":true,\"transition\":{\"duration\":0,\"easing\":\"linear\"}}],\"label\":\"2/19/2019\",\"method\":\"animate\"}],\"x\":0.1,\"xanchor\":\"left\",\"y\":0,\"yanchor\":\"top\"}]},                        {\"responsive\": true}                    ).then(function(){\n",
       "                            Plotly.addFrames('21d5ba56-e8ba-4b4c-a74e-e0dd8487c4b8', [{\"data\":[{\"alignmentgroup\":\"True\",\"hovertemplate\":\"City=%{x}<br>Date=1/5/2019<br>Total=%{y}<extra></extra>\",\"ids\":[\"A\",\"A\",\"A\",\"A\",\"A\"],\"legendgroup\":\"Yangon\",\"marker\":{\"color\":\"#636efa\",\"pattern\":{\"shape\":\"\"}},\"name\":\"Yangon\",\"offsetgroup\":\"Yangon\",\"orientation\":\"v\",\"showlegend\":true,\"textposition\":\"auto\",\"x\":[\"Yangon\",\"Yangon\",\"Yangon\",\"Yangon\",\"Yangon\"],\"xaxis\":\"x\",\"y\":[548.9715,263.13,297.108,225.2775,690.018],\"yaxis\":\"y\",\"type\":\"bar\"},{\"alignmentgroup\":\"True\",\"hovertemplate\":\"City=%{x}<br>Date=1/5/2019<br>Total=%{y}<extra></extra>\",\"ids\":[\"C\",\"C\",\"C\",\"C\"],\"legendgroup\":\"Naypyitaw\",\"marker\":{\"color\":\"#EF553B\",\"pattern\":{\"shape\":\"\"}},\"name\":\"Naypyitaw\",\"offsetgroup\":\"Naypyitaw\",\"orientation\":\"v\",\"showlegend\":true,\"textposition\":\"auto\",\"x\":[\"Naypyitaw\",\"Naypyitaw\",\"Naypyitaw\",\"Naypyitaw\"],\"xaxis\":\"x\",\"y\":[172.494,33.495,239.589,579.8415],\"yaxis\":\"y\",\"type\":\"bar\"},{\"alignmentgroup\":\"True\",\"hovertemplate\":\"City=%{x}<br>Date=1/5/2019<br>Total=%{y}<extra></extra>\",\"ids\":[\"B\",\"B\",\"B\"],\"legendgroup\":\"Mandalay\",\"marker\":{\"color\":\"#00cc96\",\"pattern\":{\"shape\":\"\"}},\"name\":\"Mandalay\",\"offsetgroup\":\"Mandalay\",\"orientation\":\"v\",\"showlegend\":true,\"textposition\":\"auto\",\"x\":[\"Mandalay\",\"Mandalay\",\"Mandalay\"],\"xaxis\":\"x\",\"y\":[334.341,77.658,74.76],\"yaxis\":\"y\",\"type\":\"bar\"}],\"name\":\"1/5/2019\"},{\"data\":[{\"alignmentgroup\":\"True\",\"hovertemplate\":\"City=%{x}<br>Date=3/8/2019<br>Total=%{y}<extra></extra>\",\"ids\":[\"A\",\"A\",\"A\",\"A\"],\"legendgroup\":\"Yangon\",\"marker\":{\"color\":\"#636efa\",\"pattern\":{\"shape\":\"\"}},\"name\":\"Yangon\",\"offsetgroup\":\"Yangon\",\"orientation\":\"v\",\"showlegend\":true,\"textposition\":\"auto\",\"x\":[\"Yangon\",\"Yangon\",\"Yangon\",\"Yangon\"],\"xaxis\":\"x\",\"y\":[102.018,324.2925,253.848,214.137],\"yaxis\":\"y\",\"type\":\"bar\"},{\"alignmentgroup\":\"True\",\"hovertemplate\":\"City=%{x}<br>Date=3/8/2019<br>Total=%{y}<extra></extra>\",\"ids\":[\"C\",\"C\",\"C\",\"C\",\"C\",\"C\"],\"legendgroup\":\"Naypyitaw\",\"marker\":{\"color\":\"#EF553B\",\"pattern\":{\"shape\":\"\"}},\"name\":\"Naypyitaw\",\"offsetgroup\":\"Naypyitaw\",\"orientation\":\"v\",\"showlegend\":true,\"textposition\":\"auto\",\"x\":[\"Naypyitaw\",\"Naypyitaw\",\"Naypyitaw\",\"Naypyitaw\",\"Naypyitaw\",\"Naypyitaw\"],\"xaxis\":\"x\",\"y\":[80.22,512.19,291.438,394.275,90.867,71.568],\"yaxis\":\"y\",\"type\":\"bar\"},{\"alignmentgroup\":\"True\",\"hovertemplate\":\"City=%{x}<br>Date=3/8/2019<br>Total=%{y}<extra></extra>\",\"ids\":[\"B\"],\"legendgroup\":\"Mandalay\",\"marker\":{\"color\":\"#00cc96\",\"pattern\":{\"shape\":\"\"}},\"name\":\"Mandalay\",\"offsetgroup\":\"Mandalay\",\"orientation\":\"v\",\"showlegend\":true,\"textposition\":\"auto\",\"x\":[\"Mandalay\"],\"xaxis\":\"x\",\"y\":[92.5575],\"yaxis\":\"y\",\"type\":\"bar\"}],\"name\":\"3/8/2019\"},{\"data\":[{\"alignmentgroup\":\"True\",\"hovertemplate\":\"City=%{x}<br>Date=3/3/2019<br>Total=%{y}<extra></extra>\",\"ids\":[\"A\",\"A\",\"A\",\"A\",\"A\"],\"legendgroup\":\"Yangon\",\"marker\":{\"color\":\"#636efa\",\"pattern\":{\"shape\":\"\"}},\"name\":\"Yangon\",\"offsetgroup\":\"Yangon\",\"orientation\":\"v\",\"showlegend\":true,\"textposition\":\"auto\",\"x\":[\"Yangon\",\"Yangon\",\"Yangon\",\"Yangon\",\"Yangon\"],\"xaxis\":\"x\",\"y\":[340.5255,186.228,26.25,212.7825,48.7305],\"yaxis\":\"y\",\"type\":\"bar\"},{\"alignmentgroup\":\"True\",\"hovertemplate\":\"City=%{x}<br>Date=3/3/2019<br>Total=%{y}<extra></extra>\",\"ids\":[\"C\",\"C\",\"C\",\"C\",\"C\",\"C\"],\"legendgroup\":\"Naypyitaw\",\"marker\":{\"color\":\"#EF553B\",\"pattern\":{\"shape\":\"\"}},\"name\":\"Naypyitaw\",\"offsetgroup\":\"Naypyitaw\",\"orientation\":\"v\",\"showlegend\":true,\"textposition\":\"auto\",\"x\":[\"Naypyitaw\",\"Naypyitaw\",\"Naypyitaw\",\"Naypyitaw\",\"Naypyitaw\",\"Naypyitaw\"],\"xaxis\":\"x\",\"y\":[253.848,175.14,272.58,293.139,369.684,253.68],\"yaxis\":\"y\",\"type\":\"bar\"},{\"alignmentgroup\":\"True\",\"hovertemplate\":\"City=%{x}<br>Date=3/3/2019<br>Total=%{y}<extra></extra>\",\"ids\":[\"B\",\"B\",\"B\"],\"legendgroup\":\"Mandalay\",\"marker\":{\"color\":\"#00cc96\",\"pattern\":{\"shape\":\"\"}},\"name\":\"Mandalay\",\"offsetgroup\":\"Mandalay\",\"orientation\":\"v\",\"showlegend\":true,\"textposition\":\"auto\",\"x\":[\"Mandalay\",\"Mandalay\",\"Mandalay\"],\"xaxis\":\"x\",\"y\":[253.008,793.716,767.025],\"yaxis\":\"y\",\"type\":\"bar\"}],\"name\":\"3/3/2019\"},{\"data\":[{\"alignmentgroup\":\"True\",\"hovertemplate\":\"City=%{x}<br>Date=1/27/2019<br>Total=%{y}<extra></extra>\",\"ids\":[\"A\",\"A\",\"A\",\"A\",\"A\",\"A\"],\"legendgroup\":\"Yangon\",\"marker\":{\"color\":\"#636efa\",\"pattern\":{\"shape\":\"\"}},\"name\":\"Yangon\",\"offsetgroup\":\"Yangon\",\"orientation\":\"v\",\"showlegend\":true,\"textposition\":\"auto\",\"x\":[\"Yangon\",\"Yangon\",\"Yangon\",\"Yangon\",\"Yangon\",\"Yangon\"],\"xaxis\":\"x\",\"y\":[489.048,169.3125,25.263,398.958,514.773,76.923],\"yaxis\":\"y\",\"type\":\"bar\"},{\"alignmentgroup\":\"True\",\"hovertemplate\":\"City=%{x}<br>Date=1/27/2019<br>Total=%{y}<extra></extra>\",\"ids\":[\"C\",\"C\",\"C\",\"C\",\"C\",\"C\"],\"legendgroup\":\"Naypyitaw\",\"marker\":{\"color\":\"#EF553B\",\"pattern\":{\"shape\":\"\"}},\"name\":\"Naypyitaw\",\"offsetgroup\":\"Naypyitaw\",\"orientation\":\"v\",\"showlegend\":true,\"textposition\":\"auto\",\"x\":[\"Naypyitaw\",\"Naypyitaw\",\"Naypyitaw\",\"Naypyitaw\",\"Naypyitaw\",\"Naypyitaw\"],\"xaxis\":\"x\",\"y\":[150.78,510.9615,488.985,568.512,145.74,178.164],\"yaxis\":\"y\",\"type\":\"bar\"},{\"alignmentgroup\":\"True\",\"hovertemplate\":\"City=%{x}<br>Date=1/27/2019<br>Total=%{y}<extra></extra>\",\"ids\":[\"B\",\"B\"],\"legendgroup\":\"Mandalay\",\"marker\":{\"color\":\"#00cc96\",\"pattern\":{\"shape\":\"\"}},\"name\":\"Mandalay\",\"offsetgroup\":\"Mandalay\",\"orientation\":\"v\",\"showlegend\":true,\"textposition\":\"auto\",\"x\":[\"Mandalay\",\"Mandalay\"],\"xaxis\":\"x\",\"y\":[403.872,514.605],\"yaxis\":\"y\",\"type\":\"bar\"}],\"name\":\"1/27/2019\"},{\"data\":[{\"alignmentgroup\":\"True\",\"hovertemplate\":\"City=%{x}<br>Date=2/8/2019<br>Total=%{y}<extra></extra>\",\"ids\":[\"A\",\"A\",\"A\"],\"legendgroup\":\"Yangon\",\"marker\":{\"color\":\"#636efa\",\"pattern\":{\"shape\":\"\"}},\"name\":\"Yangon\",\"offsetgroup\":\"Yangon\",\"orientation\":\"v\",\"showlegend\":true,\"textposition\":\"auto\",\"x\":[\"Yangon\",\"Yangon\",\"Yangon\"],\"xaxis\":\"x\",\"y\":[634.3785,253.848,20.685],\"yaxis\":\"y\",\"type\":\"bar\"},{\"alignmentgroup\":\"True\",\"hovertemplate\":\"City=%{x}<br>Date=2/8/2019<br>Total=%{y}<extra></extra>\",\"ids\":[\"C\",\"C\",\"C\"],\"legendgroup\":\"Naypyitaw\",\"marker\":{\"color\":\"#EF553B\",\"pattern\":{\"shape\":\"\"}},\"name\":\"Naypyitaw\",\"offsetgroup\":\"Naypyitaw\",\"orientation\":\"v\",\"showlegend\":true,\"textposition\":\"auto\",\"x\":[\"Naypyitaw\",\"Naypyitaw\",\"Naypyitaw\"],\"xaxis\":\"x\",\"y\":[253.848,273.0525,341.0925],\"yaxis\":\"y\",\"type\":\"bar\"},{\"alignmentgroup\":\"True\",\"hovertemplate\":\"City=%{x}<br>Date=2/8/2019<br>Total=%{y}<extra></extra>\",\"ids\":[\"B\",\"B\",\"B\",\"B\",\"B\",\"B\"],\"legendgroup\":\"Mandalay\",\"marker\":{\"color\":\"#00cc96\",\"pattern\":{\"shape\":\"\"}},\"name\":\"Mandalay\",\"offsetgroup\":\"Mandalay\",\"orientation\":\"v\",\"showlegend\":true,\"textposition\":\"auto\",\"x\":[\"Mandalay\",\"Mandalay\",\"Mandalay\",\"Mandalay\",\"Mandalay\",\"Mandalay\"],\"xaxis\":\"x\",\"y\":[35.196,435.456,253.848,195.174,133.35,103.131],\"yaxis\":\"y\",\"type\":\"bar\"}],\"name\":\"2/8/2019\"},{\"data\":[{\"alignmentgroup\":\"True\",\"hovertemplate\":\"City=%{x}<br>Date=3/25/2019<br>Total=%{y}<extra></extra>\",\"ids\":[\"A\",\"A\",\"A\",\"A\"],\"legendgroup\":\"Yangon\",\"marker\":{\"color\":\"#636efa\",\"pattern\":{\"shape\":\"\"}},\"name\":\"Yangon\",\"offsetgroup\":\"Yangon\",\"orientation\":\"v\",\"showlegend\":true,\"textposition\":\"auto\",\"x\":[\"Yangon\",\"Yangon\",\"Yangon\",\"Yangon\"],\"xaxis\":\"x\",\"y\":[152.712,142.002,232.638,49.77],\"yaxis\":\"y\",\"type\":\"bar\"},{\"alignmentgroup\":\"True\",\"hovertemplate\":\"City=%{x}<br>Date=3/25/2019<br>Total=%{y}<extra></extra>\",\"ids\":[\"C\",\"C\",\"C\"],\"legendgroup\":\"Naypyitaw\",\"marker\":{\"color\":\"#EF553B\",\"pattern\":{\"shape\":\"\"}},\"name\":\"Naypyitaw\",\"offsetgroup\":\"Naypyitaw\",\"orientation\":\"v\",\"showlegend\":true,\"textposition\":\"auto\",\"x\":[\"Naypyitaw\",\"Naypyitaw\",\"Naypyitaw\"],\"xaxis\":\"x\",\"y\":[627.6165,401.73,248.409],\"yaxis\":\"y\",\"type\":\"bar\"},{\"alignmentgroup\":\"True\",\"hovertemplate\":\"City=%{x}<br>Date=3/25/2019<br>Total=%{y}<extra></extra>\",\"ids\":[\"B\",\"B\"],\"legendgroup\":\"Mandalay\",\"marker\":{\"color\":\"#00cc96\",\"pattern\":{\"shape\":\"\"}},\"name\":\"Mandalay\",\"offsetgroup\":\"Mandalay\",\"orientation\":\"v\",\"showlegend\":true,\"textposition\":\"auto\",\"x\":[\"Mandalay\",\"Mandalay\"],\"xaxis\":\"x\",\"y\":[195.951,222.138],\"yaxis\":\"y\",\"type\":\"bar\"}],\"name\":\"3/25/2019\"},{\"data\":[{\"alignmentgroup\":\"True\",\"hovertemplate\":\"City=%{x}<br>Date=2/25/2019<br>Total=%{y}<extra></extra>\",\"ids\":[\"A\",\"A\",\"A\",\"A\",\"A\",\"A\"],\"legendgroup\":\"Yangon\",\"marker\":{\"color\":\"#636efa\",\"pattern\":{\"shape\":\"\"}},\"name\":\"Yangon\",\"offsetgroup\":\"Yangon\",\"orientation\":\"v\",\"showlegend\":true,\"textposition\":\"auto\",\"x\":[\"Yangon\",\"Yangon\",\"Yangon\",\"Yangon\",\"Yangon\",\"Yangon\"],\"xaxis\":\"x\",\"y\":[433.692,66.8745,205.317,479.9025,306.81,313.74],\"yaxis\":\"y\",\"type\":\"bar\"},{\"alignmentgroup\":\"True\",\"hovertemplate\":\"City=%{x}<br>Date=2/25/2019<br>Total=%{y}<extra></extra>\",\"ids\":[\"C\",\"C\"],\"legendgroup\":\"Naypyitaw\",\"marker\":{\"color\":\"#EF553B\",\"pattern\":{\"shape\":\"\"}},\"name\":\"Naypyitaw\",\"offsetgroup\":\"Naypyitaw\",\"orientation\":\"v\",\"showlegend\":true,\"textposition\":\"auto\",\"x\":[\"Naypyitaw\",\"Naypyitaw\"],\"xaxis\":\"x\",\"y\":[451.71,51.0405],\"yaxis\":\"y\",\"type\":\"bar\"},{\"alignmentgroup\":\"True\",\"hovertemplate\":\"City=%{x}<br>Date=2/25/2019<br>Total=%{y}<extra></extra>\",\"ids\":[\"B\",\"B\",\"B\",\"B\",\"B\",\"B\",\"B\",\"B\"],\"legendgroup\":\"Mandalay\",\"marker\":{\"color\":\"#00cc96\",\"pattern\":{\"shape\":\"\"}},\"name\":\"Mandalay\",\"offsetgroup\":\"Mandalay\",\"orientation\":\"v\",\"showlegend\":true,\"textposition\":\"auto\",\"x\":[\"Mandalay\",\"Mandalay\",\"Mandalay\",\"Mandalay\",\"Mandalay\",\"Mandalay\",\"Mandalay\",\"Mandalay\"],\"xaxis\":\"x\",\"y\":[494.1825,357.588,92.8725,430.71,262.794,554.295,41.7375,263.97],\"yaxis\":\"y\",\"type\":\"bar\"}],\"name\":\"2/25/2019\"},{\"data\":[{\"alignmentgroup\":\"True\",\"hovertemplate\":\"City=%{x}<br>Date=2/24/2019<br>Total=%{y}<extra></extra>\",\"ids\":[\"A\",\"A\"],\"legendgroup\":\"Yangon\",\"marker\":{\"color\":\"#636efa\",\"pattern\":{\"shape\":\"\"}},\"name\":\"Yangon\",\"offsetgroup\":\"Yangon\",\"orientation\":\"v\",\"showlegend\":true,\"textposition\":\"auto\",\"x\":[\"Yangon\",\"Yangon\"],\"xaxis\":\"x\",\"y\":[422.73,100.128],\"yaxis\":\"y\",\"type\":\"bar\"},{\"alignmentgroup\":\"True\",\"hovertemplate\":\"City=%{x}<br>Date=2/24/2019<br>Total=%{y}<extra></extra>\",\"ids\":[\"C\",\"C\",\"C\",\"C\"],\"legendgroup\":\"Naypyitaw\",\"marker\":{\"color\":\"#EF553B\",\"pattern\":{\"shape\":\"\"}},\"name\":\"Naypyitaw\",\"offsetgroup\":\"Naypyitaw\",\"orientation\":\"v\",\"showlegend\":true,\"textposition\":\"auto\",\"x\":[\"Naypyitaw\",\"Naypyitaw\",\"Naypyitaw\",\"Naypyitaw\"],\"xaxis\":\"x\",\"y\":[772.38,351.099,259.77,53.34],\"yaxis\":\"y\",\"type\":\"bar\"},{\"alignmentgroup\":\"True\",\"hovertemplate\":\"City=%{x}<br>Date=2/24/2019<br>Total=%{y}<extra></extra>\",\"ids\":[\"B\",\"B\",\"B\"],\"legendgroup\":\"Mandalay\",\"marker\":{\"color\":\"#00cc96\",\"pattern\":{\"shape\":\"\"}},\"name\":\"Mandalay\",\"offsetgroup\":\"Mandalay\",\"orientation\":\"v\",\"showlegend\":true,\"textposition\":\"auto\",\"x\":[\"Mandalay\",\"Mandalay\",\"Mandalay\"],\"xaxis\":\"x\",\"y\":[365.085,175.917,222.012],\"yaxis\":\"y\",\"type\":\"bar\"}],\"name\":\"2/24/2019\"},{\"data\":[{\"alignmentgroup\":\"True\",\"hovertemplate\":\"City=%{x}<br>Date=1/10/2019<br>Total=%{y}<extra></extra>\",\"ids\":[\"A\",\"A\",\"A\"],\"legendgroup\":\"Yangon\",\"marker\":{\"color\":\"#636efa\",\"pattern\":{\"shape\":\"\"}},\"name\":\"Yangon\",\"offsetgroup\":\"Yangon\",\"orientation\":\"v\",\"showlegend\":true,\"textposition\":\"auto\",\"x\":[\"Yangon\",\"Yangon\",\"Yangon\"],\"xaxis\":\"x\",\"y\":[76.146,161.553,493.794],\"yaxis\":\"y\",\"type\":\"bar\"},{\"alignmentgroup\":\"True\",\"hovertemplate\":\"City=%{x}<br>Date=1/10/2019<br>Total=%{y}<extra></extra>\",\"ids\":[\"C\",\"C\",\"C\"],\"legendgroup\":\"Naypyitaw\",\"marker\":{\"color\":\"#EF553B\",\"pattern\":{\"shape\":\"\"}},\"name\":\"Naypyitaw\",\"offsetgroup\":\"Naypyitaw\",\"orientation\":\"v\",\"showlegend\":true,\"textposition\":\"auto\",\"x\":[\"Naypyitaw\",\"Naypyitaw\",\"Naypyitaw\"],\"xaxis\":\"x\",\"y\":[392.6475,611.079,477.1305],\"yaxis\":\"y\",\"type\":\"bar\"},{\"alignmentgroup\":\"True\",\"hovertemplate\":\"City=%{x}<br>Date=1/10/2019<br>Total=%{y}<extra></extra>\",\"ids\":[\"B\",\"B\",\"B\"],\"legendgroup\":\"Mandalay\",\"marker\":{\"color\":\"#00cc96\",\"pattern\":{\"shape\":\"\"}},\"name\":\"Mandalay\",\"offsetgroup\":\"Mandalay\",\"orientation\":\"v\",\"showlegend\":true,\"textposition\":\"auto\",\"x\":[\"Mandalay\",\"Mandalay\",\"Mandalay\"],\"xaxis\":\"x\",\"y\":[703.752,586.971,57.876],\"yaxis\":\"y\",\"type\":\"bar\"}],\"name\":\"1/10/2019\"},{\"data\":[{\"alignmentgroup\":\"True\",\"hovertemplate\":\"City=%{x}<br>Date=2/20/2019<br>Total=%{y}<extra></extra>\",\"ids\":[\"A\",\"A\",\"A\"],\"legendgroup\":\"Yangon\",\"marker\":{\"color\":\"#636efa\",\"pattern\":{\"shape\":\"\"}},\"name\":\"Yangon\",\"offsetgroup\":\"Yangon\",\"orientation\":\"v\",\"showlegend\":true,\"textposition\":\"auto\",\"x\":[\"Yangon\",\"Yangon\",\"Yangon\"],\"xaxis\":\"x\",\"y\":[484.5225,339.36,79.149],\"yaxis\":\"y\",\"type\":\"bar\"},{\"alignmentgroup\":\"True\",\"hovertemplate\":\"City=%{x}<br>Date=2/20/2019<br>Total=%{y}<extra></extra>\",\"ids\":[\"C\"],\"legendgroup\":\"Naypyitaw\",\"marker\":{\"color\":\"#EF553B\",\"pattern\":{\"shape\":\"\"}},\"name\":\"Naypyitaw\",\"offsetgroup\":\"Naypyitaw\",\"orientation\":\"v\",\"showlegend\":true,\"textposition\":\"auto\",\"x\":[\"Naypyitaw\"],\"xaxis\":\"x\",\"y\":[90.5835],\"yaxis\":\"y\",\"type\":\"bar\"},{\"alignmentgroup\":\"True\",\"hovertemplate\":\"City=%{x}<br>Date=2/20/2019<br>Total=%{y}<extra></extra>\",\"ids\":[\"B\",\"B\",\"B\",\"B\",\"B\",\"B\"],\"legendgroup\":\"Mandalay\",\"marker\":{\"color\":\"#00cc96\",\"pattern\":{\"shape\":\"\"}},\"name\":\"Mandalay\",\"offsetgroup\":\"Mandalay\",\"orientation\":\"v\",\"showlegend\":true,\"textposition\":\"auto\",\"x\":[\"Mandalay\",\"Mandalay\",\"Mandalay\",\"Mandalay\",\"Mandalay\",\"Mandalay\"],\"xaxis\":\"x\",\"y\":[172.746,418.95,350.07,253.26,181.881,335.895],\"yaxis\":\"y\",\"type\":\"bar\"}],\"name\":\"2/20/2019\"},{\"data\":[{\"alignmentgroup\":\"True\",\"hovertemplate\":\"City=%{x}<br>Date=2/6/2019<br>Total=%{y}<extra></extra>\",\"ids\":[\"A\",\"A\"],\"legendgroup\":\"Yangon\",\"marker\":{\"color\":\"#636efa\",\"pattern\":{\"shape\":\"\"}},\"name\":\"Yangon\",\"offsetgroup\":\"Yangon\",\"orientation\":\"v\",\"showlegend\":true,\"textposition\":\"auto\",\"x\":[\"Yangon\",\"Yangon\"],\"xaxis\":\"x\",\"y\":[235.872,187.32],\"yaxis\":\"y\",\"type\":\"bar\"},{\"alignmentgroup\":\"True\",\"hovertemplate\":\"City=%{x}<br>Date=2/6/2019<br>Total=%{y}<extra></extra>\",\"ids\":[\"C\",\"C\",\"C\",\"C\",\"C\",\"C\"],\"legendgroup\":\"Naypyitaw\",\"marker\":{\"color\":\"#EF553B\",\"pattern\":{\"shape\":\"\"}},\"name\":\"Naypyitaw\",\"offsetgroup\":\"Naypyitaw\",\"orientation\":\"v\",\"showlegend\":true,\"textposition\":\"auto\",\"x\":[\"Naypyitaw\",\"Naypyitaw\",\"Naypyitaw\",\"Naypyitaw\",\"Naypyitaw\",\"Naypyitaw\"],\"xaxis\":\"x\",\"y\":[417.564,94.2375,407.316,239.4,55.041,188.0025],\"yaxis\":\"y\",\"type\":\"bar\"},{\"alignmentgroup\":\"True\",\"hovertemplate\":\"City=%{x}<br>Date=2/6/2019<br>Total=%{y}<extra></extra>\",\"ids\":[\"B\",\"B\",\"B\",\"B\",\"B\"],\"legendgroup\":\"Mandalay\",\"marker\":{\"color\":\"#00cc96\",\"pattern\":{\"shape\":\"\"}},\"name\":\"Mandalay\",\"offsetgroup\":\"Mandalay\",\"orientation\":\"v\",\"showlegend\":true,\"textposition\":\"auto\",\"x\":[\"Mandalay\",\"Mandalay\",\"Mandalay\",\"Mandalay\",\"Mandalay\"],\"xaxis\":\"x\",\"y\":[60.816,189.0945,271.95,240.975,317.835],\"yaxis\":\"y\",\"type\":\"bar\"}],\"name\":\"2/6/2019\"},{\"data\":[{\"alignmentgroup\":\"True\",\"hovertemplate\":\"City=%{x}<br>Date=3/9/2019<br>Total=%{y}<extra></extra>\",\"ids\":[\"A\",\"A\",\"A\",\"A\",\"A\",\"A\"],\"legendgroup\":\"Yangon\",\"marker\":{\"color\":\"#636efa\",\"pattern\":{\"shape\":\"\"}},\"name\":\"Yangon\",\"offsetgroup\":\"Yangon\",\"orientation\":\"v\",\"showlegend\":true,\"textposition\":\"auto\",\"x\":[\"Yangon\",\"Yangon\",\"Yangon\",\"Yangon\",\"Yangon\",\"Yangon\"],\"xaxis\":\"x\",\"y\":[545.37,523.845,548.73,217.182,127.827,817.236],\"yaxis\":\"y\",\"type\":\"bar\"},{\"alignmentgroup\":\"True\",\"hovertemplate\":\"City=%{x}<br>Date=3/9/2019<br>Total=%{y}<extra></extra>\",\"ids\":[\"C\",\"C\",\"C\",\"C\"],\"legendgroup\":\"Naypyitaw\",\"marker\":{\"color\":\"#EF553B\",\"pattern\":{\"shape\":\"\"}},\"name\":\"Naypyitaw\",\"offsetgroup\":\"Naypyitaw\",\"orientation\":\"v\",\"showlegend\":true,\"textposition\":\"auto\",\"x\":[\"Naypyitaw\",\"Naypyitaw\",\"Naypyitaw\",\"Naypyitaw\"],\"xaxis\":\"x\",\"y\":[478.233,256.7775,17.094,253.848],\"yaxis\":\"y\",\"type\":\"bar\"},{\"alignmentgroup\":\"True\",\"hovertemplate\":\"City=%{x}<br>Date=3/9/2019<br>Total=%{y}<extra></extra>\",\"ids\":[\"B\",\"B\",\"B\",\"B\",\"B\",\"B\"],\"legendgroup\":\"Mandalay\",\"marker\":{\"color\":\"#00cc96\",\"pattern\":{\"shape\":\"\"}},\"name\":\"Mandalay\",\"offsetgroup\":\"Mandalay\",\"orientation\":\"v\",\"showlegend\":true,\"textposition\":\"auto\",\"x\":[\"Mandalay\",\"Mandalay\",\"Mandalay\",\"Mandalay\",\"Mandalay\",\"Mandalay\"],\"xaxis\":\"x\",\"y\":[107.142,394.632,253.848,474.348,702.219,383.523],\"yaxis\":\"y\",\"type\":\"bar\"}],\"name\":\"3/9/2019\"},{\"data\":[{\"alignmentgroup\":\"True\",\"hovertemplate\":\"City=%{x}<br>Date=2/12/2019<br>Total=%{y}<extra></extra>\",\"ids\":[\"A\",\"A\",\"A\"],\"legendgroup\":\"Yangon\",\"marker\":{\"color\":\"#636efa\",\"pattern\":{\"shape\":\"\"}},\"name\":\"Yangon\",\"offsetgroup\":\"Yangon\",\"orientation\":\"v\",\"showlegend\":true,\"textposition\":\"auto\",\"x\":[\"Yangon\",\"Yangon\",\"Yangon\"],\"xaxis\":\"x\",\"y\":[246.4875,160.209,150.423],\"yaxis\":\"y\",\"type\":\"bar\"},{\"alignmentgroup\":\"True\",\"hovertemplate\":\"City=%{x}<br>Date=2/12/2019<br>Total=%{y}<extra></extra>\",\"ids\":[\"C\",\"C\"],\"legendgroup\":\"Naypyitaw\",\"marker\":{\"color\":\"#EF553B\",\"pattern\":{\"shape\":\"\"}},\"name\":\"Naypyitaw\",\"offsetgroup\":\"Naypyitaw\",\"orientation\":\"v\",\"showlegend\":true,\"textposition\":\"auto\",\"x\":[\"Naypyitaw\",\"Naypyitaw\"],\"xaxis\":\"x\",\"y\":[253.848,54.9675],\"yaxis\":\"y\",\"type\":\"bar\"},{\"alignmentgroup\":\"True\",\"hovertemplate\":\"City=%{x}<br>Date=2/12/2019<br>Total=%{y}<extra></extra>\",\"ids\":[\"B\",\"B\",\"B\"],\"legendgroup\":\"Mandalay\",\"marker\":{\"color\":\"#00cc96\",\"pattern\":{\"shape\":\"\"}},\"name\":\"Mandalay\",\"offsetgroup\":\"Mandalay\",\"orientation\":\"v\",\"showlegend\":true,\"textposition\":\"auto\",\"x\":[\"Mandalay\",\"Mandalay\",\"Mandalay\"],\"xaxis\":\"x\",\"y\":[796.908,633.99,41.454],\"yaxis\":\"y\",\"type\":\"bar\"}],\"name\":\"2/12/2019\"},{\"data\":[{\"alignmentgroup\":\"True\",\"hovertemplate\":\"City=%{x}<br>Date=2/7/2019<br>Total=%{y}<extra></extra>\",\"ids\":[\"A\",\"A\",\"A\",\"A\",\"A\"],\"legendgroup\":\"Yangon\",\"marker\":{\"color\":\"#636efa\",\"pattern\":{\"shape\":\"\"}},\"name\":\"Yangon\",\"offsetgroup\":\"Yangon\",\"orientation\":\"v\",\"showlegend\":true,\"textposition\":\"auto\",\"x\":[\"Yangon\",\"Yangon\",\"Yangon\",\"Yangon\",\"Yangon\"],\"xaxis\":\"x\",\"y\":[453.495,752.64,47.859,30.408,782.208],\"yaxis\":\"y\",\"type\":\"bar\"},{\"alignmentgroup\":\"True\",\"hovertemplate\":\"City=%{x}<br>Date=2/7/2019<br>Total=%{y}<extra></extra>\",\"ids\":[\"C\",\"C\",\"C\",\"C\",\"C\",\"C\",\"C\",\"C\",\"C\"],\"legendgroup\":\"Naypyitaw\",\"marker\":{\"color\":\"#EF553B\",\"pattern\":{\"shape\":\"\"}},\"name\":\"Naypyitaw\",\"offsetgroup\":\"Naypyitaw\",\"orientation\":\"v\",\"showlegend\":true,\"textposition\":\"auto\",\"x\":[\"Naypyitaw\",\"Naypyitaw\",\"Naypyitaw\",\"Naypyitaw\",\"Naypyitaw\",\"Naypyitaw\",\"Naypyitaw\",\"Naypyitaw\",\"Naypyitaw\"],\"xaxis\":\"x\",\"y\":[103.824,276.948,343.224,122.5245,273.798,618.975,507.444,10.6785,180.873],\"yaxis\":\"y\",\"type\":\"bar\"},{\"alignmentgroup\":\"True\",\"hovertemplate\":\"City=%{x}<br>Date=2/7/2019<br>Total=%{y}<extra></extra>\",\"ids\":[\"B\",\"B\",\"B\",\"B\",\"B\",\"B\"],\"legendgroup\":\"Mandalay\",\"marker\":{\"color\":\"#00cc96\",\"pattern\":{\"shape\":\"\"}},\"name\":\"Mandalay\",\"offsetgroup\":\"Mandalay\",\"orientation\":\"v\",\"showlegend\":true,\"textposition\":\"auto\",\"x\":[\"Mandalay\",\"Mandalay\",\"Mandalay\",\"Mandalay\",\"Mandalay\",\"Mandalay\"],\"xaxis\":\"x\",\"y\":[208.089,253.848,570.78,486.444,289.926,334.4775],\"yaxis\":\"y\",\"type\":\"bar\"}],\"name\":\"2/7/2019\"},{\"data\":[{\"alignmentgroup\":\"True\",\"hovertemplate\":\"City=%{x}<br>Date=3/29/2019<br>Total=%{y}<extra></extra>\",\"ids\":[\"A\",\"A\"],\"legendgroup\":\"Yangon\",\"marker\":{\"color\":\"#636efa\",\"pattern\":{\"shape\":\"\"}},\"name\":\"Yangon\",\"offsetgroup\":\"Yangon\",\"orientation\":\"v\",\"showlegend\":true,\"textposition\":\"auto\",\"x\":[\"Yangon\",\"Yangon\"],\"xaxis\":\"x\",\"y\":[749.49,228.123],\"yaxis\":\"y\",\"type\":\"bar\"},{\"alignmentgroup\":\"True\",\"hovertemplate\":\"City=%{x}<br>Date=3/29/2019<br>Total=%{y}<extra></extra>\",\"ids\":[\"C\",\"C\"],\"legendgroup\":\"Naypyitaw\",\"marker\":{\"color\":\"#EF553B\",\"pattern\":{\"shape\":\"\"}},\"name\":\"Naypyitaw\",\"offsetgroup\":\"Naypyitaw\",\"orientation\":\"v\",\"showlegend\":true,\"textposition\":\"auto\",\"x\":[\"Naypyitaw\",\"Naypyitaw\"],\"xaxis\":\"x\",\"y\":[121.128,253.848],\"yaxis\":\"y\",\"type\":\"bar\"},{\"alignmentgroup\":\"True\",\"hovertemplate\":\"City=%{x}<br>Date=3/29/2019<br>Total=%{y}<extra></extra>\",\"ids\":[\"B\",\"B\",\"B\",\"B\"],\"legendgroup\":\"Mandalay\",\"marker\":{\"color\":\"#00cc96\",\"pattern\":{\"shape\":\"\"}},\"name\":\"Mandalay\",\"offsetgroup\":\"Mandalay\",\"orientation\":\"v\",\"showlegend\":true,\"textposition\":\"auto\",\"x\":[\"Mandalay\",\"Mandalay\",\"Mandalay\",\"Mandalay\"],\"xaxis\":\"x\",\"y\":[253.848,321.7725,288.015,527.5095],\"yaxis\":\"y\",\"type\":\"bar\"}],\"name\":\"3/29/2019\"},{\"data\":[{\"alignmentgroup\":\"True\",\"hovertemplate\":\"City=%{x}<br>Date=1/15/2019<br>Total=%{y}<extra></extra>\",\"ids\":[\"A\",\"A\",\"A\",\"A\",\"A\"],\"legendgroup\":\"Yangon\",\"marker\":{\"color\":\"#636efa\",\"pattern\":{\"shape\":\"\"}},\"name\":\"Yangon\",\"offsetgroup\":\"Yangon\",\"orientation\":\"v\",\"showlegend\":true,\"textposition\":\"auto\",\"x\":[\"Yangon\",\"Yangon\",\"Yangon\",\"Yangon\",\"Yangon\"],\"xaxis\":\"x\",\"y\":[575.316,253.848,140.385,175.917,72.009],\"yaxis\":\"y\",\"type\":\"bar\"},{\"alignmentgroup\":\"True\",\"hovertemplate\":\"City=%{x}<br>Date=1/15/2019<br>Total=%{y}<extra></extra>\",\"ids\":[\"C\",\"C\",\"C\"],\"legendgroup\":\"Naypyitaw\",\"marker\":{\"color\":\"#EF553B\",\"pattern\":{\"shape\":\"\"}},\"name\":\"Naypyitaw\",\"offsetgroup\":\"Naypyitaw\",\"orientation\":\"v\",\"showlegend\":true,\"textposition\":\"auto\",\"x\":[\"Naypyitaw\",\"Naypyitaw\",\"Naypyitaw\"],\"xaxis\":\"x\",\"y\":[91.56,597.0405,586.635],\"yaxis\":\"y\",\"type\":\"bar\"},{\"alignmentgroup\":\"True\",\"hovertemplate\":\"City=%{x}<br>Date=1/15/2019<br>Total=%{y}<extra></extra>\",\"ids\":[\"B\",\"B\",\"B\",\"B\",\"B\"],\"legendgroup\":\"Mandalay\",\"marker\":{\"color\":\"#00cc96\",\"pattern\":{\"shape\":\"\"}},\"name\":\"Mandalay\",\"offsetgroup\":\"Mandalay\",\"orientation\":\"v\",\"showlegend\":true,\"textposition\":\"auto\",\"x\":[\"Mandalay\",\"Mandalay\",\"Mandalay\",\"Mandalay\",\"Mandalay\"],\"xaxis\":\"x\",\"y\":[590.436,154.392,697.935,397.215,253.848],\"yaxis\":\"y\",\"type\":\"bar\"}],\"name\":\"1/15/2019\"},{\"data\":[{\"alignmentgroup\":\"True\",\"hovertemplate\":\"City=%{x}<br>Date=3/11/2019<br>Total=%{y}<extra></extra>\",\"ids\":[\"A\",\"A\",\"A\",\"A\",\"A\"],\"legendgroup\":\"Yangon\",\"marker\":{\"color\":\"#636efa\",\"pattern\":{\"shape\":\"\"}},\"name\":\"Yangon\",\"offsetgroup\":\"Yangon\",\"orientation\":\"v\",\"showlegend\":true,\"textposition\":\"auto\",\"x\":[\"Yangon\",\"Yangon\",\"Yangon\",\"Yangon\",\"Yangon\"],\"xaxis\":\"x\",\"y\":[506.6355,532.728,125.517,148.68,397.614],\"yaxis\":\"y\",\"type\":\"bar\"},{\"alignmentgroup\":\"True\",\"hovertemplate\":\"City=%{x}<br>Date=3/11/2019<br>Total=%{y}<extra></extra>\",\"ids\":[\"C\",\"C\",\"C\"],\"legendgroup\":\"Naypyitaw\",\"marker\":{\"color\":\"#EF553B\",\"pattern\":{\"shape\":\"\"}},\"name\":\"Naypyitaw\",\"offsetgroup\":\"Naypyitaw\",\"orientation\":\"v\",\"showlegend\":true,\"textposition\":\"auto\",\"x\":[\"Naypyitaw\",\"Naypyitaw\",\"Naypyitaw\"],\"xaxis\":\"x\",\"y\":[254.016,218.0745,294.651],\"yaxis\":\"y\",\"type\":\"bar\"},{\"alignmentgroup\":\"True\",\"hovertemplate\":\"City=%{x}<br>Date=3/11/2019<br>Total=%{y}<extra></extra>\",\"ids\":[\"B\",\"B\",\"B\"],\"legendgroup\":\"Mandalay\",\"marker\":{\"color\":\"#00cc96\",\"pattern\":{\"shape\":\"\"}},\"name\":\"Mandalay\",\"offsetgroup\":\"Mandalay\",\"orientation\":\"v\",\"showlegend\":true,\"textposition\":\"auto\",\"x\":[\"Mandalay\",\"Mandalay\",\"Mandalay\"],\"xaxis\":\"x\",\"y\":[84.63,217.6335,181.0725],\"yaxis\":\"y\",\"type\":\"bar\"}],\"name\":\"3/11/2019\"},{\"data\":[{\"alignmentgroup\":\"True\",\"hovertemplate\":\"City=%{x}<br>Date=1/1/2019<br>Total=%{y}<extra></extra>\",\"ids\":[\"A\",\"A\",\"A\",\"A\",\"A\"],\"legendgroup\":\"Yangon\",\"marker\":{\"color\":\"#636efa\",\"pattern\":{\"shape\":\"\"}},\"name\":\"Yangon\",\"offsetgroup\":\"Yangon\",\"orientation\":\"v\",\"showlegend\":true,\"textposition\":\"auto\",\"x\":[\"Yangon\",\"Yangon\",\"Yangon\",\"Yangon\",\"Yangon\"],\"xaxis\":\"x\",\"y\":[457.443,399.756,621.243,113.568,779.31],\"yaxis\":\"y\",\"type\":\"bar\"},{\"alignmentgroup\":\"True\",\"hovertemplate\":\"City=%{x}<br>Date=1/1/2019<br>Total=%{y}<extra></extra>\",\"ids\":[\"C\",\"C\",\"C\",\"C\"],\"legendgroup\":\"Naypyitaw\",\"marker\":{\"color\":\"#EF553B\",\"pattern\":{\"shape\":\"\"}},\"name\":\"Naypyitaw\",\"offsetgroup\":\"Naypyitaw\",\"orientation\":\"v\",\"showlegend\":true,\"textposition\":\"auto\",\"x\":[\"Naypyitaw\",\"Naypyitaw\",\"Naypyitaw\",\"Naypyitaw\"],\"xaxis\":\"x\",\"y\":[388.29,132.762,132.027,184.086],\"yaxis\":\"y\",\"type\":\"bar\"},{\"alignmentgroup\":\"True\",\"hovertemplate\":\"City=%{x}<br>Date=1/1/2019<br>Total=%{y}<extra></extra>\",\"ids\":[\"B\",\"B\",\"B\"],\"legendgroup\":\"Mandalay\",\"marker\":{\"color\":\"#00cc96\",\"pattern\":{\"shape\":\"\"}},\"name\":\"Mandalay\",\"offsetgroup\":\"Mandalay\",\"orientation\":\"v\",\"showlegend\":true,\"textposition\":\"auto\",\"x\":[\"Mandalay\",\"Mandalay\",\"Mandalay\"],\"xaxis\":\"x\",\"y\":[470.673,177.408,253.848],\"yaxis\":\"y\",\"type\":\"bar\"}],\"name\":\"1/1/2019\"},{\"data\":[{\"alignmentgroup\":\"True\",\"hovertemplate\":\"City=%{x}<br>Date=1/21/2019<br>Total=%{y}<extra></extra>\",\"ids\":[\"A\",\"A\",\"A\",\"A\",\"A\"],\"legendgroup\":\"Yangon\",\"marker\":{\"color\":\"#636efa\",\"pattern\":{\"shape\":\"\"}},\"name\":\"Yangon\",\"offsetgroup\":\"Yangon\",\"orientation\":\"v\",\"showlegend\":true,\"textposition\":\"auto\",\"x\":[\"Yangon\",\"Yangon\",\"Yangon\",\"Yangon\",\"Yangon\"],\"xaxis\":\"x\",\"y\":[172.2105,491.085,76.356,461.286,390.7995],\"yaxis\":\"y\",\"type\":\"bar\"},{\"alignmentgroup\":\"True\",\"hovertemplate\":\"City=%{x}<br>Date=1/21/2019<br>Total=%{y}<extra></extra>\",\"ids\":[\"C\",\"C\"],\"legendgroup\":\"Naypyitaw\",\"marker\":{\"color\":\"#EF553B\",\"pattern\":{\"shape\":\"\"}},\"name\":\"Naypyitaw\",\"offsetgroup\":\"Naypyitaw\",\"orientation\":\"v\",\"showlegend\":true,\"textposition\":\"auto\",\"x\":[\"Naypyitaw\",\"Naypyitaw\"],\"xaxis\":\"x\",\"y\":[624.897,72.429],\"yaxis\":\"y\",\"type\":\"bar\"},{\"alignmentgroup\":\"True\",\"hovertemplate\":\"City=%{x}<br>Date=1/21/2019<br>Total=%{y}<extra></extra>\",\"ids\":[\"B\"],\"legendgroup\":\"Mandalay\",\"marker\":{\"color\":\"#00cc96\",\"pattern\":{\"shape\":\"\"}},\"name\":\"Mandalay\",\"offsetgroup\":\"Mandalay\",\"orientation\":\"v\",\"showlegend\":true,\"textposition\":\"auto\",\"x\":[\"Mandalay\"],\"xaxis\":\"x\",\"y\":[103.0365],\"yaxis\":\"y\",\"type\":\"bar\"}],\"name\":\"1/21/2019\"},{\"data\":[{\"alignmentgroup\":\"True\",\"hovertemplate\":\"City=%{x}<br>Date=3/5/2019<br>Total=%{y}<extra></extra>\",\"ids\":[\"A\",\"A\"],\"legendgroup\":\"Yangon\",\"marker\":{\"color\":\"#636efa\",\"pattern\":{\"shape\":\"\"}},\"name\":\"Yangon\",\"offsetgroup\":\"Yangon\",\"orientation\":\"v\",\"showlegend\":true,\"textposition\":\"auto\",\"x\":[\"Yangon\",\"Yangon\"],\"xaxis\":\"x\",\"y\":[172.011,246.6765],\"yaxis\":\"y\",\"type\":\"bar\"},{\"alignmentgroup\":\"True\",\"hovertemplate\":\"City=%{x}<br>Date=3/5/2019<br>Total=%{y}<extra></extra>\",\"ids\":[\"C\",\"C\",\"C\",\"C\",\"C\"],\"legendgroup\":\"Naypyitaw\",\"marker\":{\"color\":\"#EF553B\",\"pattern\":{\"shape\":\"\"}},\"name\":\"Naypyitaw\",\"offsetgroup\":\"Naypyitaw\",\"orientation\":\"v\",\"showlegend\":true,\"textposition\":\"auto\",\"x\":[\"Naypyitaw\",\"Naypyitaw\",\"Naypyitaw\",\"Naypyitaw\",\"Naypyitaw\"],\"xaxis\":\"x\",\"y\":[822.255,610.491,232.155,127.26,480.0285],\"yaxis\":\"y\",\"type\":\"bar\"},{\"alignmentgroup\":\"True\",\"hovertemplate\":\"City=%{x}<br>Date=3/5/2019<br>Total=%{y}<extra></extra>\",\"ids\":[\"B\",\"B\",\"B\",\"B\",\"B\",\"B\",\"B\",\"B\",\"B\",\"B\"],\"legendgroup\":\"Mandalay\",\"marker\":{\"color\":\"#00cc96\",\"pattern\":{\"shape\":\"\"}},\"name\":\"Mandalay\",\"offsetgroup\":\"Mandalay\",\"orientation\":\"v\",\"showlegend\":true,\"textposition\":\"auto\",\"x\":[\"Mandalay\",\"Mandalay\",\"Mandalay\",\"Mandalay\",\"Mandalay\",\"Mandalay\",\"Mandalay\",\"Mandalay\",\"Mandalay\",\"Mandalay\"],\"xaxis\":\"x\",\"y\":[277.137,152.838,521.01,115.185,56.952,411.3795,258.678,212.688,732.27,801.864],\"yaxis\":\"y\",\"type\":\"bar\"}],\"name\":\"3/5/2019\"},{\"data\":[{\"alignmentgroup\":\"True\",\"hovertemplate\":\"City=%{x}<br>Date=3/15/2019<br>Total=%{y}<extra></extra>\",\"ids\":[\"A\",\"A\",\"A\"],\"legendgroup\":\"Yangon\",\"marker\":{\"color\":\"#636efa\",\"pattern\":{\"shape\":\"\"}},\"name\":\"Yangon\",\"offsetgroup\":\"Yangon\",\"orientation\":\"v\",\"showlegend\":true,\"textposition\":\"auto\",\"x\":[\"Yangon\",\"Yangon\",\"Yangon\"],\"xaxis\":\"x\",\"y\":[235.2105,202.818,206.43],\"yaxis\":\"y\",\"type\":\"bar\"},{\"alignmentgroup\":\"True\",\"hovertemplate\":\"City=%{x}<br>Date=3/15/2019<br>Total=%{y}<extra></extra>\",\"ids\":[\"C\"],\"legendgroup\":\"Naypyitaw\",\"marker\":{\"color\":\"#EF553B\",\"pattern\":{\"shape\":\"\"}},\"name\":\"Naypyitaw\",\"offsetgroup\":\"Naypyitaw\",\"orientation\":\"v\",\"showlegend\":true,\"textposition\":\"auto\",\"x\":[\"Naypyitaw\"],\"xaxis\":\"x\",\"y\":[548.184],\"yaxis\":\"y\",\"type\":\"bar\"},{\"alignmentgroup\":\"True\",\"hovertemplate\":\"City=%{x}<br>Date=3/15/2019<br>Total=%{y}<extra></extra>\",\"ids\":[\"B\",\"B\",\"B\",\"B\",\"B\",\"B\",\"B\",\"B\"],\"legendgroup\":\"Mandalay\",\"marker\":{\"color\":\"#00cc96\",\"pattern\":{\"shape\":\"\"}},\"name\":\"Mandalay\",\"offsetgroup\":\"Mandalay\",\"orientation\":\"v\",\"showlegend\":true,\"textposition\":\"auto\",\"x\":[\"Mandalay\",\"Mandalay\",\"Mandalay\",\"Mandalay\",\"Mandalay\",\"Mandalay\",\"Mandalay\",\"Mandalay\"],\"xaxis\":\"x\",\"y\":[69.72,241.458,128.4255,304.92,57.078,97.419,90.3,760.452],\"yaxis\":\"y\",\"type\":\"bar\"}],\"name\":\"3/15/2019\"},{\"data\":[{\"alignmentgroup\":\"True\",\"hovertemplate\":\"City=%{x}<br>Date=2/17/2019<br>Total=%{y}<extra></extra>\",\"ids\":[\"A\",\"A\",\"A\",\"A\",\"A\",\"A\",\"A\"],\"legendgroup\":\"Yangon\",\"marker\":{\"color\":\"#636efa\",\"pattern\":{\"shape\":\"\"}},\"name\":\"Yangon\",\"offsetgroup\":\"Yangon\",\"orientation\":\"v\",\"showlegend\":true,\"textposition\":\"auto\",\"x\":[\"Yangon\",\"Yangon\",\"Yangon\",\"Yangon\",\"Yangon\",\"Yangon\",\"Yangon\"],\"xaxis\":\"x\",\"y\":[181.44,745.836,103.635,680.064,253.848,142.947,290.0835],\"yaxis\":\"y\",\"type\":\"bar\"},{\"alignmentgroup\":\"True\",\"hovertemplate\":\"City=%{x}<br>Date=2/17/2019<br>Total=%{y}<extra></extra>\",\"ids\":[\"C\",\"C\",\"C\",\"C\"],\"legendgroup\":\"Naypyitaw\",\"marker\":{\"color\":\"#EF553B\",\"pattern\":{\"shape\":\"\"}},\"name\":\"Naypyitaw\",\"offsetgroup\":\"Naypyitaw\",\"orientation\":\"v\",\"showlegend\":true,\"textposition\":\"auto\",\"x\":[\"Naypyitaw\",\"Naypyitaw\",\"Naypyitaw\",\"Naypyitaw\"],\"xaxis\":\"x\",\"y\":[374.7975,62.0025,440.937,499.7265],\"yaxis\":\"y\",\"type\":\"bar\"},{\"alignmentgroup\":\"True\",\"hovertemplate\":\"City=%{x}<br>Date=2/17/2019<br>Total=%{y}<extra></extra>\",\"ids\":[\"B\",\"B\"],\"legendgroup\":\"Mandalay\",\"marker\":{\"color\":\"#00cc96\",\"pattern\":{\"shape\":\"\"}},\"name\":\"Mandalay\",\"offsetgroup\":\"Mandalay\",\"orientation\":\"v\",\"showlegend\":true,\"textposition\":\"auto\",\"x\":[\"Mandalay\",\"Mandalay\"],\"xaxis\":\"x\",\"y\":[550.935,300.216],\"yaxis\":\"y\",\"type\":\"bar\"}],\"name\":\"2/17/2019\"},{\"data\":[{\"alignmentgroup\":\"True\",\"hovertemplate\":\"City=%{x}<br>Date=3/2/2019<br>Total=%{y}<extra></extra>\",\"ids\":[\"A\",\"A\",\"A\"],\"legendgroup\":\"Yangon\",\"marker\":{\"color\":\"#636efa\",\"pattern\":{\"shape\":\"\"}},\"name\":\"Yangon\",\"offsetgroup\":\"Yangon\",\"orientation\":\"v\",\"showlegend\":true,\"textposition\":\"auto\",\"x\":[\"Yangon\",\"Yangon\",\"Yangon\"],\"xaxis\":\"x\",\"y\":[279.1845,82.887,279.384],\"yaxis\":\"y\",\"type\":\"bar\"},{\"alignmentgroup\":\"True\",\"hovertemplate\":\"City=%{x}<br>Date=3/2/2019<br>Total=%{y}<extra></extra>\",\"ids\":[\"C\",\"C\",\"C\",\"C\",\"C\",\"C\"],\"legendgroup\":\"Naypyitaw\",\"marker\":{\"color\":\"#EF553B\",\"pattern\":{\"shape\":\"\"}},\"name\":\"Naypyitaw\",\"offsetgroup\":\"Naypyitaw\",\"orientation\":\"v\",\"showlegend\":true,\"textposition\":\"auto\",\"x\":[\"Naypyitaw\",\"Naypyitaw\",\"Naypyitaw\",\"Naypyitaw\",\"Naypyitaw\",\"Naypyitaw\"],\"xaxis\":\"x\",\"y\":[85.113,30.219,572.775,543.753,485.5725,629.16],\"yaxis\":\"y\",\"type\":\"bar\"},{\"alignmentgroup\":\"True\",\"hovertemplate\":\"City=%{x}<br>Date=3/2/2019<br>Total=%{y}<extra></extra>\",\"ids\":[\"B\",\"B\",\"B\",\"B\",\"B\",\"B\",\"B\",\"B\",\"B\"],\"legendgroup\":\"Mandalay\",\"marker\":{\"color\":\"#00cc96\",\"pattern\":{\"shape\":\"\"}},\"name\":\"Mandalay\",\"offsetgroup\":\"Mandalay\",\"orientation\":\"v\",\"showlegend\":true,\"textposition\":\"auto\",\"x\":[\"Mandalay\",\"Mandalay\",\"Mandalay\",\"Mandalay\",\"Mandalay\",\"Mandalay\",\"Mandalay\",\"Mandalay\",\"Mandalay\"],\"xaxis\":\"x\",\"y\":[253.848,69.405,255.15,231.2415,253.848,82.719,53.151,80.367,253.848],\"yaxis\":\"y\",\"type\":\"bar\"}],\"name\":\"3/2/2019\"},{\"data\":[{\"alignmentgroup\":\"True\",\"hovertemplate\":\"City=%{x}<br>Date=3/22/2019<br>Total=%{y}<extra></extra>\",\"ids\":[\"A\",\"A\",\"A\",\"A\",\"A\",\"A\",\"A\"],\"legendgroup\":\"Yangon\",\"marker\":{\"color\":\"#636efa\",\"pattern\":{\"shape\":\"\"}},\"name\":\"Yangon\",\"offsetgroup\":\"Yangon\",\"orientation\":\"v\",\"showlegend\":true,\"textposition\":\"auto\",\"x\":[\"Yangon\",\"Yangon\",\"Yangon\",\"Yangon\",\"Yangon\",\"Yangon\",\"Yangon\"],\"xaxis\":\"x\",\"y\":[441.756,391.419,19.194,427.812,451.0275,99.9075,296.94],\"yaxis\":\"y\",\"type\":\"bar\"},{\"alignmentgroup\":\"True\",\"hovertemplate\":\"City=%{x}<br>Date=3/22/2019<br>Total=%{y}<extra></extra>\",\"ids\":[\"B\",\"B\",\"B\"],\"legendgroup\":\"Mandalay\",\"marker\":{\"color\":\"#00cc96\",\"pattern\":{\"shape\":\"\"}},\"name\":\"Mandalay\",\"offsetgroup\":\"Mandalay\",\"orientation\":\"v\",\"showlegend\":true,\"textposition\":\"auto\",\"x\":[\"Mandalay\",\"Mandalay\",\"Mandalay\"],\"xaxis\":\"x\",\"y\":[75.054,742.812,233.226],\"yaxis\":\"y\",\"type\":\"bar\"}],\"name\":\"3/22/2019\"},{\"data\":[{\"alignmentgroup\":\"True\",\"hovertemplate\":\"City=%{x}<br>Date=3/10/2019<br>Total=%{y}<extra></extra>\",\"ids\":[\"A\",\"A\",\"A\",\"A\",\"A\",\"A\"],\"legendgroup\":\"Yangon\",\"marker\":{\"color\":\"#636efa\",\"pattern\":{\"shape\":\"\"}},\"name\":\"Yangon\",\"offsetgroup\":\"Yangon\",\"orientation\":\"v\",\"showlegend\":true,\"textposition\":\"auto\",\"x\":[\"Yangon\",\"Yangon\",\"Yangon\",\"Yangon\",\"Yangon\",\"Yangon\"],\"xaxis\":\"x\",\"y\":[184.107,328.755,688.6215,81.396,74.4555,121.863],\"yaxis\":\"y\",\"type\":\"bar\"},{\"alignmentgroup\":\"True\",\"hovertemplate\":\"City=%{x}<br>Date=3/10/2019<br>Total=%{y}<extra></extra>\",\"ids\":[\"C\",\"C\",\"C\"],\"legendgroup\":\"Naypyitaw\",\"marker\":{\"color\":\"#EF553B\",\"pattern\":{\"shape\":\"\"}},\"name\":\"Naypyitaw\",\"offsetgroup\":\"Naypyitaw\",\"orientation\":\"v\",\"showlegend\":true,\"textposition\":\"auto\",\"x\":[\"Naypyitaw\",\"Naypyitaw\",\"Naypyitaw\"],\"xaxis\":\"x\",\"y\":[144.081,253.848,338.2155],\"yaxis\":\"y\",\"type\":\"bar\"},{\"alignmentgroup\":\"True\",\"hovertemplate\":\"City=%{x}<br>Date=3/10/2019<br>Total=%{y}<extra></extra>\",\"ids\":[\"B\",\"B\",\"B\"],\"legendgroup\":\"Mandalay\",\"marker\":{\"color\":\"#00cc96\",\"pattern\":{\"shape\":\"\"}},\"name\":\"Mandalay\",\"offsetgroup\":\"Mandalay\",\"orientation\":\"v\",\"showlegend\":true,\"textposition\":\"auto\",\"x\":[\"Mandalay\",\"Mandalay\",\"Mandalay\"],\"xaxis\":\"x\",\"y\":[180.621,133.917,26.7225],\"yaxis\":\"y\",\"type\":\"bar\"}],\"name\":\"3/10/2019\"},{\"data\":[{\"alignmentgroup\":\"True\",\"hovertemplate\":\"City=%{x}<br>Date=1/25/2019<br>Total=%{y}<extra></extra>\",\"ids\":[\"A\",\"A\",\"A\",\"A\",\"A\"],\"legendgroup\":\"Yangon\",\"marker\":{\"color\":\"#636efa\",\"pattern\":{\"shape\":\"\"}},\"name\":\"Yangon\",\"offsetgroup\":\"Yangon\",\"orientation\":\"v\",\"showlegend\":true,\"textposition\":\"auto\",\"x\":[\"Yangon\",\"Yangon\",\"Yangon\",\"Yangon\",\"Yangon\"],\"xaxis\":\"x\",\"y\":[247.8735,252.042,168.21,167.895,77.805],\"yaxis\":\"y\",\"type\":\"bar\"},{\"alignmentgroup\":\"True\",\"hovertemplate\":\"City=%{x}<br>Date=1/25/2019<br>Total=%{y}<extra></extra>\",\"ids\":[\"C\",\"C\",\"C\",\"C\",\"C\"],\"legendgroup\":\"Naypyitaw\",\"marker\":{\"color\":\"#EF553B\",\"pattern\":{\"shape\":\"\"}},\"name\":\"Naypyitaw\",\"offsetgroup\":\"Naypyitaw\",\"orientation\":\"v\",\"showlegend\":true,\"textposition\":\"auto\",\"x\":[\"Naypyitaw\",\"Naypyitaw\",\"Naypyitaw\",\"Naypyitaw\",\"Naypyitaw\"],\"xaxis\":\"x\",\"y\":[16.2015,253.848,288.204,663.2955,267.3405],\"yaxis\":\"y\",\"type\":\"bar\"},{\"alignmentgroup\":\"True\",\"hovertemplate\":\"City=%{x}<br>Date=1/25/2019<br>Total=%{y}<extra></extra>\",\"ids\":[\"B\",\"B\",\"B\",\"B\",\"B\",\"B\",\"B\"],\"legendgroup\":\"Mandalay\",\"marker\":{\"color\":\"#00cc96\",\"pattern\":{\"shape\":\"\"}},\"name\":\"Mandalay\",\"offsetgroup\":\"Mandalay\",\"orientation\":\"v\",\"showlegend\":true,\"textposition\":\"auto\",\"x\":[\"Mandalay\",\"Mandalay\",\"Mandalay\",\"Mandalay\",\"Mandalay\",\"Mandalay\",\"Mandalay\"],\"xaxis\":\"x\",\"y\":[463.89,291.207,356.5485,214.746,128.016,45.927,100.9155],\"yaxis\":\"y\",\"type\":\"bar\"}],\"name\":\"1/25/2019\"},{\"data\":[{\"alignmentgroup\":\"True\",\"hovertemplate\":\"City=%{x}<br>Date=1/28/2019<br>Total=%{y}<extra></extra>\",\"ids\":[\"A\",\"A\"],\"legendgroup\":\"Yangon\",\"marker\":{\"color\":\"#636efa\",\"pattern\":{\"shape\":\"\"}},\"name\":\"Yangon\",\"offsetgroup\":\"Yangon\",\"orientation\":\"v\",\"showlegend\":true,\"textposition\":\"auto\",\"x\":[\"Yangon\",\"Yangon\"],\"xaxis\":\"x\",\"y\":[203.112,84.7455],\"yaxis\":\"y\",\"type\":\"bar\"},{\"alignmentgroup\":\"True\",\"hovertemplate\":\"City=%{x}<br>Date=1/28/2019<br>Total=%{y}<extra></extra>\",\"ids\":[\"C\",\"C\",\"C\",\"C\",\"C\",\"C\"],\"legendgroup\":\"Naypyitaw\",\"marker\":{\"color\":\"#EF553B\",\"pattern\":{\"shape\":\"\"}},\"name\":\"Naypyitaw\",\"offsetgroup\":\"Naypyitaw\",\"orientation\":\"v\",\"showlegend\":true,\"textposition\":\"auto\",\"x\":[\"Naypyitaw\",\"Naypyitaw\",\"Naypyitaw\",\"Naypyitaw\",\"Naypyitaw\",\"Naypyitaw\"],\"xaxis\":\"x\",\"y\":[680.148,273.42,293.202,91.4025,125.055,118.251],\"yaxis\":\"y\",\"type\":\"bar\"},{\"alignmentgroup\":\"True\",\"hovertemplate\":\"City=%{x}<br>Date=1/28/2019<br>Total=%{y}<extra></extra>\",\"ids\":[\"B\",\"B\",\"B\",\"B\",\"B\",\"B\"],\"legendgroup\":\"Mandalay\",\"marker\":{\"color\":\"#00cc96\",\"pattern\":{\"shape\":\"\"}},\"name\":\"Mandalay\",\"offsetgroup\":\"Mandalay\",\"orientation\":\"v\",\"showlegend\":true,\"textposition\":\"auto\",\"x\":[\"Mandalay\",\"Mandalay\",\"Mandalay\",\"Mandalay\",\"Mandalay\",\"Mandalay\"],\"xaxis\":\"x\",\"y\":[737.7615,20.1075,681.4395,225.015,253.848,633.108],\"yaxis\":\"y\",\"type\":\"bar\"}],\"name\":\"1/28/2019\"},{\"data\":[{\"alignmentgroup\":\"True\",\"hovertemplate\":\"City=%{x}<br>Date=1/7/2019<br>Total=%{y}<extra></extra>\",\"ids\":[\"A\",\"A\",\"A\"],\"legendgroup\":\"Yangon\",\"marker\":{\"color\":\"#636efa\",\"pattern\":{\"shape\":\"\"}},\"name\":\"Yangon\",\"offsetgroup\":\"Yangon\",\"orientation\":\"v\",\"showlegend\":true,\"textposition\":\"auto\",\"x\":[\"Yangon\",\"Yangon\",\"Yangon\"],\"xaxis\":\"x\",\"y\":[326.424,203.553,575.9775],\"yaxis\":\"y\",\"type\":\"bar\"},{\"alignmentgroup\":\"True\",\"hovertemplate\":\"City=%{x}<br>Date=1/7/2019<br>Total=%{y}<extra></extra>\",\"ids\":[\"C\",\"C\",\"C\"],\"legendgroup\":\"Naypyitaw\",\"marker\":{\"color\":\"#EF553B\",\"pattern\":{\"shape\":\"\"}},\"name\":\"Naypyitaw\",\"offsetgroup\":\"Naypyitaw\",\"orientation\":\"v\",\"showlegend\":true,\"textposition\":\"auto\",\"x\":[\"Naypyitaw\",\"Naypyitaw\",\"Naypyitaw\"],\"xaxis\":\"x\",\"y\":[71.526,229.11,85.743],\"yaxis\":\"y\",\"type\":\"bar\"},{\"alignmentgroup\":\"True\",\"hovertemplate\":\"City=%{x}<br>Date=1/7/2019<br>Total=%{y}<extra></extra>\",\"ids\":[\"B\",\"B\",\"B\"],\"legendgroup\":\"Mandalay\",\"marker\":{\"color\":\"#00cc96\",\"pattern\":{\"shape\":\"\"}},\"name\":\"Mandalay\",\"offsetgroup\":\"Mandalay\",\"orientation\":\"v\",\"showlegend\":true,\"textposition\":\"auto\",\"x\":[\"Mandalay\",\"Mandalay\",\"Mandalay\"],\"xaxis\":\"x\",\"y\":[614.943,352.5795,374.388],\"yaxis\":\"y\",\"type\":\"bar\"}],\"name\":\"1/7/2019\"},{\"data\":[{\"alignmentgroup\":\"True\",\"hovertemplate\":\"City=%{x}<br>Date=3/23/2019<br>Total=%{y}<extra></extra>\",\"ids\":[\"A\",\"A\",\"A\",\"A\",\"A\",\"A\"],\"legendgroup\":\"Yangon\",\"marker\":{\"color\":\"#636efa\",\"pattern\":{\"shape\":\"\"}},\"name\":\"Yangon\",\"offsetgroup\":\"Yangon\",\"orientation\":\"v\",\"showlegend\":true,\"textposition\":\"auto\",\"x\":[\"Yangon\",\"Yangon\",\"Yangon\",\"Yangon\",\"Yangon\",\"Yangon\"],\"xaxis\":\"x\",\"y\":[166.1625,465.444,162.75,26.5545,156.03,771.435],\"yaxis\":\"y\",\"type\":\"bar\"},{\"alignmentgroup\":\"True\",\"hovertemplate\":\"City=%{x}<br>Date=3/23/2019<br>Total=%{y}<extra></extra>\",\"ids\":[\"C\",\"C\",\"C\",\"C\"],\"legendgroup\":\"Naypyitaw\",\"marker\":{\"color\":\"#EF553B\",\"pattern\":{\"shape\":\"\"}},\"name\":\"Naypyitaw\",\"offsetgroup\":\"Naypyitaw\",\"orientation\":\"v\",\"showlegend\":true,\"textposition\":\"auto\",\"x\":[\"Naypyitaw\",\"Naypyitaw\",\"Naypyitaw\",\"Naypyitaw\"],\"xaxis\":\"x\",\"y\":[461.328,596.82,408.7335,495.3165],\"yaxis\":\"y\",\"type\":\"bar\"},{\"alignmentgroup\":\"True\",\"hovertemplate\":\"City=%{x}<br>Date=3/23/2019<br>Total=%{y}<extra></extra>\",\"ids\":[\"B\"],\"legendgroup\":\"Mandalay\",\"marker\":{\"color\":\"#00cc96\",\"pattern\":{\"shape\":\"\"}},\"name\":\"Mandalay\",\"offsetgroup\":\"Mandalay\",\"orientation\":\"v\",\"showlegend\":true,\"textposition\":\"auto\",\"x\":[\"Mandalay\"],\"xaxis\":\"x\",\"y\":[384.468],\"yaxis\":\"y\",\"type\":\"bar\"}],\"name\":\"3/23/2019\"},{\"data\":[{\"alignmentgroup\":\"True\",\"hovertemplate\":\"City=%{x}<br>Date=1/17/2019<br>Total=%{y}<extra></extra>\",\"ids\":[\"A\",\"A\",\"A\",\"A\"],\"legendgroup\":\"Yangon\",\"marker\":{\"color\":\"#636efa\",\"pattern\":{\"shape\":\"\"}},\"name\":\"Yangon\",\"offsetgroup\":\"Yangon\",\"orientation\":\"v\",\"showlegend\":true,\"textposition\":\"auto\",\"x\":[\"Yangon\",\"Yangon\",\"Yangon\",\"Yangon\"],\"xaxis\":\"x\",\"y\":[135.576,253.848,80.955,432.9885],\"yaxis\":\"y\",\"type\":\"bar\"},{\"alignmentgroup\":\"True\",\"hovertemplate\":\"City=%{x}<br>Date=1/17/2019<br>Total=%{y}<extra></extra>\",\"ids\":[\"C\",\"C\",\"C\"],\"legendgroup\":\"Naypyitaw\",\"marker\":{\"color\":\"#EF553B\",\"pattern\":{\"shape\":\"\"}},\"name\":\"Naypyitaw\",\"offsetgroup\":\"Naypyitaw\",\"orientation\":\"v\",\"showlegend\":true,\"textposition\":\"auto\",\"x\":[\"Naypyitaw\",\"Naypyitaw\",\"Naypyitaw\"],\"xaxis\":\"x\",\"y\":[377.58,137.865,131.922],\"yaxis\":\"y\",\"type\":\"bar\"},{\"alignmentgroup\":\"True\",\"hovertemplate\":\"City=%{x}<br>Date=1/17/2019<br>Total=%{y}<extra></extra>\",\"ids\":[\"B\",\"B\",\"B\",\"B\"],\"legendgroup\":\"Mandalay\",\"marker\":{\"color\":\"#00cc96\",\"pattern\":{\"shape\":\"\"}},\"name\":\"Mandalay\",\"offsetgroup\":\"Mandalay\",\"orientation\":\"v\",\"showlegend\":true,\"textposition\":\"auto\",\"x\":[\"Mandalay\",\"Mandalay\",\"Mandalay\",\"Mandalay\"],\"xaxis\":\"x\",\"y\":[91.056,121.569,695.2365,85.302],\"yaxis\":\"y\",\"type\":\"bar\"}],\"name\":\"1/17/2019\"},{\"data\":[{\"alignmentgroup\":\"True\",\"hovertemplate\":\"City=%{x}<br>Date=2/2/2019<br>Total=%{y}<extra></extra>\",\"ids\":[\"A\",\"A\",\"A\",\"A\"],\"legendgroup\":\"Yangon\",\"marker\":{\"color\":\"#636efa\",\"pattern\":{\"shape\":\"\"}},\"name\":\"Yangon\",\"offsetgroup\":\"Yangon\",\"orientation\":\"v\",\"showlegend\":true,\"textposition\":\"auto\",\"x\":[\"Yangon\",\"Yangon\",\"Yangon\",\"Yangon\"],\"xaxis\":\"x\",\"y\":[19.2465,115.08,452.865,432.768],\"yaxis\":\"y\",\"type\":\"bar\"},{\"alignmentgroup\":\"True\",\"hovertemplate\":\"City=%{x}<br>Date=2/2/2019<br>Total=%{y}<extra></extra>\",\"ids\":[\"C\",\"C\",\"C\",\"C\",\"C\",\"C\"],\"legendgroup\":\"Naypyitaw\",\"marker\":{\"color\":\"#EF553B\",\"pattern\":{\"shape\":\"\"}},\"name\":\"Naypyitaw\",\"offsetgroup\":\"Naypyitaw\",\"orientation\":\"v\",\"showlegend\":true,\"textposition\":\"auto\",\"x\":[\"Naypyitaw\",\"Naypyitaw\",\"Naypyitaw\",\"Naypyitaw\",\"Naypyitaw\",\"Naypyitaw\"],\"xaxis\":\"x\",\"y\":[117.831,400.764,554.148,40.341,223.587,175.035],\"yaxis\":\"y\",\"type\":\"bar\"},{\"alignmentgroup\":\"True\",\"hovertemplate\":\"City=%{x}<br>Date=2/2/2019<br>Total=%{y}<extra></extra>\",\"ids\":[\"B\",\"B\",\"B\",\"B\"],\"legendgroup\":\"Mandalay\",\"marker\":{\"color\":\"#00cc96\",\"pattern\":{\"shape\":\"\"}},\"name\":\"Mandalay\",\"offsetgroup\":\"Mandalay\",\"orientation\":\"v\",\"showlegend\":true,\"textposition\":\"auto\",\"x\":[\"Mandalay\",\"Mandalay\",\"Mandalay\",\"Mandalay\"],\"xaxis\":\"x\",\"y\":[788.508,439.8975,193.011,187.866],\"yaxis\":\"y\",\"type\":\"bar\"}],\"name\":\"2/2/2019\"},{\"data\":[{\"alignmentgroup\":\"True\",\"hovertemplate\":\"City=%{x}<br>Date=3/4/2019<br>Total=%{y}<extra></extra>\",\"ids\":[\"A\",\"A\",\"A\",\"A\",\"A\",\"A\",\"A\",\"A\",\"A\"],\"legendgroup\":\"Yangon\",\"marker\":{\"color\":\"#636efa\",\"pattern\":{\"shape\":\"\"}},\"name\":\"Yangon\",\"offsetgroup\":\"Yangon\",\"orientation\":\"v\",\"showlegend\":true,\"textposition\":\"auto\",\"x\":[\"Yangon\",\"Yangon\",\"Yangon\",\"Yangon\",\"Yangon\",\"Yangon\",\"Yangon\",\"Yangon\",\"Yangon\"],\"xaxis\":\"x\",\"y\":[90.699,628.929,237.426,76.755,510.615,462.672,216.4365,314.685,313.572],\"yaxis\":\"y\",\"type\":\"bar\"},{\"alignmentgroup\":\"True\",\"hovertemplate\":\"City=%{x}<br>Date=3/4/2019<br>Total=%{y}<extra></extra>\",\"ids\":[\"C\",\"C\"],\"legendgroup\":\"Naypyitaw\",\"marker\":{\"color\":\"#EF553B\",\"pattern\":{\"shape\":\"\"}},\"name\":\"Naypyitaw\",\"offsetgroup\":\"Naypyitaw\",\"orientation\":\"v\",\"showlegend\":true,\"textposition\":\"auto\",\"x\":[\"Naypyitaw\",\"Naypyitaw\"],\"xaxis\":\"x\",\"y\":[253.848,31.752],\"yaxis\":\"y\",\"type\":\"bar\"},{\"alignmentgroup\":\"True\",\"hovertemplate\":\"City=%{x}<br>Date=3/4/2019<br>Total=%{y}<extra></extra>\",\"ids\":[\"B\"],\"legendgroup\":\"Mandalay\",\"marker\":{\"color\":\"#00cc96\",\"pattern\":{\"shape\":\"\"}},\"name\":\"Mandalay\",\"offsetgroup\":\"Mandalay\",\"orientation\":\"v\",\"showlegend\":true,\"textposition\":\"auto\",\"x\":[\"Mandalay\"],\"xaxis\":\"x\",\"y\":[181.818],\"yaxis\":\"y\",\"type\":\"bar\"}],\"name\":\"3/4/2019\"},{\"data\":[{\"alignmentgroup\":\"True\",\"hovertemplate\":\"City=%{x}<br>Date=3/16/2019<br>Total=%{y}<extra></extra>\",\"ids\":[\"A\",\"A\",\"A\"],\"legendgroup\":\"Yangon\",\"marker\":{\"color\":\"#636efa\",\"pattern\":{\"shape\":\"\"}},\"name\":\"Yangon\",\"offsetgroup\":\"Yangon\",\"orientation\":\"v\",\"showlegend\":true,\"textposition\":\"auto\",\"x\":[\"Yangon\",\"Yangon\",\"Yangon\"],\"xaxis\":\"x\",\"y\":[609.0,99.75,333.9525],\"yaxis\":\"y\",\"type\":\"bar\"},{\"alignmentgroup\":\"True\",\"hovertemplate\":\"City=%{x}<br>Date=3/16/2019<br>Total=%{y}<extra></extra>\",\"ids\":[\"C\",\"C\",\"C\"],\"legendgroup\":\"Naypyitaw\",\"marker\":{\"color\":\"#EF553B\",\"pattern\":{\"shape\":\"\"}},\"name\":\"Naypyitaw\",\"offsetgroup\":\"Naypyitaw\",\"orientation\":\"v\",\"showlegend\":true,\"textposition\":\"auto\",\"x\":[\"Naypyitaw\",\"Naypyitaw\",\"Naypyitaw\"],\"xaxis\":\"x\",\"y\":[32.277,253.848,408.492],\"yaxis\":\"y\",\"type\":\"bar\"},{\"alignmentgroup\":\"True\",\"hovertemplate\":\"City=%{x}<br>Date=3/16/2019<br>Total=%{y}<extra></extra>\",\"ids\":[\"B\",\"B\",\"B\"],\"legendgroup\":\"Mandalay\",\"marker\":{\"color\":\"#00cc96\",\"pattern\":{\"shape\":\"\"}},\"name\":\"Mandalay\",\"offsetgroup\":\"Mandalay\",\"orientation\":\"v\",\"showlegend\":true,\"textposition\":\"auto\",\"x\":[\"Mandalay\",\"Mandalay\",\"Mandalay\"],\"xaxis\":\"x\",\"y\":[78.7185,360.885,401.688],\"yaxis\":\"y\",\"type\":\"bar\"}],\"name\":\"3/16/2019\"},{\"data\":[{\"alignmentgroup\":\"True\",\"hovertemplate\":\"City=%{x}<br>Date=2/27/2019<br>Total=%{y}<extra></extra>\",\"ids\":[\"A\",\"A\",\"A\",\"A\",\"A\"],\"legendgroup\":\"Yangon\",\"marker\":{\"color\":\"#636efa\",\"pattern\":{\"shape\":\"\"}},\"name\":\"Yangon\",\"offsetgroup\":\"Yangon\",\"orientation\":\"v\",\"showlegend\":true,\"textposition\":\"auto\",\"x\":[\"Yangon\",\"Yangon\",\"Yangon\",\"Yangon\",\"Yangon\"],\"xaxis\":\"x\",\"y\":[736.4385,45.108,197.925,680.61,781.62],\"yaxis\":\"y\",\"type\":\"bar\"},{\"alignmentgroup\":\"True\",\"hovertemplate\":\"City=%{x}<br>Date=2/27/2019<br>Total=%{y}<extra></extra>\",\"ids\":[\"C\",\"C\",\"C\"],\"legendgroup\":\"Naypyitaw\",\"marker\":{\"color\":\"#EF553B\",\"pattern\":{\"shape\":\"\"}},\"name\":\"Naypyitaw\",\"offsetgroup\":\"Naypyitaw\",\"orientation\":\"v\",\"showlegend\":true,\"textposition\":\"auto\",\"x\":[\"Naypyitaw\",\"Naypyitaw\",\"Naypyitaw\"],\"xaxis\":\"x\",\"y\":[793.548,104.6745,631.1445],\"yaxis\":\"y\",\"type\":\"bar\"},{\"alignmentgroup\":\"True\",\"hovertemplate\":\"City=%{x}<br>Date=2/27/2019<br>Total=%{y}<extra></extra>\",\"ids\":[\"B\",\"B\",\"B\",\"B\",\"B\",\"B\"],\"legendgroup\":\"Mandalay\",\"marker\":{\"color\":\"#00cc96\",\"pattern\":{\"shape\":\"\"}},\"name\":\"Mandalay\",\"offsetgroup\":\"Mandalay\",\"orientation\":\"v\",\"showlegend\":true,\"textposition\":\"auto\",\"x\":[\"Mandalay\",\"Mandalay\",\"Mandalay\",\"Mandalay\",\"Mandalay\",\"Mandalay\"],\"xaxis\":\"x\",\"y\":[535.7205,485.037,141.75,353.1675,165.123,207.585],\"yaxis\":\"y\",\"type\":\"bar\"}],\"name\":\"2/27/2019\"},{\"data\":[{\"alignmentgroup\":\"True\",\"hovertemplate\":\"City=%{x}<br>Date=2/10/2019<br>Total=%{y}<extra></extra>\",\"ids\":[\"A\",\"A\",\"A\",\"A\"],\"legendgroup\":\"Yangon\",\"marker\":{\"color\":\"#636efa\",\"pattern\":{\"shape\":\"\"}},\"name\":\"Yangon\",\"offsetgroup\":\"Yangon\",\"orientation\":\"v\",\"showlegend\":true,\"textposition\":\"auto\",\"x\":[\"Yangon\",\"Yangon\",\"Yangon\",\"Yangon\"],\"xaxis\":\"x\",\"y\":[234.0975,316.47,77.7735,394.3275],\"yaxis\":\"y\",\"type\":\"bar\"},{\"alignmentgroup\":\"True\",\"hovertemplate\":\"City=%{x}<br>Date=2/10/2019<br>Total=%{y}<extra></extra>\",\"ids\":[\"C\",\"C\",\"C\"],\"legendgroup\":\"Naypyitaw\",\"marker\":{\"color\":\"#EF553B\",\"pattern\":{\"shape\":\"\"}},\"name\":\"Naypyitaw\",\"offsetgroup\":\"Naypyitaw\",\"orientation\":\"v\",\"showlegend\":true,\"textposition\":\"auto\",\"x\":[\"Naypyitaw\",\"Naypyitaw\",\"Naypyitaw\"],\"xaxis\":\"x\",\"y\":[70.287,820.365,539.343],\"yaxis\":\"y\",\"type\":\"bar\"},{\"alignmentgroup\":\"True\",\"hovertemplate\":\"City=%{x}<br>Date=2/10/2019<br>Total=%{y}<extra></extra>\",\"ids\":[\"B\",\"B\",\"B\",\"B\"],\"legendgroup\":\"Mandalay\",\"marker\":{\"color\":\"#00cc96\",\"pattern\":{\"shape\":\"\"}},\"name\":\"Mandalay\",\"offsetgroup\":\"Mandalay\",\"orientation\":\"v\",\"showlegend\":true,\"textposition\":\"auto\",\"x\":[\"Mandalay\",\"Mandalay\",\"Mandalay\",\"Mandalay\"],\"xaxis\":\"x\",\"y\":[119.259,146.328,151.4835,271.2885],\"yaxis\":\"y\",\"type\":\"bar\"}],\"name\":\"2/10/2019\"},{\"data\":[{\"alignmentgroup\":\"True\",\"hovertemplate\":\"City=%{x}<br>Date=3/19/2019<br>Total=%{y}<extra></extra>\",\"ids\":[\"A\",\"A\",\"A\",\"A\",\"A\",\"A\"],\"legendgroup\":\"Yangon\",\"marker\":{\"color\":\"#636efa\",\"pattern\":{\"shape\":\"\"}},\"name\":\"Yangon\",\"offsetgroup\":\"Yangon\",\"orientation\":\"v\",\"showlegend\":true,\"textposition\":\"auto\",\"x\":[\"Yangon\",\"Yangon\",\"Yangon\",\"Yangon\",\"Yangon\",\"Yangon\"],\"xaxis\":\"x\",\"y\":[171.7275,709.317,721.98,97.818,175.014,16.275],\"yaxis\":\"y\",\"type\":\"bar\"},{\"alignmentgroup\":\"True\",\"hovertemplate\":\"City=%{x}<br>Date=3/19/2019<br>Total=%{y}<extra></extra>\",\"ids\":[\"C\",\"C\",\"C\",\"C\",\"C\",\"C\",\"C\"],\"legendgroup\":\"Naypyitaw\",\"marker\":{\"color\":\"#EF553B\",\"pattern\":{\"shape\":\"\"}},\"name\":\"Naypyitaw\",\"offsetgroup\":\"Naypyitaw\",\"orientation\":\"v\",\"showlegend\":true,\"textposition\":\"auto\",\"x\":[\"Naypyitaw\",\"Naypyitaw\",\"Naypyitaw\",\"Naypyitaw\",\"Naypyitaw\",\"Naypyitaw\",\"Naypyitaw\"],\"xaxis\":\"x\",\"y\":[253.848,277.788,55.881,253.848,48.51,743.82,317.226],\"yaxis\":\"y\",\"type\":\"bar\"},{\"alignmentgroup\":\"True\",\"hovertemplate\":\"City=%{x}<br>Date=3/19/2019<br>Total=%{y}<extra></extra>\",\"ids\":[\"B\",\"B\",\"B\"],\"legendgroup\":\"Mandalay\",\"marker\":{\"color\":\"#00cc96\",\"pattern\":{\"shape\":\"\"}},\"name\":\"Mandalay\",\"offsetgroup\":\"Mandalay\",\"orientation\":\"v\",\"showlegend\":true,\"textposition\":\"auto\",\"x\":[\"Mandalay\",\"Mandalay\",\"Mandalay\"],\"xaxis\":\"x\",\"y\":[223.0725,213.528,163.002],\"yaxis\":\"y\",\"type\":\"bar\"}],\"name\":\"3/19/2019\"},{\"data\":[{\"alignmentgroup\":\"True\",\"hovertemplate\":\"City=%{x}<br>Date=2/3/2019<br>Total=%{y}<extra></extra>\",\"ids\":[\"A\",\"A\",\"A\",\"A\",\"A\"],\"legendgroup\":\"Yangon\",\"marker\":{\"color\":\"#636efa\",\"pattern\":{\"shape\":\"\"}},\"name\":\"Yangon\",\"offsetgroup\":\"Yangon\",\"orientation\":\"v\",\"showlegend\":true,\"textposition\":\"auto\",\"x\":[\"Yangon\",\"Yangon\",\"Yangon\",\"Yangon\",\"Yangon\"],\"xaxis\":\"x\",\"y\":[697.368,404.355,708.225,764.19,143.22],\"yaxis\":\"y\",\"type\":\"bar\"},{\"alignmentgroup\":\"True\",\"hovertemplate\":\"City=%{x}<br>Date=2/3/2019<br>Total=%{y}<extra></extra>\",\"ids\":[\"C\",\"C\",\"C\",\"C\"],\"legendgroup\":\"Naypyitaw\",\"marker\":{\"color\":\"#EF553B\",\"pattern\":{\"shape\":\"\"}},\"name\":\"Naypyitaw\",\"offsetgroup\":\"Naypyitaw\",\"orientation\":\"v\",\"showlegend\":true,\"textposition\":\"auto\",\"x\":[\"Naypyitaw\",\"Naypyitaw\",\"Naypyitaw\",\"Naypyitaw\"],\"xaxis\":\"x\",\"y\":[671.79,212.73,310.59,517.965],\"yaxis\":\"y\",\"type\":\"bar\"},{\"alignmentgroup\":\"True\",\"hovertemplate\":\"City=%{x}<br>Date=2/3/2019<br>Total=%{y}<extra></extra>\",\"ids\":[\"B\",\"B\",\"B\",\"B\",\"B\"],\"legendgroup\":\"Mandalay\",\"marker\":{\"color\":\"#00cc96\",\"pattern\":{\"shape\":\"\"}},\"name\":\"Mandalay\",\"offsetgroup\":\"Mandalay\",\"orientation\":\"v\",\"showlegend\":true,\"textposition\":\"auto\",\"x\":[\"Mandalay\",\"Mandalay\",\"Mandalay\",\"Mandalay\",\"Mandalay\"],\"xaxis\":\"x\",\"y\":[520.4115,77.6685,135.3555,247.59,56.469],\"yaxis\":\"y\",\"type\":\"bar\"}],\"name\":\"2/3/2019\"},{\"data\":[{\"alignmentgroup\":\"True\",\"hovertemplate\":\"City=%{x}<br>Date=3/7/2019<br>Total=%{y}<extra></extra>\",\"ids\":[\"A\",\"A\",\"A\"],\"legendgroup\":\"Yangon\",\"marker\":{\"color\":\"#636efa\",\"pattern\":{\"shape\":\"\"}},\"name\":\"Yangon\",\"offsetgroup\":\"Yangon\",\"orientation\":\"v\",\"showlegend\":true,\"textposition\":\"auto\",\"x\":[\"Yangon\",\"Yangon\",\"Yangon\"],\"xaxis\":\"x\",\"y\":[146.9475,102.837,118.902],\"yaxis\":\"y\",\"type\":\"bar\"},{\"alignmentgroup\":\"True\",\"hovertemplate\":\"City=%{x}<br>Date=3/7/2019<br>Total=%{y}<extra></extra>\",\"ids\":[\"C\",\"C\",\"C\",\"C\"],\"legendgroup\":\"Naypyitaw\",\"marker\":{\"color\":\"#EF553B\",\"pattern\":{\"shape\":\"\"}},\"name\":\"Naypyitaw\",\"offsetgroup\":\"Naypyitaw\",\"orientation\":\"v\",\"showlegend\":true,\"textposition\":\"auto\",\"x\":[\"Naypyitaw\",\"Naypyitaw\",\"Naypyitaw\",\"Naypyitaw\"],\"xaxis\":\"x\",\"y\":[69.09,209.559,353.094,139.923],\"yaxis\":\"y\",\"type\":\"bar\"},{\"alignmentgroup\":\"True\",\"hovertemplate\":\"City=%{x}<br>Date=3/7/2019<br>Total=%{y}<extra></extra>\",\"ids\":[\"B\",\"B\"],\"legendgroup\":\"Mandalay\",\"marker\":{\"color\":\"#00cc96\",\"pattern\":{\"shape\":\"\"}},\"name\":\"Mandalay\",\"offsetgroup\":\"Mandalay\",\"orientation\":\"v\",\"showlegend\":true,\"textposition\":\"auto\",\"x\":[\"Mandalay\",\"Mandalay\"],\"xaxis\":\"x\",\"y\":[33.936,263.97],\"yaxis\":\"y\",\"type\":\"bar\"}],\"name\":\"3/7/2019\"},{\"data\":[{\"alignmentgroup\":\"True\",\"hovertemplate\":\"City=%{x}<br>Date=2/28/2019<br>Total=%{y}<extra></extra>\",\"ids\":[\"A\",\"A\"],\"legendgroup\":\"Yangon\",\"marker\":{\"color\":\"#636efa\",\"pattern\":{\"shape\":\"\"}},\"name\":\"Yangon\",\"offsetgroup\":\"Yangon\",\"orientation\":\"v\",\"showlegend\":true,\"textposition\":\"auto\",\"x\":[\"Yangon\",\"Yangon\"],\"xaxis\":\"x\",\"y\":[507.906,176.4],\"yaxis\":\"y\",\"type\":\"bar\"},{\"alignmentgroup\":\"True\",\"hovertemplate\":\"City=%{x}<br>Date=2/28/2019<br>Total=%{y}<extra></extra>\",\"ids\":[\"C\",\"C\"],\"legendgroup\":\"Naypyitaw\",\"marker\":{\"color\":\"#EF553B\",\"pattern\":{\"shape\":\"\"}},\"name\":\"Naypyitaw\",\"offsetgroup\":\"Naypyitaw\",\"orientation\":\"v\",\"showlegend\":true,\"textposition\":\"auto\",\"x\":[\"Naypyitaw\",\"Naypyitaw\"],\"xaxis\":\"x\",\"y\":[722.232,195.72],\"yaxis\":\"y\",\"type\":\"bar\"},{\"alignmentgroup\":\"True\",\"hovertemplate\":\"City=%{x}<br>Date=2/28/2019<br>Total=%{y}<extra></extra>\",\"ids\":[\"B\",\"B\"],\"legendgroup\":\"Mandalay\",\"marker\":{\"color\":\"#00cc96\",\"pattern\":{\"shape\":\"\"}},\"name\":\"Mandalay\",\"offsetgroup\":\"Mandalay\",\"orientation\":\"v\",\"showlegend\":true,\"textposition\":\"auto\",\"x\":[\"Mandalay\",\"Mandalay\"],\"xaxis\":\"x\",\"y\":[431.445,63.315],\"yaxis\":\"y\",\"type\":\"bar\"}],\"name\":\"2/28/2019\"},{\"data\":[{\"alignmentgroup\":\"True\",\"hovertemplate\":\"City=%{x}<br>Date=3/27/2019<br>Total=%{y}<extra></extra>\",\"ids\":[\"A\",\"A\",\"A\",\"A\",\"A\"],\"legendgroup\":\"Yangon\",\"marker\":{\"color\":\"#636efa\",\"pattern\":{\"shape\":\"\"}},\"name\":\"Yangon\",\"offsetgroup\":\"Yangon\",\"orientation\":\"v\",\"showlegend\":true,\"textposition\":\"auto\",\"x\":[\"Yangon\",\"Yangon\",\"Yangon\",\"Yangon\",\"Yangon\"],\"xaxis\":\"x\",\"y\":[93.114,362.943,272.664,164.871,167.034],\"yaxis\":\"y\",\"type\":\"bar\"},{\"alignmentgroup\":\"True\",\"hovertemplate\":\"City=%{x}<br>Date=3/27/2019<br>Total=%{y}<extra></extra>\",\"ids\":[\"C\"],\"legendgroup\":\"Naypyitaw\",\"marker\":{\"color\":\"#EF553B\",\"pattern\":{\"shape\":\"\"}},\"name\":\"Naypyitaw\",\"offsetgroup\":\"Naypyitaw\",\"orientation\":\"v\",\"showlegend\":true,\"textposition\":\"auto\",\"x\":[\"Naypyitaw\"],\"xaxis\":\"x\",\"y\":[253.848],\"yaxis\":\"y\",\"type\":\"bar\"},{\"alignmentgroup\":\"True\",\"hovertemplate\":\"City=%{x}<br>Date=3/27/2019<br>Total=%{y}<extra></extra>\",\"ids\":[\"B\",\"B\",\"B\",\"B\"],\"legendgroup\":\"Mandalay\",\"marker\":{\"color\":\"#00cc96\",\"pattern\":{\"shape\":\"\"}},\"name\":\"Mandalay\",\"offsetgroup\":\"Mandalay\",\"orientation\":\"v\",\"showlegend\":true,\"textposition\":\"auto\",\"x\":[\"Mandalay\",\"Mandalay\",\"Mandalay\",\"Mandalay\"],\"xaxis\":\"x\",\"y\":[588.357,116.907,101.808,91.8225],\"yaxis\":\"y\",\"type\":\"bar\"}],\"name\":\"3/27/2019\"},{\"data\":[{\"alignmentgroup\":\"True\",\"hovertemplate\":\"City=%{x}<br>Date=1/20/2019<br>Total=%{y}<extra></extra>\",\"ids\":[\"A\",\"A\",\"A\",\"A\"],\"legendgroup\":\"Yangon\",\"marker\":{\"color\":\"#636efa\",\"pattern\":{\"shape\":\"\"}},\"name\":\"Yangon\",\"offsetgroup\":\"Yangon\",\"orientation\":\"v\",\"showlegend\":true,\"textposition\":\"auto\",\"x\":[\"Yangon\",\"Yangon\",\"Yangon\",\"Yangon\"],\"xaxis\":\"x\",\"y\":[759.675,195.594,536.592,233.1],\"yaxis\":\"y\",\"type\":\"bar\"},{\"alignmentgroup\":\"True\",\"hovertemplate\":\"City=%{x}<br>Date=1/20/2019<br>Total=%{y}<extra></extra>\",\"ids\":[\"C\",\"C\",\"C\",\"C\"],\"legendgroup\":\"Naypyitaw\",\"marker\":{\"color\":\"#EF553B\",\"pattern\":{\"shape\":\"\"}},\"name\":\"Naypyitaw\",\"offsetgroup\":\"Naypyitaw\",\"orientation\":\"v\",\"showlegend\":true,\"textposition\":\"auto\",\"x\":[\"Naypyitaw\",\"Naypyitaw\",\"Naypyitaw\",\"Naypyitaw\"],\"xaxis\":\"x\",\"y\":[749.7,348.306,131.208,470.988],\"yaxis\":\"y\",\"type\":\"bar\"},{\"alignmentgroup\":\"True\",\"hovertemplate\":\"City=%{x}<br>Date=1/20/2019<br>Total=%{y}<extra></extra>\",\"ids\":[\"B\",\"B\"],\"legendgroup\":\"Mandalay\",\"marker\":{\"color\":\"#00cc96\",\"pattern\":{\"shape\":\"\"}},\"name\":\"Mandalay\",\"offsetgroup\":\"Mandalay\",\"orientation\":\"v\",\"showlegend\":true,\"textposition\":\"auto\",\"x\":[\"Mandalay\",\"Mandalay\"],\"xaxis\":\"x\",\"y\":[112.224,118.062],\"yaxis\":\"y\",\"type\":\"bar\"}],\"name\":\"1/20/2019\"},{\"data\":[{\"alignmentgroup\":\"True\",\"hovertemplate\":\"City=%{x}<br>Date=3/12/2019<br>Total=%{y}<extra></extra>\",\"ids\":[\"A\",\"A\"],\"legendgroup\":\"Yangon\",\"marker\":{\"color\":\"#636efa\",\"pattern\":{\"shape\":\"\"}},\"name\":\"Yangon\",\"offsetgroup\":\"Yangon\",\"orientation\":\"v\",\"showlegend\":true,\"textposition\":\"auto\",\"x\":[\"Yangon\",\"Yangon\"],\"xaxis\":\"x\",\"y\":[723.24,200.214],\"yaxis\":\"y\",\"type\":\"bar\"},{\"alignmentgroup\":\"True\",\"hovertemplate\":\"City=%{x}<br>Date=3/12/2019<br>Total=%{y}<extra></extra>\",\"ids\":[\"C\",\"C\",\"C\",\"C\",\"C\"],\"legendgroup\":\"Naypyitaw\",\"marker\":{\"color\":\"#EF553B\",\"pattern\":{\"shape\":\"\"}},\"name\":\"Naypyitaw\",\"offsetgroup\":\"Naypyitaw\",\"orientation\":\"v\",\"showlegend\":true,\"textposition\":\"auto\",\"x\":[\"Naypyitaw\",\"Naypyitaw\",\"Naypyitaw\",\"Naypyitaw\",\"Naypyitaw\"],\"xaxis\":\"x\",\"y\":[192.843,174.3,395.892,194.124,404.544],\"yaxis\":\"y\",\"type\":\"bar\"},{\"alignmentgroup\":\"True\",\"hovertemplate\":\"City=%{x}<br>Date=3/12/2019<br>Total=%{y}<extra></extra>\",\"ids\":[\"B\",\"B\",\"B\",\"B\",\"B\"],\"legendgroup\":\"Mandalay\",\"marker\":{\"color\":\"#00cc96\",\"pattern\":{\"shape\":\"\"}},\"name\":\"Mandalay\",\"offsetgroup\":\"Mandalay\",\"orientation\":\"v\",\"showlegend\":true,\"textposition\":\"auto\",\"x\":[\"Mandalay\",\"Mandalay\",\"Mandalay\",\"Mandalay\",\"Mandalay\"],\"xaxis\":\"x\",\"y\":[608.202,33.3585,40.9605,410.508,299.3655],\"yaxis\":\"y\",\"type\":\"bar\"}],\"name\":\"3/12/2019\"},{\"data\":[{\"alignmentgroup\":\"True\",\"hovertemplate\":\"City=%{x}<br>Date=2/15/2019<br>Total=%{y}<extra></extra>\",\"ids\":[\"A\",\"A\",\"A\",\"A\",\"A\"],\"legendgroup\":\"Yangon\",\"marker\":{\"color\":\"#636efa\",\"pattern\":{\"shape\":\"\"}},\"name\":\"Yangon\",\"offsetgroup\":\"Yangon\",\"orientation\":\"v\",\"showlegend\":true,\"textposition\":\"auto\",\"x\":[\"Yangon\",\"Yangon\",\"Yangon\",\"Yangon\",\"Yangon\"],\"xaxis\":\"x\",\"y\":[587.664,96.138,164.43,211.365,163.611],\"yaxis\":\"y\",\"type\":\"bar\"},{\"alignmentgroup\":\"True\",\"hovertemplate\":\"City=%{x}<br>Date=2/15/2019<br>Total=%{y}<extra></extra>\",\"ids\":[\"C\",\"C\",\"C\",\"C\",\"C\",\"C\",\"C\"],\"legendgroup\":\"Naypyitaw\",\"marker\":{\"color\":\"#EF553B\",\"pattern\":{\"shape\":\"\"}},\"name\":\"Naypyitaw\",\"offsetgroup\":\"Naypyitaw\",\"orientation\":\"v\",\"showlegend\":true,\"textposition\":\"auto\",\"x\":[\"Naypyitaw\",\"Naypyitaw\",\"Naypyitaw\",\"Naypyitaw\",\"Naypyitaw\",\"Naypyitaw\",\"Naypyitaw\"],\"xaxis\":\"x\",\"y\":[77.931,253.848,253.512,103.782,344.4,282.576,287.91],\"yaxis\":\"y\",\"type\":\"bar\"},{\"alignmentgroup\":\"True\",\"hovertemplate\":\"City=%{x}<br>Date=2/15/2019<br>Total=%{y}<extra></extra>\",\"ids\":[\"B\",\"B\",\"B\",\"B\",\"B\",\"B\",\"B\"],\"legendgroup\":\"Mandalay\",\"marker\":{\"color\":\"#00cc96\",\"pattern\":{\"shape\":\"\"}},\"name\":\"Mandalay\",\"offsetgroup\":\"Mandalay\",\"orientation\":\"v\",\"showlegend\":true,\"textposition\":\"auto\",\"x\":[\"Mandalay\",\"Mandalay\",\"Mandalay\",\"Mandalay\",\"Mandalay\",\"Mandalay\",\"Mandalay\"],\"xaxis\":\"x\",\"y\":[535.374,93.2925,565.215,731.43,362.817,92.7255,253.848],\"yaxis\":\"y\",\"type\":\"bar\"}],\"name\":\"2/15/2019\"},{\"data\":[{\"alignmentgroup\":\"True\",\"hovertemplate\":\"City=%{x}<br>Date=3/6/2019<br>Total=%{y}<extra></extra>\",\"ids\":[\"A\",\"A\",\"A\",\"A\"],\"legendgroup\":\"Yangon\",\"marker\":{\"color\":\"#636efa\",\"pattern\":{\"shape\":\"\"}},\"name\":\"Yangon\",\"offsetgroup\":\"Yangon\",\"orientation\":\"v\",\"showlegend\":true,\"textposition\":\"auto\",\"x\":[\"Yangon\",\"Yangon\",\"Yangon\",\"Yangon\"],\"xaxis\":\"x\",\"y\":[166.005,580.419,203.175,83.727],\"yaxis\":\"y\",\"type\":\"bar\"},{\"alignmentgroup\":\"True\",\"hovertemplate\":\"City=%{x}<br>Date=3/6/2019<br>Total=%{y}<extra></extra>\",\"ids\":[\"C\"],\"legendgroup\":\"Naypyitaw\",\"marker\":{\"color\":\"#EF553B\",\"pattern\":{\"shape\":\"\"}},\"name\":\"Naypyitaw\",\"offsetgroup\":\"Naypyitaw\",\"orientation\":\"v\",\"showlegend\":true,\"textposition\":\"auto\",\"x\":[\"Naypyitaw\"],\"xaxis\":\"x\",\"y\":[38.85],\"yaxis\":\"y\",\"type\":\"bar\"},{\"alignmentgroup\":\"True\",\"hovertemplate\":\"City=%{x}<br>Date=3/6/2019<br>Total=%{y}<extra></extra>\",\"ids\":[\"B\",\"B\",\"B\",\"B\",\"B\",\"B\"],\"legendgroup\":\"Mandalay\",\"marker\":{\"color\":\"#00cc96\",\"pattern\":{\"shape\":\"\"}},\"name\":\"Mandalay\",\"offsetgroup\":\"Mandalay\",\"orientation\":\"v\",\"showlegend\":true,\"textposition\":\"auto\",\"x\":[\"Mandalay\",\"Mandalay\",\"Mandalay\",\"Mandalay\",\"Mandalay\",\"Mandalay\"],\"xaxis\":\"x\",\"y\":[603.624,456.288,354.0075,352.674,148.995,104.832],\"yaxis\":\"y\",\"type\":\"bar\"}],\"name\":\"3/6/2019\"},{\"data\":[{\"alignmentgroup\":\"True\",\"hovertemplate\":\"City=%{x}<br>Date=2/14/2019<br>Total=%{y}<extra></extra>\",\"ids\":[\"A\",\"A\",\"A\"],\"legendgroup\":\"Yangon\",\"marker\":{\"color\":\"#636efa\",\"pattern\":{\"shape\":\"\"}},\"name\":\"Yangon\",\"offsetgroup\":\"Yangon\",\"orientation\":\"v\",\"showlegend\":true,\"textposition\":\"auto\",\"x\":[\"Yangon\",\"Yangon\",\"Yangon\"],\"xaxis\":\"x\",\"y\":[253.848,140.6475,95.865],\"yaxis\":\"y\",\"type\":\"bar\"},{\"alignmentgroup\":\"True\",\"hovertemplate\":\"City=%{x}<br>Date=2/14/2019<br>Total=%{y}<extra></extra>\",\"ids\":[\"C\",\"C\",\"C\"],\"legendgroup\":\"Naypyitaw\",\"marker\":{\"color\":\"#EF553B\",\"pattern\":{\"shape\":\"\"}},\"name\":\"Naypyitaw\",\"offsetgroup\":\"Naypyitaw\",\"orientation\":\"v\",\"showlegend\":true,\"textposition\":\"auto\",\"x\":[\"Naypyitaw\",\"Naypyitaw\",\"Naypyitaw\"],\"xaxis\":\"x\",\"y\":[208.677,290.43,122.472],\"yaxis\":\"y\",\"type\":\"bar\"},{\"alignmentgroup\":\"True\",\"hovertemplate\":\"City=%{x}<br>Date=2/14/2019<br>Total=%{y}<extra></extra>\",\"ids\":[\"B\",\"B\"],\"legendgroup\":\"Mandalay\",\"marker\":{\"color\":\"#00cc96\",\"pattern\":{\"shape\":\"\"}},\"name\":\"Mandalay\",\"offsetgroup\":\"Mandalay\",\"orientation\":\"v\",\"showlegend\":true,\"textposition\":\"auto\",\"x\":[\"Mandalay\",\"Mandalay\"],\"xaxis\":\"x\",\"y\":[318.108,441.588],\"yaxis\":\"y\",\"type\":\"bar\"}],\"name\":\"2/14/2019\"},{\"data\":[{\"alignmentgroup\":\"True\",\"hovertemplate\":\"City=%{x}<br>Date=3/13/2019<br>Total=%{y}<extra></extra>\",\"ids\":[\"A\",\"A\",\"A\"],\"legendgroup\":\"Yangon\",\"marker\":{\"color\":\"#636efa\",\"pattern\":{\"shape\":\"\"}},\"name\":\"Yangon\",\"offsetgroup\":\"Yangon\",\"orientation\":\"v\",\"showlegend\":true,\"textposition\":\"auto\",\"x\":[\"Yangon\",\"Yangon\",\"Yangon\"],\"xaxis\":\"x\",\"y\":[166.635,336.5565,284.9175],\"yaxis\":\"y\",\"type\":\"bar\"},{\"alignmentgroup\":\"True\",\"hovertemplate\":\"City=%{x}<br>Date=3/13/2019<br>Total=%{y}<extra></extra>\",\"ids\":[\"C\",\"C\",\"C\",\"C\"],\"legendgroup\":\"Naypyitaw\",\"marker\":{\"color\":\"#EF553B\",\"pattern\":{\"shape\":\"\"}},\"name\":\"Naypyitaw\",\"offsetgroup\":\"Naypyitaw\",\"orientation\":\"v\",\"showlegend\":true,\"textposition\":\"auto\",\"x\":[\"Naypyitaw\",\"Naypyitaw\",\"Naypyitaw\",\"Naypyitaw\"],\"xaxis\":\"x\",\"y\":[536.844,153.048,59.325,102.396],\"yaxis\":\"y\",\"type\":\"bar\"},{\"alignmentgroup\":\"True\",\"hovertemplate\":\"City=%{x}<br>Date=3/13/2019<br>Total=%{y}<extra></extra>\",\"ids\":[\"B\",\"B\",\"B\"],\"legendgroup\":\"Mandalay\",\"marker\":{\"color\":\"#00cc96\",\"pattern\":{\"shape\":\"\"}},\"name\":\"Mandalay\",\"offsetgroup\":\"Mandalay\",\"orientation\":\"v\",\"showlegend\":true,\"textposition\":\"auto\",\"x\":[\"Mandalay\",\"Mandalay\",\"Mandalay\"],\"xaxis\":\"x\",\"y\":[160.86,190.155,72.87],\"yaxis\":\"y\",\"type\":\"bar\"}],\"name\":\"3/13/2019\"},{\"data\":[{\"alignmentgroup\":\"True\",\"hovertemplate\":\"City=%{x}<br>Date=1/24/2019<br>Total=%{y}<extra></extra>\",\"ids\":[\"A\",\"A\",\"A\",\"A\",\"A\"],\"legendgroup\":\"Yangon\",\"marker\":{\"color\":\"#636efa\",\"pattern\":{\"shape\":\"\"}},\"name\":\"Yangon\",\"offsetgroup\":\"Yangon\",\"orientation\":\"v\",\"showlegend\":true,\"textposition\":\"auto\",\"x\":[\"Yangon\",\"Yangon\",\"Yangon\",\"Yangon\",\"Yangon\"],\"xaxis\":\"x\",\"y\":[253.848,406.875,728.112,408.408,88.704],\"yaxis\":\"y\",\"type\":\"bar\"},{\"alignmentgroup\":\"True\",\"hovertemplate\":\"City=%{x}<br>Date=1/24/2019<br>Total=%{y}<extra></extra>\",\"ids\":[\"C\",\"C\"],\"legendgroup\":\"Naypyitaw\",\"marker\":{\"color\":\"#EF553B\",\"pattern\":{\"shape\":\"\"}},\"name\":\"Naypyitaw\",\"offsetgroup\":\"Naypyitaw\",\"orientation\":\"v\",\"showlegend\":true,\"textposition\":\"auto\",\"x\":[\"Naypyitaw\",\"Naypyitaw\"],\"xaxis\":\"x\",\"y\":[63.9135,270.018],\"yaxis\":\"y\",\"type\":\"bar\"},{\"alignmentgroup\":\"True\",\"hovertemplate\":\"City=%{x}<br>Date=1/24/2019<br>Total=%{y}<extra></extra>\",\"ids\":[\"B\",\"B\",\"B\",\"B\",\"B\",\"B\"],\"legendgroup\":\"Mandalay\",\"marker\":{\"color\":\"#00cc96\",\"pattern\":{\"shape\":\"\"}},\"name\":\"Mandalay\",\"offsetgroup\":\"Mandalay\",\"orientation\":\"v\",\"showlegend\":true,\"textposition\":\"auto\",\"x\":[\"Mandalay\",\"Mandalay\",\"Mandalay\",\"Mandalay\",\"Mandalay\",\"Mandalay\"],\"xaxis\":\"x\",\"y\":[423.15,293.643,145.404,557.718,384.72,804.3],\"yaxis\":\"y\",\"type\":\"bar\"}],\"name\":\"1/24/2019\"},{\"data\":[{\"alignmentgroup\":\"True\",\"hovertemplate\":\"City=%{x}<br>Date=1/6/2019<br>Total=%{y}<extra></extra>\",\"ids\":[\"A\",\"A\",\"A\",\"A\",\"A\"],\"legendgroup\":\"Yangon\",\"marker\":{\"color\":\"#636efa\",\"pattern\":{\"shape\":\"\"}},\"name\":\"Yangon\",\"offsetgroup\":\"Yangon\",\"orientation\":\"v\",\"showlegend\":true,\"textposition\":\"auto\",\"x\":[\"Yangon\",\"Yangon\",\"Yangon\",\"Yangon\",\"Yangon\"],\"xaxis\":\"x\",\"y\":[494.76,16.107,214.935,271.278,312.8895],\"yaxis\":\"y\",\"type\":\"bar\"},{\"alignmentgroup\":\"True\",\"hovertemplate\":\"City=%{x}<br>Date=1/6/2019<br>Total=%{y}<extra></extra>\",\"ids\":[\"C\",\"C\"],\"legendgroup\":\"Naypyitaw\",\"marker\":{\"color\":\"#EF553B\",\"pattern\":{\"shape\":\"\"}},\"name\":\"Naypyitaw\",\"offsetgroup\":\"Naypyitaw\",\"orientation\":\"v\",\"showlegend\":true,\"textposition\":\"auto\",\"x\":[\"Naypyitaw\",\"Naypyitaw\"],\"xaxis\":\"x\",\"y\":[253.848,343.056],\"yaxis\":\"y\",\"type\":\"bar\"},{\"alignmentgroup\":\"True\",\"hovertemplate\":\"City=%{x}<br>Date=1/6/2019<br>Total=%{y}<extra></extra>\",\"ids\":[\"B\",\"B\"],\"legendgroup\":\"Mandalay\",\"marker\":{\"color\":\"#00cc96\",\"pattern\":{\"shape\":\"\"}},\"name\":\"Mandalay\",\"offsetgroup\":\"Mandalay\",\"orientation\":\"v\",\"showlegend\":true,\"textposition\":\"auto\",\"x\":[\"Mandalay\",\"Mandalay\"],\"xaxis\":\"x\",\"y\":[261.198,760.4415],\"yaxis\":\"y\",\"type\":\"bar\"}],\"name\":\"1/6/2019\"},{\"data\":[{\"alignmentgroup\":\"True\",\"hovertemplate\":\"City=%{x}<br>Date=2/11/2019<br>Total=%{y}<extra></extra>\",\"ids\":[\"A\",\"A\"],\"legendgroup\":\"Yangon\",\"marker\":{\"color\":\"#636efa\",\"pattern\":{\"shape\":\"\"}},\"name\":\"Yangon\",\"offsetgroup\":\"Yangon\",\"orientation\":\"v\",\"showlegend\":true,\"textposition\":\"auto\",\"x\":[\"Yangon\",\"Yangon\"],\"xaxis\":\"x\",\"y\":[397.992,252.252],\"yaxis\":\"y\",\"type\":\"bar\"},{\"alignmentgroup\":\"True\",\"hovertemplate\":\"City=%{x}<br>Date=2/11/2019<br>Total=%{y}<extra></extra>\",\"ids\":[\"C\",\"C\",\"C\"],\"legendgroup\":\"Naypyitaw\",\"marker\":{\"color\":\"#EF553B\",\"pattern\":{\"shape\":\"\"}},\"name\":\"Naypyitaw\",\"offsetgroup\":\"Naypyitaw\",\"orientation\":\"v\",\"showlegend\":true,\"textposition\":\"auto\",\"x\":[\"Naypyitaw\",\"Naypyitaw\",\"Naypyitaw\"],\"xaxis\":\"x\",\"y\":[652.26,253.848,455.1225],\"yaxis\":\"y\",\"type\":\"bar\"},{\"alignmentgroup\":\"True\",\"hovertemplate\":\"City=%{x}<br>Date=2/11/2019<br>Total=%{y}<extra></extra>\",\"ids\":[\"B\",\"B\",\"B\"],\"legendgroup\":\"Mandalay\",\"marker\":{\"color\":\"#00cc96\",\"pattern\":{\"shape\":\"\"}},\"name\":\"Mandalay\",\"offsetgroup\":\"Mandalay\",\"orientation\":\"v\",\"showlegend\":true,\"textposition\":\"auto\",\"x\":[\"Mandalay\",\"Mandalay\",\"Mandalay\"],\"xaxis\":\"x\",\"y\":[242.676,794.6505,810.6],\"yaxis\":\"y\",\"type\":\"bar\"}],\"name\":\"2/11/2019\"},{\"data\":[{\"alignmentgroup\":\"True\",\"hovertemplate\":\"City=%{x}<br>Date=1/22/2019<br>Total=%{y}<extra></extra>\",\"ids\":[\"A\",\"A\"],\"legendgroup\":\"Yangon\",\"marker\":{\"color\":\"#636efa\",\"pattern\":{\"shape\":\"\"}},\"name\":\"Yangon\",\"offsetgroup\":\"Yangon\",\"orientation\":\"v\",\"showlegend\":true,\"textposition\":\"auto\",\"x\":[\"Yangon\",\"Yangon\"],\"xaxis\":\"x\",\"y\":[705.6315,96.642],\"yaxis\":\"y\",\"type\":\"bar\"},{\"alignmentgroup\":\"True\",\"hovertemplate\":\"City=%{x}<br>Date=1/22/2019<br>Total=%{y}<extra></extra>\",\"ids\":[\"C\",\"C\",\"C\"],\"legendgroup\":\"Naypyitaw\",\"marker\":{\"color\":\"#EF553B\",\"pattern\":{\"shape\":\"\"}},\"name\":\"Naypyitaw\",\"offsetgroup\":\"Naypyitaw\",\"orientation\":\"v\",\"showlegend\":true,\"textposition\":\"auto\",\"x\":[\"Naypyitaw\",\"Naypyitaw\",\"Naypyitaw\"],\"xaxis\":\"x\",\"y\":[106.995,85.5855,206.7975],\"yaxis\":\"y\",\"type\":\"bar\"},{\"alignmentgroup\":\"True\",\"hovertemplate\":\"City=%{x}<br>Date=1/22/2019<br>Total=%{y}<extra></extra>\",\"ids\":[\"B\",\"B\"],\"legendgroup\":\"Mandalay\",\"marker\":{\"color\":\"#00cc96\",\"pattern\":{\"shape\":\"\"}},\"name\":\"Mandalay\",\"offsetgroup\":\"Mandalay\",\"orientation\":\"v\",\"showlegend\":true,\"textposition\":\"auto\",\"x\":[\"Mandalay\",\"Mandalay\"],\"xaxis\":\"x\",\"y\":[351.603,151.515],\"yaxis\":\"y\",\"type\":\"bar\"}],\"name\":\"1/22/2019\"},{\"data\":[{\"alignmentgroup\":\"True\",\"hovertemplate\":\"City=%{x}<br>Date=1/13/2019<br>Total=%{y}<extra></extra>\",\"ids\":[\"A\",\"A\",\"A\",\"A\"],\"legendgroup\":\"Yangon\",\"marker\":{\"color\":\"#636efa\",\"pattern\":{\"shape\":\"\"}},\"name\":\"Yangon\",\"offsetgroup\":\"Yangon\",\"orientation\":\"v\",\"showlegend\":true,\"textposition\":\"auto\",\"x\":[\"Yangon\",\"Yangon\",\"Yangon\",\"Yangon\"],\"xaxis\":\"x\",\"y\":[147.798,335.013,374.409,255.1815],\"yaxis\":\"y\",\"type\":\"bar\"},{\"alignmentgroup\":\"True\",\"hovertemplate\":\"City=%{x}<br>Date=1/13/2019<br>Total=%{y}<extra></extra>\",\"ids\":[\"C\",\"C\",\"C\"],\"legendgroup\":\"Naypyitaw\",\"marker\":{\"color\":\"#EF553B\",\"pattern\":{\"shape\":\"\"}},\"name\":\"Naypyitaw\",\"offsetgroup\":\"Naypyitaw\",\"orientation\":\"v\",\"showlegend\":true,\"textposition\":\"auto\",\"x\":[\"Naypyitaw\",\"Naypyitaw\",\"Naypyitaw\"],\"xaxis\":\"x\",\"y\":[437.325,78.0045,88.368],\"yaxis\":\"y\",\"type\":\"bar\"},{\"alignmentgroup\":\"True\",\"hovertemplate\":\"City=%{x}<br>Date=1/13/2019<br>Total=%{y}<extra></extra>\",\"ids\":[\"B\",\"B\",\"B\"],\"legendgroup\":\"Mandalay\",\"marker\":{\"color\":\"#00cc96\",\"pattern\":{\"shape\":\"\"}},\"name\":\"Mandalay\",\"offsetgroup\":\"Mandalay\",\"orientation\":\"v\",\"showlegend\":true,\"textposition\":\"auto\",\"x\":[\"Mandalay\",\"Mandalay\",\"Mandalay\"],\"xaxis\":\"x\",\"y\":[125.706,152.019,457.38],\"yaxis\":\"y\",\"type\":\"bar\"}],\"name\":\"1/13/2019\"},{\"data\":[{\"alignmentgroup\":\"True\",\"hovertemplate\":\"City=%{x}<br>Date=1/9/2019<br>Total=%{y}<extra></extra>\",\"ids\":[\"A\"],\"legendgroup\":\"Yangon\",\"marker\":{\"color\":\"#636efa\",\"pattern\":{\"shape\":\"\"}},\"name\":\"Yangon\",\"offsetgroup\":\"Yangon\",\"orientation\":\"v\",\"showlegend\":true,\"textposition\":\"auto\",\"x\":[\"Yangon\"],\"xaxis\":\"x\",\"y\":[202.335],\"yaxis\":\"y\",\"type\":\"bar\"},{\"alignmentgroup\":\"True\",\"hovertemplate\":\"City=%{x}<br>Date=1/9/2019<br>Total=%{y}<extra></extra>\",\"ids\":[\"C\",\"C\",\"C\",\"C\",\"C\"],\"legendgroup\":\"Naypyitaw\",\"marker\":{\"color\":\"#EF553B\",\"pattern\":{\"shape\":\"\"}},\"name\":\"Naypyitaw\",\"offsetgroup\":\"Naypyitaw\",\"orientation\":\"v\",\"showlegend\":true,\"textposition\":\"auto\",\"x\":[\"Naypyitaw\",\"Naypyitaw\",\"Naypyitaw\",\"Naypyitaw\",\"Naypyitaw\"],\"xaxis\":\"x\",\"y\":[463.428,253.848,310.716,165.9,708.3195],\"yaxis\":\"y\",\"type\":\"bar\"},{\"alignmentgroup\":\"True\",\"hovertemplate\":\"City=%{x}<br>Date=1/9/2019<br>Total=%{y}<extra></extra>\",\"ids\":[\"B\",\"B\"],\"legendgroup\":\"Mandalay\",\"marker\":{\"color\":\"#00cc96\",\"pattern\":{\"shape\":\"\"}},\"name\":\"Mandalay\",\"offsetgroup\":\"Mandalay\",\"orientation\":\"v\",\"showlegend\":true,\"textposition\":\"auto\",\"x\":[\"Mandalay\",\"Mandalay\"],\"xaxis\":\"x\",\"y\":[99.54,68.985],\"yaxis\":\"y\",\"type\":\"bar\"}],\"name\":\"1/9/2019\"},{\"data\":[{\"alignmentgroup\":\"True\",\"hovertemplate\":\"City=%{x}<br>Date=1/12/2019<br>Total=%{y}<extra></extra>\",\"ids\":[\"A\",\"A\",\"A\"],\"legendgroup\":\"Yangon\",\"marker\":{\"color\":\"#636efa\",\"pattern\":{\"shape\":\"\"}},\"name\":\"Yangon\",\"offsetgroup\":\"Yangon\",\"orientation\":\"v\",\"showlegend\":true,\"textposition\":\"auto\",\"x\":[\"Yangon\",\"Yangon\",\"Yangon\"],\"xaxis\":\"x\",\"y\":[189.0945,253.848,308.91],\"yaxis\":\"y\",\"type\":\"bar\"},{\"alignmentgroup\":\"True\",\"hovertemplate\":\"City=%{x}<br>Date=1/12/2019<br>Total=%{y}<extra></extra>\",\"ids\":[\"C\",\"C\"],\"legendgroup\":\"Naypyitaw\",\"marker\":{\"color\":\"#EF553B\",\"pattern\":{\"shape\":\"\"}},\"name\":\"Naypyitaw\",\"offsetgroup\":\"Naypyitaw\",\"orientation\":\"v\",\"showlegend\":true,\"textposition\":\"auto\",\"x\":[\"Naypyitaw\",\"Naypyitaw\"],\"xaxis\":\"x\",\"y\":[419.832,253.848],\"yaxis\":\"y\",\"type\":\"bar\"},{\"alignmentgroup\":\"True\",\"hovertemplate\":\"City=%{x}<br>Date=1/12/2019<br>Total=%{y}<extra></extra>\",\"ids\":[\"B\",\"B\",\"B\",\"B\",\"B\",\"B\"],\"legendgroup\":\"Mandalay\",\"marker\":{\"color\":\"#00cc96\",\"pattern\":{\"shape\":\"\"}},\"name\":\"Mandalay\",\"offsetgroup\":\"Mandalay\",\"orientation\":\"v\",\"showlegend\":true,\"textposition\":\"auto\",\"x\":[\"Mandalay\",\"Mandalay\",\"Mandalay\",\"Mandalay\",\"Mandalay\",\"Mandalay\"],\"xaxis\":\"x\",\"y\":[120.162,28.4235,253.848,769.104,144.963,375.3645],\"yaxis\":\"y\",\"type\":\"bar\"}],\"name\":\"1/12/2019\"},{\"data\":[{\"alignmentgroup\":\"True\",\"hovertemplate\":\"City=%{x}<br>Date=1/26/2019<br>Total=%{y}<extra></extra>\",\"ids\":[\"A\",\"A\",\"A\"],\"legendgroup\":\"Yangon\",\"marker\":{\"color\":\"#636efa\",\"pattern\":{\"shape\":\"\"}},\"name\":\"Yangon\",\"offsetgroup\":\"Yangon\",\"orientation\":\"v\",\"showlegend\":true,\"textposition\":\"auto\",\"x\":[\"Yangon\",\"Yangon\",\"Yangon\"],\"xaxis\":\"x\",\"y\":[379.9215,12.6945,22.386],\"yaxis\":\"y\",\"type\":\"bar\"},{\"alignmentgroup\":\"True\",\"hovertemplate\":\"City=%{x}<br>Date=1/26/2019<br>Total=%{y}<extra></extra>\",\"ids\":[\"C\",\"C\",\"C\",\"C\"],\"legendgroup\":\"Naypyitaw\",\"marker\":{\"color\":\"#EF553B\",\"pattern\":{\"shape\":\"\"}},\"name\":\"Naypyitaw\",\"offsetgroup\":\"Naypyitaw\",\"orientation\":\"v\",\"showlegend\":true,\"textposition\":\"auto\",\"x\":[\"Naypyitaw\",\"Naypyitaw\",\"Naypyitaw\",\"Naypyitaw\"],\"xaxis\":\"x\",\"y\":[471.03,193.4625,68.2395,106.5015],\"yaxis\":\"y\",\"type\":\"bar\"},{\"alignmentgroup\":\"True\",\"hovertemplate\":\"City=%{x}<br>Date=1/26/2019<br>Total=%{y}<extra></extra>\",\"ids\":[\"B\",\"B\",\"B\",\"B\",\"B\",\"B\",\"B\",\"B\",\"B\",\"B\"],\"legendgroup\":\"Mandalay\",\"marker\":{\"color\":\"#00cc96\",\"pattern\":{\"shape\":\"\"}},\"name\":\"Mandalay\",\"offsetgroup\":\"Mandalay\",\"orientation\":\"v\",\"showlegend\":true,\"textposition\":\"auto\",\"x\":[\"Mandalay\",\"Mandalay\",\"Mandalay\",\"Mandalay\",\"Mandalay\",\"Mandalay\",\"Mandalay\",\"Mandalay\",\"Mandalay\",\"Mandalay\"],\"xaxis\":\"x\",\"y\":[304.542,420.2625,107.31,655.5465,170.877,398.475,270.585,165.648,69.993,640.038],\"yaxis\":\"y\",\"type\":\"bar\"}],\"name\":\"1/26/2019\"},{\"data\":[{\"alignmentgroup\":\"True\",\"hovertemplate\":\"City=%{x}<br>Date=1/23/2019<br>Total=%{y}<extra></extra>\",\"ids\":[\"A\",\"A\",\"A\",\"A\",\"A\",\"A\",\"A\"],\"legendgroup\":\"Yangon\",\"marker\":{\"color\":\"#636efa\",\"pattern\":{\"shape\":\"\"}},\"name\":\"Yangon\",\"offsetgroup\":\"Yangon\",\"orientation\":\"v\",\"showlegend\":true,\"textposition\":\"auto\",\"x\":[\"Yangon\",\"Yangon\",\"Yangon\",\"Yangon\",\"Yangon\",\"Yangon\",\"Yangon\"],\"xaxis\":\"x\",\"y\":[94.185,416.178,32.1405,620.739,503.7375,450.1035,244.23],\"yaxis\":\"y\",\"type\":\"bar\"},{\"alignmentgroup\":\"True\",\"hovertemplate\":\"City=%{x}<br>Date=1/23/2019<br>Total=%{y}<extra></extra>\",\"ids\":[\"C\",\"C\",\"C\",\"C\",\"C\",\"C\",\"C\",\"C\",\"C\",\"C\"],\"legendgroup\":\"Naypyitaw\",\"marker\":{\"color\":\"#EF553B\",\"pattern\":{\"shape\":\"\"}},\"name\":\"Naypyitaw\",\"offsetgroup\":\"Naypyitaw\",\"orientation\":\"v\",\"showlegend\":true,\"textposition\":\"auto\",\"x\":[\"Naypyitaw\",\"Naypyitaw\",\"Naypyitaw\",\"Naypyitaw\",\"Naypyitaw\",\"Naypyitaw\",\"Naypyitaw\",\"Naypyitaw\",\"Naypyitaw\",\"Naypyitaw\"],\"xaxis\":\"x\",\"y\":[161.7,198.996,253.848,323.148,264.7575,527.751,87.234,57.6975,333.984,734.706],\"yaxis\":\"y\",\"type\":\"bar\"}],\"name\":\"1/23/2019\"},{\"data\":[{\"alignmentgroup\":\"True\",\"hovertemplate\":\"City=%{x}<br>Date=2/23/2019<br>Total=%{y}<extra></extra>\",\"ids\":[\"A\"],\"legendgroup\":\"Yangon\",\"marker\":{\"color\":\"#636efa\",\"pattern\":{\"shape\":\"\"}},\"name\":\"Yangon\",\"offsetgroup\":\"Yangon\",\"orientation\":\"v\",\"showlegend\":true,\"textposition\":\"auto\",\"x\":[\"Yangon\"],\"xaxis\":\"x\",\"y\":[308.574],\"yaxis\":\"y\",\"type\":\"bar\"},{\"alignmentgroup\":\"True\",\"hovertemplate\":\"City=%{x}<br>Date=2/23/2019<br>Total=%{y}<extra></extra>\",\"ids\":[\"C\",\"C\",\"C\"],\"legendgroup\":\"Naypyitaw\",\"marker\":{\"color\":\"#EF553B\",\"pattern\":{\"shape\":\"\"}},\"name\":\"Naypyitaw\",\"offsetgroup\":\"Naypyitaw\",\"orientation\":\"v\",\"showlegend\":true,\"textposition\":\"auto\",\"x\":[\"Naypyitaw\",\"Naypyitaw\",\"Naypyitaw\"],\"xaxis\":\"x\",\"y\":[337.512,37.6845,429.1665],\"yaxis\":\"y\",\"type\":\"bar\"},{\"alignmentgroup\":\"True\",\"hovertemplate\":\"City=%{x}<br>Date=2/23/2019<br>Total=%{y}<extra></extra>\",\"ids\":[\"B\",\"B\",\"B\",\"B\"],\"legendgroup\":\"Mandalay\",\"marker\":{\"color\":\"#00cc96\",\"pattern\":{\"shape\":\"\"}},\"name\":\"Mandalay\",\"offsetgroup\":\"Mandalay\",\"orientation\":\"v\",\"showlegend\":true,\"textposition\":\"auto\",\"x\":[\"Mandalay\",\"Mandalay\",\"Mandalay\",\"Mandalay\"],\"xaxis\":\"x\",\"y\":[125.664,311.1885,75.474,714.3255],\"yaxis\":\"y\",\"type\":\"bar\"}],\"name\":\"2/23/2019\"},{\"data\":[{\"alignmentgroup\":\"True\",\"hovertemplate\":\"City=%{x}<br>Date=1/2/2019<br>Total=%{y}<extra></extra>\",\"ids\":[\"A\",\"A\"],\"legendgroup\":\"Yangon\",\"marker\":{\"color\":\"#636efa\",\"pattern\":{\"shape\":\"\"}},\"name\":\"Yangon\",\"offsetgroup\":\"Yangon\",\"orientation\":\"v\",\"showlegend\":true,\"textposition\":\"auto\",\"x\":[\"Yangon\",\"Yangon\"],\"xaxis\":\"x\",\"y\":[44.5935,262.458],\"yaxis\":\"y\",\"type\":\"bar\"},{\"alignmentgroup\":\"True\",\"hovertemplate\":\"City=%{x}<br>Date=1/2/2019<br>Total=%{y}<extra></extra>\",\"ids\":[\"C\",\"C\"],\"legendgroup\":\"Naypyitaw\",\"marker\":{\"color\":\"#EF553B\",\"pattern\":{\"shape\":\"\"}},\"name\":\"Naypyitaw\",\"offsetgroup\":\"Naypyitaw\",\"orientation\":\"v\",\"showlegend\":true,\"textposition\":\"auto\",\"x\":[\"Naypyitaw\",\"Naypyitaw\"],\"xaxis\":\"x\",\"y\":[209.622,266.028],\"yaxis\":\"y\",\"type\":\"bar\"},{\"alignmentgroup\":\"True\",\"hovertemplate\":\"City=%{x}<br>Date=1/2/2019<br>Total=%{y}<extra></extra>\",\"ids\":[\"B\",\"B\",\"B\",\"B\"],\"legendgroup\":\"Mandalay\",\"marker\":{\"color\":\"#00cc96\",\"pattern\":{\"shape\":\"\"}},\"name\":\"Mandalay\",\"offsetgroup\":\"Mandalay\",\"orientation\":\"v\",\"showlegend\":true,\"textposition\":\"auto\",\"x\":[\"Mandalay\",\"Mandalay\",\"Mandalay\",\"Mandalay\"],\"xaxis\":\"x\",\"y\":[359.205,383.7645,138.663,281.169],\"yaxis\":\"y\",\"type\":\"bar\"}],\"name\":\"1/2/2019\"},{\"data\":[{\"alignmentgroup\":\"True\",\"hovertemplate\":\"City=%{x}<br>Date=2/9/2019<br>Total=%{y}<extra></extra>\",\"ids\":[\"A\",\"A\",\"A\"],\"legendgroup\":\"Yangon\",\"marker\":{\"color\":\"#636efa\",\"pattern\":{\"shape\":\"\"}},\"name\":\"Yangon\",\"offsetgroup\":\"Yangon\",\"orientation\":\"v\",\"showlegend\":true,\"textposition\":\"auto\",\"x\":[\"Yangon\",\"Yangon\",\"Yangon\"],\"xaxis\":\"x\",\"y\":[233.52,331.128,33.432],\"yaxis\":\"y\",\"type\":\"bar\"},{\"alignmentgroup\":\"True\",\"hovertemplate\":\"City=%{x}<br>Date=2/9/2019<br>Total=%{y}<extra></extra>\",\"ids\":[\"C\",\"C\",\"C\",\"C\",\"C\",\"C\"],\"legendgroup\":\"Naypyitaw\",\"marker\":{\"color\":\"#EF553B\",\"pattern\":{\"shape\":\"\"}},\"name\":\"Naypyitaw\",\"offsetgroup\":\"Naypyitaw\",\"orientation\":\"v\",\"showlegend\":true,\"textposition\":\"auto\",\"x\":[\"Naypyitaw\",\"Naypyitaw\",\"Naypyitaw\",\"Naypyitaw\",\"Naypyitaw\",\"Naypyitaw\"],\"xaxis\":\"x\",\"y\":[78.435,472.311,66.402,22.659,100.485,253.848],\"yaxis\":\"y\",\"type\":\"bar\"},{\"alignmentgroup\":\"True\",\"hovertemplate\":\"City=%{x}<br>Date=2/9/2019<br>Total=%{y}<extra></extra>\",\"ids\":[\"B\",\"B\",\"B\",\"B\"],\"legendgroup\":\"Mandalay\",\"marker\":{\"color\":\"#00cc96\",\"pattern\":{\"shape\":\"\"}},\"name\":\"Mandalay\",\"offsetgroup\":\"Mandalay\",\"orientation\":\"v\",\"showlegend\":true,\"textposition\":\"auto\",\"x\":[\"Mandalay\",\"Mandalay\",\"Mandalay\",\"Mandalay\"],\"xaxis\":\"x\",\"y\":[256.41,180.4005,193.074,415.233],\"yaxis\":\"y\",\"type\":\"bar\"}],\"name\":\"2/9/2019\"},{\"data\":[{\"alignmentgroup\":\"True\",\"hovertemplate\":\"City=%{x}<br>Date=3/26/2019<br>Total=%{y}<extra></extra>\",\"ids\":[\"A\",\"A\",\"A\",\"A\",\"A\",\"A\"],\"legendgroup\":\"Yangon\",\"marker\":{\"color\":\"#636efa\",\"pattern\":{\"shape\":\"\"}},\"name\":\"Yangon\",\"offsetgroup\":\"Yangon\",\"orientation\":\"v\",\"showlegend\":true,\"textposition\":\"auto\",\"x\":[\"Yangon\",\"Yangon\",\"Yangon\",\"Yangon\",\"Yangon\",\"Yangon\"],\"xaxis\":\"x\",\"y\":[530.67,269.934,56.1225,130.032,54.999,145.5825],\"yaxis\":\"y\",\"type\":\"bar\"},{\"alignmentgroup\":\"True\",\"hovertemplate\":\"City=%{x}<br>Date=3/26/2019<br>Total=%{y}<extra></extra>\",\"ids\":[\"C\",\"C\",\"C\",\"C\"],\"legendgroup\":\"Naypyitaw\",\"marker\":{\"color\":\"#EF553B\",\"pattern\":{\"shape\":\"\"}},\"name\":\"Naypyitaw\",\"offsetgroup\":\"Naypyitaw\",\"orientation\":\"v\",\"showlegend\":true,\"textposition\":\"auto\",\"x\":[\"Naypyitaw\",\"Naypyitaw\",\"Naypyitaw\",\"Naypyitaw\"],\"xaxis\":\"x\",\"y\":[51.1455,91.77,154.1295,176.925],\"yaxis\":\"y\",\"type\":\"bar\"},{\"alignmentgroup\":\"True\",\"hovertemplate\":\"City=%{x}<br>Date=3/26/2019<br>Total=%{y}<extra></extra>\",\"ids\":[\"B\",\"B\",\"B\"],\"legendgroup\":\"Mandalay\",\"marker\":{\"color\":\"#00cc96\",\"pattern\":{\"shape\":\"\"}},\"name\":\"Mandalay\",\"offsetgroup\":\"Mandalay\",\"orientation\":\"v\",\"showlegend\":true,\"textposition\":\"auto\",\"x\":[\"Mandalay\",\"Mandalay\",\"Mandalay\"],\"xaxis\":\"x\",\"y\":[41.076,143.9865,116.1405],\"yaxis\":\"y\",\"type\":\"bar\"}],\"name\":\"3/26/2019\"},{\"data\":[{\"alignmentgroup\":\"True\",\"hovertemplate\":\"City=%{x}<br>Date=3/1/2019<br>Total=%{y}<extra></extra>\",\"ids\":[\"A\",\"A\",\"A\"],\"legendgroup\":\"Yangon\",\"marker\":{\"color\":\"#636efa\",\"pattern\":{\"shape\":\"\"}},\"name\":\"Yangon\",\"offsetgroup\":\"Yangon\",\"orientation\":\"v\",\"showlegend\":true,\"textposition\":\"auto\",\"x\":[\"Yangon\",\"Yangon\",\"Yangon\"],\"xaxis\":\"x\",\"y\":[72.933,477.54,93.744],\"yaxis\":\"y\",\"type\":\"bar\"},{\"alignmentgroup\":\"True\",\"hovertemplate\":\"City=%{x}<br>Date=3/1/2019<br>Total=%{y}<extra></extra>\",\"ids\":[\"C\",\"C\"],\"legendgroup\":\"Naypyitaw\",\"marker\":{\"color\":\"#EF553B\",\"pattern\":{\"shape\":\"\"}},\"name\":\"Naypyitaw\",\"offsetgroup\":\"Naypyitaw\",\"orientation\":\"v\",\"showlegend\":true,\"textposition\":\"auto\",\"x\":[\"Naypyitaw\",\"Naypyitaw\"],\"xaxis\":\"x\",\"y\":[742.2975,314.538],\"yaxis\":\"y\",\"type\":\"bar\"},{\"alignmentgroup\":\"True\",\"hovertemplate\":\"City=%{x}<br>Date=3/1/2019<br>Total=%{y}<extra></extra>\",\"ids\":[\"B\",\"B\",\"B\",\"B\",\"B\"],\"legendgroup\":\"Mandalay\",\"marker\":{\"color\":\"#00cc96\",\"pattern\":{\"shape\":\"\"}},\"name\":\"Mandalay\",\"offsetgroup\":\"Mandalay\",\"orientation\":\"v\",\"showlegend\":true,\"textposition\":\"auto\",\"x\":[\"Mandalay\",\"Mandalay\",\"Mandalay\",\"Mandalay\",\"Mandalay\"],\"xaxis\":\"x\",\"y\":[86.625,597.6285,145.971,46.683,56.406],\"yaxis\":\"y\",\"type\":\"bar\"}],\"name\":\"3/1/2019\"},{\"data\":[{\"alignmentgroup\":\"True\",\"hovertemplate\":\"City=%{x}<br>Date=2/1/2019<br>Total=%{y}<extra></extra>\",\"ids\":[\"A\",\"A\",\"A\"],\"legendgroup\":\"Yangon\",\"marker\":{\"color\":\"#636efa\",\"pattern\":{\"shape\":\"\"}},\"name\":\"Yangon\",\"offsetgroup\":\"Yangon\",\"orientation\":\"v\",\"showlegend\":true,\"textposition\":\"auto\",\"x\":[\"Yangon\",\"Yangon\",\"Yangon\"],\"xaxis\":\"x\",\"y\":[510.972,74.7075,326.256],\"yaxis\":\"y\",\"type\":\"bar\"},{\"alignmentgroup\":\"True\",\"hovertemplate\":\"City=%{x}<br>Date=2/1/2019<br>Total=%{y}<extra></extra>\",\"ids\":[\"C\",\"C\",\"C\"],\"legendgroup\":\"Naypyitaw\",\"marker\":{\"color\":\"#EF553B\",\"pattern\":{\"shape\":\"\"}},\"name\":\"Naypyitaw\",\"offsetgroup\":\"Naypyitaw\",\"orientation\":\"v\",\"showlegend\":true,\"textposition\":\"auto\",\"x\":[\"Naypyitaw\",\"Naypyitaw\",\"Naypyitaw\"],\"xaxis\":\"x\",\"y\":[218.0115,763.4655,551.124],\"yaxis\":\"y\",\"type\":\"bar\"}],\"name\":\"2/1/2019\"},{\"data\":[{\"alignmentgroup\":\"True\",\"hovertemplate\":\"City=%{x}<br>Date=3/28/2019<br>Total=%{y}<extra></extra>\",\"ids\":[\"A\",\"A\",\"A\",\"A\",\"A\",\"A\"],\"legendgroup\":\"Yangon\",\"marker\":{\"color\":\"#636efa\",\"pattern\":{\"shape\":\"\"}},\"name\":\"Yangon\",\"offsetgroup\":\"Yangon\",\"orientation\":\"v\",\"showlegend\":true,\"textposition\":\"auto\",\"x\":[\"Yangon\",\"Yangon\",\"Yangon\",\"Yangon\",\"Yangon\",\"Yangon\"],\"xaxis\":\"x\",\"y\":[367.038,191.247,269.535,225.792,525.231,74.088],\"yaxis\":\"y\",\"type\":\"bar\"},{\"alignmentgroup\":\"True\",\"hovertemplate\":\"City=%{x}<br>Date=3/28/2019<br>Total=%{y}<extra></extra>\",\"ids\":[\"C\",\"C\",\"C\"],\"legendgroup\":\"Naypyitaw\",\"marker\":{\"color\":\"#EF553B\",\"pattern\":{\"shape\":\"\"}},\"name\":\"Naypyitaw\",\"offsetgroup\":\"Naypyitaw\",\"orientation\":\"v\",\"showlegend\":true,\"textposition\":\"auto\",\"x\":[\"Naypyitaw\",\"Naypyitaw\",\"Naypyitaw\"],\"xaxis\":\"x\",\"y\":[150.0975,121.59,209.118],\"yaxis\":\"y\",\"type\":\"bar\"},{\"alignmentgroup\":\"True\",\"hovertemplate\":\"City=%{x}<br>Date=3/28/2019<br>Total=%{y}<extra></extra>\",\"ids\":[\"B\"],\"legendgroup\":\"Mandalay\",\"marker\":{\"color\":\"#00cc96\",\"pattern\":{\"shape\":\"\"}},\"name\":\"Mandalay\",\"offsetgroup\":\"Mandalay\",\"orientation\":\"v\",\"showlegend\":true,\"textposition\":\"auto\",\"x\":[\"Mandalay\"],\"xaxis\":\"x\",\"y\":[95.6655],\"yaxis\":\"y\",\"type\":\"bar\"}],\"name\":\"3/28/2019\"},{\"data\":[{\"alignmentgroup\":\"True\",\"hovertemplate\":\"City=%{x}<br>Date=3/24/2019<br>Total=%{y}<extra></extra>\",\"ids\":[\"A\",\"A\"],\"legendgroup\":\"Yangon\",\"marker\":{\"color\":\"#636efa\",\"pattern\":{\"shape\":\"\"}},\"name\":\"Yangon\",\"offsetgroup\":\"Yangon\",\"orientation\":\"v\",\"showlegend\":true,\"textposition\":\"auto\",\"x\":[\"Yangon\",\"Yangon\"],\"xaxis\":\"x\",\"y\":[276.948,147.672],\"yaxis\":\"y\",\"type\":\"bar\"},{\"alignmentgroup\":\"True\",\"hovertemplate\":\"City=%{x}<br>Date=3/24/2019<br>Total=%{y}<extra></extra>\",\"ids\":[\"C\",\"C\",\"C\",\"C\",\"C\"],\"legendgroup\":\"Naypyitaw\",\"marker\":{\"color\":\"#EF553B\",\"pattern\":{\"shape\":\"\"}},\"name\":\"Naypyitaw\",\"offsetgroup\":\"Naypyitaw\",\"orientation\":\"v\",\"showlegend\":true,\"textposition\":\"auto\",\"x\":[\"Naypyitaw\",\"Naypyitaw\",\"Naypyitaw\",\"Naypyitaw\",\"Naypyitaw\"],\"xaxis\":\"x\",\"y\":[321.111,78.603,77.175,681.975,329.196],\"yaxis\":\"y\",\"type\":\"bar\"},{\"alignmentgroup\":\"True\",\"hovertemplate\":\"City=%{x}<br>Date=3/24/2019<br>Total=%{y}<extra></extra>\",\"ids\":[\"B\",\"B\",\"B\",\"B\"],\"legendgroup\":\"Mandalay\",\"marker\":{\"color\":\"#00cc96\",\"pattern\":{\"shape\":\"\"}},\"name\":\"Mandalay\",\"offsetgroup\":\"Mandalay\",\"orientation\":\"v\",\"showlegend\":true,\"textposition\":\"auto\",\"x\":[\"Mandalay\",\"Mandalay\",\"Mandalay\",\"Mandalay\"],\"xaxis\":\"x\",\"y\":[130.0425,370.125,435.12,629.496],\"yaxis\":\"y\",\"type\":\"bar\"}],\"name\":\"3/24/2019\"},{\"data\":[{\"alignmentgroup\":\"True\",\"hovertemplate\":\"City=%{x}<br>Date=2/5/2019<br>Total=%{y}<extra></extra>\",\"ids\":[\"A\",\"A\",\"A\",\"A\",\"A\"],\"legendgroup\":\"Yangon\",\"marker\":{\"color\":\"#636efa\",\"pattern\":{\"shape\":\"\"}},\"name\":\"Yangon\",\"offsetgroup\":\"Yangon\",\"orientation\":\"v\",\"showlegend\":true,\"textposition\":\"auto\",\"x\":[\"Yangon\",\"Yangon\",\"Yangon\",\"Yangon\",\"Yangon\"],\"xaxis\":\"x\",\"y\":[163.233,236.88,32.151,92.295,43.869],\"yaxis\":\"y\",\"type\":\"bar\"},{\"alignmentgroup\":\"True\",\"hovertemplate\":\"City=%{x}<br>Date=2/5/2019<br>Total=%{y}<extra></extra>\",\"ids\":[\"C\",\"C\",\"C\",\"C\"],\"legendgroup\":\"Naypyitaw\",\"marker\":{\"color\":\"#EF553B\",\"pattern\":{\"shape\":\"\"}},\"name\":\"Naypyitaw\",\"offsetgroup\":\"Naypyitaw\",\"orientation\":\"v\",\"showlegend\":true,\"textposition\":\"auto\",\"x\":[\"Naypyitaw\",\"Naypyitaw\",\"Naypyitaw\",\"Naypyitaw\"],\"xaxis\":\"x\",\"y\":[309.3615,720.3,145.593,297.801],\"yaxis\":\"y\",\"type\":\"bar\"},{\"alignmentgroup\":\"True\",\"hovertemplate\":\"City=%{x}<br>Date=2/5/2019<br>Total=%{y}<extra></extra>\",\"ids\":[\"B\",\"B\",\"B\"],\"legendgroup\":\"Mandalay\",\"marker\":{\"color\":\"#00cc96\",\"pattern\":{\"shape\":\"\"}},\"name\":\"Mandalay\",\"offsetgroup\":\"Mandalay\",\"orientation\":\"v\",\"showlegend\":true,\"textposition\":\"auto\",\"x\":[\"Mandalay\",\"Mandalay\",\"Mandalay\"],\"xaxis\":\"x\",\"y\":[34.629,404.649,550.368],\"yaxis\":\"y\",\"type\":\"bar\"}],\"name\":\"2/5/2019\"},{\"data\":[{\"alignmentgroup\":\"True\",\"hovertemplate\":\"City=%{x}<br>Date=1/19/2019<br>Total=%{y}<extra></extra>\",\"ids\":[\"A\",\"A\",\"A\",\"A\",\"A\",\"A\",\"A\",\"A\"],\"legendgroup\":\"Yangon\",\"marker\":{\"color\":\"#636efa\",\"pattern\":{\"shape\":\"\"}},\"name\":\"Yangon\",\"offsetgroup\":\"Yangon\",\"orientation\":\"v\",\"showlegend\":true,\"textposition\":\"auto\",\"x\":[\"Yangon\",\"Yangon\",\"Yangon\",\"Yangon\",\"Yangon\",\"Yangon\",\"Yangon\",\"Yangon\"],\"xaxis\":\"x\",\"y\":[548.7615,323.064,282.492,673.995,37.611,284.592,624.33,479.64],\"yaxis\":\"y\",\"type\":\"bar\"},{\"alignmentgroup\":\"True\",\"hovertemplate\":\"City=%{x}<br>Date=1/19/2019<br>Total=%{y}<extra></extra>\",\"ids\":[\"C\",\"C\",\"C\",\"C\",\"C\"],\"legendgroup\":\"Naypyitaw\",\"marker\":{\"color\":\"#EF553B\",\"pattern\":{\"shape\":\"\"}},\"name\":\"Naypyitaw\",\"offsetgroup\":\"Naypyitaw\",\"orientation\":\"v\",\"showlegend\":true,\"textposition\":\"auto\",\"x\":[\"Naypyitaw\",\"Naypyitaw\",\"Naypyitaw\",\"Naypyitaw\",\"Naypyitaw\"],\"xaxis\":\"x\",\"y\":[362.712,93.0405,84.9765,235.746,250.278],\"yaxis\":\"y\",\"type\":\"bar\"},{\"alignmentgroup\":\"True\",\"hovertemplate\":\"City=%{x}<br>Date=1/19/2019<br>Total=%{y}<extra></extra>\",\"ids\":[\"B\",\"B\",\"B\"],\"legendgroup\":\"Mandalay\",\"marker\":{\"color\":\"#00cc96\",\"pattern\":{\"shape\":\"\"}},\"name\":\"Mandalay\",\"offsetgroup\":\"Mandalay\",\"orientation\":\"v\",\"showlegend\":true,\"textposition\":\"auto\",\"x\":[\"Mandalay\",\"Mandalay\",\"Mandalay\"],\"xaxis\":\"x\",\"y\":[333.207,198.639,101.64],\"yaxis\":\"y\",\"type\":\"bar\"}],\"name\":\"1/19/2019\"},{\"data\":[{\"alignmentgroup\":\"True\",\"hovertemplate\":\"City=%{x}<br>Date=1/16/2019<br>Total=%{y}<extra></extra>\",\"ids\":[\"A\",\"A\"],\"legendgroup\":\"Yangon\",\"marker\":{\"color\":\"#636efa\",\"pattern\":{\"shape\":\"\"}},\"name\":\"Yangon\",\"offsetgroup\":\"Yangon\",\"orientation\":\"v\",\"showlegend\":true,\"textposition\":\"auto\",\"x\":[\"Yangon\",\"Yangon\"],\"xaxis\":\"x\",\"y\":[667.38,195.678],\"yaxis\":\"y\",\"type\":\"bar\"},{\"alignmentgroup\":\"True\",\"hovertemplate\":\"City=%{x}<br>Date=1/16/2019<br>Total=%{y}<extra></extra>\",\"ids\":[\"C\",\"C\",\"C\",\"C\",\"C\"],\"legendgroup\":\"Naypyitaw\",\"marker\":{\"color\":\"#EF553B\",\"pattern\":{\"shape\":\"\"}},\"name\":\"Naypyitaw\",\"offsetgroup\":\"Naypyitaw\",\"orientation\":\"v\",\"showlegend\":true,\"textposition\":\"auto\",\"x\":[\"Naypyitaw\",\"Naypyitaw\",\"Naypyitaw\",\"Naypyitaw\",\"Naypyitaw\"],\"xaxis\":\"x\",\"y\":[253.848,253.848,32.529,125.979,497.07],\"yaxis\":\"y\",\"type\":\"bar\"},{\"alignmentgroup\":\"True\",\"hovertemplate\":\"City=%{x}<br>Date=1/16/2019<br>Total=%{y}<extra></extra>\",\"ids\":[\"B\",\"B\",\"B\"],\"legendgroup\":\"Mandalay\",\"marker\":{\"color\":\"#00cc96\",\"pattern\":{\"shape\":\"\"}},\"name\":\"Mandalay\",\"offsetgroup\":\"Mandalay\",\"orientation\":\"v\",\"showlegend\":true,\"textposition\":\"auto\",\"x\":[\"Mandalay\",\"Mandalay\",\"Mandalay\"],\"xaxis\":\"x\",\"y\":[53.928,666.939,164.682],\"yaxis\":\"y\",\"type\":\"bar\"}],\"name\":\"1/16/2019\"},{\"data\":[{\"alignmentgroup\":\"True\",\"hovertemplate\":\"City=%{x}<br>Date=1/8/2019<br>Total=%{y}<extra></extra>\",\"ids\":[\"A\",\"A\",\"A\",\"A\"],\"legendgroup\":\"Yangon\",\"marker\":{\"color\":\"#636efa\",\"pattern\":{\"shape\":\"\"}},\"name\":\"Yangon\",\"offsetgroup\":\"Yangon\",\"orientation\":\"v\",\"showlegend\":true,\"textposition\":\"auto\",\"x\":[\"Yangon\",\"Yangon\",\"Yangon\",\"Yangon\"],\"xaxis\":\"x\",\"y\":[194.985,210.966,26.796,250.7085],\"yaxis\":\"y\",\"type\":\"bar\"},{\"alignmentgroup\":\"True\",\"hovertemplate\":\"City=%{x}<br>Date=1/8/2019<br>Total=%{y}<extra></extra>\",\"ids\":[\"C\",\"C\",\"C\",\"C\",\"C\",\"C\",\"C\",\"C\"],\"legendgroup\":\"Naypyitaw\",\"marker\":{\"color\":\"#EF553B\",\"pattern\":{\"shape\":\"\"}},\"name\":\"Naypyitaw\",\"offsetgroup\":\"Naypyitaw\",\"orientation\":\"v\",\"showlegend\":true,\"textposition\":\"auto\",\"x\":[\"Naypyitaw\",\"Naypyitaw\",\"Naypyitaw\",\"Naypyitaw\",\"Naypyitaw\",\"Naypyitaw\",\"Naypyitaw\",\"Naypyitaw\"],\"xaxis\":\"x\",\"y\":[299.8485,575.736,190.596,13.419,381.3915,175.0455,688.716,76.5765],\"yaxis\":\"y\",\"type\":\"bar\"},{\"alignmentgroup\":\"True\",\"hovertemplate\":\"City=%{x}<br>Date=1/8/2019<br>Total=%{y}<extra></extra>\",\"ids\":[\"B\",\"B\",\"B\",\"B\",\"B\",\"B\"],\"legendgroup\":\"Mandalay\",\"marker\":{\"color\":\"#00cc96\",\"pattern\":{\"shape\":\"\"}},\"name\":\"Mandalay\",\"offsetgroup\":\"Mandalay\",\"orientation\":\"v\",\"showlegend\":true,\"textposition\":\"auto\",\"x\":[\"Mandalay\",\"Mandalay\",\"Mandalay\",\"Mandalay\",\"Mandalay\",\"Mandalay\"],\"xaxis\":\"x\",\"y\":[783.3,152.775,103.11,136.143,684.915,348.705],\"yaxis\":\"y\",\"type\":\"bar\"}],\"name\":\"1/8/2019\"},{\"data\":[{\"alignmentgroup\":\"True\",\"hovertemplate\":\"City=%{x}<br>Date=2/18/2019<br>Total=%{y}<extra></extra>\",\"ids\":[\"A\",\"A\",\"A\"],\"legendgroup\":\"Yangon\",\"marker\":{\"color\":\"#636efa\",\"pattern\":{\"shape\":\"\"}},\"name\":\"Yangon\",\"offsetgroup\":\"Yangon\",\"orientation\":\"v\",\"showlegend\":true,\"textposition\":\"auto\",\"x\":[\"Yangon\",\"Yangon\",\"Yangon\"],\"xaxis\":\"x\",\"y\":[216.846,65.604,649.299],\"yaxis\":\"y\",\"type\":\"bar\"},{\"alignmentgroup\":\"True\",\"hovertemplate\":\"City=%{x}<br>Date=2/18/2019<br>Total=%{y}<extra></extra>\",\"ids\":[\"C\",\"C\",\"C\"],\"legendgroup\":\"Naypyitaw\",\"marker\":{\"color\":\"#EF553B\",\"pattern\":{\"shape\":\"\"}},\"name\":\"Naypyitaw\",\"offsetgroup\":\"Naypyitaw\",\"orientation\":\"v\",\"showlegend\":true,\"textposition\":\"auto\",\"x\":[\"Naypyitaw\",\"Naypyitaw\",\"Naypyitaw\"],\"xaxis\":\"x\",\"y\":[284.193,185.094,63.9975],\"yaxis\":\"y\",\"type\":\"bar\"},{\"alignmentgroup\":\"True\",\"hovertemplate\":\"City=%{x}<br>Date=2/18/2019<br>Total=%{y}<extra></extra>\",\"ids\":[\"B\"],\"legendgroup\":\"Mandalay\",\"marker\":{\"color\":\"#00cc96\",\"pattern\":{\"shape\":\"\"}},\"name\":\"Mandalay\",\"offsetgroup\":\"Mandalay\",\"orientation\":\"v\",\"showlegend\":true,\"textposition\":\"auto\",\"x\":[\"Mandalay\"],\"xaxis\":\"x\",\"y\":[30.996],\"yaxis\":\"y\",\"type\":\"bar\"}],\"name\":\"2/18/2019\"},{\"data\":[{\"alignmentgroup\":\"True\",\"hovertemplate\":\"City=%{x}<br>Date=1/18/2019<br>Total=%{y}<extra></extra>\",\"ids\":[\"A\",\"A\",\"A\",\"A\"],\"legendgroup\":\"Yangon\",\"marker\":{\"color\":\"#636efa\",\"pattern\":{\"shape\":\"\"}},\"name\":\"Yangon\",\"offsetgroup\":\"Yangon\",\"orientation\":\"v\",\"showlegend\":true,\"textposition\":\"auto\",\"x\":[\"Yangon\",\"Yangon\",\"Yangon\",\"Yangon\"],\"xaxis\":\"x\",\"y\":[138.1275,182.952,277.6725,561.078],\"yaxis\":\"y\",\"type\":\"bar\"},{\"alignmentgroup\":\"True\",\"hovertemplate\":\"City=%{x}<br>Date=1/18/2019<br>Total=%{y}<extra></extra>\",\"ids\":[\"C\",\"C\",\"C\"],\"legendgroup\":\"Naypyitaw\",\"marker\":{\"color\":\"#EF553B\",\"pattern\":{\"shape\":\"\"}},\"name\":\"Naypyitaw\",\"offsetgroup\":\"Naypyitaw\",\"orientation\":\"v\",\"showlegend\":true,\"textposition\":\"auto\",\"x\":[\"Naypyitaw\",\"Naypyitaw\",\"Naypyitaw\"],\"xaxis\":\"x\",\"y\":[41.391,253.848,446.439],\"yaxis\":\"y\",\"type\":\"bar\"},{\"alignmentgroup\":\"True\",\"hovertemplate\":\"City=%{x}<br>Date=1/18/2019<br>Total=%{y}<extra></extra>\",\"ids\":[\"B\",\"B\"],\"legendgroup\":\"Mandalay\",\"marker\":{\"color\":\"#00cc96\",\"pattern\":{\"shape\":\"\"}},\"name\":\"Mandalay\",\"offsetgroup\":\"Mandalay\",\"orientation\":\"v\",\"showlegend\":true,\"textposition\":\"auto\",\"x\":[\"Mandalay\",\"Mandalay\"],\"xaxis\":\"x\",\"y\":[166.236,110.124],\"yaxis\":\"y\",\"type\":\"bar\"}],\"name\":\"1/18/2019\"},{\"data\":[{\"alignmentgroup\":\"True\",\"hovertemplate\":\"City=%{x}<br>Date=2/16/2019<br>Total=%{y}<extra></extra>\",\"ids\":[\"A\"],\"legendgroup\":\"Yangon\",\"marker\":{\"color\":\"#636efa\",\"pattern\":{\"shape\":\"\"}},\"name\":\"Yangon\",\"offsetgroup\":\"Yangon\",\"orientation\":\"v\",\"showlegend\":true,\"textposition\":\"auto\",\"x\":[\"Yangon\"],\"xaxis\":\"x\",\"y\":[182.427],\"yaxis\":\"y\",\"type\":\"bar\"},{\"alignmentgroup\":\"True\",\"hovertemplate\":\"City=%{x}<br>Date=2/16/2019<br>Total=%{y}<extra></extra>\",\"ids\":[\"C\",\"C\",\"C\"],\"legendgroup\":\"Naypyitaw\",\"marker\":{\"color\":\"#EF553B\",\"pattern\":{\"shape\":\"\"}},\"name\":\"Naypyitaw\",\"offsetgroup\":\"Naypyitaw\",\"orientation\":\"v\",\"showlegend\":true,\"textposition\":\"auto\",\"x\":[\"Naypyitaw\",\"Naypyitaw\",\"Naypyitaw\"],\"xaxis\":\"x\",\"y\":[718.7565,63.2625,300.573],\"yaxis\":\"y\",\"type\":\"bar\"},{\"alignmentgroup\":\"True\",\"hovertemplate\":\"City=%{x}<br>Date=2/16/2019<br>Total=%{y}<extra></extra>\",\"ids\":[\"B\",\"B\",\"B\",\"B\"],\"legendgroup\":\"Mandalay\",\"marker\":{\"color\":\"#00cc96\",\"pattern\":{\"shape\":\"\"}},\"name\":\"Mandalay\",\"offsetgroup\":\"Mandalay\",\"orientation\":\"v\",\"showlegend\":true,\"textposition\":\"auto\",\"x\":[\"Mandalay\",\"Mandalay\",\"Mandalay\",\"Mandalay\"],\"xaxis\":\"x\",\"y\":[545.055,95.9175,252.756,345.0195],\"yaxis\":\"y\",\"type\":\"bar\"}],\"name\":\"2/16/2019\"},{\"data\":[{\"alignmentgroup\":\"True\",\"hovertemplate\":\"City=%{x}<br>Date=2/22/2019<br>Total=%{y}<extra></extra>\",\"ids\":[\"A\",\"A\",\"A\"],\"legendgroup\":\"Yangon\",\"marker\":{\"color\":\"#636efa\",\"pattern\":{\"shape\":\"\"}},\"name\":\"Yangon\",\"offsetgroup\":\"Yangon\",\"orientation\":\"v\",\"showlegend\":true,\"textposition\":\"auto\",\"x\":[\"Yangon\",\"Yangon\",\"Yangon\"],\"xaxis\":\"x\",\"y\":[182.91,257.145,69.111],\"yaxis\":\"y\",\"type\":\"bar\"},{\"alignmentgroup\":\"True\",\"hovertemplate\":\"City=%{x}<br>Date=2/22/2019<br>Total=%{y}<extra></extra>\",\"ids\":[\"C\",\"C\",\"C\"],\"legendgroup\":\"Naypyitaw\",\"marker\":{\"color\":\"#EF553B\",\"pattern\":{\"shape\":\"\"}},\"name\":\"Naypyitaw\",\"offsetgroup\":\"Naypyitaw\",\"orientation\":\"v\",\"showlegend\":true,\"textposition\":\"auto\",\"x\":[\"Naypyitaw\",\"Naypyitaw\",\"Naypyitaw\"],\"xaxis\":\"x\",\"y\":[31.9305,701.8515,26.733],\"yaxis\":\"y\",\"type\":\"bar\"},{\"alignmentgroup\":\"True\",\"hovertemplate\":\"City=%{x}<br>Date=2/22/2019<br>Total=%{y}<extra></extra>\",\"ids\":[\"B\",\"B\",\"B\",\"B\",\"B\"],\"legendgroup\":\"Mandalay\",\"marker\":{\"color\":\"#00cc96\",\"pattern\":{\"shape\":\"\"}},\"name\":\"Mandalay\",\"offsetgroup\":\"Mandalay\",\"orientation\":\"v\",\"showlegend\":true,\"textposition\":\"auto\",\"x\":[\"Mandalay\",\"Mandalay\",\"Mandalay\",\"Mandalay\",\"Mandalay\"],\"xaxis\":\"x\",\"y\":[208.6875,49.812,513.2295,217.2555,183.645],\"yaxis\":\"y\",\"type\":\"bar\"}],\"name\":\"2/22/2019\"},{\"data\":[{\"alignmentgroup\":\"True\",\"hovertemplate\":\"City=%{x}<br>Date=1/29/2019<br>Total=%{y}<extra></extra>\",\"ids\":[\"A\",\"A\",\"A\",\"A\",\"A\"],\"legendgroup\":\"Yangon\",\"marker\":{\"color\":\"#636efa\",\"pattern\":{\"shape\":\"\"}},\"name\":\"Yangon\",\"offsetgroup\":\"Yangon\",\"orientation\":\"v\",\"showlegend\":true,\"textposition\":\"auto\",\"x\":[\"Yangon\",\"Yangon\",\"Yangon\",\"Yangon\",\"Yangon\"],\"xaxis\":\"x\",\"y\":[786.618,40.53,146.6325,458.6925,92.442],\"yaxis\":\"y\",\"type\":\"bar\"},{\"alignmentgroup\":\"True\",\"hovertemplate\":\"City=%{x}<br>Date=1/29/2019<br>Total=%{y}<extra></extra>\",\"ids\":[\"C\",\"C\",\"C\",\"C\"],\"legendgroup\":\"Naypyitaw\",\"marker\":{\"color\":\"#EF553B\",\"pattern\":{\"shape\":\"\"}},\"name\":\"Naypyitaw\",\"offsetgroup\":\"Naypyitaw\",\"orientation\":\"v\",\"showlegend\":true,\"textposition\":\"auto\",\"x\":[\"Naypyitaw\",\"Naypyitaw\",\"Naypyitaw\",\"Naypyitaw\"],\"xaxis\":\"x\",\"y\":[120.645,265.104,616.98,42.3675],\"yaxis\":\"y\",\"type\":\"bar\"},{\"alignmentgroup\":\"True\",\"hovertemplate\":\"City=%{x}<br>Date=1/29/2019<br>Total=%{y}<extra></extra>\",\"ids\":[\"B\",\"B\",\"B\"],\"legendgroup\":\"Mandalay\",\"marker\":{\"color\":\"#00cc96\",\"pattern\":{\"shape\":\"\"}},\"name\":\"Mandalay\",\"offsetgroup\":\"Mandalay\",\"orientation\":\"v\",\"showlegend\":true,\"textposition\":\"auto\",\"x\":[\"Mandalay\",\"Mandalay\",\"Mandalay\"],\"xaxis\":\"x\",\"y\":[137.004,529.515,280.035],\"yaxis\":\"y\",\"type\":\"bar\"}],\"name\":\"1/29/2019\"},{\"data\":[{\"alignmentgroup\":\"True\",\"hovertemplate\":\"City=%{x}<br>Date=1/4/2019<br>Total=%{y}<extra></extra>\",\"ids\":[\"A\",\"A\"],\"legendgroup\":\"Yangon\",\"marker\":{\"color\":\"#636efa\",\"pattern\":{\"shape\":\"\"}},\"name\":\"Yangon\",\"offsetgroup\":\"Yangon\",\"orientation\":\"v\",\"showlegend\":true,\"textposition\":\"auto\",\"x\":[\"Yangon\",\"Yangon\"],\"xaxis\":\"x\",\"y\":[373.17,110.0925],\"yaxis\":\"y\",\"type\":\"bar\"},{\"alignmentgroup\":\"True\",\"hovertemplate\":\"City=%{x}<br>Date=1/4/2019<br>Total=%{y}<extra></extra>\",\"ids\":[\"C\"],\"legendgroup\":\"Naypyitaw\",\"marker\":{\"color\":\"#EF553B\",\"pattern\":{\"shape\":\"\"}},\"name\":\"Naypyitaw\",\"offsetgroup\":\"Naypyitaw\",\"orientation\":\"v\",\"showlegend\":true,\"textposition\":\"auto\",\"x\":[\"Naypyitaw\"],\"xaxis\":\"x\",\"y\":[629.8425],\"yaxis\":\"y\",\"type\":\"bar\"},{\"alignmentgroup\":\"True\",\"hovertemplate\":\"City=%{x}<br>Date=1/4/2019<br>Total=%{y}<extra></extra>\",\"ids\":[\"B\",\"B\",\"B\"],\"legendgroup\":\"Mandalay\",\"marker\":{\"color\":\"#00cc96\",\"pattern\":{\"shape\":\"\"}},\"name\":\"Mandalay\",\"offsetgroup\":\"Mandalay\",\"orientation\":\"v\",\"showlegend\":true,\"textposition\":\"auto\",\"x\":[\"Mandalay\",\"Mandalay\",\"Mandalay\"],\"xaxis\":\"x\",\"y\":[75.7785,146.223,288.582],\"yaxis\":\"y\",\"type\":\"bar\"}],\"name\":\"1/4/2019\"},{\"data\":[{\"alignmentgroup\":\"True\",\"hovertemplate\":\"City=%{x}<br>Date=3/30/2019<br>Total=%{y}<extra></extra>\",\"ids\":[\"A\",\"A\",\"A\",\"A\"],\"legendgroup\":\"Yangon\",\"marker\":{\"color\":\"#636efa\",\"pattern\":{\"shape\":\"\"}},\"name\":\"Yangon\",\"offsetgroup\":\"Yangon\",\"orientation\":\"v\",\"showlegend\":true,\"textposition\":\"auto\",\"x\":[\"Yangon\",\"Yangon\",\"Yangon\",\"Yangon\"],\"xaxis\":\"x\",\"y\":[295.6905,338.31,216.846,469.77],\"yaxis\":\"y\",\"type\":\"bar\"},{\"alignmentgroup\":\"True\",\"hovertemplate\":\"City=%{x}<br>Date=3/30/2019<br>Total=%{y}<extra></extra>\",\"ids\":[\"C\",\"C\",\"C\",\"C\"],\"legendgroup\":\"Naypyitaw\",\"marker\":{\"color\":\"#EF553B\",\"pattern\":{\"shape\":\"\"}},\"name\":\"Naypyitaw\",\"offsetgroup\":\"Naypyitaw\",\"orientation\":\"v\",\"showlegend\":true,\"textposition\":\"auto\",\"x\":[\"Naypyitaw\",\"Naypyitaw\",\"Naypyitaw\",\"Naypyitaw\"],\"xaxis\":\"x\",\"y\":[609.168,442.323,85.512,304.983],\"yaxis\":\"y\",\"type\":\"bar\"},{\"alignmentgroup\":\"True\",\"hovertemplate\":\"City=%{x}<br>Date=3/30/2019<br>Total=%{y}<extra></extra>\",\"ids\":[\"B\",\"B\",\"B\"],\"legendgroup\":\"Mandalay\",\"marker\":{\"color\":\"#00cc96\",\"pattern\":{\"shape\":\"\"}},\"name\":\"Mandalay\",\"offsetgroup\":\"Mandalay\",\"orientation\":\"v\",\"showlegend\":true,\"textposition\":\"auto\",\"x\":[\"Mandalay\",\"Mandalay\",\"Mandalay\"],\"xaxis\":\"x\",\"y\":[253.848,609.588,196.14],\"yaxis\":\"y\",\"type\":\"bar\"}],\"name\":\"3/30/2019\"},{\"data\":[{\"alignmentgroup\":\"True\",\"hovertemplate\":\"City=%{x}<br>Date=1/30/2019<br>Total=%{y}<extra></extra>\",\"ids\":[\"A\"],\"legendgroup\":\"Yangon\",\"marker\":{\"color\":\"#636efa\",\"pattern\":{\"shape\":\"\"}},\"name\":\"Yangon\",\"offsetgroup\":\"Yangon\",\"orientation\":\"v\",\"showlegend\":true,\"textposition\":\"auto\",\"x\":[\"Yangon\"],\"xaxis\":\"x\",\"y\":[295.407],\"yaxis\":\"y\",\"type\":\"bar\"},{\"alignmentgroup\":\"True\",\"hovertemplate\":\"City=%{x}<br>Date=1/30/2019<br>Total=%{y}<extra></extra>\",\"ids\":[\"C\",\"C\",\"C\",\"C\",\"C\",\"C\"],\"legendgroup\":\"Naypyitaw\",\"marker\":{\"color\":\"#EF553B\",\"pattern\":{\"shape\":\"\"}},\"name\":\"Naypyitaw\",\"offsetgroup\":\"Naypyitaw\",\"orientation\":\"v\",\"showlegend\":true,\"textposition\":\"auto\",\"x\":[\"Naypyitaw\",\"Naypyitaw\",\"Naypyitaw\",\"Naypyitaw\",\"Naypyitaw\",\"Naypyitaw\"],\"xaxis\":\"x\",\"y\":[160.44,509.4075,24.108,253.848,55.2825,23.499],\"yaxis\":\"y\",\"type\":\"bar\"},{\"alignmentgroup\":\"True\",\"hovertemplate\":\"City=%{x}<br>Date=1/30/2019<br>Total=%{y}<extra></extra>\",\"ids\":[\"B\",\"B\"],\"legendgroup\":\"Mandalay\",\"marker\":{\"color\":\"#00cc96\",\"pattern\":{\"shape\":\"\"}},\"name\":\"Mandalay\",\"offsetgroup\":\"Mandalay\",\"orientation\":\"v\",\"showlegend\":true,\"textposition\":\"auto\",\"x\":[\"Mandalay\",\"Mandalay\"],\"xaxis\":\"x\",\"y\":[99.33,356.328],\"yaxis\":\"y\",\"type\":\"bar\"}],\"name\":\"1/30/2019\"},{\"data\":[{\"alignmentgroup\":\"True\",\"hovertemplate\":\"City=%{x}<br>Date=1/3/2019<br>Total=%{y}<extra></extra>\",\"ids\":[\"A\",\"A\",\"A\"],\"legendgroup\":\"Yangon\",\"marker\":{\"color\":\"#636efa\",\"pattern\":{\"shape\":\"\"}},\"name\":\"Yangon\",\"offsetgroup\":\"Yangon\",\"orientation\":\"v\",\"showlegend\":true,\"textposition\":\"auto\",\"x\":[\"Yangon\",\"Yangon\",\"Yangon\"],\"xaxis\":\"x\",\"y\":[367.5525,217.6335,352.2225],\"yaxis\":\"y\",\"type\":\"bar\"},{\"alignmentgroup\":\"True\",\"hovertemplate\":\"City=%{x}<br>Date=1/3/2019<br>Total=%{y}<extra></extra>\",\"ids\":[\"C\",\"C\"],\"legendgroup\":\"Naypyitaw\",\"marker\":{\"color\":\"#EF553B\",\"pattern\":{\"shape\":\"\"}},\"name\":\"Naypyitaw\",\"offsetgroup\":\"Naypyitaw\",\"orientation\":\"v\",\"showlegend\":true,\"textposition\":\"auto\",\"x\":[\"Naypyitaw\",\"Naypyitaw\"],\"xaxis\":\"x\",\"y\":[44.352,79.674],\"yaxis\":\"y\",\"type\":\"bar\"},{\"alignmentgroup\":\"True\",\"hovertemplate\":\"City=%{x}<br>Date=1/3/2019<br>Total=%{y}<extra></extra>\",\"ids\":[\"B\",\"B\",\"B\"],\"legendgroup\":\"Mandalay\",\"marker\":{\"color\":\"#00cc96\",\"pattern\":{\"shape\":\"\"}},\"name\":\"Mandalay\",\"offsetgroup\":\"Mandalay\",\"orientation\":\"v\",\"showlegend\":true,\"textposition\":\"auto\",\"x\":[\"Mandalay\",\"Mandalay\",\"Mandalay\"],\"xaxis\":\"x\",\"y\":[98.049,397.845,520.8],\"yaxis\":\"y\",\"type\":\"bar\"}],\"name\":\"1/3/2019\"},{\"data\":[{\"alignmentgroup\":\"True\",\"hovertemplate\":\"City=%{x}<br>Date=3/21/2019<br>Total=%{y}<extra></extra>\",\"ids\":[\"A\",\"A\",\"A\",\"A\"],\"legendgroup\":\"Yangon\",\"marker\":{\"color\":\"#636efa\",\"pattern\":{\"shape\":\"\"}},\"name\":\"Yangon\",\"offsetgroup\":\"Yangon\",\"orientation\":\"v\",\"showlegend\":true,\"textposition\":\"auto\",\"x\":[\"Yangon\",\"Yangon\",\"Yangon\",\"Yangon\"],\"xaxis\":\"x\",\"y\":[319.788,83.412,149.3625,756.168],\"yaxis\":\"y\",\"type\":\"bar\"},{\"alignmentgroup\":\"True\",\"hovertemplate\":\"City=%{x}<br>Date=3/21/2019<br>Total=%{y}<extra></extra>\",\"ids\":[\"C\"],\"legendgroup\":\"Naypyitaw\",\"marker\":{\"color\":\"#EF553B\",\"pattern\":{\"shape\":\"\"}},\"name\":\"Naypyitaw\",\"offsetgroup\":\"Naypyitaw\",\"orientation\":\"v\",\"showlegend\":true,\"textposition\":\"auto\",\"x\":[\"Naypyitaw\"],\"xaxis\":\"x\",\"y\":[360.927],\"yaxis\":\"y\",\"type\":\"bar\"},{\"alignmentgroup\":\"True\",\"hovertemplate\":\"City=%{x}<br>Date=3/21/2019<br>Total=%{y}<extra></extra>\",\"ids\":[\"B\"],\"legendgroup\":\"Mandalay\",\"marker\":{\"color\":\"#00cc96\",\"pattern\":{\"shape\":\"\"}},\"name\":\"Mandalay\",\"offsetgroup\":\"Mandalay\",\"orientation\":\"v\",\"showlegend\":true,\"textposition\":\"auto\",\"x\":[\"Mandalay\"],\"xaxis\":\"x\",\"y\":[207.858],\"yaxis\":\"y\",\"type\":\"bar\"}],\"name\":\"3/21/2019\"},{\"data\":[{\"alignmentgroup\":\"True\",\"hovertemplate\":\"City=%{x}<br>Date=2/13/2019<br>Total=%{y}<extra></extra>\",\"ids\":[\"A\",\"A\"],\"legendgroup\":\"Yangon\",\"marker\":{\"color\":\"#636efa\",\"pattern\":{\"shape\":\"\"}},\"name\":\"Yangon\",\"offsetgroup\":\"Yangon\",\"orientation\":\"v\",\"showlegend\":true,\"textposition\":\"auto\",\"x\":[\"Yangon\",\"Yangon\"],\"xaxis\":\"x\",\"y\":[135.45,80.661],\"yaxis\":\"y\",\"type\":\"bar\"},{\"alignmentgroup\":\"True\",\"hovertemplate\":\"City=%{x}<br>Date=2/13/2019<br>Total=%{y}<extra></extra>\",\"ids\":[\"C\",\"C\",\"C\"],\"legendgroup\":\"Naypyitaw\",\"marker\":{\"color\":\"#EF553B\",\"pattern\":{\"shape\":\"\"}},\"name\":\"Naypyitaw\",\"offsetgroup\":\"Naypyitaw\",\"orientation\":\"v\",\"showlegend\":true,\"textposition\":\"auto\",\"x\":[\"Naypyitaw\",\"Naypyitaw\",\"Naypyitaw\"],\"xaxis\":\"x\",\"y\":[165.4485,195.258,31.227],\"yaxis\":\"y\",\"type\":\"bar\"},{\"alignmentgroup\":\"True\",\"hovertemplate\":\"City=%{x}<br>Date=2/13/2019<br>Total=%{y}<extra></extra>\",\"ids\":[\"B\",\"B\",\"B\"],\"legendgroup\":\"Mandalay\",\"marker\":{\"color\":\"#00cc96\",\"pattern\":{\"shape\":\"\"}},\"name\":\"Mandalay\",\"offsetgroup\":\"Mandalay\",\"orientation\":\"v\",\"showlegend\":true,\"textposition\":\"auto\",\"x\":[\"Mandalay\",\"Mandalay\",\"Mandalay\"],\"xaxis\":\"x\",\"y\":[155.19,84.756,86.247],\"yaxis\":\"y\",\"type\":\"bar\"}],\"name\":\"2/13/2019\"},{\"data\":[{\"alignmentgroup\":\"True\",\"hovertemplate\":\"City=%{x}<br>Date=1/14/2019<br>Total=%{y}<extra></extra>\",\"ids\":[\"A\",\"A\"],\"legendgroup\":\"Yangon\",\"marker\":{\"color\":\"#636efa\",\"pattern\":{\"shape\":\"\"}},\"name\":\"Yangon\",\"offsetgroup\":\"Yangon\",\"orientation\":\"v\",\"showlegend\":true,\"textposition\":\"auto\",\"x\":[\"Yangon\",\"Yangon\"],\"xaxis\":\"x\",\"y\":[507.675,588.42],\"yaxis\":\"y\",\"type\":\"bar\"},{\"alignmentgroup\":\"True\",\"hovertemplate\":\"City=%{x}<br>Date=1/14/2019<br>Total=%{y}<extra></extra>\",\"ids\":[\"C\",\"C\",\"C\",\"C\",\"C\",\"C\"],\"legendgroup\":\"Naypyitaw\",\"marker\":{\"color\":\"#EF553B\",\"pattern\":{\"shape\":\"\"}},\"name\":\"Naypyitaw\",\"offsetgroup\":\"Naypyitaw\",\"orientation\":\"v\",\"showlegend\":true,\"textposition\":\"auto\",\"x\":[\"Naypyitaw\",\"Naypyitaw\",\"Naypyitaw\",\"Naypyitaw\",\"Naypyitaw\",\"Naypyitaw\"],\"xaxis\":\"x\",\"y\":[451.3635,133.434,89.0715,190.4805,390.9465,423.738],\"yaxis\":\"y\",\"type\":\"bar\"},{\"alignmentgroup\":\"True\",\"hovertemplate\":\"City=%{x}<br>Date=1/14/2019<br>Total=%{y}<extra></extra>\",\"ids\":[\"B\",\"B\",\"B\",\"B\",\"B\"],\"legendgroup\":\"Mandalay\",\"marker\":{\"color\":\"#00cc96\",\"pattern\":{\"shape\":\"\"}},\"name\":\"Mandalay\",\"offsetgroup\":\"Mandalay\",\"orientation\":\"v\",\"showlegend\":true,\"textposition\":\"auto\",\"x\":[\"Mandalay\",\"Mandalay\",\"Mandalay\",\"Mandalay\",\"Mandalay\"],\"xaxis\":\"x\",\"y\":[536.991,523.3725,75.936,36.5505,18.6375],\"yaxis\":\"y\",\"type\":\"bar\"}],\"name\":\"1/14/2019\"},{\"data\":[{\"alignmentgroup\":\"True\",\"hovertemplate\":\"City=%{x}<br>Date=3/18/2019<br>Total=%{y}<extra></extra>\",\"ids\":[\"A\",\"A\"],\"legendgroup\":\"Yangon\",\"marker\":{\"color\":\"#636efa\",\"pattern\":{\"shape\":\"\"}},\"name\":\"Yangon\",\"offsetgroup\":\"Yangon\",\"orientation\":\"v\",\"showlegend\":true,\"textposition\":\"auto\",\"x\":[\"Yangon\",\"Yangon\"],\"xaxis\":\"x\",\"y\":[214.998,174.615],\"yaxis\":\"y\",\"type\":\"bar\"},{\"alignmentgroup\":\"True\",\"hovertemplate\":\"City=%{x}<br>Date=3/18/2019<br>Total=%{y}<extra></extra>\",\"ids\":[\"C\",\"C\",\"C\"],\"legendgroup\":\"Naypyitaw\",\"marker\":{\"color\":\"#EF553B\",\"pattern\":{\"shape\":\"\"}},\"name\":\"Naypyitaw\",\"offsetgroup\":\"Naypyitaw\",\"orientation\":\"v\",\"showlegend\":true,\"textposition\":\"auto\",\"x\":[\"Naypyitaw\",\"Naypyitaw\",\"Naypyitaw\"],\"xaxis\":\"x\",\"y\":[299.565,54.0435,96.579],\"yaxis\":\"y\",\"type\":\"bar\"},{\"alignmentgroup\":\"True\",\"hovertemplate\":\"City=%{x}<br>Date=3/18/2019<br>Total=%{y}<extra></extra>\",\"ids\":[\"B\",\"B\"],\"legendgroup\":\"Mandalay\",\"marker\":{\"color\":\"#00cc96\",\"pattern\":{\"shape\":\"\"}},\"name\":\"Mandalay\",\"offsetgroup\":\"Mandalay\",\"orientation\":\"v\",\"showlegend\":true,\"textposition\":\"auto\",\"x\":[\"Mandalay\",\"Mandalay\"],\"xaxis\":\"x\",\"y\":[314.055,138.978],\"yaxis\":\"y\",\"type\":\"bar\"}],\"name\":\"3/18/2019\"},{\"data\":[{\"alignmentgroup\":\"True\",\"hovertemplate\":\"City=%{x}<br>Date=3/20/2019<br>Total=%{y}<extra></extra>\",\"ids\":[\"A\",\"A\",\"A\",\"A\",\"A\",\"A\"],\"legendgroup\":\"Yangon\",\"marker\":{\"color\":\"#636efa\",\"pattern\":{\"shape\":\"\"}},\"name\":\"Yangon\",\"offsetgroup\":\"Yangon\",\"orientation\":\"v\",\"showlegend\":true,\"textposition\":\"auto\",\"x\":[\"Yangon\",\"Yangon\",\"Yangon\",\"Yangon\",\"Yangon\",\"Yangon\"],\"xaxis\":\"x\",\"y\":[90.825,462.21,469.413,365.904,96.1905,253.848],\"yaxis\":\"y\",\"type\":\"bar\"},{\"alignmentgroup\":\"True\",\"hovertemplate\":\"City=%{x}<br>Date=3/20/2019<br>Total=%{y}<extra></extra>\",\"ids\":[\"C\",\"C\",\"C\"],\"legendgroup\":\"Naypyitaw\",\"marker\":{\"color\":\"#EF553B\",\"pattern\":{\"shape\":\"\"}},\"name\":\"Naypyitaw\",\"offsetgroup\":\"Naypyitaw\",\"orientation\":\"v\",\"showlegend\":true,\"textposition\":\"auto\",\"x\":[\"Naypyitaw\",\"Naypyitaw\",\"Naypyitaw\"],\"xaxis\":\"x\",\"y\":[745.395,523.971,132.5625],\"yaxis\":\"y\",\"type\":\"bar\"},{\"alignmentgroup\":\"True\",\"hovertemplate\":\"City=%{x}<br>Date=3/20/2019<br>Total=%{y}<extra></extra>\",\"ids\":[\"B\",\"B\",\"B\",\"B\",\"B\",\"B\"],\"legendgroup\":\"Mandalay\",\"marker\":{\"color\":\"#00cc96\",\"pattern\":{\"shape\":\"\"}},\"name\":\"Mandalay\",\"offsetgroup\":\"Mandalay\",\"orientation\":\"v\",\"showlegend\":true,\"textposition\":\"auto\",\"x\":[\"Mandalay\",\"Mandalay\",\"Mandalay\",\"Mandalay\",\"Mandalay\",\"Mandalay\"],\"xaxis\":\"x\",\"y\":[484.89,65.7405,637.728,208.425,251.7165,35.3115],\"yaxis\":\"y\",\"type\":\"bar\"}],\"name\":\"3/20/2019\"},{\"data\":[{\"alignmentgroup\":\"True\",\"hovertemplate\":\"City=%{x}<br>Date=2/21/2019<br>Total=%{y}<extra></extra>\",\"ids\":[\"A\"],\"legendgroup\":\"Yangon\",\"marker\":{\"color\":\"#636efa\",\"pattern\":{\"shape\":\"\"}},\"name\":\"Yangon\",\"offsetgroup\":\"Yangon\",\"orientation\":\"v\",\"showlegend\":true,\"textposition\":\"auto\",\"x\":[\"Yangon\"],\"xaxis\":\"x\",\"y\":[298.116],\"yaxis\":\"y\",\"type\":\"bar\"},{\"alignmentgroup\":\"True\",\"hovertemplate\":\"City=%{x}<br>Date=2/21/2019<br>Total=%{y}<extra></extra>\",\"ids\":[\"C\",\"C\",\"C\"],\"legendgroup\":\"Naypyitaw\",\"marker\":{\"color\":\"#EF553B\",\"pattern\":{\"shape\":\"\"}},\"name\":\"Naypyitaw\",\"offsetgroup\":\"Naypyitaw\",\"orientation\":\"v\",\"showlegend\":true,\"textposition\":\"auto\",\"x\":[\"Naypyitaw\",\"Naypyitaw\",\"Naypyitaw\"],\"xaxis\":\"x\",\"y\":[13.167,207.48,439.215],\"yaxis\":\"y\",\"type\":\"bar\"},{\"alignmentgroup\":\"True\",\"hovertemplate\":\"City=%{x}<br>Date=2/21/2019<br>Total=%{y}<extra></extra>\",\"ids\":[\"B\",\"B\"],\"legendgroup\":\"Mandalay\",\"marker\":{\"color\":\"#00cc96\",\"pattern\":{\"shape\":\"\"}},\"name\":\"Mandalay\",\"offsetgroup\":\"Mandalay\",\"orientation\":\"v\",\"showlegend\":true,\"textposition\":\"auto\",\"x\":[\"Mandalay\",\"Mandalay\"],\"xaxis\":\"x\",\"y\":[310.044,125.7165],\"yaxis\":\"y\",\"type\":\"bar\"}],\"name\":\"2/21/2019\"},{\"data\":[{\"alignmentgroup\":\"True\",\"hovertemplate\":\"City=%{x}<br>Date=1/31/2019<br>Total=%{y}<extra></extra>\",\"ids\":[\"A\",\"A\",\"A\"],\"legendgroup\":\"Yangon\",\"marker\":{\"color\":\"#636efa\",\"pattern\":{\"shape\":\"\"}},\"name\":\"Yangon\",\"offsetgroup\":\"Yangon\",\"orientation\":\"v\",\"showlegend\":true,\"textposition\":\"auto\",\"x\":[\"Yangon\",\"Yangon\",\"Yangon\"],\"xaxis\":\"x\",\"y\":[69.6675,87.234,431.256],\"yaxis\":\"y\",\"type\":\"bar\"},{\"alignmentgroup\":\"True\",\"hovertemplate\":\"City=%{x}<br>Date=1/31/2019<br>Total=%{y}<extra></extra>\",\"ids\":[\"C\",\"C\",\"C\",\"C\"],\"legendgroup\":\"Naypyitaw\",\"marker\":{\"color\":\"#EF553B\",\"pattern\":{\"shape\":\"\"}},\"name\":\"Naypyitaw\",\"offsetgroup\":\"Naypyitaw\",\"orientation\":\"v\",\"showlegend\":true,\"textposition\":\"auto\",\"x\":[\"Naypyitaw\",\"Naypyitaw\",\"Naypyitaw\",\"Naypyitaw\"],\"xaxis\":\"x\",\"y\":[155.652,224.4375,253.848,652.89],\"yaxis\":\"y\",\"type\":\"bar\"},{\"alignmentgroup\":\"True\",\"hovertemplate\":\"City=%{x}<br>Date=1/31/2019<br>Total=%{y}<extra></extra>\",\"ids\":[\"B\",\"B\",\"B\",\"B\",\"B\",\"B\",\"B\"],\"legendgroup\":\"Mandalay\",\"marker\":{\"color\":\"#00cc96\",\"pattern\":{\"shape\":\"\"}},\"name\":\"Mandalay\",\"offsetgroup\":\"Mandalay\",\"orientation\":\"v\",\"showlegend\":true,\"textposition\":\"auto\",\"x\":[\"Mandalay\",\"Mandalay\",\"Mandalay\",\"Mandalay\",\"Mandalay\",\"Mandalay\",\"Mandalay\"],\"xaxis\":\"x\",\"y\":[285.705,503.559,79.611,145.068,180.6,757.365,253.848],\"yaxis\":\"y\",\"type\":\"bar\"}],\"name\":\"1/31/2019\"},{\"data\":[{\"alignmentgroup\":\"True\",\"hovertemplate\":\"City=%{x}<br>Date=1/11/2019<br>Total=%{y}<extra></extra>\",\"ids\":[\"A\",\"A\",\"A\",\"A\",\"A\",\"A\"],\"legendgroup\":\"Yangon\",\"marker\":{\"color\":\"#636efa\",\"pattern\":{\"shape\":\"\"}},\"name\":\"Yangon\",\"offsetgroup\":\"Yangon\",\"orientation\":\"v\",\"showlegend\":true,\"textposition\":\"auto\",\"x\":[\"Yangon\",\"Yangon\",\"Yangon\",\"Yangon\",\"Yangon\",\"Yangon\"],\"xaxis\":\"x\",\"y\":[94.1745,235.683,345.786,72.3975,305.55,608.076],\"yaxis\":\"y\",\"type\":\"bar\"},{\"alignmentgroup\":\"True\",\"hovertemplate\":\"City=%{x}<br>Date=1/11/2019<br>Total=%{y}<extra></extra>\",\"ids\":[\"C\",\"C\"],\"legendgroup\":\"Naypyitaw\",\"marker\":{\"color\":\"#EF553B\",\"pattern\":{\"shape\":\"\"}},\"name\":\"Naypyitaw\",\"offsetgroup\":\"Naypyitaw\",\"orientation\":\"v\",\"showlegend\":true,\"textposition\":\"auto\",\"x\":[\"Naypyitaw\",\"Naypyitaw\"],\"xaxis\":\"x\",\"y\":[183.036,270.2595],\"yaxis\":\"y\",\"type\":\"bar\"}],\"name\":\"1/11/2019\"},{\"data\":[{\"alignmentgroup\":\"True\",\"hovertemplate\":\"City=%{x}<br>Date=2/26/2019<br>Total=%{y}<extra></extra>\",\"ids\":[\"A\",\"A\"],\"legendgroup\":\"Yangon\",\"marker\":{\"color\":\"#636efa\",\"pattern\":{\"shape\":\"\"}},\"name\":\"Yangon\",\"offsetgroup\":\"Yangon\",\"orientation\":\"v\",\"showlegend\":true,\"textposition\":\"auto\",\"x\":[\"Yangon\",\"Yangon\"],\"xaxis\":\"x\",\"y\":[58.2225,97.881],\"yaxis\":\"y\",\"type\":\"bar\"},{\"alignmentgroup\":\"True\",\"hovertemplate\":\"City=%{x}<br>Date=2/26/2019<br>Total=%{y}<extra></extra>\",\"ids\":[\"C\"],\"legendgroup\":\"Naypyitaw\",\"marker\":{\"color\":\"#EF553B\",\"pattern\":{\"shape\":\"\"}},\"name\":\"Naypyitaw\",\"offsetgroup\":\"Naypyitaw\",\"orientation\":\"v\",\"showlegend\":true,\"textposition\":\"auto\",\"x\":[\"Naypyitaw\"],\"xaxis\":\"x\",\"y\":[216.6885],\"yaxis\":\"y\",\"type\":\"bar\"},{\"alignmentgroup\":\"True\",\"hovertemplate\":\"City=%{x}<br>Date=2/26/2019<br>Total=%{y}<extra></extra>\",\"ids\":[\"B\",\"B\",\"B\",\"B\",\"B\",\"B\"],\"legendgroup\":\"Mandalay\",\"marker\":{\"color\":\"#00cc96\",\"pattern\":{\"shape\":\"\"}},\"name\":\"Mandalay\",\"offsetgroup\":\"Mandalay\",\"orientation\":\"v\",\"showlegend\":true,\"textposition\":\"auto\",\"x\":[\"Mandalay\",\"Mandalay\",\"Mandalay\",\"Mandalay\",\"Mandalay\",\"Mandalay\"],\"xaxis\":\"x\",\"y\":[571.41,57.1725,628.173,209.769,401.268,167.58],\"yaxis\":\"y\",\"type\":\"bar\"}],\"name\":\"2/26/2019\"},{\"data\":[{\"alignmentgroup\":\"True\",\"hovertemplate\":\"City=%{x}<br>Date=3/17/2019<br>Total=%{y}<extra></extra>\",\"ids\":[\"A\",\"A\"],\"legendgroup\":\"Yangon\",\"marker\":{\"color\":\"#636efa\",\"pattern\":{\"shape\":\"\"}},\"name\":\"Yangon\",\"offsetgroup\":\"Yangon\",\"orientation\":\"v\",\"showlegend\":true,\"textposition\":\"auto\",\"x\":[\"Yangon\",\"Yangon\"],\"xaxis\":\"x\",\"y\":[325.374,807.66],\"yaxis\":\"y\",\"type\":\"bar\"},{\"alignmentgroup\":\"True\",\"hovertemplate\":\"City=%{x}<br>Date=3/17/2019<br>Total=%{y}<extra></extra>\",\"ids\":[\"C\",\"C\"],\"legendgroup\":\"Naypyitaw\",\"marker\":{\"color\":\"#EF553B\",\"pattern\":{\"shape\":\"\"}},\"name\":\"Naypyitaw\",\"offsetgroup\":\"Naypyitaw\",\"orientation\":\"v\",\"showlegend\":true,\"textposition\":\"auto\",\"x\":[\"Naypyitaw\",\"Naypyitaw\"],\"xaxis\":\"x\",\"y\":[369.495,23.751],\"yaxis\":\"y\",\"type\":\"bar\"},{\"alignmentgroup\":\"True\",\"hovertemplate\":\"City=%{x}<br>Date=3/17/2019<br>Total=%{y}<extra></extra>\",\"ids\":[\"B\",\"B\"],\"legendgroup\":\"Mandalay\",\"marker\":{\"color\":\"#00cc96\",\"pattern\":{\"shape\":\"\"}},\"name\":\"Mandalay\",\"offsetgroup\":\"Mandalay\",\"orientation\":\"v\",\"showlegend\":true,\"textposition\":\"auto\",\"x\":[\"Mandalay\",\"Mandalay\"],\"xaxis\":\"x\",\"y\":[343.413,106.596],\"yaxis\":\"y\",\"type\":\"bar\"}],\"name\":\"3/17/2019\"},{\"data\":[{\"alignmentgroup\":\"True\",\"hovertemplate\":\"City=%{x}<br>Date=3/14/2019<br>Total=%{y}<extra></extra>\",\"ids\":[\"A\",\"A\",\"A\",\"A\"],\"legendgroup\":\"Yangon\",\"marker\":{\"color\":\"#636efa\",\"pattern\":{\"shape\":\"\"}},\"name\":\"Yangon\",\"offsetgroup\":\"Yangon\",\"orientation\":\"v\",\"showlegend\":true,\"textposition\":\"auto\",\"x\":[\"Yangon\",\"Yangon\",\"Yangon\",\"Yangon\"],\"xaxis\":\"x\",\"y\":[49.308,731.6925,49.4235,253.848],\"yaxis\":\"y\",\"type\":\"bar\"},{\"alignmentgroup\":\"True\",\"hovertemplate\":\"City=%{x}<br>Date=3/14/2019<br>Total=%{y}<extra></extra>\",\"ids\":[\"C\",\"C\",\"C\",\"C\",\"C\",\"C\",\"C\",\"C\",\"C\"],\"legendgroup\":\"Naypyitaw\",\"marker\":{\"color\":\"#EF553B\",\"pattern\":{\"shape\":\"\"}},\"name\":\"Naypyitaw\",\"offsetgroup\":\"Naypyitaw\",\"orientation\":\"v\",\"showlegend\":true,\"textposition\":\"auto\",\"x\":[\"Naypyitaw\",\"Naypyitaw\",\"Naypyitaw\",\"Naypyitaw\",\"Naypyitaw\",\"Naypyitaw\",\"Naypyitaw\",\"Naypyitaw\",\"Naypyitaw\"],\"xaxis\":\"x\",\"y\":[148.974,204.6975,484.974,441.693,625.905,814.38,461.5275,44.9925,221.886],\"yaxis\":\"y\",\"type\":\"bar\"},{\"alignmentgroup\":\"True\",\"hovertemplate\":\"City=%{x}<br>Date=3/14/2019<br>Total=%{y}<extra></extra>\",\"ids\":[\"B\",\"B\",\"B\",\"B\",\"B\"],\"legendgroup\":\"Mandalay\",\"marker\":{\"color\":\"#00cc96\",\"pattern\":{\"shape\":\"\"}},\"name\":\"Mandalay\",\"offsetgroup\":\"Mandalay\",\"orientation\":\"v\",\"showlegend\":true,\"textposition\":\"auto\",\"x\":[\"Mandalay\",\"Mandalay\",\"Mandalay\",\"Mandalay\",\"Mandalay\"],\"xaxis\":\"x\",\"y\":[402.2655,203.931,253.848,93.744,446.964],\"yaxis\":\"y\",\"type\":\"bar\"}],\"name\":\"3/14/2019\"},{\"data\":[{\"alignmentgroup\":\"True\",\"hovertemplate\":\"City=%{x}<br>Date=2/4/2019<br>Total=%{y}<extra></extra>\",\"ids\":[\"A\",\"A\",\"A\",\"A\",\"A\"],\"legendgroup\":\"Yangon\",\"marker\":{\"color\":\"#636efa\",\"pattern\":{\"shape\":\"\"}},\"name\":\"Yangon\",\"offsetgroup\":\"Yangon\",\"orientation\":\"v\",\"showlegend\":true,\"textposition\":\"auto\",\"x\":[\"Yangon\",\"Yangon\",\"Yangon\",\"Yangon\",\"Yangon\"],\"xaxis\":\"x\",\"y\":[75.5475,185.367,226.065,204.246,548.163],\"yaxis\":\"y\",\"type\":\"bar\"},{\"alignmentgroup\":\"True\",\"hovertemplate\":\"City=%{x}<br>Date=2/4/2019<br>Total=%{y}<extra></extra>\",\"ids\":[\"C\",\"C\"],\"legendgroup\":\"Naypyitaw\",\"marker\":{\"color\":\"#EF553B\",\"pattern\":{\"shape\":\"\"}},\"name\":\"Naypyitaw\",\"offsetgroup\":\"Naypyitaw\",\"orientation\":\"v\",\"showlegend\":true,\"textposition\":\"auto\",\"x\":[\"Naypyitaw\",\"Naypyitaw\"],\"xaxis\":\"x\",\"y\":[14.679,130.8825],\"yaxis\":\"y\",\"type\":\"bar\"},{\"alignmentgroup\":\"True\",\"hovertemplate\":\"City=%{x}<br>Date=2/4/2019<br>Total=%{y}<extra></extra>\",\"ids\":[\"B\",\"B\",\"B\",\"B\"],\"legendgroup\":\"Mandalay\",\"marker\":{\"color\":\"#00cc96\",\"pattern\":{\"shape\":\"\"}},\"name\":\"Mandalay\",\"offsetgroup\":\"Mandalay\",\"orientation\":\"v\",\"showlegend\":true,\"textposition\":\"auto\",\"x\":[\"Mandalay\",\"Mandalay\",\"Mandalay\",\"Mandalay\"],\"xaxis\":\"x\",\"y\":[734.076,151.284,98.028,71.1585],\"yaxis\":\"y\",\"type\":\"bar\"}],\"name\":\"2/4/2019\"},{\"data\":[{\"alignmentgroup\":\"True\",\"hovertemplate\":\"City=%{x}<br>Date=2/19/2019<br>Total=%{y}<extra></extra>\",\"ids\":[\"A\",\"A\",\"A\",\"A\"],\"legendgroup\":\"Yangon\",\"marker\":{\"color\":\"#636efa\",\"pattern\":{\"shape\":\"\"}},\"name\":\"Yangon\",\"offsetgroup\":\"Yangon\",\"orientation\":\"v\",\"showlegend\":true,\"textposition\":\"auto\",\"x\":[\"Yangon\",\"Yangon\",\"Yangon\",\"Yangon\"],\"xaxis\":\"x\",\"y\":[657.531,206.808,266.6475,253.848],\"yaxis\":\"y\",\"type\":\"bar\"},{\"alignmentgroup\":\"True\",\"hovertemplate\":\"City=%{x}<br>Date=2/19/2019<br>Total=%{y}<extra></extra>\",\"ids\":[\"C\",\"C\",\"C\",\"C\"],\"legendgroup\":\"Naypyitaw\",\"marker\":{\"color\":\"#EF553B\",\"pattern\":{\"shape\":\"\"}},\"name\":\"Naypyitaw\",\"offsetgroup\":\"Naypyitaw\",\"orientation\":\"v\",\"showlegend\":true,\"textposition\":\"auto\",\"x\":[\"Naypyitaw\",\"Naypyitaw\",\"Naypyitaw\",\"Naypyitaw\"],\"xaxis\":\"x\",\"y\":[173.208,733.6035,183.12,603.876],\"yaxis\":\"y\",\"type\":\"bar\"},{\"alignmentgroup\":\"True\",\"hovertemplate\":\"City=%{x}<br>Date=2/19/2019<br>Total=%{y}<extra></extra>\",\"ids\":[\"B\"],\"legendgroup\":\"Mandalay\",\"marker\":{\"color\":\"#00cc96\",\"pattern\":{\"shape\":\"\"}},\"name\":\"Mandalay\",\"offsetgroup\":\"Mandalay\",\"orientation\":\"v\",\"showlegend\":true,\"textposition\":\"auto\",\"x\":[\"Mandalay\"],\"xaxis\":\"x\",\"y\":[470.988],\"yaxis\":\"y\",\"type\":\"bar\"}],\"name\":\"2/19/2019\"}]);\n",
       "                        }).then(function(){\n",
       "                            \n",
       "var gd = document.getElementById('21d5ba56-e8ba-4b4c-a74e-e0dd8487c4b8');\n",
       "var x = new MutationObserver(function (mutations, observer) {{\n",
       "        var display = window.getComputedStyle(gd).display;\n",
       "        if (!display || display === 'none') {{\n",
       "            console.log([gd, 'removed!']);\n",
       "            Plotly.purge(gd);\n",
       "            observer.disconnect();\n",
       "        }}\n",
       "}});\n",
       "\n",
       "// Listen for the removal of the full notebook cells\n",
       "var notebookContainer = gd.closest('#notebook-container');\n",
       "if (notebookContainer) {{\n",
       "    x.observe(notebookContainer, {childList: true});\n",
       "}}\n",
       "\n",
       "// Listen for the clearing of the current output cell\n",
       "var outputEl = gd.closest('.output');\n",
       "if (outputEl) {{\n",
       "    x.observe(outputEl, {childList: true});\n",
       "}}\n",
       "\n",
       "                        })                };                });            </script>        </div>"
      ]
     },
     "metadata": {},
     "output_type": "display_data"
    }
   ],
   "source": [
    "px.bar(market,x='City',y='Total',color='City',animation_frame='Date',title='Change the date to see the differnce in the Total price of Country ',\n",
    "      animation_group=\"Branch\", range_y=[0,1000])"
   ]
  },
  {
   "cell_type": "code",
   "execution_count": 306,
   "metadata": {},
   "outputs": [
    {
     "data": {
      "image/png": "[encoded data removed]",
      "text/plain": [
       "<Figure size 432x288 with 1 Axes>"
      ]
     },
     "metadata": {},
     "output_type": "display_data"
    }
   ],
   "source": [
    "genderCount  = sns.lineplot(x=\"Hour\",  y = 'Quantity',data =market).set_title(\"Product Sales per Hour\")\n"
   ]
  },
  {
   "cell_type": "code",
   "execution_count": 307,
   "metadata": {},
   "outputs": [
    {
     "data": {
      "text/plain": [
       "<AxesSubplot:xlabel='Quantity', ylabel='Product line'>"
      ]
     },
     "execution_count": 307,
     "metadata": {},
     "output_type": "execute_result"
    },
    {
     "data": {
      "image/png": "[encoded data removed]",
      "text/plain": [
       "<Figure size 432x288 with 1 Axes>"
      ]
     },
     "metadata": {},
     "output_type": "display_data"
    }
   ],
   "source": [
    "sns.boxenplot(y = 'Product line', x = 'Quantity', data=market )\n"
   ]
  },
  {
   "cell_type": "code",
   "execution_count": 308,
   "metadata": {},
   "outputs": [
    {
     "data": {
      "text/plain": [
       "<AxesSubplot:xlabel='Rating', ylabel='Product line'>"
      ]
     },
     "execution_count": 308,
     "metadata": {},
     "output_type": "execute_result"
    },
    {
     "data": {
      "image/png": "[encoded data removed]",
      "text/plain": [
       "<Figure size 432x288 with 1 Axes>"
      ]
     },
     "metadata": {},
     "output_type": "display_data"
    }
   ],
   "source": [
    "sns.boxenplot(y = 'Product line', x = 'Rating', data=market )\n"
   ]
  },
  {
   "cell_type": "code",
   "execution_count": 309,
   "metadata": {},
   "outputs": [
    {
     "data": {
      "text/plain": [
       "Text(0.5, 1.0, 'Payment Channel')"
      ]
     },
     "execution_count": 309,
     "metadata": {},
     "output_type": "execute_result"
    },
    {
     "data": {
      "image/png": "[encoded data removed]",
      "text/plain": [
       "<Figure size 432x288 with 1 Axes>"
      ]
     },
     "metadata": {},
     "output_type": "display_data"
    }
   ],
   "source": [
    " sns.countplot(x=\"Payment\", data =market).set_title(\"Payment Channel\") \n"
   ]
  },
  {
   "cell_type": "code",
   "execution_count": 310,
   "metadata": {},
   "outputs": [
    {
     "data": {
      "text/plain": [
       "Text(0.5, 1.0, 'Payment Channel by Branch')"
      ]
     },
     "execution_count": 310,
     "metadata": {},
     "output_type": "execute_result"
    },
    {
     "data": {
      "image/png": "[encoded data removed]",
      "text/plain": [
       "<Figure size 432x288 with 1 Axes>"
      ]
     },
     "metadata": {},
     "output_type": "display_data"
    }
   ],
   "source": [
    " sns.countplot(x=\"Payment\", hue = \"Branch\", data =market).set_title(\"Payment Channel by Branch\") \n"
   ]
  },
  {
   "cell_type": "code",
   "execution_count": 311,
   "metadata": {},
   "outputs": [
    {
     "name": "stdout",
     "output_type": "stream",
     "text": [
      "<class 'pandas.core.frame.DataFrame'>\n",
      "RangeIndex: 1000 entries, 0 to 999\n",
      "Data columns (total 5 columns):\n",
      " #   Column        Non-Null Count  Dtype  \n",
      "---  ------        --------------  -----  \n",
      " 0   Gender        1000 non-null   object \n",
      " 1   Product line  1000 non-null   object \n",
      " 2   Quantity      1000 non-null   int64  \n",
      " 3   gross income  1000 non-null   float64\n",
      " 4   Rating        1000 non-null   float64\n",
      "dtypes: float64(2), int64(1), object(2)\n",
      "memory usage: 39.2+ KB\n"
     ]
    }
   ],
   "source": [
    "X = market[['Gender', 'Product line', 'Quantity', 'gross income', 'Rating']]\n",
    "X.info()"
   ]
  },
  {
   "cell_type": "code",
   "execution_count": 312,
   "metadata": {},
   "outputs": [],
   "source": [
    "X=pd.get_dummies(X)"
   ]
  },
  {
   "cell_type": "code",
   "execution_count": 313,
   "metadata": {},
   "outputs": [
    {
     "data": {
      "image/png": "[encoded data removed]",
      "text/plain": [
       "<Figure size 432x288 with 1 Axes>"
      ]
     },
     "metadata": {},
     "output_type": "display_data"
    }
   ],
   "source": [
    "# Using the elbow method to find the optimal number of clusters\n",
    "from sklearn.cluster import KMeans\n",
    "#Initiate Wcss using empty list\n",
    "wcss = []\n",
    "#initiate iteration process using a for loop\n",
    "for i in range(1, 11):\n",
    "    kmeans = KMeans(n_clusters = i, init = 'k-means++', random_state = 42)\n",
    "    kmeans.fit(X)\n",
    "    #Append results to wcss list\n",
    "    wcss.append(kmeans.inertia_)\n",
    "#Plot results\n",
    "plt.plot(range(1, 11), wcss)\n",
    "plt.title('The Elbow Method')\n",
    "plt.xlabel('Number of clusters')\n",
    "plt.ylabel('WCSS')\n",
    "plt.show()"
   ]
  },
  {
   "cell_type": "code",
   "execution_count": 314,
   "metadata": {},
   "outputs": [],
   "source": [
    "# Fitting K-Means to the dataset\n",
    "kmeans = KMeans(n_clusters = 3,init = 'k-means++',random_state = 42)\n",
    "y_km = kmeans.fit_predict(X)"
   ]
  },
  {
   "cell_type": "code",
   "execution_count": 315,
   "metadata": {},
   "outputs": [
    {
     "data": {
      "text/plain": [
       "array([0, 2, 0, 0, 1, 1, 0, 1, 2, 2, 2, 2, 2, 0, 1, 1, 0, 0, 2, 2, 0, 0,\n",
       "       2, 2, 0, 0, 2, 2, 0, 2, 0, 1, 1, 2, 0, 2, 0, 1, 0, 0, 2, 2, 0, 1,\n",
       "       2, 0, 0, 2, 2, 1, 1, 2, 2, 2, 2, 1, 2, 1, 1, 2, 2, 0, 0, 2, 0, 2,\n",
       "       2, 1, 1, 2, 1, 1, 2, 0, 1, 0, 0, 2, 1, 2, 1, 0, 2, 0, 2, 1, 0, 0,\n",
       "       2, 0, 2, 0, 2, 1, 2, 2, 1, 2, 2, 0, 2, 1, 2, 0, 2, 1, 2, 0, 0, 1,\n",
       "       2, 0, 0, 0, 1, 2, 2, 2, 2, 2, 1, 0, 1, 0, 0, 1, 2, 0, 1, 1, 0, 1,\n",
       "       2, 0, 0, 0, 2, 2, 0, 1, 1, 1, 1, 2, 0, 0, 0, 0, 1, 0, 0, 0, 1, 2,\n",
       "       1, 0, 2, 0, 1, 1, 0, 2, 0, 2, 0, 0, 1, 1, 0, 0, 0, 0, 2, 0, 2, 0,\n",
       "       2, 2, 0, 0, 0, 0, 2, 0, 2, 2, 1, 2, 2, 0, 2, 2, 1, 2, 2, 2, 2, 2,\n",
       "       2, 0, 2, 2, 0, 0, 2, 2, 1, 0, 2, 1, 0, 1, 0, 2, 2, 2, 2, 0, 1, 2,\n",
       "       0, 0, 2, 2, 2, 2, 1, 2, 0, 0, 2, 2, 1, 0, 0, 2, 2, 2, 2, 2, 2, 2,\n",
       "       2, 2, 1, 0, 2, 2, 0, 0, 0, 0, 2, 2, 0, 2, 2, 2, 2, 0, 1, 2, 2, 2,\n",
       "       2, 1, 2, 1, 0, 0, 0, 2, 2, 2, 1, 0, 2, 0, 1, 0, 1, 2, 2, 1, 2, 0,\n",
       "       2, 2, 0, 1, 0, 2, 2, 2, 2, 0, 2, 0, 2, 2, 2, 2, 2, 2, 2, 0, 0, 1,\n",
       "       2, 2, 0, 2, 2, 2, 1, 2, 2, 0, 2, 2, 2, 2, 2, 0, 2, 0, 0, 0, 2, 2,\n",
       "       2, 2, 0, 2, 2, 2, 1, 0, 2, 0, 2, 0, 0, 0, 2, 1, 2, 1, 2, 2, 1, 0,\n",
       "       0, 0, 2, 0, 0, 1, 2, 2, 1, 1, 2, 0, 2, 0, 0, 0, 2, 2, 2, 2, 0, 0,\n",
       "       0, 0, 0, 1, 0, 2, 0, 2, 0, 0, 2, 2, 0, 0, 0, 2, 2, 0, 2, 0, 2, 0,\n",
       "       0, 2, 0, 2, 2, 2, 2, 2, 1, 0, 2, 0, 2, 2, 0, 2, 2, 2, 0, 2, 2, 2,\n",
       "       2, 2, 2, 2, 1, 2, 2, 0, 0, 2, 0, 1, 2, 2, 2, 1, 2, 1, 0, 2, 2, 0,\n",
       "       2, 1, 1, 2, 2, 2, 0, 2, 2, 2, 0, 2, 0, 2, 2, 2, 1, 1, 0, 2, 2, 1,\n",
       "       0, 2, 0, 1, 0, 2, 2, 2, 0, 2, 0, 1, 0, 2, 2, 0, 0, 2, 0, 0, 2, 1,\n",
       "       0, 2, 0, 2, 2, 1, 2, 2, 2, 2, 2, 1, 2, 0, 2, 0, 2, 2, 2, 2, 2, 2,\n",
       "       2, 0, 0, 2, 1, 2, 0, 1, 0, 2, 0, 2, 2, 0, 2, 0, 2, 2, 0, 0, 2, 2,\n",
       "       1, 1, 2, 1, 0, 2, 2, 2, 2, 2, 0, 0, 2, 2, 2, 2, 2, 2, 0, 1, 0, 0,\n",
       "       2, 0, 0, 2, 2, 2, 2, 1, 0, 2, 2, 1, 0, 0, 2, 1, 0, 1, 1, 0, 0, 0,\n",
       "       2, 2, 0, 1, 2, 2, 0, 2, 2, 0, 2, 2, 2, 2, 2, 2, 1, 2, 0, 2, 2, 2,\n",
       "       0, 2, 2, 0, 2, 2, 2, 2, 1, 0, 0, 2, 0, 2, 2, 2, 2, 1, 0, 2, 1, 0,\n",
       "       0, 0, 1, 0, 2, 2, 1, 1, 2, 2, 2, 1, 2, 2, 1, 2, 2, 0, 2, 1, 2, 2,\n",
       "       2, 2, 0, 1, 2, 1, 2, 2, 0, 2, 2, 0, 0, 0, 1, 0, 2, 2, 2, 0, 2, 2,\n",
       "       2, 2, 0, 1, 2, 2, 2, 2, 0, 2, 1, 2, 2, 0, 0, 2, 0, 0, 1, 0, 2, 2,\n",
       "       0, 2, 2, 2, 2, 1, 2, 2, 1, 0, 0, 0, 0, 0, 2, 2, 1, 1, 0, 2, 2, 1,\n",
       "       1, 0, 2, 2, 2, 2, 0, 0, 1, 2, 1, 2, 0, 2, 2, 2, 2, 1, 2, 0, 2, 2,\n",
       "       2, 1, 0, 0, 2, 2, 2, 0, 2, 1, 1, 1, 1, 1, 0, 2, 2, 2, 0, 2, 1, 2,\n",
       "       2, 1, 2, 2, 2, 0, 2, 1, 0, 1, 2, 2, 1, 1, 0, 2, 2, 1, 2, 2, 0, 2,\n",
       "       0, 1, 0, 2, 2, 2, 0, 2, 2, 1, 2, 0, 2, 0, 2, 0, 1, 2, 2, 0, 2, 0,\n",
       "       1, 1, 2, 2, 2, 0, 2, 0, 2, 0, 0, 0, 1, 0, 2, 2, 2, 1, 2, 0, 0, 2,\n",
       "       0, 0, 0, 0, 0, 2, 2, 2, 2, 2, 0, 2, 1, 2, 1, 1, 2, 2, 2, 2, 0, 2,\n",
       "       2, 0, 1, 2, 2, 2, 2, 2, 2, 0, 2, 2, 1, 1, 2, 2, 0, 0, 0, 0, 2, 2,\n",
       "       0, 0, 2, 2, 2, 0, 2, 2, 1, 2, 2, 0, 2, 2, 2, 0, 2, 0, 2, 2, 1, 2,\n",
       "       0, 2, 0, 2, 2, 0, 2, 1, 2, 1, 0, 0, 0, 2, 0, 1, 0, 0, 1, 0, 0, 2,\n",
       "       2, 2, 2, 0, 1, 0, 2, 0, 2, 2, 1, 0, 0, 2, 2, 0, 2, 2, 0, 2, 2, 1,\n",
       "       2, 2, 2, 0, 1, 2, 1, 2, 1, 0, 0, 2, 1, 0, 0, 0, 0, 1, 0, 0, 2, 1,\n",
       "       2, 2, 2, 2, 2, 2, 2, 2, 0, 0, 0, 0, 2, 1, 2, 2, 2, 0, 2, 2, 0, 2,\n",
       "       2, 2, 1, 0, 1, 2, 2, 2, 0, 2, 2, 2, 2, 2, 1, 1, 1, 0, 2, 0, 1, 1,\n",
       "       0, 1, 2, 2, 2, 2, 1, 2, 2, 1], dtype=int32)"
      ]
     },
     "execution_count": 315,
     "metadata": {},
     "output_type": "execute_result"
    }
   ],
   "source": [
    "y_km"
   ]
  },
  {
   "cell_type": "code",
   "execution_count": null,
   "metadata": {},
   "outputs": [],
   "source": []
  }
 ],
 "metadata": {
  "kernelspec": {
   "display_name": "Python 3 (ipykernel)",
   "language": "python",
   "name": "python3"
  },
  "language_info": {
   "codemirror_mode": {
    "name": "ipython",
    "version": 3
   },
   "file_extension": ".py",
   "mimetype": "text/x-python",
   "name": "python",
   "nbconvert_exporter": "python",
   "pygments_lexer": "ipython3",
   "version": "3.9.7"
  }
 },
 "nbformat": 4,
 "nbformat_minor": 4
}
